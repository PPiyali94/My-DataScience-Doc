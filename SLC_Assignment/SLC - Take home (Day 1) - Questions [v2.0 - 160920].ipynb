{
 "cells": [
  {
   "cell_type": "markdown",
   "metadata": {},
   "source": [
    "<table align=\"center\" width=100%>\n",
    "    <tr>\n",
    "        <td width=\"15%\">\n",
    "            <img src=\"homework.png\">\n",
    "        </td>\n",
    "        <td>\n",
    "            <div align=\"center\">\n",
    "                <font color=\"#21618C\" size=8px>\n",
    "                    <b> Take-Home <br>(Day 1)\n",
    "                    </b>\n",
    "                </font>\n",
    "            </div>\n",
    "        </td>\n",
    "    </tr>\n",
    "</table>"
   ]
  },
  {
   "cell_type": "markdown",
   "metadata": {},
   "source": [
    "#### Import the required libraries"
   ]
  },
  {
   "cell_type": "code",
   "execution_count": 1,
   "metadata": {},
   "outputs": [],
   "source": [
    "# type your code here\n",
    "# type your code here\n",
    "# import 'Pandas' \n",
    "import pandas as pd \n",
    "\n",
    "# import 'Numpy' \n",
    "import numpy as np\n",
    "\n",
    "# import subpackage of Matplotlib\n",
    "import matplotlib.pyplot as plt\n",
    "from matplotlib.colors import ListedColormap\n",
    "\n",
    "# import 'Seaborn' \n",
    "import seaborn as sns\n",
    "\n",
    "# to suppress warnings \n",
    "from warnings import filterwarnings\n",
    "filterwarnings('ignore')\n",
    "\n",
    "# display all columns of the dataframe\n",
    "pd.options.display.max_columns = None\n",
    "\n",
    "# display all rows of the dataframe\n",
    "pd.options.display.max_rows = None\n",
    " \n",
    "# to display the float values upto 6 decimal places     \n",
    "pd.options.display.float_format = '{:.6f}'.format\n",
    "\n",
    "# import train-test split \n",
    "from sklearn.model_selection import train_test_split\n",
    "\n",
    "# import various functions from statsmodels\n",
    "import statsmodels\n",
    "import statsmodels.api as sm\n",
    "\n",
    "# import StandardScaler to perform scaling\n",
    "from sklearn.preprocessing import StandardScaler \n",
    "\n",
    "# import various functions from sklearn \n",
    "from sklearn import metrics\n",
    "from sklearn.linear_model import LogisticRegression\n",
    "from sklearn.metrics import classification_report\n",
    "from sklearn.metrics import cohen_kappa_score\n",
    "from sklearn.metrics import confusion_matrix\n",
    "from sklearn.metrics import roc_curve\n",
    "from sklearn.metrics import roc_auc_score\n",
    "from sklearn.metrics import accuracy_score\n",
    "\n",
    "# import function to perform feature selection\n",
    "from sklearn.feature_selection import RFE\n",
    "\n",
    "from sklearn.model_selection import KFold\n",
    "from sklearn.model_selection import cross_val_score"
   ]
  },
  {
   "cell_type": "markdown",
   "metadata": {},
   "source": [
    "#### Read the data\n",
    "\n",
    "Load the csv file and print the first five observations."
   ]
  },
  {
   "cell_type": "code",
   "execution_count": 2,
   "metadata": {
    "scrolled": false
   },
   "outputs": [
    {
     "data": {
      "text/html": [
       "<div>\n",
       "<style scoped>\n",
       "    .dataframe tbody tr th:only-of-type {\n",
       "        vertical-align: middle;\n",
       "    }\n",
       "\n",
       "    .dataframe tbody tr th {\n",
       "        vertical-align: top;\n",
       "    }\n",
       "\n",
       "    .dataframe thead th {\n",
       "        text-align: right;\n",
       "    }\n",
       "</style>\n",
       "<table border=\"1\" class=\"dataframe\">\n",
       "  <thead>\n",
       "    <tr style=\"text-align: right;\">\n",
       "      <th></th>\n",
       "      <th>CreditScore</th>\n",
       "      <th>Geography</th>\n",
       "      <th>Gender</th>\n",
       "      <th>Age</th>\n",
       "      <th>NumOfYrsWithBank</th>\n",
       "      <th>Balance</th>\n",
       "      <th>NumOfProducts</th>\n",
       "      <th>HasCrCard</th>\n",
       "      <th>Closed_Acc</th>\n",
       "    </tr>\n",
       "  </thead>\n",
       "  <tbody>\n",
       "    <tr>\n",
       "      <th>0</th>\n",
       "      <td>619</td>\n",
       "      <td>France</td>\n",
       "      <td>Female</td>\n",
       "      <td>42</td>\n",
       "      <td>2</td>\n",
       "      <td>0.000000</td>\n",
       "      <td>1</td>\n",
       "      <td>1</td>\n",
       "      <td>1</td>\n",
       "    </tr>\n",
       "    <tr>\n",
       "      <th>1</th>\n",
       "      <td>608</td>\n",
       "      <td>Spain</td>\n",
       "      <td>Female</td>\n",
       "      <td>41</td>\n",
       "      <td>1</td>\n",
       "      <td>83807.860000</td>\n",
       "      <td>1</td>\n",
       "      <td>0</td>\n",
       "      <td>0</td>\n",
       "    </tr>\n",
       "    <tr>\n",
       "      <th>2</th>\n",
       "      <td>502</td>\n",
       "      <td>France</td>\n",
       "      <td>Female</td>\n",
       "      <td>42</td>\n",
       "      <td>8</td>\n",
       "      <td>159660.800000</td>\n",
       "      <td>3</td>\n",
       "      <td>1</td>\n",
       "      <td>1</td>\n",
       "    </tr>\n",
       "    <tr>\n",
       "      <th>3</th>\n",
       "      <td>699</td>\n",
       "      <td>France</td>\n",
       "      <td>Female</td>\n",
       "      <td>39</td>\n",
       "      <td>1</td>\n",
       "      <td>0.000000</td>\n",
       "      <td>2</td>\n",
       "      <td>0</td>\n",
       "      <td>0</td>\n",
       "    </tr>\n",
       "    <tr>\n",
       "      <th>4</th>\n",
       "      <td>850</td>\n",
       "      <td>Spain</td>\n",
       "      <td>Female</td>\n",
       "      <td>43</td>\n",
       "      <td>2</td>\n",
       "      <td>125510.820000</td>\n",
       "      <td>1</td>\n",
       "      <td>1</td>\n",
       "      <td>0</td>\n",
       "    </tr>\n",
       "  </tbody>\n",
       "</table>\n",
       "</div>"
      ],
      "text/plain": [
       "   CreditScore Geography  Gender  Age  NumOfYrsWithBank       Balance  \\\n",
       "0          619    France  Female   42                 2      0.000000   \n",
       "1          608     Spain  Female   41                 1  83807.860000   \n",
       "2          502    France  Female   42                 8 159660.800000   \n",
       "3          699    France  Female   39                 1      0.000000   \n",
       "4          850     Spain  Female   43                 2 125510.820000   \n",
       "\n",
       "   NumOfProducts  HasCrCard  Closed_Acc  \n",
       "0              1          1           1  \n",
       "1              1          0           0  \n",
       "2              3          1           1  \n",
       "3              2          0           0  \n",
       "4              1          1           0  "
      ]
     },
     "execution_count": 2,
     "metadata": {},
     "output_type": "execute_result"
    }
   ],
   "source": [
    "# type your code here\n",
    "df_bnk=pd.read_csv('bank_churn.csv')\n",
    "df_bnk.head(5)"
   ]
  },
  {
   "cell_type": "code",
   "execution_count": 3,
   "metadata": {},
   "outputs": [
    {
     "data": {
      "text/plain": [
       "(9920, 9)"
      ]
     },
     "execution_count": 3,
     "metadata": {},
     "output_type": "execute_result"
    }
   ],
   "source": [
    "df_bnk.shape"
   ]
  },
  {
   "cell_type": "code",
   "execution_count": 4,
   "metadata": {},
   "outputs": [
    {
     "name": "stdout",
     "output_type": "stream",
     "text": [
      "<class 'pandas.core.frame.DataFrame'>\n",
      "RangeIndex: 9920 entries, 0 to 9919\n",
      "Data columns (total 9 columns):\n",
      " #   Column            Non-Null Count  Dtype  \n",
      "---  ------            --------------  -----  \n",
      " 0   CreditScore       9920 non-null   int64  \n",
      " 1   Geography         9920 non-null   object \n",
      " 2   Gender            9920 non-null   object \n",
      " 3   Age               9920 non-null   int64  \n",
      " 4   NumOfYrsWithBank  9920 non-null   int64  \n",
      " 5   Balance           9920 non-null   float64\n",
      " 6   NumOfProducts     9920 non-null   int64  \n",
      " 7   HasCrCard         9920 non-null   int64  \n",
      " 8   Closed_Acc        9920 non-null   int64  \n",
      "dtypes: float64(1), int64(6), object(2)\n",
      "memory usage: 697.6+ KB\n"
     ]
    }
   ],
   "source": [
    "df_bnk.info()"
   ]
  },
  {
   "cell_type": "code",
   "execution_count": 5,
   "metadata": {},
   "outputs": [
    {
     "data": {
      "text/plain": [
       "CreditScore         0\n",
       "Geography           0\n",
       "Gender              0\n",
       "Age                 0\n",
       "NumOfYrsWithBank    0\n",
       "Balance             0\n",
       "NumOfProducts       0\n",
       "HasCrCard           0\n",
       "Closed_Acc          0\n",
       "dtype: int64"
      ]
     },
     "execution_count": 5,
     "metadata": {},
     "output_type": "execute_result"
    }
   ],
   "source": [
    "df_bnk.isnull().sum()"
   ]
  },
  {
   "cell_type": "code",
   "execution_count": 6,
   "metadata": {},
   "outputs": [
    {
     "data": {
      "text/plain": [
       "CreditScore           int64\n",
       "Geography            object\n",
       "Gender               object\n",
       "Age                   int64\n",
       "NumOfYrsWithBank      int64\n",
       "Balance             float64\n",
       "NumOfProducts         int64\n",
       "HasCrCard             int64\n",
       "Closed_Acc            int64\n",
       "dtype: object"
      ]
     },
     "execution_count": 6,
     "metadata": {},
     "output_type": "execute_result"
    }
   ],
   "source": [
    "df_bnk.dtypes"
   ]
  },
  {
   "cell_type": "code",
   "execution_count": 7,
   "metadata": {},
   "outputs": [],
   "source": [
    "df_bnk['Closed_Acc'] = df_bnk['Closed_Acc'].astype('object')\n",
    "df_bnk['HasCrCard'] = df_bnk['HasCrCard'].astype('object')\n",
    "df_bnk['NumOfProducts'] = df_bnk['NumOfProducts'].astype('object')\n",
    "df_bnk['NumOfYrsWithBank'] = df_bnk['NumOfYrsWithBank'].astype('object')"
   ]
  },
  {
   "cell_type": "code",
   "execution_count": 8,
   "metadata": {},
   "outputs": [
    {
     "data": {
      "text/html": [
       "<div>\n",
       "<style scoped>\n",
       "    .dataframe tbody tr th:only-of-type {\n",
       "        vertical-align: middle;\n",
       "    }\n",
       "\n",
       "    .dataframe tbody tr th {\n",
       "        vertical-align: top;\n",
       "    }\n",
       "\n",
       "    .dataframe thead th {\n",
       "        text-align: right;\n",
       "    }\n",
       "</style>\n",
       "<table border=\"1\" class=\"dataframe\">\n",
       "  <thead>\n",
       "    <tr style=\"text-align: right;\">\n",
       "      <th></th>\n",
       "      <th>CreditScore</th>\n",
       "      <th>Age</th>\n",
       "      <th>Balance</th>\n",
       "      <th>Geography_Germany</th>\n",
       "      <th>Geography_Spain</th>\n",
       "      <th>Gender_Male</th>\n",
       "      <th>NumOfYrsWithBank_1</th>\n",
       "      <th>NumOfYrsWithBank_2</th>\n",
       "      <th>NumOfYrsWithBank_3</th>\n",
       "      <th>NumOfYrsWithBank_4</th>\n",
       "      <th>NumOfYrsWithBank_5</th>\n",
       "      <th>NumOfYrsWithBank_6</th>\n",
       "      <th>NumOfYrsWithBank_7</th>\n",
       "      <th>NumOfYrsWithBank_8</th>\n",
       "      <th>NumOfYrsWithBank_9</th>\n",
       "      <th>NumOfYrsWithBank_10</th>\n",
       "      <th>NumOfProducts_2</th>\n",
       "      <th>NumOfProducts_3</th>\n",
       "      <th>NumOfProducts_4</th>\n",
       "      <th>HasCrCard_1</th>\n",
       "      <th>Closed_Acc_1</th>\n",
       "    </tr>\n",
       "  </thead>\n",
       "  <tbody>\n",
       "    <tr>\n",
       "      <th>0</th>\n",
       "      <td>619</td>\n",
       "      <td>42</td>\n",
       "      <td>0.000000</td>\n",
       "      <td>0</td>\n",
       "      <td>0</td>\n",
       "      <td>0</td>\n",
       "      <td>0</td>\n",
       "      <td>1</td>\n",
       "      <td>0</td>\n",
       "      <td>0</td>\n",
       "      <td>0</td>\n",
       "      <td>0</td>\n",
       "      <td>0</td>\n",
       "      <td>0</td>\n",
       "      <td>0</td>\n",
       "      <td>0</td>\n",
       "      <td>0</td>\n",
       "      <td>0</td>\n",
       "      <td>0</td>\n",
       "      <td>1</td>\n",
       "      <td>1</td>\n",
       "    </tr>\n",
       "    <tr>\n",
       "      <th>1</th>\n",
       "      <td>608</td>\n",
       "      <td>41</td>\n",
       "      <td>83807.860000</td>\n",
       "      <td>0</td>\n",
       "      <td>1</td>\n",
       "      <td>0</td>\n",
       "      <td>1</td>\n",
       "      <td>0</td>\n",
       "      <td>0</td>\n",
       "      <td>0</td>\n",
       "      <td>0</td>\n",
       "      <td>0</td>\n",
       "      <td>0</td>\n",
       "      <td>0</td>\n",
       "      <td>0</td>\n",
       "      <td>0</td>\n",
       "      <td>0</td>\n",
       "      <td>0</td>\n",
       "      <td>0</td>\n",
       "      <td>0</td>\n",
       "      <td>0</td>\n",
       "    </tr>\n",
       "    <tr>\n",
       "      <th>2</th>\n",
       "      <td>502</td>\n",
       "      <td>42</td>\n",
       "      <td>159660.800000</td>\n",
       "      <td>0</td>\n",
       "      <td>0</td>\n",
       "      <td>0</td>\n",
       "      <td>0</td>\n",
       "      <td>0</td>\n",
       "      <td>0</td>\n",
       "      <td>0</td>\n",
       "      <td>0</td>\n",
       "      <td>0</td>\n",
       "      <td>0</td>\n",
       "      <td>1</td>\n",
       "      <td>0</td>\n",
       "      <td>0</td>\n",
       "      <td>0</td>\n",
       "      <td>1</td>\n",
       "      <td>0</td>\n",
       "      <td>1</td>\n",
       "      <td>1</td>\n",
       "    </tr>\n",
       "    <tr>\n",
       "      <th>3</th>\n",
       "      <td>699</td>\n",
       "      <td>39</td>\n",
       "      <td>0.000000</td>\n",
       "      <td>0</td>\n",
       "      <td>0</td>\n",
       "      <td>0</td>\n",
       "      <td>1</td>\n",
       "      <td>0</td>\n",
       "      <td>0</td>\n",
       "      <td>0</td>\n",
       "      <td>0</td>\n",
       "      <td>0</td>\n",
       "      <td>0</td>\n",
       "      <td>0</td>\n",
       "      <td>0</td>\n",
       "      <td>0</td>\n",
       "      <td>1</td>\n",
       "      <td>0</td>\n",
       "      <td>0</td>\n",
       "      <td>0</td>\n",
       "      <td>0</td>\n",
       "    </tr>\n",
       "    <tr>\n",
       "      <th>4</th>\n",
       "      <td>850</td>\n",
       "      <td>43</td>\n",
       "      <td>125510.820000</td>\n",
       "      <td>0</td>\n",
       "      <td>1</td>\n",
       "      <td>0</td>\n",
       "      <td>0</td>\n",
       "      <td>1</td>\n",
       "      <td>0</td>\n",
       "      <td>0</td>\n",
       "      <td>0</td>\n",
       "      <td>0</td>\n",
       "      <td>0</td>\n",
       "      <td>0</td>\n",
       "      <td>0</td>\n",
       "      <td>0</td>\n",
       "      <td>0</td>\n",
       "      <td>0</td>\n",
       "      <td>0</td>\n",
       "      <td>1</td>\n",
       "      <td>0</td>\n",
       "    </tr>\n",
       "  </tbody>\n",
       "</table>\n",
       "</div>"
      ],
      "text/plain": [
       "   CreditScore  Age       Balance  Geography_Germany  Geography_Spain  \\\n",
       "0          619   42      0.000000                  0                0   \n",
       "1          608   41  83807.860000                  0                1   \n",
       "2          502   42 159660.800000                  0                0   \n",
       "3          699   39      0.000000                  0                0   \n",
       "4          850   43 125510.820000                  0                1   \n",
       "\n",
       "   Gender_Male  NumOfYrsWithBank_1  NumOfYrsWithBank_2  NumOfYrsWithBank_3  \\\n",
       "0            0                   0                   1                   0   \n",
       "1            0                   1                   0                   0   \n",
       "2            0                   0                   0                   0   \n",
       "3            0                   1                   0                   0   \n",
       "4            0                   0                   1                   0   \n",
       "\n",
       "   NumOfYrsWithBank_4  NumOfYrsWithBank_5  NumOfYrsWithBank_6  \\\n",
       "0                   0                   0                   0   \n",
       "1                   0                   0                   0   \n",
       "2                   0                   0                   0   \n",
       "3                   0                   0                   0   \n",
       "4                   0                   0                   0   \n",
       "\n",
       "   NumOfYrsWithBank_7  NumOfYrsWithBank_8  NumOfYrsWithBank_9  \\\n",
       "0                   0                   0                   0   \n",
       "1                   0                   0                   0   \n",
       "2                   0                   1                   0   \n",
       "3                   0                   0                   0   \n",
       "4                   0                   0                   0   \n",
       "\n",
       "   NumOfYrsWithBank_10  NumOfProducts_2  NumOfProducts_3  NumOfProducts_4  \\\n",
       "0                    0                0                0                0   \n",
       "1                    0                0                0                0   \n",
       "2                    0                0                1                0   \n",
       "3                    0                1                0                0   \n",
       "4                    0                0                0                0   \n",
       "\n",
       "   HasCrCard_1  Closed_Acc_1  \n",
       "0            1             1  \n",
       "1            0             0  \n",
       "2            1             1  \n",
       "3            0             0  \n",
       "4            1             0  "
      ]
     },
     "execution_count": 8,
     "metadata": {},
     "output_type": "execute_result"
    }
   ],
   "source": [
    "encode=pd.get_dummies(df_bnk,drop_first=True)\n",
    "encode.head()"
   ]
  },
  {
   "cell_type": "markdown",
   "metadata": {},
   "source": [
    "Our objective is to predict whether the customer has closed the bank account or not."
   ]
  },
  {
   "cell_type": "markdown",
   "metadata": {},
   "source": [
    "**The data definition is as follows:** <br>\n",
    "\n",
    "**CreditScore**: Credit score of the customer \n",
    "\n",
    "**Geography**: Resident country of the customer\n",
    "\n",
    "**Gender**: Gender of the customer\n",
    "\n",
    "**Age**: Age of the customer\n",
    "\n",
    "**NumOfYrsWithBank**: Years for which the customer has been with the bank\n",
    "\n",
    "**Balance**: Bank balance of the customer in Euro\n",
    "\n",
    "**NumOfProducts**: Number of bank facilities for which customer has opted\n",
    "\n",
    "**HasCrCard**: Whether the customer has credit card or not (1 = Yes, 0 = No)\n",
    "\n",
    "**Closed_Acc**: Whether the customer has closed the bank account or not (1 = Yes, 0 = No) (target/dependent variable)"
   ]
  },
  {
   "cell_type": "markdown",
   "metadata": {},
   "source": [
    "### Let's begin with some hands-on practice exercises"
   ]
  },
  {
   "cell_type": "markdown",
   "metadata": {},
   "source": [
    "<table align=\"left\">\n",
    "    <tr>\n",
    "        <td width=\"6%\">\n",
    "            <img src=\"question_icon.png\">\n",
    "        </td>\n",
    "        <td>\n",
    "            <div align=\"left\", style=\"font-size:120%\">\n",
    "                <font color=\"#21618C\">\n",
    "                    <b>1. Build a full logistic model and calculate the odds for each variable (consider the probability  threshold as 0.25)</b>\n",
    "                </font>\n",
    "            </div>\n",
    "        </td>\n",
    "    </tr>\n",
    "</table>"
   ]
  },
  {
   "cell_type": "code",
   "execution_count": 9,
   "metadata": {},
   "outputs": [
    {
     "data": {
      "text/plain": [
       "array([[0.99473385, 1.04644947, 1.00000312, 1.00103346, 0.99964228,\n",
       "        0.99890585, 1.00005644, 0.9999158 , 1.00002358, 0.99997396,\n",
       "        1.00001264, 0.99999409, 0.99981163, 0.99989834, 1.00002775,\n",
       "        1.00000318, 0.99763559, 1.00072425, 1.00021761, 0.99978534]])"
      ]
     },
     "execution_count": 9,
     "metadata": {},
     "output_type": "execute_result"
    }
   ],
   "source": [
    "x=encode.drop('Closed_Acc_1',axis=1)\n",
    "y=encode.Closed_Acc_1\n",
    "x_train,x_test,y_train,y_test=train_test_split(x,y,test_size=0.2,random_state=10)\n",
    "lr = LogisticRegression()\n",
    "model = lr.fit(x_train,y_train)\n",
    "prob = model.predict_proba(x_test)[:,1]\n",
    "ypred = [0 if i < 0.25 else 1 for i in prob]\n",
    "np.exp(model.coef_)"
   ]
  },
  {
   "cell_type": "markdown",
   "metadata": {},
   "source": [
    "<table align=\"left\">\n",
    "    <tr>\n",
    "        <td width=\"6%\">\n",
    "            <img src=\"question_icon.png\">\n",
    "        </td>\n",
    "        <td>\n",
    "            <div align=\"left\", style=\"font-size:120%\">\n",
    "                <font color=\"#21618C\">\n",
    "                    <b>2. Calculate the Specificity and Sensitivity from the confusion matrix of the full model (consider the probability threshold as 0.25)\n",
    "                    </b>\n",
    "                </font>\n",
    "            </div>\n",
    "        </td>\n",
    "    </tr>\n",
    "</table>"
   ]
  },
  {
   "cell_type": "code",
   "execution_count": 12,
   "metadata": {},
   "outputs": [],
   "source": [
    "x=encode.drop('Closed_Acc_1',axis=1)\n",
    "y=encode.Closed_Acc_1\n",
    "x_train,x_test,y_train,y_test=train_test_split(x,y,test_size=0.2,random_state=10)\n",
    "lr = LogisticRegression()\n",
    "model = lr.fit(x_train,y_train)\n",
    "prob = model.predict_proba(x_test)[:,1]\n",
    "ypred = [0 if i < 0.25 else 1 for i in prob]"
   ]
  },
  {
   "cell_type": "code",
   "execution_count": 13,
   "metadata": {},
   "outputs": [
    {
     "name": "stdout",
     "output_type": "stream",
     "text": [
      "Specificity : 0.7463445645263828\n",
      "Sencitivity : 0.49878345498783455\n"
     ]
    }
   ],
   "source": [
    "cmt=confusion_matrix(y_test,ypred)\n",
    "TN=cmt[0,0]\n",
    "TP=cmt[1,1]\n",
    "FP=cmt[0,1]\n",
    "FN=cmt[1,0]\n",
    "\n",
    "specificity=TN/(TN+FP)\n",
    "sensitivity=TP/(TP+FN)\n",
    "\n",
    "print('Specificity :',specificity)\n",
    "print('Sencitivity :',sensitivity)\n"
   ]
  },
  {
   "cell_type": "markdown",
   "metadata": {},
   "source": [
    "<table align=\"left\">\n",
    "    <tr>\n",
    "        <td width=\"6%\">\n",
    "            <img src=\"question_icon.png\">\n",
    "        </td>\n",
    "        <td>\n",
    "            <div align=\"left\", style=\"font-size:120%\">\n",
    "                <font color=\"#21618C\">\n",
    "                    <b>3. Build a logistic model on the 6 features obtained by RFE and plot the ROC curve \n",
    "                    </b>\n",
    "                </font>\n",
    "            </div>\n",
    "        </td>\n",
    "    </tr>\n",
    "</table>"
   ]
  },
  {
   "cell_type": "code",
   "execution_count": 14,
   "metadata": {},
   "outputs": [
    {
     "data": {
      "text/plain": [
       "LogisticRegression()"
      ]
     },
     "execution_count": 14,
     "metadata": {},
     "output_type": "execute_result"
    }
   ],
   "source": [
    "log_reg = LogisticRegression()\n",
    "log_reg.fit(x_train,y_train)"
   ]
  },
  {
   "cell_type": "code",
   "execution_count": 16,
   "metadata": {},
   "outputs": [],
   "source": [
    "# type your code here\n",
    "rfe=RFE(log_reg,n_features_to_select=6)\n",
    "mod=rfe.fit(x_train,y_train)"
   ]
  },
  {
   "cell_type": "code",
   "execution_count": 17,
   "metadata": {},
   "outputs": [
    {
     "data": {
      "text/plain": [
       "Index(['Geography_Germany', 'Gender_Male', 'NumOfYrsWithBank_7',\n",
       "       'NumOfProducts_2', 'NumOfProducts_3', 'NumOfProducts_4'],\n",
       "      dtype='object')"
      ]
     },
     "execution_count": 17,
     "metadata": {},
     "output_type": "execute_result"
    }
   ],
   "source": [
    "d = pd.Series(mod.ranking_,index=x_train.columns)\n",
    "d[d==1].index"
   ]
  },
  {
   "cell_type": "code",
   "execution_count": 19,
   "metadata": {},
   "outputs": [
    {
     "data": {
      "image/png": "[encoded data removed]",
      "text/plain": [
       "<Figure size 432x288 with 1 Axes>"
      ]
     },
     "metadata": {
      "needs_background": "light"
     },
     "output_type": "display_data"
    }
   ],
   "source": [
    "x = encode[['Geography_Germany', 'Gender_Male', 'NumOfYrsWithBank_7','NumOfProducts_2', 'NumOfProducts_3', 'NumOfProducts_4']]\n",
    "y = encode.Closed_Acc_1\n",
    "x_train,x_test,y_train,y_test = train_test_split(x,y,test_size=0.2,random_state=1)\n",
    "log_reg = LogisticRegression()\n",
    "model = log_reg.fit(x_train,y_train)\n",
    "prob = model.predict_proba(x_test)[:,1]\n",
    "fpr,tpr,th = roc_curve(y_test,prob)\n",
    "plt.plot(fpr,tpr)\n",
    "plt.plot([[0,0],[1,1]])\n",
    "plt.show()"
   ]
  },
  {
   "cell_type": "markdown",
   "metadata": {},
   "source": [
    "<table align=\"left\">\n",
    "    <tr>\n",
    "        <td width=\"6%\">\n",
    "            <img src=\"question_icon.png\">\n",
    "        </td>\n",
    "        <td>\n",
    "            <div align=\"left\", style=\"font-size:120%\">\n",
    "                <font color=\"#21618C\">\n",
    "                    <b>4. Obtain the optimal value of cut-off probability for the full model using the Youden's index \n",
    "                    </b>\n",
    "                </font>\n",
    "            </div>\n",
    "        </td>\n",
    "    </tr>\n",
    "</table>"
   ]
  },
  {
   "cell_type": "code",
   "execution_count": 22,
   "metadata": {},
   "outputs": [
    {
     "data": {
      "text/html": [
       "<div>\n",
       "<style scoped>\n",
       "    .dataframe tbody tr th:only-of-type {\n",
       "        vertical-align: middle;\n",
       "    }\n",
       "\n",
       "    .dataframe tbody tr th {\n",
       "        vertical-align: top;\n",
       "    }\n",
       "\n",
       "    .dataframe thead th {\n",
       "        text-align: right;\n",
       "    }\n",
       "</style>\n",
       "<table border=\"1\" class=\"dataframe\">\n",
       "  <thead>\n",
       "    <tr style=\"text-align: right;\">\n",
       "      <th></th>\n",
       "      <th>FPR</th>\n",
       "      <th>TPR</th>\n",
       "      <th>Threshold</th>\n",
       "      <th>YI</th>\n",
       "    </tr>\n",
       "  </thead>\n",
       "  <tbody>\n",
       "    <tr>\n",
       "      <th>321</th>\n",
       "      <td>0.311507</td>\n",
       "      <td>0.586375</td>\n",
       "      <td>0.223029</td>\n",
       "      <td>0.274868</td>\n",
       "    </tr>\n",
       "  </tbody>\n",
       "</table>\n",
       "</div>"
      ],
      "text/plain": [
       "         FPR      TPR  Threshold       YI\n",
       "321 0.311507 0.586375   0.223029 0.274868"
      ]
     },
     "execution_count": 22,
     "metadata": {},
     "output_type": "execute_result"
    }
   ],
   "source": [
    "x = encode.drop('Closed_Acc_1',axis=1)\n",
    "y = encode.Closed_Acc_1\n",
    "x_train,x_test,y_train,y_test = train_test_split(x,y,test_size=0.2,random_state=10)\n",
    "lr = LogisticRegression()\n",
    "model = lr.fit(x_train,y_train)\n",
    "prob = model.predict_proba(x_test)[:,1]\n",
    "fpr,tpr,th = roc_curve(y_test,prob)\n",
    "t = pd.DataFrame({'FPR':fpr,'TPR':tpr,'Threshold':th})\n",
    "t['YI'] = t.TPR-t.FPR\n",
    "t.sort_values(by='YI',ascending=False).head(1)"
   ]
  },
  {
   "cell_type": "markdown",
   "metadata": {},
   "source": [
    "<table align=\"left\">\n",
    "    <tr>\n",
    "        <td width=\"6%\">\n",
    "            <img src=\"question_icon.png\">\n",
    "        </td>\n",
    "        <td>\n",
    "            <div align=\"left\", style=\"font-size:120%\">\n",
    "                <font color=\"#21618C\">\n",
    "                    <b>5. Consider the cut-off probability obtained from Youden's index for the full model and calculate the following measures:<br>\n",
    "                    a. f-1 score <br>\n",
    "                    b. Accuracy<br>\n",
    "                    c. Kappa Score\n",
    "                    </b>\n",
    "                </font>\n",
    "            </div>\n",
    "        </td>\n",
    "    </tr>\n",
    "</table>"
   ]
  },
  {
   "cell_type": "code",
   "execution_count": 24,
   "metadata": {},
   "outputs": [],
   "source": [
    "# type your code here\n",
    "x = encode.drop('Closed_Acc_1',axis=1)\n",
    "y = encode.Closed_Acc_1\n",
    "x_train,x_test,y_train,y_test = train_test_split(x,y,test_size=0.2,random_state=1)\n",
    "lr = LogisticRegression()\n",
    "model = lr.fit(x_train,y_train)\n",
    "prob = model.predict_proba(x_test)[:,1]\n",
    "ypred = [0 if i < 0.22 else 1 for i in prob]"
   ]
  },
  {
   "cell_type": "code",
   "execution_count": 25,
   "metadata": {},
   "outputs": [
    {
     "name": "stdout",
     "output_type": "stream",
     "text": [
      "Accuracy score 0.6461693548387096\n",
      "Kappa score 0.19128932161504297\n",
      "Classification Report\n",
      "              precision    recall  f1-score   support\n",
      "\n",
      "           0       0.86      0.66      0.75      1572\n",
      "           1       0.31      0.59      0.41       412\n",
      "\n",
      "    accuracy                           0.65      1984\n",
      "   macro avg       0.59      0.63      0.58      1984\n",
      "weighted avg       0.75      0.65      0.68      1984\n",
      "\n"
     ]
    }
   ],
   "source": [
    "print('Accuracy score',accuracy_score(y_test,ypred))\n",
    "print('Kappa score',cohen_kappa_score(y_test,ypred))\n",
    "print('Classification Report')\n",
    "print(classification_report(y_test,ypred))"
   ]
  },
  {
   "cell_type": "code",
   "execution_count": null,
   "metadata": {},
   "outputs": [],
   "source": []
  },
  {
   "cell_type": "code",
   "execution_count": null,
   "metadata": {},
   "outputs": [],
   "source": []
  },
  {
   "cell_type": "markdown",
   "metadata": {},
   "source": [
    "<table align=\"left\">\n",
    "    <tr>\n",
    "        <td width=\"6%\">\n",
    "            <img src=\"question_icon.png\">\n",
    "        </td>\n",
    "        <td>\n",
    "            <div align=\"left\", style=\"font-size:120%\">\n",
    "                <font color=\"#21618C\">\n",
    "                    <b>6. Identify the variables involved in multicollinearity \n",
    "                    </b>\n",
    "                </font>\n",
    "            </div>\n",
    "        </td>\n",
    "    </tr>\n",
    "</table>"
   ]
  },
  {
   "cell_type": "code",
   "execution_count": 26,
   "metadata": {},
   "outputs": [],
   "source": [
    "# type your code here\n",
    "df_num = df_bnk.select_dtypes(include=np.number)"
   ]
  },
  {
   "cell_type": "code",
   "execution_count": 28,
   "metadata": {},
   "outputs": [],
   "source": [
    "from statsmodels.stats.outliers_influence import variance_inflation_factor"
   ]
  },
  {
   "cell_type": "code",
   "execution_count": 29,
   "metadata": {},
   "outputs": [
    {
     "name": "stdout",
     "output_type": "stream",
     "text": [
      "   VIF_Factor Features\n",
      "0    2.323866      Age\n",
      "1    2.323866  Balance\n"
     ]
    }
   ],
   "source": [
    "for i in range(len(df_num.columns)): \n",
    "    vif = pd.DataFrame()\n",
    "    vif[\"VIF_Factor\"] = [variance_inflation_factor(df_num.values, i) for i in range(df_num.shape[1])]\n",
    "    vif[\"Features\"] = df_num.columns\n",
    "    multi = vif[vif['VIF_Factor'] > 10]\n",
    "    if(multi.empty == False):\n",
    "        df_sorted = multi.sort_values(by = 'VIF_Factor', ascending = False)\n",
    "    else:\n",
    "        print(vif)\n",
    "        break\n",
    "    if (df_sorted.empty == False):\n",
    "        df_num = df_num.drop(df_sorted.Features.iloc[0], axis=1)\n",
    "    else:\n",
    "        print(vif)\n"
   ]
  },
  {
   "cell_type": "code",
   "execution_count": null,
   "metadata": {},
   "outputs": [],
   "source": []
  },
  {
   "cell_type": "markdown",
   "metadata": {},
   "source": [
    "<table align=\"left\">\n",
    "    <tr>\n",
    "        <td width=\"6%\">\n",
    "            <img src=\"question_icon.png\">\n",
    "        </td>\n",
    "        <td>\n",
    "            <div align=\"left\", style=\"font-size:120%\">\n",
    "                <font color=\"#21618C\">\n",
    "                    <b>7. Build a logistic regression model using the categorical variables and the variables obtained after calculating VIF. Also,compute the ROC_AUC score (consider the cut-off probability as 0.6)\n",
    "                    </b>\n",
    "                </font>\n",
    "            </div>\n",
    "        </td>\n",
    "    </tr>\n",
    "</table>"
   ]
  },
  {
   "cell_type": "code",
   "execution_count": 30,
   "metadata": {},
   "outputs": [
    {
     "name": "stdout",
     "output_type": "stream",
     "text": [
      "The ROC_AUC_SCORE : 0.5016150349563971\n"
     ]
    }
   ],
   "source": [
    "# type your code here\n",
    "x = encode.drop('Closed_Acc_1',axis=1)\n",
    "y = encode.Closed_Acc_1\n",
    "x_train,x_test,y_train,y_test = train_test_split(x,y,test_size=0.2,random_state=1)\n",
    "lr = LogisticRegression()\n",
    "model = lr.fit(x_train,y_train)\n",
    "prob = model.predict_proba(x_test)[:,1]\n",
    "ypred = [0 if i < 0.6 else 1 for i in prob]\n",
    "print('The ROC_AUC_SCORE :',roc_auc_score(y_test,ypred))"
   ]
  },
  {
   "cell_type": "markdown",
   "metadata": {},
   "source": [
    "<table align=\"left\">\n",
    "    <tr>\n",
    "        <td width=\"6%\">\n",
    "            <img src=\"question_icon.png\">\n",
    "        </td>\n",
    "        <td>\n",
    "            <div align=\"left\", style=\"font-size:120%\">\n",
    "                <font color=\"#21618C\">\n",
    "                    <b>8. Consider the costs of false negatives and false positives as 2 and 0.5 respectively to obtain the optimal cut-off probability for which the total cost will be minimum\n",
    "                    </b>\n",
    "                </font>\n",
    "            </div>\n",
    "        </td>\n",
    "    </tr>\n",
    "</table>"
   ]
  },
  {
   "cell_type": "code",
   "execution_count": 33,
   "metadata": {},
   "outputs": [
    {
     "data": {
      "text/html": [
       "<div>\n",
       "<style scoped>\n",
       "    .dataframe tbody tr th:only-of-type {\n",
       "        vertical-align: middle;\n",
       "    }\n",
       "\n",
       "    .dataframe tbody tr th {\n",
       "        vertical-align: top;\n",
       "    }\n",
       "\n",
       "    .dataframe thead th {\n",
       "        text-align: right;\n",
       "    }\n",
       "</style>\n",
       "<table border=\"1\" class=\"dataframe\">\n",
       "  <thead>\n",
       "    <tr style=\"text-align: right;\">\n",
       "      <th></th>\n",
       "      <th>Threshold</th>\n",
       "      <th>Total_cost</th>\n",
       "    </tr>\n",
       "  </thead>\n",
       "  <tbody>\n",
       "    <tr>\n",
       "      <th>1</th>\n",
       "      <td>0.200000</td>\n",
       "      <td>601.000000</td>\n",
       "    </tr>\n",
       "  </tbody>\n",
       "</table>\n",
       "</div>"
      ],
      "text/plain": [
       "   Threshold  Total_cost\n",
       "1   0.200000  601.000000"
      ]
     },
     "execution_count": 33,
     "metadata": {},
     "output_type": "execute_result"
    }
   ],
   "source": [
    "# type your code here\n",
    "x = encode.drop('Closed_Acc_1',axis=1)\n",
    "y = encode.Closed_Acc_1\n",
    "x_train,x_test,y_train,y_test = train_test_split(x,y,test_size=0.2,random_state=10)\n",
    "lr = LogisticRegression()\n",
    "model = lr.fit(x_train,y_train)\n",
    "prob = model.predict_proba(x_test)\n",
    "\n",
    "th=np.arange(0.1,1,0.1)\n",
    "total_cost=[]\n",
    "\n",
    "for i in th:\n",
    "    pred = [0 if x <= i else 1 for x in prob[:,1]]\n",
    "    cm = confusion_matrix(y_test,pred)\n",
    "    fn = cm[1,0]\n",
    "    fp = cm[0,1]\n",
    "    cost = fn*2+fp*0.5\n",
    "    total_cost.append(cost)\n",
    "    \n",
    "df = pd.DataFrame({'Threshold':th,'Total_cost':total_cost})\n",
    "df.sort_values(by='Total_cost',ascending=True).head(1)\n",
    "#min value when working with errors "
   ]
  },
  {
   "cell_type": "markdown",
   "metadata": {},
   "source": [
    "<table align=\"left\">\n",
    "    <tr>\n",
    "        <td width=\"6%\">\n",
    "            <img src=\"question_icon.png\">\n",
    "        </td>\n",
    "        <td>\n",
    "            <div align=\"left\", style=\"font-size:120%\">\n",
    "                <font color=\"#21618C\">\n",
    "                    <b>9. Build a full logistic model using the optimal cut-off probability obtained in Q8. Also, plot the confusion matrix and compute ROC_AUC score  \n",
    "                    </b>\n",
    "                </font>\n",
    "            </div>\n",
    "        </td>\n",
    "    </tr>\n",
    "</table>"
   ]
  },
  {
   "cell_type": "code",
   "execution_count": 34,
   "metadata": {},
   "outputs": [
    {
     "name": "stdout",
     "output_type": "stream",
     "text": [
      "[[955 617]\n",
      " [145 267]]\n",
      "ROC_AUC 0.63\n"
     ]
    }
   ],
   "source": [
    "# type your code here\n",
    "x = encode.drop('Closed_Acc_1',axis=1)\n",
    "y = encode.Closed_Acc_1\n",
    "x_train,x_test,y_train,y_test = train_test_split(x,y,test_size=0.2,random_state=1)\n",
    "lr = LogisticRegression()\n",
    "model = lr.fit(x_train,y_train)\n",
    "prob = model.predict_proba(x_test)[:,1]\n",
    "ypred = [0 if i < 0.2 else 1 for i in prob]\n",
    "print(confusion_matrix(y_test,ypred))\n",
    "print('ROC_AUC',round(roc_auc_score(y_test,ypred),2))"
   ]
  }
 ],
 "metadata": {
  "kernelspec": {
   "display_name": "Python 3",
   "language": "python",
   "name": "python3"
  },
  "language_info": {
   "codemirror_mode": {
    "name": "ipython",
    "version": 3
   },
   "file_extension": ".py",
   "mimetype": "text/x-python",
   "name": "python",
   "nbconvert_exporter": "python",
   "pygments_lexer": "ipython3",
   "version": "3.8.5"
  }
 },
 "nbformat": 4,
 "nbformat_minor": 2
}
