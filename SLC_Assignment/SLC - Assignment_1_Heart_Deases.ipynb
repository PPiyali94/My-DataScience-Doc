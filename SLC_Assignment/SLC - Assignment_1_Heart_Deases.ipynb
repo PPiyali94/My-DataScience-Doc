{
 "cells": [
  {
   "cell_type": "markdown",
   "metadata": {},
   "source": [
    "<table align=\"center\" width=100%>\n",
    "    <tr>\n",
    "        <td width=\"15%\">\n",
    "            <img src=\"in_class.png\">\n",
    "        </td>\n",
    "        <td>\n",
    "            <div align=\"center\">\n",
    "                <font color=\"#21618C\" size=8px>\n",
    "                    <b> Inclass - Lab <br>(Day 1)\n",
    "                    </b>\n",
    "                </font>\n",
    "            </div>\n",
    "        </td>\n",
    "    </tr>\n",
    "</table>"
   ]
  },
  {
   "cell_type": "markdown",
   "metadata": {},
   "source": [
    "### About the data set (Heart disease data)\n",
    "\n",
    "The dataset contains information about patients. The aim is to find whether or not a patient has cardiovascular disease based on the several factors from the patient profile. <br> Attribute information: \n",
    "\n",
    "**male:** Gender of patient: male(1) or female(0) \n",
    "\n",
    "**age:** Age of patient\n",
    "\n",
    "**education:** Education level of patient: 1 = Some High School; 2 = High School or GED; 3 = Some College or Vocational School; 4 = college\n",
    "\n",
    "**currentSmoker:** Whether the patient is a smoker now: Yes(1) or No(0)\n",
    "\n",
    "**cigsPerDay:** Average number of cigarettes smoked by patient per day\n",
    "\n",
    "**BPMeds:** Whether the patient is on blood pressure medications: Yes(1) or No(0)\n",
    "\n",
    "**prevalentStroke:** If the patient has a history of heart stroke: Yes(1) or No(0)\n",
    "\n",
    "**prevalentHyp:** If the patient has a history of hypertension: Yes(1) or No(0)\n",
    "\n",
    "**diabetes:**  If the patient has a diabetes: Yes(1) or No(0)\n",
    "\n",
    "**totChol:** Average cholesterol levels in mg/dL\n",
    "\n",
    "**sysBP:** Average systolic blood pressure of patient\n",
    "\n",
    "**diaBP:** Average diastolic blood pressure of patient\n",
    "\n",
    "**BMI:** BMI of patient\n",
    "\n",
    "**heartRate:** Avergae heartrate of patient\n",
    "\n",
    "**glucose:** Average blood glucose levels of patient\n",
    "\n",
    "**CVD:** Does the patient have cardiovascular disease: Yes(1) or No(0)"
   ]
  },
  {
   "cell_type": "markdown",
   "metadata": {},
   "source": [
    "## Table of Content\n",
    "\n",
    "1. **[Logistic Regression Model](#logreg)**\n",
    "2. **[Model Evaluation Metrics](#mod_eval)**\n",
    "3. **[Performance Evaluation Metrics](#perf_eval)**\n",
    "4. **[Determining optimal threshold](#opt)**"
   ]
  },
  {
   "cell_type": "markdown",
   "metadata": {},
   "source": [
    "**Import the required libraries**"
   ]
  },
  {
   "cell_type": "code",
   "execution_count": 1,
   "metadata": {},
   "outputs": [],
   "source": [
    "# type your code here\n",
    "# import 'Pandas' \n",
    "import pandas as pd \n",
    "\n",
    "# import 'Numpy' \n",
    "import numpy as np\n",
    "\n",
    "# import subpackage of Matplotlib\n",
    "import matplotlib.pyplot as plt\n",
    "from matplotlib.colors import ListedColormap\n",
    "\n",
    "# import 'Seaborn' \n",
    "import seaborn as sns\n",
    "\n",
    "# to suppress warnings \n",
    "from warnings import filterwarnings\n",
    "filterwarnings('ignore')\n",
    "\n",
    "# display all columns of the dataframe\n",
    "pd.options.display.max_columns = None\n",
    "\n",
    "# display all rows of the dataframe\n",
    "pd.options.display.max_rows = None\n",
    " \n",
    "# to display the float values upto 6 decimal places     \n",
    "pd.options.display.float_format = '{:.6f}'.format\n",
    "\n",
    "# import train-test split \n",
    "from sklearn.model_selection import train_test_split\n",
    "\n",
    "# import various functions from statsmodels\n",
    "import statsmodels\n",
    "import statsmodels.api as sm\n",
    "\n",
    "# import StandardScaler to perform scaling\n",
    "from sklearn.preprocessing import StandardScaler \n",
    "\n",
    "# import various functions from sklearn \n",
    "from sklearn import metrics\n",
    "from sklearn.linear_model import LogisticRegression\n",
    "from sklearn.metrics import classification_report\n",
    "from sklearn.metrics import cohen_kappa_score\n",
    "from sklearn.metrics import confusion_matrix\n",
    "from sklearn.metrics import roc_curve\n",
    "from sklearn.metrics import roc_auc_score\n",
    "from sklearn.metrics import accuracy_score\n",
    "\n",
    "# import function to perform feature selection\n",
    "from sklearn.feature_selection import RFE\n",
    "\n",
    "from sklearn.model_selection import KFold\n",
    "from sklearn.model_selection import cross_val_score"
   ]
  },
  {
   "cell_type": "markdown",
   "metadata": {},
   "source": [
    "#### Load the csv file"
   ]
  },
  {
   "cell_type": "code",
   "execution_count": 2,
   "metadata": {},
   "outputs": [
    {
     "data": {
      "text/html": [
       "<div>\n",
       "<style scoped>\n",
       "    .dataframe tbody tr th:only-of-type {\n",
       "        vertical-align: middle;\n",
       "    }\n",
       "\n",
       "    .dataframe tbody tr th {\n",
       "        vertical-align: top;\n",
       "    }\n",
       "\n",
       "    .dataframe thead th {\n",
       "        text-align: right;\n",
       "    }\n",
       "</style>\n",
       "<table border=\"1\" class=\"dataframe\">\n",
       "  <thead>\n",
       "    <tr style=\"text-align: right;\">\n",
       "      <th></th>\n",
       "      <th>male</th>\n",
       "      <th>age</th>\n",
       "      <th>education</th>\n",
       "      <th>currentSmoker</th>\n",
       "      <th>cigsPerDay</th>\n",
       "      <th>BPMeds</th>\n",
       "      <th>prevalentStroke</th>\n",
       "      <th>prevalentHyp</th>\n",
       "      <th>diabetes</th>\n",
       "      <th>totChol</th>\n",
       "      <th>sysBP</th>\n",
       "      <th>diaBP</th>\n",
       "      <th>BMI</th>\n",
       "      <th>heartRate</th>\n",
       "      <th>glucose</th>\n",
       "      <th>CVD</th>\n",
       "    </tr>\n",
       "  </thead>\n",
       "  <tbody>\n",
       "    <tr>\n",
       "      <th>0</th>\n",
       "      <td>1</td>\n",
       "      <td>39</td>\n",
       "      <td>4.000000</td>\n",
       "      <td>0</td>\n",
       "      <td>0.000000</td>\n",
       "      <td>0.000000</td>\n",
       "      <td>0</td>\n",
       "      <td>0</td>\n",
       "      <td>0</td>\n",
       "      <td>195.000000</td>\n",
       "      <td>106.000000</td>\n",
       "      <td>70.000000</td>\n",
       "      <td>26.970000</td>\n",
       "      <td>80.000000</td>\n",
       "      <td>77.000000</td>\n",
       "      <td>0</td>\n",
       "    </tr>\n",
       "    <tr>\n",
       "      <th>1</th>\n",
       "      <td>0</td>\n",
       "      <td>46</td>\n",
       "      <td>2.000000</td>\n",
       "      <td>0</td>\n",
       "      <td>0.000000</td>\n",
       "      <td>0.000000</td>\n",
       "      <td>0</td>\n",
       "      <td>0</td>\n",
       "      <td>0</td>\n",
       "      <td>250.000000</td>\n",
       "      <td>121.000000</td>\n",
       "      <td>81.000000</td>\n",
       "      <td>28.730000</td>\n",
       "      <td>95.000000</td>\n",
       "      <td>76.000000</td>\n",
       "      <td>0</td>\n",
       "    </tr>\n",
       "    <tr>\n",
       "      <th>2</th>\n",
       "      <td>1</td>\n",
       "      <td>48</td>\n",
       "      <td>1.000000</td>\n",
       "      <td>1</td>\n",
       "      <td>20.000000</td>\n",
       "      <td>0.000000</td>\n",
       "      <td>0</td>\n",
       "      <td>0</td>\n",
       "      <td>0</td>\n",
       "      <td>245.000000</td>\n",
       "      <td>127.500000</td>\n",
       "      <td>80.000000</td>\n",
       "      <td>25.340000</td>\n",
       "      <td>75.000000</td>\n",
       "      <td>70.000000</td>\n",
       "      <td>0</td>\n",
       "    </tr>\n",
       "    <tr>\n",
       "      <th>3</th>\n",
       "      <td>0</td>\n",
       "      <td>61</td>\n",
       "      <td>3.000000</td>\n",
       "      <td>1</td>\n",
       "      <td>30.000000</td>\n",
       "      <td>0.000000</td>\n",
       "      <td>0</td>\n",
       "      <td>1</td>\n",
       "      <td>0</td>\n",
       "      <td>225.000000</td>\n",
       "      <td>150.000000</td>\n",
       "      <td>95.000000</td>\n",
       "      <td>28.580000</td>\n",
       "      <td>65.000000</td>\n",
       "      <td>103.000000</td>\n",
       "      <td>1</td>\n",
       "    </tr>\n",
       "    <tr>\n",
       "      <th>4</th>\n",
       "      <td>0</td>\n",
       "      <td>46</td>\n",
       "      <td>3.000000</td>\n",
       "      <td>1</td>\n",
       "      <td>23.000000</td>\n",
       "      <td>0.000000</td>\n",
       "      <td>0</td>\n",
       "      <td>0</td>\n",
       "      <td>0</td>\n",
       "      <td>285.000000</td>\n",
       "      <td>130.000000</td>\n",
       "      <td>84.000000</td>\n",
       "      <td>23.100000</td>\n",
       "      <td>85.000000</td>\n",
       "      <td>85.000000</td>\n",
       "      <td>0</td>\n",
       "    </tr>\n",
       "  </tbody>\n",
       "</table>\n",
       "</div>"
      ],
      "text/plain": [
       "   male  age  education  currentSmoker  cigsPerDay   BPMeds  prevalentStroke  \\\n",
       "0     1   39   4.000000              0    0.000000 0.000000                0   \n",
       "1     0   46   2.000000              0    0.000000 0.000000                0   \n",
       "2     1   48   1.000000              1   20.000000 0.000000                0   \n",
       "3     0   61   3.000000              1   30.000000 0.000000                0   \n",
       "4     0   46   3.000000              1   23.000000 0.000000                0   \n",
       "\n",
       "   prevalentHyp  diabetes    totChol      sysBP     diaBP       BMI  \\\n",
       "0             0         0 195.000000 106.000000 70.000000 26.970000   \n",
       "1             0         0 250.000000 121.000000 81.000000 28.730000   \n",
       "2             0         0 245.000000 127.500000 80.000000 25.340000   \n",
       "3             1         0 225.000000 150.000000 95.000000 28.580000   \n",
       "4             0         0 285.000000 130.000000 84.000000 23.100000   \n",
       "\n",
       "   heartRate    glucose  CVD  \n",
       "0  80.000000  77.000000    0  \n",
       "1  95.000000  76.000000    0  \n",
       "2  75.000000  70.000000    0  \n",
       "3  65.000000 103.000000    1  \n",
       "4  85.000000  85.000000    0  "
      ]
     },
     "execution_count": 2,
     "metadata": {},
     "output_type": "execute_result"
    }
   ],
   "source": [
    "# type your code here\n",
    "df_h=pd.read_csv('Heart_disease.csv')\n",
    "df_h.head()"
   ]
  },
  {
   "cell_type": "code",
   "execution_count": 3,
   "metadata": {},
   "outputs": [
    {
     "data": {
      "text/plain": [
       "(4240, 16)"
      ]
     },
     "execution_count": 3,
     "metadata": {},
     "output_type": "execute_result"
    }
   ],
   "source": [
    "df_h.shape"
   ]
  },
  {
   "cell_type": "code",
   "execution_count": 4,
   "metadata": {},
   "outputs": [
    {
     "name": "stdout",
     "output_type": "stream",
     "text": [
      "<class 'pandas.core.frame.DataFrame'>\n",
      "RangeIndex: 4240 entries, 0 to 4239\n",
      "Data columns (total 16 columns):\n",
      " #   Column           Non-Null Count  Dtype  \n",
      "---  ------           --------------  -----  \n",
      " 0   male             4240 non-null   int64  \n",
      " 1   age              4240 non-null   int64  \n",
      " 2   education        4135 non-null   float64\n",
      " 3   currentSmoker    4240 non-null   int64  \n",
      " 4   cigsPerDay       4211 non-null   float64\n",
      " 5   BPMeds           4187 non-null   float64\n",
      " 6   prevalentStroke  4240 non-null   int64  \n",
      " 7   prevalentHyp     4240 non-null   int64  \n",
      " 8   diabetes         4240 non-null   int64  \n",
      " 9   totChol          4190 non-null   float64\n",
      " 10  sysBP            4240 non-null   float64\n",
      " 11  diaBP            4240 non-null   float64\n",
      " 12  BMI              4221 non-null   float64\n",
      " 13  heartRate        4239 non-null   float64\n",
      " 14  glucose          3852 non-null   float64\n",
      " 15  CVD              4240 non-null   int64  \n",
      "dtypes: float64(9), int64(7)\n",
      "memory usage: 530.1 KB\n"
     ]
    }
   ],
   "source": [
    "df_h.info()"
   ]
  },
  {
   "cell_type": "code",
   "execution_count": 5,
   "metadata": {
    "scrolled": false
   },
   "outputs": [],
   "source": [
    "#type casting../male/education/currentsmoker/BPMeds/\n",
    "df_h['male']=df_h['male'].astype(object)\n",
    "df_h['education']=df_h['education'].astype(object)\n",
    "df_h['currentSmoker']=df_h['currentSmoker'].astype(object)\n",
    "df_h['BPMeds']=df_h['BPMeds'].astype(object)\n",
    "df_h['prevalentStroke']=df_h['prevalentStroke'].astype(object)\n",
    "df_h['prevalentHyp']=df_h['prevalentHyp'].astype(object)\n",
    "df_h['diabetes']=df_h['diabetes'].astype(object)"
   ]
  },
  {
   "cell_type": "code",
   "execution_count": 6,
   "metadata": {},
   "outputs": [
    {
     "data": {
      "text/plain": [
       "male              0.000000\n",
       "age               0.000000\n",
       "education         2.476415\n",
       "currentSmoker     0.000000\n",
       "cigsPerDay        0.683962\n",
       "BPMeds            1.250000\n",
       "prevalentStroke   0.000000\n",
       "prevalentHyp      0.000000\n",
       "diabetes          0.000000\n",
       "totChol           1.179245\n",
       "sysBP             0.000000\n",
       "diaBP             0.000000\n",
       "BMI               0.448113\n",
       "heartRate         0.023585\n",
       "glucose           9.150943\n",
       "CVD               0.000000\n",
       "dtype: float64"
      ]
     },
     "execution_count": 6,
     "metadata": {},
     "output_type": "execute_result"
    }
   ],
   "source": [
    "(df_h.isnull().sum()/df_h.shape[0])*100"
   ]
  },
  {
   "cell_type": "code",
   "execution_count": 7,
   "metadata": {},
   "outputs": [],
   "source": [
    "df_h=df_h.dropna(axis=0,subset=['education','cigsPerDay','BPMeds','totChol','BMI','heartRate'])"
   ]
  },
  {
   "cell_type": "code",
   "execution_count": 8,
   "metadata": {},
   "outputs": [
    {
     "data": {
      "text/plain": [
       "6.2819106259853585"
      ]
     },
     "execution_count": 8,
     "metadata": {},
     "output_type": "execute_result"
    }
   ],
   "source": [
    "df_h.glucose.skew()"
   ]
  },
  {
   "cell_type": "code",
   "execution_count": 9,
   "metadata": {},
   "outputs": [],
   "source": [
    "df_h['glucose']=df_h['glucose'].fillna(df_h.glucose.median())"
   ]
  },
  {
   "cell_type": "code",
   "execution_count": 10,
   "metadata": {},
   "outputs": [
    {
     "data": {
      "text/plain": [
       "male               0\n",
       "age                0\n",
       "education          0\n",
       "currentSmoker      0\n",
       "cigsPerDay         0\n",
       "BPMeds             0\n",
       "prevalentStroke    0\n",
       "prevalentHyp       0\n",
       "diabetes           0\n",
       "totChol            0\n",
       "sysBP              0\n",
       "diaBP              0\n",
       "BMI                0\n",
       "heartRate          0\n",
       "glucose            0\n",
       "CVD                0\n",
       "dtype: int64"
      ]
     },
     "execution_count": 10,
     "metadata": {},
     "output_type": "execute_result"
    }
   ],
   "source": [
    "df_h.isnull().sum()"
   ]
  },
  {
   "cell_type": "code",
   "execution_count": 11,
   "metadata": {},
   "outputs": [],
   "source": [
    "df_h_num=df_h.select_dtypes(np.number).drop('CVD',axis=1)\n",
    "df_h_cat=df_h.select_dtypes(include='object')"
   ]
  },
  {
   "cell_type": "markdown",
   "metadata": {},
   "source": [
    "### Let's begin with some hands-on practice exercises"
   ]
  },
  {
   "cell_type": "markdown",
   "metadata": {},
   "source": [
    "<a id=\"logreg\"> </a>\n",
    "## 1. Logistic regression model"
   ]
  },
  {
   "cell_type": "markdown",
   "metadata": {},
   "source": [
    "## We shall use the heart disease dataset"
   ]
  },
  {
   "cell_type": "markdown",
   "metadata": {
    "collapsed": true
   },
   "source": [
    "<table align=\"left\">\n",
    "    <tr>\n",
    "        <td width=\"6%\">\n",
    "            <img src=\"question_icon.png\">\n",
    "        </td>\n",
    "        <td>\n",
    "            <div align=\"left\", style=\"font-size:120%\">\n",
    "                <font color=\"#21618C\">\n",
    "                    <b>1. Find the proportion of classes of target variable 'CVD' fairly represented by records in the considered dataset ?</b>\n",
    "                </font>\n",
    "            </div>\n",
    "        </td>\n",
    "    </tr>\n",
    "</table>"
   ]
  },
  {
   "cell_type": "code",
   "execution_count": 12,
   "metadata": {},
   "outputs": [
    {
     "name": "stdout",
     "output_type": "stream",
     "text": [
      "class 0 : 85.08398094760592\n",
      "class 1 : 14.916019052394084\n"
     ]
    }
   ],
   "source": [
    "# type your code here\n",
    "print('class 0 :',(df_h.CVD.value_counts()[0])*100/len(df_h.CVD))\n",
    "print('class 1 :',(df_h.CVD.value_counts()[1])*100/len(df_h.CVD))"
   ]
  },
  {
   "cell_type": "code",
   "execution_count": 13,
   "metadata": {},
   "outputs": [
    {
     "data": {
      "text/plain": [
       "<AxesSubplot:xlabel='CVD', ylabel='count'>"
      ]
     },
     "execution_count": 13,
     "metadata": {},
     "output_type": "execute_result"
    },
    {
     "data": {
      "image/png": "[encoded data removed]",
      "text/plain": [
       "<Figure size 432x288 with 1 Axes>"
      ]
     },
     "metadata": {
      "needs_background": "light"
     },
     "output_type": "display_data"
    }
   ],
   "source": [
    "sns.countplot(x=df_h.CVD)"
   ]
  },
  {
   "cell_type": "code",
   "execution_count": 14,
   "metadata": {},
   "outputs": [],
   "source": [
    "#for class_0 there are 85% records and for class_1 14% records there are some kind of imbalance between 2 classes"
   ]
  },
  {
   "cell_type": "code",
   "execution_count": null,
   "metadata": {},
   "outputs": [],
   "source": []
  },
  {
   "cell_type": "markdown",
   "metadata": {
    "collapsed": true
   },
   "source": [
    "<table align=\"left\">\n",
    "    <tr>\n",
    "        <td width=\"6%\">\n",
    "            <img src=\"question_icon.png\">\n",
    "        </td>\n",
    "        <td>\n",
    "            <div align=\"left\", style=\"font-size:120%\">\n",
    "                <font color=\"#21618C\">\n",
    "                    <b>2. Predict whether or not a patient will have cardiovascular disease based on the information about blood pressure of the patient. Columns related to blood pressure are diaBP, sysBP and BPMeds.</b>\n",
    "                </font>\n",
    "            </div>\n",
    "        </td>\n",
    "    </tr>\n",
    "</table>"
   ]
  },
  {
   "cell_type": "code",
   "execution_count": 15,
   "metadata": {},
   "outputs": [],
   "source": [
    "# type your code here\n",
    "ss=StandardScaler()\n",
    "df_h_num=pd.DataFrame(ss.fit_transform(df_h_num),columns=df_h_num.columns)\n",
    "col_num=df_h_num.columns\n",
    "df_h_cat=pd.get_dummies(df_h_cat,drop_first=True)\n",
    "col_cat=df_h_cat.columns"
   ]
  },
  {
   "cell_type": "code",
   "execution_count": 16,
   "metadata": {},
   "outputs": [],
   "source": [
    "df_h_num.reset_index(drop=True,inplace=True)\n",
    "df_h_cat.reset_index(drop=True,inplace=True)"
   ]
  },
  {
   "cell_type": "code",
   "execution_count": 17,
   "metadata": {},
   "outputs": [],
   "source": [
    "df_h_num.columns=col_num\n",
    "df_h_cat.columns=col_cat"
   ]
  },
  {
   "cell_type": "code",
   "execution_count": 18,
   "metadata": {},
   "outputs": [],
   "source": [
    "df_tot=pd.concat([df_h_num,df_h_cat],axis=1)"
   ]
  },
  {
   "cell_type": "code",
   "execution_count": 19,
   "metadata": {},
   "outputs": [
    {
     "data": {
      "text/plain": [
       "Index(['age', 'cigsPerDay', 'totChol', 'sysBP', 'diaBP', 'BMI', 'heartRate',\n",
       "       'glucose', 'male_1', 'education_2.0', 'education_3.0', 'education_4.0',\n",
       "       'currentSmoker_1', 'BPMeds_1.0', 'prevalentStroke_1', 'prevalentHyp_1',\n",
       "       'diabetes_1'],\n",
       "      dtype='object')"
      ]
     },
     "execution_count": 19,
     "metadata": {},
     "output_type": "execute_result"
    }
   ],
   "source": [
    "df_tot.columns"
   ]
  },
  {
   "cell_type": "code",
   "execution_count": 20,
   "metadata": {},
   "outputs": [],
   "source": [
    "X=df_tot[['sysBP','diaBP','BPMeds_1.0']]\n",
    "\n",
    "y=df_h.CVD.reset_index(drop=True)"
   ]
  },
  {
   "cell_type": "code",
   "execution_count": 21,
   "metadata": {},
   "outputs": [],
   "source": [
    "X=sm.add_constant(X)\n",
    "x_train,x_test,y_train,y_test=train_test_split(X,y,test_size=0.2,random_state=10)"
   ]
  },
  {
   "cell_type": "code",
   "execution_count": 22,
   "metadata": {},
   "outputs": [
    {
     "name": "stdout",
     "output_type": "stream",
     "text": [
      "Optimization terminated successfully.\n",
      "         Current function value: 0.392410\n",
      "         Iterations 6\n"
     ]
    },
    {
     "data": {
      "text/html": [
       "<table class=\"simpletable\">\n",
       "<caption>Logit Regression Results</caption>\n",
       "<tr>\n",
       "  <th>Dep. Variable:</th>          <td>CVD</td>       <th>  No. Observations:  </th>  <td>  3191</td>  \n",
       "</tr>\n",
       "<tr>\n",
       "  <th>Model:</th>                 <td>Logit</td>      <th>  Df Residuals:      </th>  <td>  3187</td>  \n",
       "</tr>\n",
       "<tr>\n",
       "  <th>Method:</th>                 <td>MLE</td>       <th>  Df Model:          </th>  <td>     3</td>  \n",
       "</tr>\n",
       "<tr>\n",
       "  <th>Date:</th>            <td>Fri, 20 Aug 2021</td> <th>  Pseudo R-squ.:     </th>  <td>0.05239</td> \n",
       "</tr>\n",
       "<tr>\n",
       "  <th>Time:</th>                <td>14:24:54</td>     <th>  Log-Likelihood:    </th> <td> -1252.2</td> \n",
       "</tr>\n",
       "<tr>\n",
       "  <th>converged:</th>             <td>True</td>       <th>  LL-Null:           </th> <td> -1321.4</td> \n",
       "</tr>\n",
       "<tr>\n",
       "  <th>Covariance Type:</th>     <td>nonrobust</td>    <th>  LLR p-value:       </th> <td>8.096e-30</td>\n",
       "</tr>\n",
       "</table>\n",
       "<table class=\"simpletable\">\n",
       "<tr>\n",
       "       <td></td>         <th>coef</th>     <th>std err</th>      <th>z</th>      <th>P>|z|</th>  <th>[0.025</th>    <th>0.975]</th>  \n",
       "</tr>\n",
       "<tr>\n",
       "  <th>const</th>      <td>   -1.8792</td> <td>    0.055</td> <td>  -34.344</td> <td> 0.000</td> <td>   -1.986</td> <td>   -1.772</td>\n",
       "</tr>\n",
       "<tr>\n",
       "  <th>sysBP</th>      <td>    0.6171</td> <td>    0.074</td> <td>    8.283</td> <td> 0.000</td> <td>    0.471</td> <td>    0.763</td>\n",
       "</tr>\n",
       "<tr>\n",
       "  <th>diaBP</th>      <td>   -0.1112</td> <td>    0.076</td> <td>   -1.465</td> <td> 0.143</td> <td>   -0.260</td> <td>    0.038</td>\n",
       "</tr>\n",
       "<tr>\n",
       "  <th>BPMeds_1.0</th> <td>    0.1689</td> <td>    0.245</td> <td>    0.690</td> <td> 0.490</td> <td>   -0.311</td> <td>    0.649</td>\n",
       "</tr>\n",
       "</table>"
      ],
      "text/plain": [
       "<class 'statsmodels.iolib.summary.Summary'>\n",
       "\"\"\"\n",
       "                           Logit Regression Results                           \n",
       "==============================================================================\n",
       "Dep. Variable:                    CVD   No. Observations:                 3191\n",
       "Model:                          Logit   Df Residuals:                     3187\n",
       "Method:                           MLE   Df Model:                            3\n",
       "Date:                Fri, 20 Aug 2021   Pseudo R-squ.:                 0.05239\n",
       "Time:                        14:24:54   Log-Likelihood:                -1252.2\n",
       "converged:                       True   LL-Null:                       -1321.4\n",
       "Covariance Type:            nonrobust   LLR p-value:                 8.096e-30\n",
       "==============================================================================\n",
       "                 coef    std err          z      P>|z|      [0.025      0.975]\n",
       "------------------------------------------------------------------------------\n",
       "const         -1.8792      0.055    -34.344      0.000      -1.986      -1.772\n",
       "sysBP          0.6171      0.074      8.283      0.000       0.471       0.763\n",
       "diaBP         -0.1112      0.076     -1.465      0.143      -0.260       0.038\n",
       "BPMeds_1.0     0.1689      0.245      0.690      0.490      -0.311       0.649\n",
       "==============================================================================\n",
       "\"\"\""
      ]
     },
     "execution_count": 22,
     "metadata": {},
     "output_type": "execute_result"
    }
   ],
   "source": [
    "logit_1=sm.Logit(y_train,x_train).fit()\n",
    "logit_1.summary()"
   ]
  },
  {
   "cell_type": "code",
   "execution_count": 23,
   "metadata": {},
   "outputs": [],
   "source": [
    "#sysBP has more impact . "
   ]
  },
  {
   "cell_type": "markdown",
   "metadata": {
    "collapsed": true
   },
   "source": [
    "<table align=\"left\">\n",
    "    <tr>\n",
    "        <td width=\"6%\">\n",
    "            <img src=\"question_icon.png\">\n",
    "        </td>\n",
    "        <td>\n",
    "            <div align=\"left\", style=\"font-size:120%\">\n",
    "                <font color=\"#21618C\">\n",
    "                    <b>3. Predict whether or not a patient has cardiovascular disease using the categorical variables in the dataset. How does a unit change in each feature influence the odds of a patient having a cardiocascular disease?</b>\n",
    "                </font>\n",
    "            </div>\n",
    "        </td>\n",
    "    </tr>\n",
    "</table>"
   ]
  },
  {
   "cell_type": "code",
   "execution_count": 24,
   "metadata": {},
   "outputs": [
    {
     "name": "stdout",
     "output_type": "stream",
     "text": [
      "Optimization terminated successfully.\n",
      "         Current function value: 0.387490\n",
      "         Iterations 6\n",
      "                           Logit Regression Results                           \n",
      "==============================================================================\n",
      "Dep. Variable:                    CVD   No. Observations:                 3191\n",
      "Model:                          Logit   Df Residuals:                     3181\n",
      "Method:                           MLE   Df Model:                            9\n",
      "Date:                Fri, 20 Aug 2021   Pseudo R-squ.:                 0.06428\n",
      "Time:                        14:24:57   Log-Likelihood:                -1236.5\n",
      "converged:                       True   LL-Null:                       -1321.4\n",
      "Covariance Type:            nonrobust   LLR p-value:                 6.569e-32\n",
      "=====================================================================================\n",
      "                        coef    std err          z      P>|z|      [0.025      0.975]\n",
      "-------------------------------------------------------------------------------------\n",
      "const                -2.3206      0.117    -19.801      0.000      -2.550      -2.091\n",
      "male_1                0.4555      0.108      4.211      0.000       0.243       0.668\n",
      "education_2.0        -0.4541      0.129     -3.532      0.000      -0.706      -0.202\n",
      "education_3.0        -0.2575      0.156     -1.650      0.099      -0.564       0.048\n",
      "education_4.0        -0.1665      0.169     -0.987      0.323      -0.497       0.164\n",
      "currentSmoker_1       0.1341      0.108      1.245      0.213      -0.077       0.345\n",
      "BPMeds_1.0            0.3507      0.241      1.456      0.145      -0.122       0.823\n",
      "prevalentStroke_1     1.2023      0.517      2.328      0.020       0.190       2.215\n",
      "prevalentHyp_1        0.9796      0.108      9.036      0.000       0.767       1.192\n",
      "diabetes_1            1.1043      0.245      4.506      0.000       0.624       1.585\n",
      "=====================================================================================\n"
     ]
    }
   ],
   "source": [
    "# type your code here\n",
    "X=df_h_cat\n",
    "X=sm.add_constant(X)\n",
    "x_train,x_test,y_train,y_test=train_test_split(X,y,test_size=0.2,random_state=10)\n",
    "\n",
    "logit_2=sm.Logit(y_train,x_train).fit()\n",
    "print(logit_2.summary())"
   ]
  },
  {
   "cell_type": "code",
   "execution_count": 25,
   "metadata": {},
   "outputs": [
    {
     "data": {
      "text/plain": [
       "const               0.098216\n",
       "male_1              1.576969\n",
       "education_2.0       0.634988\n",
       "education_3.0       0.772953\n",
       "education_4.0       0.846585\n",
       "currentSmoker_1     1.143541\n",
       "BPMeds_1.0          1.420087\n",
       "prevalentStroke_1   3.327786\n",
       "prevalentHyp_1      2.663410\n",
       "diabetes_1          3.016980\n",
       "dtype: float64"
      ]
     },
     "execution_count": 25,
     "metadata": {},
     "output_type": "execute_result"
    }
   ],
   "source": [
    "np.exp(logit_2.params)"
   ]
  },
  {
   "cell_type": "code",
   "execution_count": 26,
   "metadata": {},
   "outputs": [],
   "source": [
    "#prevalentStroke_1 is more significantwith the target variable."
   ]
  },
  {
   "cell_type": "markdown",
   "metadata": {},
   "source": [
    "<a id=\"mod_eval\"> </a>\n",
    "## 2. Model Evaluation Metrics"
   ]
  },
  {
   "cell_type": "markdown",
   "metadata": {
    "collapsed": true
   },
   "source": [
    "<table align=\"left\">\n",
    "    <tr>\n",
    "        <td width=\"6%\">\n",
    "            <img src=\"question_icon.png\">\n",
    "        </td>\n",
    "        <td>\n",
    "            <div align=\"left\", style=\"font-size:120%\">\n",
    "                <font color=\"#21618C\">\n",
    "                    <b>4. Build a full model to predict if a patient will have a cardiovascular disease. Find the value of Mcfadden's R<sup>2</sup>.\n",
    "                </font>\n",
    "            </div>\n",
    "        </td>\n",
    "    </tr>\n",
    "</table>"
   ]
  },
  {
   "cell_type": "code",
   "execution_count": 27,
   "metadata": {},
   "outputs": [
    {
     "name": "stdout",
     "output_type": "stream",
     "text": [
      "Optimization terminated successfully.\n",
      "         Current function value: 0.362807\n",
      "         Iterations 7\n",
      "                           Logit Regression Results                           \n",
      "==============================================================================\n",
      "Dep. Variable:                    CVD   No. Observations:                 3191\n",
      "Model:                          Logit   Df Residuals:                     3173\n",
      "Method:                           MLE   Df Model:                           17\n",
      "Date:                Fri, 20 Aug 2021   Pseudo R-squ.:                  0.1239\n",
      "Time:                        14:25:02   Log-Likelihood:                -1157.7\n",
      "converged:                       True   LL-Null:                       -1321.4\n",
      "Covariance Type:            nonrobust   LLR p-value:                 2.429e-59\n",
      "=====================================================================================\n",
      "                        coef    std err          z      P>|z|      [0.025      0.975]\n",
      "-------------------------------------------------------------------------------------\n",
      "const                -2.3432      0.148    -15.885      0.000      -2.632      -2.054\n",
      "age                   0.5665      0.064      8.812      0.000       0.441       0.693\n",
      "cigsPerDay            0.2190      0.083      2.648      0.008       0.057       0.381\n",
      "totChol               0.1185      0.054      2.209      0.027       0.013       0.224\n",
      "sysBP                 0.2632      0.092      2.853      0.004       0.082       0.444\n",
      "diaBP                -0.0002      0.085     -0.003      0.998      -0.166       0.165\n",
      "BMI                  -0.0057      0.057     -0.100      0.920      -0.118       0.106\n",
      "heartRate            -0.0328      0.055     -0.596      0.551      -0.141       0.075\n",
      "glucose               0.2287      0.059      3.889      0.000       0.113       0.344\n",
      "male_1                0.4643      0.120      3.870      0.000       0.229       0.699\n",
      "education_2.0        -0.1998      0.136     -1.471      0.141      -0.466       0.066\n",
      "education_3.0        -0.0853      0.164     -0.518      0.604      -0.408       0.237\n",
      "education_4.0         0.1369      0.176      0.778      0.437      -0.208       0.482\n",
      "currentSmoker_1       0.0495      0.171      0.289      0.773      -0.286       0.385\n",
      "BPMeds_1.0            0.0710      0.256      0.277      0.782      -0.431       0.573\n",
      "prevalentStroke_1     1.2442      0.548      2.271      0.023       0.170       2.318\n",
      "prevalentHyp_1        0.3304      0.152      2.176      0.030       0.033       0.628\n",
      "diabetes_1           -0.0861      0.363     -0.237      0.812      -0.797       0.625\n",
      "=====================================================================================\n"
     ]
    }
   ],
   "source": [
    "# type your code here\n",
    "\n",
    "X=df_tot\n",
    "X=sm.add_constant(X)\n",
    "x_train,x_test,y_train,y_test=train_test_split(X,y,test_size=0.2,random_state=10)\n",
    "\n",
    "logit_3=sm.Logit(y_train,x_train).fit()\n",
    "print(logit_3.summary())"
   ]
  },
  {
   "cell_type": "markdown",
   "metadata": {},
   "source": [
    "the R2 value is .1239"
   ]
  },
  {
   "cell_type": "markdown",
   "metadata": {
    "collapsed": true
   },
   "source": [
    "<table align=\"left\">\n",
    "    <tr>\n",
    "        <td width=\"6%\">\n",
    "            <img src=\"question_icon.png\">\n",
    "        </td>\n",
    "        <td>\n",
    "            <div align=\"left\", style=\"font-size:120%\">\n",
    "                <font color=\"#21618C\">\n",
    "                    <b>5. Find the significant variables in the full model when all the variables are considered in prediction of whether or not a patient has cardiovascular disease.\n",
    "                    </b>\n",
    "                </font>\n",
    "            </div>\n",
    "        </td>\n",
    "    </tr>\n",
    "</table>"
   ]
  },
  {
   "cell_type": "code",
   "execution_count": 28,
   "metadata": {},
   "outputs": [
    {
     "data": {
      "text/plain": [
       "const               0.000000\n",
       "age                 0.000000\n",
       "glucose             0.000101\n",
       "male_1              0.000109\n",
       "sysBP               0.004337\n",
       "cigsPerDay          0.008101\n",
       "prevalentStroke_1   0.023157\n",
       "totChol             0.027172\n",
       "prevalentHyp_1      0.029572\n",
       "dtype: float64"
      ]
     },
     "execution_count": 28,
     "metadata": {},
     "output_type": "execute_result"
    }
   ],
   "source": [
    "# type your code here\n",
    "logit_3.pvalues[logit_3.pvalues < 0.05].sort_values() #these are the most significant variable"
   ]
  },
  {
   "cell_type": "markdown",
   "metadata": {},
   "source": [
    "<a id=\"perf_eval\"> </a>\n",
    "## 3. Performance evaluation metrics"
   ]
  },
  {
   "cell_type": "markdown",
   "metadata": {
    "collapsed": true
   },
   "source": [
    "<table align=\"left\">\n",
    "    <tr>\n",
    "        <td width=\"6%\">\n",
    "            <img src=\"question_icon.png\">\n",
    "        </td>\n",
    "        <td>\n",
    "            <div align=\"left\", style=\"font-size:120%\">\n",
    "                <font color=\"#21618C\">\n",
    "                        <b>6. For the full model, calculate the accuracy manually using the confusion matrix. Consider 0.5 as the probability threshold.</b>\n",
    "                </font>\n",
    "            </div>\n",
    "        </td>\n",
    "    </tr>\n",
    "</table>"
   ]
  },
  {
   "cell_type": "code",
   "execution_count": 29,
   "metadata": {},
   "outputs": [],
   "source": [
    "# type your code here\n",
    "y_pred_prob=logit_3.predict(x_test)\n",
    "y_pred=[0 if x<0.5 else 1 for x in y_pred_prob]"
   ]
  },
  {
   "cell_type": "code",
   "execution_count": 30,
   "metadata": {},
   "outputs": [
    {
     "data": {
      "text/plain": [
       "array([[661,   5],\n",
       "       [123,   9]], dtype=int64)"
      ]
     },
     "execution_count": 30,
     "metadata": {},
     "output_type": "execute_result"
    }
   ],
   "source": [
    "cn_mt=confusion_matrix(y_test,y_pred)\n",
    "cn_mt"
   ]
  },
  {
   "cell_type": "code",
   "execution_count": 31,
   "metadata": {},
   "outputs": [],
   "source": [
    "TN=cn_mt[0,0]\n",
    "TP=cn_mt[1,1]\n",
    "FN=cn_mt[1,0]\n",
    "FP=cn_mt[0,1]"
   ]
  },
  {
   "cell_type": "code",
   "execution_count": 32,
   "metadata": {},
   "outputs": [
    {
     "name": "stdout",
     "output_type": "stream",
     "text": [
      "The accuracy score is : 0.8395989974937343\n"
     ]
    }
   ],
   "source": [
    "accuracy_score=(TN+TP)/(TN+TP+FN+FP)\n",
    "print('The accuracy score is :',accuracy_score)"
   ]
  },
  {
   "cell_type": "markdown",
   "metadata": {
    "collapsed": true
   },
   "source": [
    "<table align=\"left\">\n",
    "    <tr>\n",
    "        <td width=\"6%\">\n",
    "            <img src=\"question_icon.png\">\n",
    "        </td>\n",
    "        <td>\n",
    "            <div align=\"left\", style=\"font-size:120%\">\n",
    "                <font color=\"#21618C\">\n",
    "                    <b>7.  Calculate value of kappa for the full model built in question 5. Consider threshold value as 0.18</b>\n",
    "                </font>\n",
    "            </div>\n",
    "        </td>\n",
    "    </tr>\n",
    "</table>"
   ]
  },
  {
   "cell_type": "code",
   "execution_count": 33,
   "metadata": {},
   "outputs": [
    {
     "name": "stdout",
     "output_type": "stream",
     "text": [
      "the kappa value :  0.23923873790758365\n"
     ]
    }
   ],
   "source": [
    "# type your code here\n",
    "y_pred=[0 if x<0.18 else 1 for x in y_pred_prob]\n",
    "print('the kappa value : ',cohen_kappa_score(y_test,y_pred))"
   ]
  },
  {
   "cell_type": "markdown",
   "metadata": {
    "collapsed": true
   },
   "source": [
    "<table align=\"left\">\n",
    "    <tr>\n",
    "        <td width=\"6%\">\n",
    "            <img src=\"question_icon.png\">\n",
    "        </td>\n",
    "        <td>\n",
    "            <div align=\"left\", style=\"font-size:120%\">\n",
    "                <font color=\"#21618C\">\n",
    "                    <b>8. Identify the features from the dataset that are involved in multicollinearity. After that, split the updated data using train_test_split.</b>\n",
    "                </font>\n",
    "            </div>\n",
    "        </td>\n",
    "    </tr>\n",
    "</table>"
   ]
  },
  {
   "cell_type": "code",
   "execution_count": 34,
   "metadata": {},
   "outputs": [
    {
     "data": {
      "text/plain": [
       "<AxesSubplot:>"
      ]
     },
     "execution_count": 34,
     "metadata": {},
     "output_type": "execute_result"
    },
    {
     "data": {
      "image/png": "[encoded data removed]",
      "text/plain": [
       "<Figure size 720x576 with 2 Axes>"
      ]
     },
     "metadata": {
      "needs_background": "light"
     },
     "output_type": "display_data"
    }
   ],
   "source": [
    "# type your code here\n",
    "plt.figure(figsize=(10,8))\n",
    "sns.heatmap(df_h_num.corr(),annot=True)"
   ]
  },
  {
   "cell_type": "code",
   "execution_count": 35,
   "metadata": {},
   "outputs": [],
   "source": [
    "df_h_new=df_tot.drop('diaBP',axis=1)"
   ]
  },
  {
   "cell_type": "code",
   "execution_count": 36,
   "metadata": {},
   "outputs": [],
   "source": [
    "X=df_h_new\n",
    "x_train,x_test,y_train,y_test=train_test_split(X,y,test_size=0.2,random_state=10)"
   ]
  },
  {
   "cell_type": "markdown",
   "metadata": {
    "collapsed": true
   },
   "source": [
    "<table align=\"left\">\n",
    "    <tr>\n",
    "        <td width=\"6%\">\n",
    "            <img src=\"question_icon.png\">\n",
    "        </td>\n",
    "        <td>\n",
    "            <div align=\"left\", style=\"font-size:120%\">\n",
    "                <font color=\"#21618C\">\n",
    "                    <b>9. Use the data obtained from Q8 and identify 5 features that contribute most in the prediction of target variable.<br></b>\n",
    "                </font>\n",
    "            </div>\n",
    "        </td>\n",
    "    </tr>\n",
    "</table>"
   ]
  },
  {
   "cell_type": "code",
   "execution_count": 37,
   "metadata": {},
   "outputs": [],
   "source": [
    "# type your code here\n",
    "from sklearn.feature_selection import RFE\n",
    "\n",
    "log_reg=LogisticRegression()\n",
    "rfe=RFE(estimator=log_reg,n_features_to_select=5)\n",
    "rfe=rfe.fit(x_train,y_train)"
   ]
  },
  {
   "cell_type": "code",
   "execution_count": 38,
   "metadata": {},
   "outputs": [
    {
     "data": {
      "text/plain": [
       "Index(['age', 'sysBP', 'male_1', 'prevalentStroke_1', 'prevalentHyp_1'], dtype='object')"
      ]
     },
     "execution_count": 38,
     "metadata": {},
     "output_type": "execute_result"
    }
   ],
   "source": [
    "ft=pd.Series(data=rfe.ranking_,index=x_train.columns)\n",
    "ft[ft==1].index"
   ]
  },
  {
   "cell_type": "markdown",
   "metadata": {
    "collapsed": true
   },
   "source": [
    "<table align=\"left\">\n",
    "    <tr>\n",
    "        <td width=\"6%\">\n",
    "            <img src=\"question_icon.png\">\n",
    "        </td>\n",
    "        <td>\n",
    "            <div align=\"left\", style=\"font-size:120%\">\n",
    "                <font color=\"#21618C\">\n",
    "                    <b>10. Build a model using the features obtained in question 9. For the model find: \n",
    "                        <ol>                       \n",
    "                         <li>Accuracy</li>\n",
    "                        <li>F<sub>1</sub> score</li>\n",
    "                         <li>Roc_Auc</li>\n",
    "                         <li> Precision </li>\n",
    "                        <li> Recall</li>  \n",
    "                        </ol>\n",
    "                        </b>\n",
    "                </font>\n",
    "            </div>\n",
    "        </td>\n",
    "    </tr>\n",
    "</table>"
   ]
  },
  {
   "cell_type": "code",
   "execution_count": 48,
   "metadata": {},
   "outputs": [],
   "source": [
    "# type your code here\n",
    "X1=df_h_new[['age','sysBP','male_1','prevalentStroke_1','prevalentHyp_1']]\n",
    "x_train1,x_test1,y_train1,y_test1=train_test_split(X1,y,test_size=0.2,random_state=10)"
   ]
  },
  {
   "cell_type": "code",
   "execution_count": 49,
   "metadata": {},
   "outputs": [],
   "source": [
    "log_reg1=LogisticRegression()\n",
    "log_reg1=log_reg1.fit(x_train1,y_train1)"
   ]
  },
  {
   "cell_type": "code",
   "execution_count": 56,
   "metadata": {},
   "outputs": [],
   "source": [
    "y_pred_rfe=log_reg1.predict(x_test1)"
   ]
  },
  {
   "cell_type": "markdown",
   "metadata": {},
   "source": [
    "accuracy_score(y_test1,y_pred_rfe)"
   ]
  },
  {
   "cell_type": "code",
   "execution_count": 46,
   "metadata": {},
   "outputs": [
    {
     "name": "stdout",
     "output_type": "stream",
     "text": [
      "              precision    recall  f1-score   support\n",
      "\n",
      "           0       0.84      0.99      0.91       666\n",
      "           1       0.50      0.03      0.06       132\n",
      "\n",
      "    accuracy                           0.83       798\n",
      "   macro avg       0.67      0.51      0.48       798\n",
      "weighted avg       0.78      0.83      0.77       798\n",
      "\n"
     ]
    }
   ],
   "source": [
    "print(classification_report(y_test1,y_pred_rfe))"
   ]
  },
  {
   "cell_type": "code",
   "execution_count": null,
   "metadata": {},
   "outputs": [],
   "source": [
    "# the f1 score 77%\n",
    "#Precision value is 78%\n",
    "#Recall value 83%"
   ]
  },
  {
   "cell_type": "code",
   "execution_count": 61,
   "metadata": {},
   "outputs": [],
   "source": [
    "prob=log_reg1.predict_proba(x_test1)\n",
    "fpr,tpr,th=roc_curve(y_test1,prob[:,1])"
   ]
  },
  {
   "cell_type": "code",
   "execution_count": 63,
   "metadata": {},
   "outputs": [
    {
     "data": {
      "text/plain": [
       "Text(0, 0.5, 'tpr')"
      ]
     },
     "execution_count": 63,
     "metadata": {},
     "output_type": "execute_result"
    },
    {
     "data": {
      "image/png": "[encoded data removed]",
      "text/plain": [
       "<Figure size 432x288 with 1 Axes>"
      ]
     },
     "metadata": {
      "needs_background": "light"
     },
     "output_type": "display_data"
    }
   ],
   "source": [
    "plt.plot(fpr,tpr)\n",
    "plt.plot([[0,0],[1,1]],color='red')\n",
    "plt.xlabel('fpr')\n",
    "plt.ylabel('tpr')"
   ]
  },
  {
   "cell_type": "code",
   "execution_count": 64,
   "metadata": {},
   "outputs": [
    {
     "data": {
      "text/plain": [
       "0.6947288197288196"
      ]
     },
     "execution_count": 64,
     "metadata": {},
     "output_type": "execute_result"
    }
   ],
   "source": [
    "roc_auc_score(y_test1,prob[:,1])"
   ]
  },
  {
   "cell_type": "markdown",
   "metadata": {
    "collapsed": true
   },
   "source": [
    "<table align=\"left\">\n",
    "    <tr>\n",
    "        <td width=\"6%\">\n",
    "            <img src=\"question_icon.png\">\n",
    "        </td>\n",
    "        <td>\n",
    "            <div align=\"left\", style=\"font-size:120%\">\n",
    "                <font color=\"#21618C\">\n",
    "                    <b>11. Calculate the cross entropy for the model built in question 8.</b>\n",
    "                </font>\n",
    "            </div>\n",
    "        </td>\n",
    "    </tr>\n",
    "</table>"
   ]
  },
  {
   "cell_type": "code",
   "execution_count": 58,
   "metadata": {},
   "outputs": [],
   "source": [
    "# type your code here\n",
    "from sklearn.metrics import log_loss"
   ]
  },
  {
   "cell_type": "code",
   "execution_count": 59,
   "metadata": {},
   "outputs": [
    {
     "data": {
      "text/plain": [
       "5.713185065811944"
      ]
     },
     "execution_count": 59,
     "metadata": {},
     "output_type": "execute_result"
    }
   ],
   "source": [
    "log_loss(y_test1,y_pred_rfe)"
   ]
  },
  {
   "cell_type": "markdown",
   "metadata": {},
   "source": [
    "<a id=\"opt\"> </a>\n",
    "## 4. Determining optimal threshold"
   ]
  },
  {
   "cell_type": "markdown",
   "metadata": {
    "collapsed": true
   },
   "source": [
    "<table align=\"left\">\n",
    "    <tr>\n",
    "        <td width=\"6%\">\n",
    "            <img src=\"question_icon.png\">\n",
    "        </td>\n",
    "        <td>\n",
    "            <div align=\"left\", style=\"font-size:120%\">\n",
    "                <font color=\"#21618C\">\n",
    "                    <b>12. Obtain the optimal value threshold for the full model using the Youden's index.</b>\n",
    "                </font>\n",
    "            </div>\n",
    "        </td>\n",
    "    </tr>\n",
    "</table>"
   ]
  },
  {
   "cell_type": "code",
   "execution_count": 67,
   "metadata": {},
   "outputs": [],
   "source": [
    "# type your code here\n",
    "X=df_h_new\n",
    "y=df_h.CVD.reset_index(drop=True)\n",
    "x_train,x_test,y_train,y_test=train_test_split(X,y,test_size=0.2,random_state=10)"
   ]
  },
  {
   "cell_type": "code",
   "execution_count": 68,
   "metadata": {},
   "outputs": [],
   "source": [
    "lr=LogisticRegression()\n",
    "lr=lr.fit(x_train,y_train)"
   ]
  },
  {
   "cell_type": "code",
   "execution_count": 69,
   "metadata": {},
   "outputs": [],
   "source": [
    "ypred_2=lr.predict_proba(x_test)"
   ]
  },
  {
   "cell_type": "code",
   "execution_count": 73,
   "metadata": {},
   "outputs": [
    {
     "data": {
      "text/html": [
       "<div>\n",
       "<style scoped>\n",
       "    .dataframe tbody tr th:only-of-type {\n",
       "        vertical-align: middle;\n",
       "    }\n",
       "\n",
       "    .dataframe tbody tr th {\n",
       "        vertical-align: top;\n",
       "    }\n",
       "\n",
       "    .dataframe thead th {\n",
       "        text-align: right;\n",
       "    }\n",
       "</style>\n",
       "<table border=\"1\" class=\"dataframe\">\n",
       "  <thead>\n",
       "    <tr style=\"text-align: right;\">\n",
       "      <th></th>\n",
       "      <th>TPR</th>\n",
       "      <th>FPR</th>\n",
       "      <th>thres</th>\n",
       "      <th>YI</th>\n",
       "    </tr>\n",
       "  </thead>\n",
       "  <tbody>\n",
       "    <tr>\n",
       "      <th>0</th>\n",
       "      <td>0.621212</td>\n",
       "      <td>0.282282</td>\n",
       "      <td>0.162574</td>\n",
       "      <td>0.338930</td>\n",
       "    </tr>\n",
       "    <tr>\n",
       "      <th>1</th>\n",
       "      <td>0.583333</td>\n",
       "      <td>0.246246</td>\n",
       "      <td>0.176987</td>\n",
       "      <td>0.337087</td>\n",
       "    </tr>\n",
       "    <tr>\n",
       "      <th>2</th>\n",
       "      <td>0.651515</td>\n",
       "      <td>0.315315</td>\n",
       "      <td>0.152287</td>\n",
       "      <td>0.336200</td>\n",
       "    </tr>\n",
       "    <tr>\n",
       "      <th>3</th>\n",
       "      <td>0.606061</td>\n",
       "      <td>0.270270</td>\n",
       "      <td>0.167516</td>\n",
       "      <td>0.335790</td>\n",
       "    </tr>\n",
       "    <tr>\n",
       "      <th>4</th>\n",
       "      <td>0.613636</td>\n",
       "      <td>0.279279</td>\n",
       "      <td>0.164759</td>\n",
       "      <td>0.334357</td>\n",
       "    </tr>\n",
       "  </tbody>\n",
       "</table>\n",
       "</div>"
      ],
      "text/plain": [
       "       TPR      FPR    thres       YI\n",
       "0 0.621212 0.282282 0.162574 0.338930\n",
       "1 0.583333 0.246246 0.176987 0.337087\n",
       "2 0.651515 0.315315 0.152287 0.336200\n",
       "3 0.606061 0.270270 0.167516 0.335790\n",
       "4 0.613636 0.279279 0.164759 0.334357"
      ]
     },
     "execution_count": 73,
     "metadata": {},
     "output_type": "execute_result"
    }
   ],
   "source": [
    "fpr,tpr,th=roc_curve(y_test,ypred_2[:,1])\n",
    "youden= pd.DataFrame({'TPR': tpr,\n",
    "                      'FPR': fpr,\n",
    "                      'thres':th})\n",
    "youden['YI']= youden.TPR- youden.FPR\n",
    "youden= youden.sort_values('YI',ascending=False).reset_index(drop=True)\n",
    "youden.head()"
   ]
  },
  {
   "cell_type": "code",
   "execution_count": null,
   "metadata": {},
   "outputs": [],
   "source": [
    "#best thesshold we have got is 0.1625"
   ]
  },
  {
   "cell_type": "markdown",
   "metadata": {
    "collapsed": true
   },
   "source": [
    "<table align=\"left\">\n",
    "    <tr>\n",
    "        <td width=\"6%\">\n",
    "            <img src=\"question_icon.png\">\n",
    "        </td>\n",
    "        <td>\n",
    "            <div align=\"left\", style=\"font-size:120%\">\n",
    "                <font color=\"#21618C\">\n",
    "                    <b>13. Consider the costs of false negatives and false positives as 3 and 1.3 respectively to obtain the optimal cut-off probability for which the total cost will be minimum.</b>\n",
    "                </font>\n",
    "            </div>\n",
    "        </td>\n",
    "    </tr>\n",
    "</table>"
   ]
  },
  {
   "cell_type": "code",
   "execution_count": 74,
   "metadata": {},
   "outputs": [],
   "source": [
    "# type your code here\n",
    "ypred=lr.predict_proba(x_test)"
   ]
  },
  {
   "cell_type": "code",
   "execution_count": 75,
   "metadata": {},
   "outputs": [
    {
     "data": {
      "text/html": [
       "<div>\n",
       "<style scoped>\n",
       "    .dataframe tbody tr th:only-of-type {\n",
       "        vertical-align: middle;\n",
       "    }\n",
       "\n",
       "    .dataframe tbody tr th {\n",
       "        vertical-align: top;\n",
       "    }\n",
       "\n",
       "    .dataframe thead th {\n",
       "        text-align: right;\n",
       "    }\n",
       "</style>\n",
       "<table border=\"1\" class=\"dataframe\">\n",
       "  <thead>\n",
       "    <tr style=\"text-align: right;\">\n",
       "      <th></th>\n",
       "      <th>threshold</th>\n",
       "      <th>tot cost</th>\n",
       "    </tr>\n",
       "  </thead>\n",
       "  <tbody>\n",
       "    <tr>\n",
       "      <th>3</th>\n",
       "      <td>0.400000</td>\n",
       "      <td>361.500000</td>\n",
       "    </tr>\n",
       "  </tbody>\n",
       "</table>\n",
       "</div>"
      ],
      "text/plain": [
       "   threshold   tot cost\n",
       "3   0.400000 361.500000"
      ]
     },
     "execution_count": 75,
     "metadata": {},
     "output_type": "execute_result"
    }
   ],
   "source": [
    "fn=3\n",
    "fp=1.3\n",
    "th=np.arange(0.1,1,0.1)\n",
    "\n",
    "total_cost=[]\n",
    "\n",
    "for t in th:\n",
    "    pred= [0 if p<t else 1 for p in ypred[:,1]]\n",
    "    cm= confusion_matrix(y_test,pred)\n",
    "    fp= cm[0,1]\n",
    "    fn= cm[1,0]\n",
    "    cost= fp*1.3+fn*3\n",
    "    total_cost.append(cost)\n",
    "\n",
    "    \n",
    "df= pd.DataFrame({'threshold':th,'tot cost':total_cost})\n",
    "df[df['tot cost']==df['tot cost'].min()]"
   ]
  },
  {
   "cell_type": "code",
   "execution_count": null,
   "metadata": {},
   "outputs": [],
   "source": [
    "#minimum thresold is 0.4"
   ]
  }
 ],
 "metadata": {
  "kernelspec": {
   "display_name": "Python 3",
   "language": "python",
   "name": "python3"
  },
  "language_info": {
   "codemirror_mode": {
    "name": "ipython",
    "version": 3
   },
   "file_extension": ".py",
   "mimetype": "text/x-python",
   "name": "python",
   "nbconvert_exporter": "python",
   "pygments_lexer": "ipython3",
   "version": "3.8.5"
  }
 },
 "nbformat": 4,
 "nbformat_minor": 2
}
