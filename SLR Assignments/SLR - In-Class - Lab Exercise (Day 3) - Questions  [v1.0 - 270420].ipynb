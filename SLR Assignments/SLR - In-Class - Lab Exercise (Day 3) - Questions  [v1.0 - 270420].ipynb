{
 "cells": [
  {
   "cell_type": "markdown",
   "metadata": {},
   "source": [
    "<table align=\"center\" width=100%>\n",
    "    <tr>\n",
    "        <td width=\"15%\">\n",
    "            <img src=\"in_class.png\">\n",
    "        </td>\n",
    "        <td>\n",
    "            <div align=\"center\">\n",
    "                <font color=\"#21618C\" size=8px>\n",
    "                    <b> Inclass - Lab <br>(Day 3)\n",
    "                    </b>\n",
    "                </font>\n",
    "            </div>\n",
    "        </td>\n",
    "    </tr>\n",
    "</table>"
   ]
  },
  {
   "cell_type": "markdown",
   "metadata": {},
   "source": [
    "### About the data set  (Life Expectancy data)\n",
    "\n",
    "The dataset contains information about several health and economic factors that contribute to average life expectancy for different countries. <br> Attribute information: \n",
    "\n",
    "**Country:** Name of the country\n",
    "\n",
    "**Year:** Year the observations were recorded\n",
    "\n",
    "**Status:** Whether the country is Developed or Developing\n",
    "\n",
    "**Adult_Mortality:** Mortality rate for age group 15-60 out of every 1000 individuals of the population\n",
    "\n",
    "**Infant_Deaths:** Number of infant deaths per 1000 population\n",
    "\n",
    "**Alcohol:** Alcohol, recorded per capita (15+) consumption (in litres of pure alcohol)\n",
    "\n",
    "**Hepatitis B:** Hepatitis B (HepB) immunization coverage for 1 year olds (Percentage)\n",
    "\n",
    "**Measles:** Number of reported cases for measles per 1000 from population\n",
    "\n",
    "**BMI:** Average Body Mass Index for entire population\n",
    "\n",
    "**Underfive_Deaths:** Number of deaths under 5 years of age per 1000 population\n",
    "\n",
    "**Polio:** Polio (Pol3) immunization coverage for 1 year olds (Percentage)\n",
    "\n",
    "**Diphtheria:** Diphtheria tetanus toxoid and pertussis (DTP3) immunization coverage for 1 year olds (Percentage)\n",
    "\n",
    "**HIV:** Deaths per 1000 live births due to HIV/AIDS (0-4 years)\n",
    "\n",
    "**GDP:** Gross Domestic Product per capita (in USD)\n",
    "\n",
    "**Population:** Population of the country\n",
    "\n",
    "**Malnourished10_19:** Prevalence of malnutrition among children and adolescents for Age 10 to 19 (Percentage)\n",
    "\n",
    "**Malnourished5_9:** Prevalence of malnutrition among children for Age 5 to 9 (Percentage)\n",
    "\n",
    "**Income_Index:** Human Development Index (HDI) in terms of national income per capita (index ranging from 0 to 1)\n",
    "\n",
    "**Schooling:** Number of years of Schooling\n",
    "\n",
    "**Life_Expectancy:** Life Expectancy in age for the country\n"
   ]
  },
  {
   "cell_type": "markdown",
   "metadata": {},
   "source": [
    "##  Table of Content\n",
    "\n",
    "1. **[Data Preparation](#eda)**\n",
    "2. **[Linear Regression](#lf)**\n",
    "3. **[Gradient Descent](#gd)**\n",
    "4. **[Regularization](#reg)**\n",
    "5. **[Grid Search](#gs)**"
   ]
  },
  {
   "cell_type": "markdown",
   "metadata": {},
   "source": [
    "**Import the required libraries**"
   ]
  },
  {
   "cell_type": "code",
   "execution_count": 1,
   "metadata": {},
   "outputs": [],
   "source": [
    "# type your code here\n",
    "#import 'Pandas' \n",
    "import pandas as pd \n",
    "\n",
    "# import 'Numpy' \n",
    "import numpy as np\n",
    "\n",
    "# import subpackage of Matplotlib\n",
    "import matplotlib.pyplot as plt\n",
    "\n",
    "# import 'Seaborn' \n",
    "import seaborn as sns\n",
    "\n",
    "# to suppress warnings \n",
    "from warnings import filterwarnings\n",
    "filterwarnings('ignore')\n",
    "\n",
    "# display all columns of the dataframe\n",
    "pd.options.display.max_columns = None\n",
    "\n",
    "# display all rows of the dataframe\n",
    "pd.options.display.max_rows = None\n",
    " \n",
    "# to display the float values upto 6 decimal places     \n",
    "pd.options.display.float_format = '{:.6f}'.format\n",
    "\n",
    "# import train-test split \n",
    "from sklearn.model_selection import train_test_split\n",
    "\n",
    "# import various functions from statsmodels\n",
    "import statsmodels\n",
    "import statsmodels.api as sm\n",
    "import statsmodels.stats.api as sms\n",
    "from statsmodels.graphics.gofplots import qqplot\n",
    "\n",
    "# import 'stats'\n",
    "from scipy import stats\n",
    "\n",
    "# 'metrics' from sklearn is used for evaluating the model performance\n",
    "from sklearn.metrics import mean_squared_error\n",
    "\n",
    "# import functions to perform feature selection\n",
    "\n",
    "from sklearn.feature_selection import RFE\n",
    "\n",
    "# import function to perform linear regression\n",
    "from sklearn.linear_model import LinearRegression\n",
    "\n",
    "# import functions to perform cross validation\n",
    "from sklearn.model_selection import LeaveOneOut\n",
    "from sklearn.model_selection import cross_val_score\n",
    "from sklearn.model_selection import KFold"
   ]
  },
  {
   "cell_type": "code",
   "execution_count": 2,
   "metadata": {},
   "outputs": [],
   "source": [
    "import statsmodels\n",
    "import statsmodels.api as sm\n",
    "import statsmodels.stats.api as sms\n",
    "from statsmodels.graphics.gofplots import qqplot\n",
    "from statsmodels.stats.outliers_influence import variance_inflation_factor\n",
    "import statsmodels.tsa.api as smt"
   ]
  },
  {
   "cell_type": "code",
   "execution_count": 3,
   "metadata": {},
   "outputs": [],
   "source": [
    "from mlxtend.plotting import plot_decision_regions\n",
    "# functions for forward selection\n",
    "from mlxtend.feature_selection import SequentialFeatureSelector as sfs\n",
    "from sklearn.feature_selection import RFE"
   ]
  },
  {
   "cell_type": "markdown",
   "metadata": {},
   "source": [
    "#### Load the Life expectancy dataset and display the first five records "
   ]
  },
  {
   "cell_type": "code",
   "execution_count": 4,
   "metadata": {},
   "outputs": [
    {
     "data": {
      "text/html": [
       "<div>\n",
       "<style scoped>\n",
       "    .dataframe tbody tr th:only-of-type {\n",
       "        vertical-align: middle;\n",
       "    }\n",
       "\n",
       "    .dataframe tbody tr th {\n",
       "        vertical-align: top;\n",
       "    }\n",
       "\n",
       "    .dataframe thead th {\n",
       "        text-align: right;\n",
       "    }\n",
       "</style>\n",
       "<table border=\"1\" class=\"dataframe\">\n",
       "  <thead>\n",
       "    <tr style=\"text-align: right;\">\n",
       "      <th></th>\n",
       "      <th>Country</th>\n",
       "      <th>Year</th>\n",
       "      <th>Status</th>\n",
       "      <th>Adult_Mortality</th>\n",
       "      <th>Infant_Deaths</th>\n",
       "      <th>Alcohol</th>\n",
       "      <th>Hepatitis B</th>\n",
       "      <th>Measles</th>\n",
       "      <th>BMI</th>\n",
       "      <th>Underfive_Deaths</th>\n",
       "      <th>Polio</th>\n",
       "      <th>Diphtheria</th>\n",
       "      <th>HIV</th>\n",
       "      <th>GDP</th>\n",
       "      <th>Population</th>\n",
       "      <th>Malnourished10_19</th>\n",
       "      <th>Malnourished5_9</th>\n",
       "      <th>Income_Index</th>\n",
       "      <th>Schooling</th>\n",
       "      <th>Life_Expectancy</th>\n",
       "    </tr>\n",
       "  </thead>\n",
       "  <tbody>\n",
       "    <tr>\n",
       "      <th>0</th>\n",
       "      <td>Afghanistan</td>\n",
       "      <td>2015</td>\n",
       "      <td>Developing</td>\n",
       "      <td>263.000000</td>\n",
       "      <td>62</td>\n",
       "      <td>0.010000</td>\n",
       "      <td>65.000000</td>\n",
       "      <td>1154</td>\n",
       "      <td>19.100000</td>\n",
       "      <td>83</td>\n",
       "      <td>6</td>\n",
       "      <td>65</td>\n",
       "      <td>0.100000</td>\n",
       "      <td>584.259210</td>\n",
       "      <td>33736494.000000</td>\n",
       "      <td>17.200000</td>\n",
       "      <td>17.300000</td>\n",
       "      <td>0.479000</td>\n",
       "      <td>10.100000</td>\n",
       "      <td>65.000000</td>\n",
       "    </tr>\n",
       "    <tr>\n",
       "      <th>1</th>\n",
       "      <td>Albania</td>\n",
       "      <td>2015</td>\n",
       "      <td>Developing</td>\n",
       "      <td>74.000000</td>\n",
       "      <td>0</td>\n",
       "      <td>4.600000</td>\n",
       "      <td>99.000000</td>\n",
       "      <td>0</td>\n",
       "      <td>58.000000</td>\n",
       "      <td>0</td>\n",
       "      <td>99</td>\n",
       "      <td>99</td>\n",
       "      <td>0.100000</td>\n",
       "      <td>3954.227830</td>\n",
       "      <td>28873.000000</td>\n",
       "      <td>1.200000</td>\n",
       "      <td>1.300000</td>\n",
       "      <td>0.762000</td>\n",
       "      <td>14.200000</td>\n",
       "      <td>77.800000</td>\n",
       "    </tr>\n",
       "    <tr>\n",
       "      <th>2</th>\n",
       "      <td>Algeria</td>\n",
       "      <td>2015</td>\n",
       "      <td>Developing</td>\n",
       "      <td>19.000000</td>\n",
       "      <td>21</td>\n",
       "      <td>nan</td>\n",
       "      <td>95.000000</td>\n",
       "      <td>63</td>\n",
       "      <td>59.500000</td>\n",
       "      <td>24</td>\n",
       "      <td>95</td>\n",
       "      <td>95</td>\n",
       "      <td>0.100000</td>\n",
       "      <td>4132.762920</td>\n",
       "      <td>39871528.000000</td>\n",
       "      <td>6.000000</td>\n",
       "      <td>5.800000</td>\n",
       "      <td>0.743000</td>\n",
       "      <td>14.400000</td>\n",
       "      <td>75.600000</td>\n",
       "    </tr>\n",
       "    <tr>\n",
       "      <th>3</th>\n",
       "      <td>Angola</td>\n",
       "      <td>2015</td>\n",
       "      <td>Developing</td>\n",
       "      <td>335.000000</td>\n",
       "      <td>66</td>\n",
       "      <td>nan</td>\n",
       "      <td>64.000000</td>\n",
       "      <td>118</td>\n",
       "      <td>23.300000</td>\n",
       "      <td>98</td>\n",
       "      <td>7</td>\n",
       "      <td>64</td>\n",
       "      <td>1.900000</td>\n",
       "      <td>3695.793748</td>\n",
       "      <td>2785935.000000</td>\n",
       "      <td>8.300000</td>\n",
       "      <td>8.200000</td>\n",
       "      <td>0.531000</td>\n",
       "      <td>11.400000</td>\n",
       "      <td>52.400000</td>\n",
       "    </tr>\n",
       "    <tr>\n",
       "      <th>4</th>\n",
       "      <td>Antigua</td>\n",
       "      <td>2015</td>\n",
       "      <td>Developing</td>\n",
       "      <td>13.000000</td>\n",
       "      <td>0</td>\n",
       "      <td>nan</td>\n",
       "      <td>99.000000</td>\n",
       "      <td>0</td>\n",
       "      <td>47.700000</td>\n",
       "      <td>0</td>\n",
       "      <td>86</td>\n",
       "      <td>99</td>\n",
       "      <td>0.200000</td>\n",
       "      <td>13566.954100</td>\n",
       "      <td>nan</td>\n",
       "      <td>3.300000</td>\n",
       "      <td>3.300000</td>\n",
       "      <td>0.784000</td>\n",
       "      <td>13.900000</td>\n",
       "      <td>76.400000</td>\n",
       "    </tr>\n",
       "  </tbody>\n",
       "</table>\n",
       "</div>"
      ],
      "text/plain": [
       "       Country  Year      Status  Adult_Mortality  Infant_Deaths  Alcohol  \\\n",
       "0  Afghanistan  2015  Developing       263.000000             62 0.010000   \n",
       "1      Albania  2015  Developing        74.000000              0 4.600000   \n",
       "2      Algeria  2015  Developing        19.000000             21      nan   \n",
       "3       Angola  2015  Developing       335.000000             66      nan   \n",
       "4      Antigua  2015  Developing        13.000000              0      nan   \n",
       "\n",
       "   Hepatitis B  Measles        BMI  Underfive_Deaths   Polio  Diphtheria   \\\n",
       "0    65.000000      1154 19.100000                 83      6           65   \n",
       "1    99.000000         0 58.000000                  0     99           99   \n",
       "2    95.000000        63 59.500000                 24     95           95   \n",
       "3    64.000000       118 23.300000                 98      7           64   \n",
       "4    99.000000         0 47.700000                  0     86           99   \n",
       "\n",
       "       HIV          GDP      Population  Malnourished10_19  Malnourished5_9  \\\n",
       "0 0.100000   584.259210 33736494.000000          17.200000        17.300000   \n",
       "1 0.100000  3954.227830    28873.000000           1.200000         1.300000   \n",
       "2 0.100000  4132.762920 39871528.000000           6.000000         5.800000   \n",
       "3 1.900000  3695.793748  2785935.000000           8.300000         8.200000   \n",
       "4 0.200000 13566.954100             nan           3.300000         3.300000   \n",
       "\n",
       "   Income_Index  Schooling  Life_Expectancy  \n",
       "0      0.479000  10.100000        65.000000  \n",
       "1      0.762000  14.200000        77.800000  \n",
       "2      0.743000  14.400000        75.600000  \n",
       "3      0.531000  11.400000        52.400000  \n",
       "4      0.784000  13.900000        76.400000  "
      ]
     },
     "execution_count": 4,
     "metadata": {},
     "output_type": "execute_result"
    }
   ],
   "source": [
    "# load the csv file\n",
    "df=pd.read_csv('Life_Expectancy.csv')\n",
    "df.head()"
   ]
  },
  {
   "cell_type": "markdown",
   "metadata": {},
   "source": [
    "#### Check the shape of the data and display its information"
   ]
  },
  {
   "cell_type": "code",
   "execution_count": 5,
   "metadata": {
    "scrolled": true
   },
   "outputs": [
    {
     "data": {
      "text/plain": [
       "(182, 20)"
      ]
     },
     "execution_count": 5,
     "metadata": {},
     "output_type": "execute_result"
    }
   ],
   "source": [
    "# check the size of the dataframe\n",
    "\n",
    "df.shape"
   ]
  },
  {
   "cell_type": "code",
   "execution_count": 6,
   "metadata": {},
   "outputs": [
    {
     "name": "stdout",
     "output_type": "stream",
     "text": [
      "<class 'pandas.core.frame.DataFrame'>\n",
      "RangeIndex: 182 entries, 0 to 181\n",
      "Data columns (total 20 columns):\n",
      " #   Column             Non-Null Count  Dtype  \n",
      "---  ------             --------------  -----  \n",
      " 0   Country            182 non-null    object \n",
      " 1   Year               182 non-null    int64  \n",
      " 2   Status             182 non-null    object \n",
      " 3   Adult_Mortality    173 non-null    float64\n",
      " 4   Infant_Deaths      182 non-null    int64  \n",
      " 5   Alcohol            15 non-null     float64\n",
      " 6   Hepatitis B        173 non-null    float64\n",
      " 7   Measles            182 non-null    int64  \n",
      " 8   BMI                178 non-null    float64\n",
      " 9   Underfive_Deaths   182 non-null    int64  \n",
      " 10  Polio              182 non-null    int64  \n",
      " 11  Diphtheria         182 non-null    int64  \n",
      " 12  HIV                182 non-null    float64\n",
      " 13  GDP                157 non-null    float64\n",
      " 14  Population         141 non-null    float64\n",
      " 15  Malnourished10_19  178 non-null    float64\n",
      " 16  Malnourished5_9    178 non-null    float64\n",
      " 17  Income_Index       169 non-null    float64\n",
      " 18  Schooling          173 non-null    float64\n",
      " 19  Life_Expectancy    173 non-null    float64\n",
      "dtypes: float64(12), int64(6), object(2)\n",
      "memory usage: 28.6+ KB\n"
     ]
    }
   ],
   "source": [
    "# display dataset information understand the dataset\n",
    "\n",
    "df.info()\n"
   ]
  },
  {
   "cell_type": "markdown",
   "metadata": {},
   "source": [
    "### Let's begin with some hands-on practice exercises"
   ]
  },
  {
   "cell_type": "markdown",
   "metadata": {},
   "source": [
    "<a id=\"eda\"> </a>\n",
    "## 1. Data Preparation"
   ]
  },
  {
   "cell_type": "markdown",
   "metadata": {
    "collapsed": true
   },
   "source": [
    "<table align=\"left\">\n",
    "    <tr>\n",
    "        <td width=\"6%\">\n",
    "            <img src=\"question_icon.png\">\n",
    "        </td>\n",
    "        <td>\n",
    "            <div align=\"left\", style=\"font-size:120%\">\n",
    "                <font color=\"#21618C\">\n",
    "                    <b>1. The dataset gives the life expectancy for different countries. Check if any information about life expectancy is missing from the given records. How do we fix the problem if present?</b>\n",
    "                </font>\n",
    "            </div>\n",
    "        </td>\n",
    "    </tr>\n",
    "</table>"
   ]
  },
  {
   "cell_type": "code",
   "execution_count": 7,
   "metadata": {},
   "outputs": [
    {
     "data": {
      "text/plain": [
       "Country                0\n",
       "Year                   0\n",
       "Status                 0\n",
       "Adult_Mortality        9\n",
       "Infant_Deaths          0\n",
       "Alcohol              167\n",
       "Hepatitis B            9\n",
       "Measles                0\n",
       "BMI                    4\n",
       "Underfive_Deaths       0\n",
       "Polio                  0\n",
       "Diphtheria             0\n",
       "HIV                    0\n",
       "GDP                   25\n",
       "Population            41\n",
       "Malnourished10_19      4\n",
       "Malnourished5_9        4\n",
       "Income_Index          13\n",
       "Schooling              9\n",
       "Life_Expectancy        9\n",
       "dtype: int64"
      ]
     },
     "execution_count": 7,
     "metadata": {},
     "output_type": "execute_result"
    }
   ],
   "source": [
    "# type your code here\n",
    "df.isnull().sum()"
   ]
  },
  {
   "cell_type": "code",
   "execution_count": 8,
   "metadata": {
    "scrolled": false
   },
   "outputs": [
    {
     "data": {
      "text/plain": [
       "Argentina                                1\n",
       "Turkey                                   1\n",
       "Republic of Moldova                      1\n",
       "Suriname                                 1\n",
       "Marshall Islands                         1\n",
       "Croatia                                  1\n",
       "San Marino                               1\n",
       "Kazakhstan                               1\n",
       "Lesotho                                  1\n",
       "Madagascar                               1\n",
       "Mali                                     1\n",
       "Comoros                                  1\n",
       "Somalia                                  1\n",
       "Montenegro                               1\n",
       "Gabon                                    1\n",
       "Dominica                                 1\n",
       "Algeria                                  1\n",
       "Georgia                                  1\n",
       "Zimbabwe                                 1\n",
       "Rwanda                                   1\n",
       "Norway                                   1\n",
       "Myanmar                                  1\n",
       "Albania                                  1\n",
       "Eritrea                                  1\n",
       "Serbia                                   1\n",
       "Estonia                                  1\n",
       "Bahrain                                  1\n",
       "Spain                                    1\n",
       "Yemen                                    1\n",
       "Barbados                                 1\n",
       "Bangladesh                               1\n",
       "Jordan                                   1\n",
       "Indonesia                                1\n",
       "Nepal                                    1\n",
       "Gambia                                   1\n",
       "Kiribati                                 1\n",
       "Germany                                  1\n",
       "Bolivia                                  1\n",
       "Kuwait                                   1\n",
       "Mexico                                   1\n",
       "South Sudan                              1\n",
       "Antigua                                  1\n",
       "Senegal                                  1\n",
       "Tuvalu                                   1\n",
       "Mozambique                               1\n",
       "Singapore                                1\n",
       "Belize                                   1\n",
       "Fiji                                     1\n",
       "Slovenia                                 1\n",
       "Saint Kitts and Nevis                    1\n",
       "Grenada                                  1\n",
       "Samoa                                    1\n",
       "Czechia                                  1\n",
       "Slovakia                                 1\n",
       "Burkina                                  1\n",
       "Haiti                                    1\n",
       "Viet Nam                                 1\n",
       "Iraq                                     1\n",
       "Republic of Korea                        1\n",
       "Cyprus                                   1\n",
       "Panama                                   1\n",
       "Liberia                                  1\n",
       "United States of America                 1\n",
       "Costa Rica                               1\n",
       "Guinea                                   1\n",
       "Kyrgyzstan                               1\n",
       "Equatorial Guinea                        1\n",
       "Tunisia                                  1\n",
       "Bhutan                                   1\n",
       "Ghana                                    1\n",
       "Cabo Verde                               1\n",
       "China                                    1\n",
       "Timor-Leste                              1\n",
       "Central African Republic                 1\n",
       "Sweden                                   1\n",
       "Trinidad and Tobago                      1\n",
       "Mongolia                                 1\n",
       "Niue                                     1\n",
       "Israel                                   1\n",
       "Benin                                    1\n",
       "New Zealand                              1\n",
       "Syrian Arab Republic                     1\n",
       "Djibouti                                 1\n",
       "Mauritius                                1\n",
       "Chile                                    1\n",
       "Paraguay                                 1\n",
       "Malaysia                                 1\n",
       "Oman                                     1\n",
       "Honduras                                 1\n",
       "Great Britain                            1\n",
       "Dominican Republic                       1\n",
       "Sierra Leone                             1\n",
       "Brazil                                   1\n",
       "Mauritania                               1\n",
       "Maldives                                 1\n",
       "Denmark                                  1\n",
       "Botswana                                 1\n",
       "Italy                                    1\n",
       "Cambodia                                 1\n",
       "Iran                                     1\n",
       "Tajikistan                               1\n",
       "Democratic People's Republic of Korea    1\n",
       "Bulgaria                                 1\n",
       "Azerbaijan                               1\n",
       "Thailand                                 1\n",
       "Qatar                                    1\n",
       "Ecuador                                  1\n",
       "Uganda                                   1\n",
       "Uruguay                                  1\n",
       "Uzbekistan                               1\n",
       "Philippines                              1\n",
       "Palau                                    1\n",
       "Bosnia                                   1\n",
       "Saudi Arabia                             1\n",
       "Venezuela                                1\n",
       "Zambia                                   1\n",
       "Burundi                                  1\n",
       "Australia                                1\n",
       "Tonga                                    1\n",
       "Solomon Islands                          1\n",
       "Finland                                  1\n",
       "Afghanistan                              1\n",
       "Jamaica                                  1\n",
       "Saint Lucia                              1\n",
       "Monaco                                   1\n",
       "Cuba                                     1\n",
       "United Arab Emirates                     1\n",
       "Latvia                                   1\n",
       "Ireland                                  1\n",
       "Lebanon                                  1\n",
       "Belarus                                  1\n",
       "Brunei Darussalam                        1\n",
       "South Africa                             1\n",
       "Egypt                                    1\n",
       "Hungary                                  1\n",
       "Ethiopia                                 1\n",
       "Guatemala                                1\n",
       "Portugal                                 1\n",
       "Pakistan                                 1\n",
       "Japan                                    1\n",
       "Russian Federation                       1\n",
       "Malawi                                   1\n",
       "Bahamas                                  1\n",
       "Niger                                    1\n",
       "France                                   1\n",
       "Nauru                                    1\n",
       "Sudan                                    1\n",
       "Seychelles                               1\n",
       "Netherlands                              1\n",
       "Libya                                    1\n",
       "Turkmenistan                             1\n",
       "Armenia                                  1\n",
       "Morocco                                  1\n",
       "India                                    1\n",
       "Canada                                   1\n",
       "Ukraine                                  1\n",
       "Swaziland                                1\n",
       "Nigeria                                  1\n",
       "Iceland                                  1\n",
       "Kenya                                    1\n",
       "Guyana                                   1\n",
       "Lithuania                                1\n",
       "Namibia                                  1\n",
       "Switzerland                              1\n",
       "Chad                                     1\n",
       "Angola                                   1\n",
       "Nicaragua                                1\n",
       "Colombia                                 1\n",
       "Sri Lanka                                1\n",
       "Cameroon                                 1\n",
       "Malta                                    1\n",
       "Austria                                  1\n",
       "El Salvador                              1\n",
       "Togo                                     1\n",
       "Belgium                                  1\n",
       "Poland                                   1\n",
       "Romania                                  1\n",
       "Vanuatu                                  1\n",
       "Congo                                    1\n",
       "Greece                                   1\n",
       "Luxembourg                               1\n",
       "Peru                                     1\n",
       "Name: Country, dtype: int64"
      ]
     },
     "execution_count": 8,
     "metadata": {},
     "output_type": "execute_result"
    }
   ],
   "source": [
    "df['Country'].value_counts()"
   ]
  },
  {
   "cell_type": "code",
   "execution_count": 9,
   "metadata": {},
   "outputs": [],
   "source": [
    "df.dropna(subset=['Life_Expectancy'],inplace=True)"
   ]
  },
  {
   "cell_type": "code",
   "execution_count": null,
   "metadata": {},
   "outputs": [],
   "source": []
  },
  {
   "cell_type": "markdown",
   "metadata": {
    "collapsed": true
   },
   "source": [
    "<table align=\"left\">\n",
    "    <tr>\n",
    "        <td width=\"6%\">\n",
    "            <img src=\"question_icon.png\">\n",
    "        </td>\n",
    "        <td>\n",
    "            <div align=\"left\", style=\"font-size:120%\">\n",
    "                <font color=\"#21618C\">\n",
    "                    <b>2. How do we handle the missing values from the entire dataset?</b>\n",
    "                </font>\n",
    "            </div>\n",
    "        </td>\n",
    "    </tr>\n",
    "</table>"
   ]
  },
  {
   "cell_type": "code",
   "execution_count": 10,
   "metadata": {},
   "outputs": [
    {
     "data": {
      "text/plain": [
       "Country                0\n",
       "Year                   0\n",
       "Status                 0\n",
       "Adult_Mortality        0\n",
       "Infant_Deaths          0\n",
       "Alcohol              166\n",
       "Hepatitis B            9\n",
       "Measles                0\n",
       "BMI                    2\n",
       "Underfive_Deaths       0\n",
       "Polio                  0\n",
       "Diphtheria             0\n",
       "HIV                    0\n",
       "GDP                   21\n",
       "Population            34\n",
       "Malnourished10_19      2\n",
       "Malnourished5_9        2\n",
       "Income_Index           7\n",
       "Schooling              7\n",
       "Life_Expectancy        0\n",
       "dtype: int64"
      ]
     },
     "execution_count": 10,
     "metadata": {},
     "output_type": "execute_result"
    }
   ],
   "source": [
    "# type your code here\n",
    "df.isnull().sum()"
   ]
  },
  {
   "cell_type": "code",
   "execution_count": 11,
   "metadata": {},
   "outputs": [],
   "source": [
    "df=df.drop('Alcohol',axis=1)"
   ]
  },
  {
   "cell_type": "code",
   "execution_count": 12,
   "metadata": {},
   "outputs": [
    {
     "data": {
      "image/png": "[encoded data removed]",
      "text/plain": [
       "<Figure size 1080x576 with 20 Axes>"
      ]
     },
     "metadata": {
      "needs_background": "light"
     },
     "output_type": "display_data"
    }
   ],
   "source": [
    "df.hist(bins=20, figsize=(15,8))\n",
    "plt.tight_layout()"
   ]
  },
  {
   "cell_type": "code",
   "execution_count": 13,
   "metadata": {},
   "outputs": [],
   "source": [
    "df['GDP'] = df['GDP'].fillna(df['GDP'].median())\n",
    "df['Hepatitis B'] = df['Hepatitis B'].fillna(df['Hepatitis B'].median())\n",
    "df['Malnourished10_19'] = df['Malnourished10_19'].fillna(df['Malnourished10_19'].median())\n",
    "df['Malnourished5_9'] = df['Malnourished5_9'].fillna(df['Malnourished5_9'].median())\n",
    "df['Population'] = df['Population'].fillna(df['Population'].median())\n",
    "\n",
    "\n",
    "df['BMI'] = df['BMI'].fillna(df['BMI'].mean())\n",
    "df['Income_Index'] = df['Income_Index'].fillna(df['Income_Index'].mean())\n",
    "df['Schooling'] = df['Schooling'].fillna(df['Schooling'].mean())"
   ]
  },
  {
   "cell_type": "code",
   "execution_count": 14,
   "metadata": {},
   "outputs": [
    {
     "data": {
      "text/plain": [
       "Country              0\n",
       "Year                 0\n",
       "Status               0\n",
       "Adult_Mortality      0\n",
       "Infant_Deaths        0\n",
       "Hepatitis B          0\n",
       "Measles              0\n",
       "BMI                  0\n",
       "Underfive_Deaths     0\n",
       "Polio                0\n",
       "Diphtheria           0\n",
       "HIV                  0\n",
       "GDP                  0\n",
       "Population           0\n",
       "Malnourished10_19    0\n",
       "Malnourished5_9      0\n",
       "Income_Index         0\n",
       "Schooling            0\n",
       "Life_Expectancy      0\n",
       "dtype: int64"
      ]
     },
     "execution_count": 14,
     "metadata": {},
     "output_type": "execute_result"
    }
   ],
   "source": [
    "df.isnull().sum()"
   ]
  },
  {
   "cell_type": "markdown",
   "metadata": {
    "collapsed": true
   },
   "source": [
    "<table align=\"left\">\n",
    "    <tr>\n",
    "        <td width=\"6%\">\n",
    "            <img src=\"question_icon.png\">\n",
    "        </td>\n",
    "        <td>\n",
    "            <div align=\"left\", style=\"font-size:120%\">\n",
    "                <font color=\"#21618C\">\n",
    "                    <b>3. Are there any redundant features in the data?</b>\n",
    "                </font>\n",
    "            </div>\n",
    "        </td>\n",
    "    </tr>\n",
    "</table>"
   ]
  },
  {
   "cell_type": "code",
   "execution_count": 15,
   "metadata": {},
   "outputs": [
    {
     "data": {
      "text/html": [
       "<div>\n",
       "<style scoped>\n",
       "    .dataframe tbody tr th:only-of-type {\n",
       "        vertical-align: middle;\n",
       "    }\n",
       "\n",
       "    .dataframe tbody tr th {\n",
       "        vertical-align: top;\n",
       "    }\n",
       "\n",
       "    .dataframe thead th {\n",
       "        text-align: right;\n",
       "    }\n",
       "</style>\n",
       "<table border=\"1\" class=\"dataframe\">\n",
       "  <thead>\n",
       "    <tr style=\"text-align: right;\">\n",
       "      <th></th>\n",
       "      <th>Year</th>\n",
       "      <th>Adult_Mortality</th>\n",
       "      <th>Infant_Deaths</th>\n",
       "      <th>Hepatitis B</th>\n",
       "      <th>Measles</th>\n",
       "      <th>BMI</th>\n",
       "      <th>Underfive_Deaths</th>\n",
       "      <th>Polio</th>\n",
       "      <th>Diphtheria</th>\n",
       "      <th>HIV</th>\n",
       "      <th>GDP</th>\n",
       "      <th>Population</th>\n",
       "      <th>Malnourished10_19</th>\n",
       "      <th>Malnourished5_9</th>\n",
       "      <th>Income_Index</th>\n",
       "      <th>Schooling</th>\n",
       "      <th>Life_Expectancy</th>\n",
       "    </tr>\n",
       "  </thead>\n",
       "  <tbody>\n",
       "    <tr>\n",
       "      <th>count</th>\n",
       "      <td>173.000000</td>\n",
       "      <td>173.000000</td>\n",
       "      <td>173.000000</td>\n",
       "      <td>173.000000</td>\n",
       "      <td>173.000000</td>\n",
       "      <td>173.000000</td>\n",
       "      <td>173.000000</td>\n",
       "      <td>173.000000</td>\n",
       "      <td>173.000000</td>\n",
       "      <td>173.000000</td>\n",
       "      <td>173.000000</td>\n",
       "      <td>173.000000</td>\n",
       "      <td>173.000000</td>\n",
       "      <td>173.000000</td>\n",
       "      <td>173.000000</td>\n",
       "      <td>173.000000</td>\n",
       "      <td>173.000000</td>\n",
       "    </tr>\n",
       "    <tr>\n",
       "      <th>mean</th>\n",
       "      <td>2014.988439</td>\n",
       "      <td>149.971098</td>\n",
       "      <td>22.872832</td>\n",
       "      <td>82.716763</td>\n",
       "      <td>1559.208092</td>\n",
       "      <td>43.466667</td>\n",
       "      <td>30.352601</td>\n",
       "      <td>83.040462</td>\n",
       "      <td>84.508671</td>\n",
       "      <td>0.647399</td>\n",
       "      <td>6764.134560</td>\n",
       "      <td>9663690.310289</td>\n",
       "      <td>4.492486</td>\n",
       "      <td>4.539306</td>\n",
       "      <td>0.695627</td>\n",
       "      <td>12.995783</td>\n",
       "      <td>72.007514</td>\n",
       "    </tr>\n",
       "    <tr>\n",
       "      <th>std</th>\n",
       "      <td>0.152057</td>\n",
       "      <td>95.679846</td>\n",
       "      <td>84.268577</td>\n",
       "      <td>24.066903</td>\n",
       "      <td>8055.443243</td>\n",
       "      <td>20.378109</td>\n",
       "      <td>108.428722</td>\n",
       "      <td>24.833951</td>\n",
       "      <td>22.687364</td>\n",
       "      <td>1.361795</td>\n",
       "      <td>11095.340318</td>\n",
       "      <td>26505222.081520</td>\n",
       "      <td>4.131178</td>\n",
       "      <td>4.217814</td>\n",
       "      <td>0.150721</td>\n",
       "      <td>2.879849</td>\n",
       "      <td>8.032405</td>\n",
       "    </tr>\n",
       "    <tr>\n",
       "      <th>min</th>\n",
       "      <td>2013.000000</td>\n",
       "      <td>1.000000</td>\n",
       "      <td>0.000000</td>\n",
       "      <td>6.000000</td>\n",
       "      <td>0.000000</td>\n",
       "      <td>2.500000</td>\n",
       "      <td>0.000000</td>\n",
       "      <td>5.000000</td>\n",
       "      <td>6.000000</td>\n",
       "      <td>0.100000</td>\n",
       "      <td>33.681223</td>\n",
       "      <td>2966.000000</td>\n",
       "      <td>0.100000</td>\n",
       "      <td>0.100000</td>\n",
       "      <td>0.347000</td>\n",
       "      <td>4.900000</td>\n",
       "      <td>51.000000</td>\n",
       "    </tr>\n",
       "    <tr>\n",
       "      <th>25%</th>\n",
       "      <td>2015.000000</td>\n",
       "      <td>74.000000</td>\n",
       "      <td>0.000000</td>\n",
       "      <td>81.000000</td>\n",
       "      <td>0.000000</td>\n",
       "      <td>24.400000</td>\n",
       "      <td>0.000000</td>\n",
       "      <td>84.000000</td>\n",
       "      <td>84.000000</td>\n",
       "      <td>0.100000</td>\n",
       "      <td>918.677154</td>\n",
       "      <td>587482.000000</td>\n",
       "      <td>1.500000</td>\n",
       "      <td>1.500000</td>\n",
       "      <td>0.576000</td>\n",
       "      <td>11.100000</td>\n",
       "      <td>66.200000</td>\n",
       "    </tr>\n",
       "    <tr>\n",
       "      <th>50%</th>\n",
       "      <td>2015.000000</td>\n",
       "      <td>137.000000</td>\n",
       "      <td>2.000000</td>\n",
       "      <td>93.000000</td>\n",
       "      <td>16.000000</td>\n",
       "      <td>51.000000</td>\n",
       "      <td>3.000000</td>\n",
       "      <td>93.000000</td>\n",
       "      <td>94.000000</td>\n",
       "      <td>0.100000</td>\n",
       "      <td>3124.343999</td>\n",
       "      <td>2174645.000000</td>\n",
       "      <td>3.300000</td>\n",
       "      <td>3.300000</td>\n",
       "      <td>0.723000</td>\n",
       "      <td>13.100000</td>\n",
       "      <td>74.100000</td>\n",
       "    </tr>\n",
       "    <tr>\n",
       "      <th>75%</th>\n",
       "      <td>2015.000000</td>\n",
       "      <td>199.000000</td>\n",
       "      <td>17.000000</td>\n",
       "      <td>97.000000</td>\n",
       "      <td>212.000000</td>\n",
       "      <td>61.600000</td>\n",
       "      <td>21.000000</td>\n",
       "      <td>97.000000</td>\n",
       "      <td>97.000000</td>\n",
       "      <td>0.300000</td>\n",
       "      <td>6461.192554</td>\n",
       "      <td>7177991.000000</td>\n",
       "      <td>6.400000</td>\n",
       "      <td>6.400000</td>\n",
       "      <td>0.798000</td>\n",
       "      <td>15.000000</td>\n",
       "      <td>77.100000</td>\n",
       "    </tr>\n",
       "    <tr>\n",
       "      <th>max</th>\n",
       "      <td>2015.000000</td>\n",
       "      <td>484.000000</td>\n",
       "      <td>910.000000</td>\n",
       "      <td>99.000000</td>\n",
       "      <td>90387.000000</td>\n",
       "      <td>77.600000</td>\n",
       "      <td>1100.000000</td>\n",
       "      <td>99.000000</td>\n",
       "      <td>99.000000</td>\n",
       "      <td>9.300000</td>\n",
       "      <td>66346.522670</td>\n",
       "      <td>258162113.000000</td>\n",
       "      <td>26.700000</td>\n",
       "      <td>27.300000</td>\n",
       "      <td>0.948000</td>\n",
       "      <td>20.400000</td>\n",
       "      <td>88.000000</td>\n",
       "    </tr>\n",
       "  </tbody>\n",
       "</table>\n",
       "</div>"
      ],
      "text/plain": [
       "             Year  Adult_Mortality  Infant_Deaths  Hepatitis B     Measles   \\\n",
       "count  173.000000       173.000000     173.000000   173.000000   173.000000   \n",
       "mean  2014.988439       149.971098      22.872832    82.716763  1559.208092   \n",
       "std      0.152057        95.679846      84.268577    24.066903  8055.443243   \n",
       "min   2013.000000         1.000000       0.000000     6.000000     0.000000   \n",
       "25%   2015.000000        74.000000       0.000000    81.000000     0.000000   \n",
       "50%   2015.000000       137.000000       2.000000    93.000000    16.000000   \n",
       "75%   2015.000000       199.000000      17.000000    97.000000   212.000000   \n",
       "max   2015.000000       484.000000     910.000000    99.000000 90387.000000   \n",
       "\n",
       "             BMI  Underfive_Deaths       Polio  Diphtheria         HIV  \\\n",
       "count 173.000000         173.000000 173.000000   173.000000 173.000000   \n",
       "mean   43.466667          30.352601  83.040462    84.508671   0.647399   \n",
       "std    20.378109         108.428722  24.833951    22.687364   1.361795   \n",
       "min     2.500000           0.000000   5.000000     6.000000   0.100000   \n",
       "25%    24.400000           0.000000  84.000000    84.000000   0.100000   \n",
       "50%    51.000000           3.000000  93.000000    94.000000   0.100000   \n",
       "75%    61.600000          21.000000  97.000000    97.000000   0.300000   \n",
       "max    77.600000        1100.000000  99.000000    99.000000   9.300000   \n",
       "\n",
       "               GDP       Population  Malnourished10_19  Malnourished5_9  \\\n",
       "count   173.000000       173.000000         173.000000       173.000000   \n",
       "mean   6764.134560   9663690.310289           4.492486         4.539306   \n",
       "std   11095.340318  26505222.081520           4.131178         4.217814   \n",
       "min      33.681223      2966.000000           0.100000         0.100000   \n",
       "25%     918.677154    587482.000000           1.500000         1.500000   \n",
       "50%    3124.343999   2174645.000000           3.300000         3.300000   \n",
       "75%    6461.192554   7177991.000000           6.400000         6.400000   \n",
       "max   66346.522670 258162113.000000          26.700000        27.300000   \n",
       "\n",
       "       Income_Index  Schooling  Life_Expectancy  \n",
       "count    173.000000 173.000000       173.000000  \n",
       "mean       0.695627  12.995783        72.007514  \n",
       "std        0.150721   2.879849         8.032405  \n",
       "min        0.347000   4.900000        51.000000  \n",
       "25%        0.576000  11.100000        66.200000  \n",
       "50%        0.723000  13.100000        74.100000  \n",
       "75%        0.798000  15.000000        77.100000  \n",
       "max        0.948000  20.400000        88.000000  "
      ]
     },
     "execution_count": 15,
     "metadata": {},
     "output_type": "execute_result"
    }
   ],
   "source": [
    "# type your code here\n",
    "df.describe()"
   ]
  },
  {
   "cell_type": "code",
   "execution_count": 18,
   "metadata": {},
   "outputs": [
    {
     "data": {
      "text/plain": [
       "<AxesSubplot:>"
      ]
     },
     "execution_count": 18,
     "metadata": {},
     "output_type": "execute_result"
    },
    {
     "data": {
      "image/png": "[encoded data removed]",
      "text/plain": [
       "<Figure size 864x576 with 2 Axes>"
      ]
     },
     "metadata": {
      "needs_background": "light"
     },
     "output_type": "display_data"
    }
   ],
   "source": [
    "plt.figure(figsize=(12,8))\n",
    "sns.heatmap(df.corr(),annot=True)"
   ]
  },
  {
   "cell_type": "code",
   "execution_count": 19,
   "metadata": {},
   "outputs": [
    {
     "data": {
      "text/plain": [
       "2015    172\n",
       "2013      1\n",
       "Name: Year, dtype: int64"
      ]
     },
     "execution_count": 19,
     "metadata": {},
     "output_type": "execute_result"
    }
   ],
   "source": [
    "df['Year'].value_counts()"
   ]
  },
  {
   "cell_type": "code",
   "execution_count": 20,
   "metadata": {},
   "outputs": [],
   "source": [
    "df.drop('Year',axis=1,inplace=True)"
   ]
  },
  {
   "cell_type": "code",
   "execution_count": 21,
   "metadata": {},
   "outputs": [
    {
     "data": {
      "text/html": [
       "<div>\n",
       "<style scoped>\n",
       "    .dataframe tbody tr th:only-of-type {\n",
       "        vertical-align: middle;\n",
       "    }\n",
       "\n",
       "    .dataframe tbody tr th {\n",
       "        vertical-align: top;\n",
       "    }\n",
       "\n",
       "    .dataframe thead th {\n",
       "        text-align: right;\n",
       "    }\n",
       "</style>\n",
       "<table border=\"1\" class=\"dataframe\">\n",
       "  <thead>\n",
       "    <tr style=\"text-align: right;\">\n",
       "      <th></th>\n",
       "      <th>Country</th>\n",
       "      <th>Status</th>\n",
       "      <th>Adult_Mortality</th>\n",
       "      <th>Infant_Deaths</th>\n",
       "      <th>Hepatitis B</th>\n",
       "      <th>Measles</th>\n",
       "      <th>BMI</th>\n",
       "      <th>Underfive_Deaths</th>\n",
       "      <th>Polio</th>\n",
       "      <th>Diphtheria</th>\n",
       "      <th>HIV</th>\n",
       "      <th>GDP</th>\n",
       "      <th>Population</th>\n",
       "      <th>Malnourished10_19</th>\n",
       "      <th>Malnourished5_9</th>\n",
       "      <th>Income_Index</th>\n",
       "      <th>Schooling</th>\n",
       "      <th>Life_Expectancy</th>\n",
       "    </tr>\n",
       "  </thead>\n",
       "  <tbody>\n",
       "    <tr>\n",
       "      <th>0</th>\n",
       "      <td>Afghanistan</td>\n",
       "      <td>Developing</td>\n",
       "      <td>263.000000</td>\n",
       "      <td>62</td>\n",
       "      <td>65.000000</td>\n",
       "      <td>1154</td>\n",
       "      <td>19.100000</td>\n",
       "      <td>83</td>\n",
       "      <td>6</td>\n",
       "      <td>65</td>\n",
       "      <td>0.100000</td>\n",
       "      <td>584.259210</td>\n",
       "      <td>33736494.000000</td>\n",
       "      <td>17.200000</td>\n",
       "      <td>17.300000</td>\n",
       "      <td>0.479000</td>\n",
       "      <td>10.100000</td>\n",
       "      <td>65.000000</td>\n",
       "    </tr>\n",
       "    <tr>\n",
       "      <th>1</th>\n",
       "      <td>Albania</td>\n",
       "      <td>Developing</td>\n",
       "      <td>74.000000</td>\n",
       "      <td>0</td>\n",
       "      <td>99.000000</td>\n",
       "      <td>0</td>\n",
       "      <td>58.000000</td>\n",
       "      <td>0</td>\n",
       "      <td>99</td>\n",
       "      <td>99</td>\n",
       "      <td>0.100000</td>\n",
       "      <td>3954.227830</td>\n",
       "      <td>28873.000000</td>\n",
       "      <td>1.200000</td>\n",
       "      <td>1.300000</td>\n",
       "      <td>0.762000</td>\n",
       "      <td>14.200000</td>\n",
       "      <td>77.800000</td>\n",
       "    </tr>\n",
       "    <tr>\n",
       "      <th>2</th>\n",
       "      <td>Algeria</td>\n",
       "      <td>Developing</td>\n",
       "      <td>19.000000</td>\n",
       "      <td>21</td>\n",
       "      <td>95.000000</td>\n",
       "      <td>63</td>\n",
       "      <td>59.500000</td>\n",
       "      <td>24</td>\n",
       "      <td>95</td>\n",
       "      <td>95</td>\n",
       "      <td>0.100000</td>\n",
       "      <td>4132.762920</td>\n",
       "      <td>39871528.000000</td>\n",
       "      <td>6.000000</td>\n",
       "      <td>5.800000</td>\n",
       "      <td>0.743000</td>\n",
       "      <td>14.400000</td>\n",
       "      <td>75.600000</td>\n",
       "    </tr>\n",
       "    <tr>\n",
       "      <th>3</th>\n",
       "      <td>Angola</td>\n",
       "      <td>Developing</td>\n",
       "      <td>335.000000</td>\n",
       "      <td>66</td>\n",
       "      <td>64.000000</td>\n",
       "      <td>118</td>\n",
       "      <td>23.300000</td>\n",
       "      <td>98</td>\n",
       "      <td>7</td>\n",
       "      <td>64</td>\n",
       "      <td>1.900000</td>\n",
       "      <td>3695.793748</td>\n",
       "      <td>2785935.000000</td>\n",
       "      <td>8.300000</td>\n",
       "      <td>8.200000</td>\n",
       "      <td>0.531000</td>\n",
       "      <td>11.400000</td>\n",
       "      <td>52.400000</td>\n",
       "    </tr>\n",
       "    <tr>\n",
       "      <th>4</th>\n",
       "      <td>Antigua</td>\n",
       "      <td>Developing</td>\n",
       "      <td>13.000000</td>\n",
       "      <td>0</td>\n",
       "      <td>99.000000</td>\n",
       "      <td>0</td>\n",
       "      <td>47.700000</td>\n",
       "      <td>0</td>\n",
       "      <td>86</td>\n",
       "      <td>99</td>\n",
       "      <td>0.200000</td>\n",
       "      <td>13566.954100</td>\n",
       "      <td>2174645.000000</td>\n",
       "      <td>3.300000</td>\n",
       "      <td>3.300000</td>\n",
       "      <td>0.784000</td>\n",
       "      <td>13.900000</td>\n",
       "      <td>76.400000</td>\n",
       "    </tr>\n",
       "  </tbody>\n",
       "</table>\n",
       "</div>"
      ],
      "text/plain": [
       "       Country      Status  Adult_Mortality  Infant_Deaths  Hepatitis B  \\\n",
       "0  Afghanistan  Developing       263.000000             62    65.000000   \n",
       "1      Albania  Developing        74.000000              0    99.000000   \n",
       "2      Algeria  Developing        19.000000             21    95.000000   \n",
       "3       Angola  Developing       335.000000             66    64.000000   \n",
       "4      Antigua  Developing        13.000000              0    99.000000   \n",
       "\n",
       "   Measles        BMI  Underfive_Deaths   Polio  Diphtheria       HIV  \\\n",
       "0      1154 19.100000                 83      6           65 0.100000   \n",
       "1         0 58.000000                  0     99           99 0.100000   \n",
       "2        63 59.500000                 24     95           95 0.100000   \n",
       "3       118 23.300000                 98      7           64 1.900000   \n",
       "4         0 47.700000                  0     86           99 0.200000   \n",
       "\n",
       "           GDP      Population  Malnourished10_19  Malnourished5_9  \\\n",
       "0   584.259210 33736494.000000          17.200000        17.300000   \n",
       "1  3954.227830    28873.000000           1.200000         1.300000   \n",
       "2  4132.762920 39871528.000000           6.000000         5.800000   \n",
       "3  3695.793748  2785935.000000           8.300000         8.200000   \n",
       "4 13566.954100  2174645.000000           3.300000         3.300000   \n",
       "\n",
       "   Income_Index  Schooling  Life_Expectancy  \n",
       "0      0.479000  10.100000        65.000000  \n",
       "1      0.762000  14.200000        77.800000  \n",
       "2      0.743000  14.400000        75.600000  \n",
       "3      0.531000  11.400000        52.400000  \n",
       "4      0.784000  13.900000        76.400000  "
      ]
     },
     "execution_count": 21,
     "metadata": {},
     "output_type": "execute_result"
    }
   ],
   "source": [
    "df.head()"
   ]
  },
  {
   "cell_type": "markdown",
   "metadata": {
    "collapsed": true
   },
   "source": [
    "<table align=\"left\">\n",
    "    <tr>\n",
    "        <td width=\"6%\">\n",
    "            <img src=\"question_icon.png\">\n",
    "        </td>\n",
    "        <td>\n",
    "            <div align=\"left\", style=\"font-size:120%\">\n",
    "                <font color=\"#21618C\">\n",
    "                    <b>4. Perform dummy encoding for appropriate variables of the dataset if required</b>\n",
    "                </font>\n",
    "            </div>\n",
    "        </td>\n",
    "    </tr>\n",
    "</table>"
   ]
  },
  {
   "cell_type": "code",
   "execution_count": 22,
   "metadata": {
    "scrolled": true
   },
   "outputs": [],
   "source": [
    "# type your code here\n",
    "df['Status_encode']= pd.get_dummies(df['Status'],drop_first=True)"
   ]
  },
  {
   "cell_type": "code",
   "execution_count": 23,
   "metadata": {},
   "outputs": [
    {
     "data": {
      "text/html": [
       "<div>\n",
       "<style scoped>\n",
       "    .dataframe tbody tr th:only-of-type {\n",
       "        vertical-align: middle;\n",
       "    }\n",
       "\n",
       "    .dataframe tbody tr th {\n",
       "        vertical-align: top;\n",
       "    }\n",
       "\n",
       "    .dataframe thead th {\n",
       "        text-align: right;\n",
       "    }\n",
       "</style>\n",
       "<table border=\"1\" class=\"dataframe\">\n",
       "  <thead>\n",
       "    <tr style=\"text-align: right;\">\n",
       "      <th></th>\n",
       "      <th>Country</th>\n",
       "      <th>Status</th>\n",
       "      <th>Adult_Mortality</th>\n",
       "      <th>Infant_Deaths</th>\n",
       "      <th>Hepatitis B</th>\n",
       "      <th>Measles</th>\n",
       "      <th>BMI</th>\n",
       "      <th>Underfive_Deaths</th>\n",
       "      <th>Polio</th>\n",
       "      <th>Diphtheria</th>\n",
       "      <th>HIV</th>\n",
       "      <th>GDP</th>\n",
       "      <th>Population</th>\n",
       "      <th>Malnourished10_19</th>\n",
       "      <th>Malnourished5_9</th>\n",
       "      <th>Income_Index</th>\n",
       "      <th>Schooling</th>\n",
       "      <th>Life_Expectancy</th>\n",
       "      <th>Status_encode</th>\n",
       "    </tr>\n",
       "  </thead>\n",
       "  <tbody>\n",
       "    <tr>\n",
       "      <th>0</th>\n",
       "      <td>Afghanistan</td>\n",
       "      <td>Developing</td>\n",
       "      <td>263.000000</td>\n",
       "      <td>62</td>\n",
       "      <td>65.000000</td>\n",
       "      <td>1154</td>\n",
       "      <td>19.100000</td>\n",
       "      <td>83</td>\n",
       "      <td>6</td>\n",
       "      <td>65</td>\n",
       "      <td>0.100000</td>\n",
       "      <td>584.259210</td>\n",
       "      <td>33736494.000000</td>\n",
       "      <td>17.200000</td>\n",
       "      <td>17.300000</td>\n",
       "      <td>0.479000</td>\n",
       "      <td>10.100000</td>\n",
       "      <td>65.000000</td>\n",
       "      <td>1</td>\n",
       "    </tr>\n",
       "    <tr>\n",
       "      <th>1</th>\n",
       "      <td>Albania</td>\n",
       "      <td>Developing</td>\n",
       "      <td>74.000000</td>\n",
       "      <td>0</td>\n",
       "      <td>99.000000</td>\n",
       "      <td>0</td>\n",
       "      <td>58.000000</td>\n",
       "      <td>0</td>\n",
       "      <td>99</td>\n",
       "      <td>99</td>\n",
       "      <td>0.100000</td>\n",
       "      <td>3954.227830</td>\n",
       "      <td>28873.000000</td>\n",
       "      <td>1.200000</td>\n",
       "      <td>1.300000</td>\n",
       "      <td>0.762000</td>\n",
       "      <td>14.200000</td>\n",
       "      <td>77.800000</td>\n",
       "      <td>1</td>\n",
       "    </tr>\n",
       "    <tr>\n",
       "      <th>2</th>\n",
       "      <td>Algeria</td>\n",
       "      <td>Developing</td>\n",
       "      <td>19.000000</td>\n",
       "      <td>21</td>\n",
       "      <td>95.000000</td>\n",
       "      <td>63</td>\n",
       "      <td>59.500000</td>\n",
       "      <td>24</td>\n",
       "      <td>95</td>\n",
       "      <td>95</td>\n",
       "      <td>0.100000</td>\n",
       "      <td>4132.762920</td>\n",
       "      <td>39871528.000000</td>\n",
       "      <td>6.000000</td>\n",
       "      <td>5.800000</td>\n",
       "      <td>0.743000</td>\n",
       "      <td>14.400000</td>\n",
       "      <td>75.600000</td>\n",
       "      <td>1</td>\n",
       "    </tr>\n",
       "    <tr>\n",
       "      <th>3</th>\n",
       "      <td>Angola</td>\n",
       "      <td>Developing</td>\n",
       "      <td>335.000000</td>\n",
       "      <td>66</td>\n",
       "      <td>64.000000</td>\n",
       "      <td>118</td>\n",
       "      <td>23.300000</td>\n",
       "      <td>98</td>\n",
       "      <td>7</td>\n",
       "      <td>64</td>\n",
       "      <td>1.900000</td>\n",
       "      <td>3695.793748</td>\n",
       "      <td>2785935.000000</td>\n",
       "      <td>8.300000</td>\n",
       "      <td>8.200000</td>\n",
       "      <td>0.531000</td>\n",
       "      <td>11.400000</td>\n",
       "      <td>52.400000</td>\n",
       "      <td>1</td>\n",
       "    </tr>\n",
       "    <tr>\n",
       "      <th>4</th>\n",
       "      <td>Antigua</td>\n",
       "      <td>Developing</td>\n",
       "      <td>13.000000</td>\n",
       "      <td>0</td>\n",
       "      <td>99.000000</td>\n",
       "      <td>0</td>\n",
       "      <td>47.700000</td>\n",
       "      <td>0</td>\n",
       "      <td>86</td>\n",
       "      <td>99</td>\n",
       "      <td>0.200000</td>\n",
       "      <td>13566.954100</td>\n",
       "      <td>2174645.000000</td>\n",
       "      <td>3.300000</td>\n",
       "      <td>3.300000</td>\n",
       "      <td>0.784000</td>\n",
       "      <td>13.900000</td>\n",
       "      <td>76.400000</td>\n",
       "      <td>1</td>\n",
       "    </tr>\n",
       "  </tbody>\n",
       "</table>\n",
       "</div>"
      ],
      "text/plain": [
       "       Country      Status  Adult_Mortality  Infant_Deaths  Hepatitis B  \\\n",
       "0  Afghanistan  Developing       263.000000             62    65.000000   \n",
       "1      Albania  Developing        74.000000              0    99.000000   \n",
       "2      Algeria  Developing        19.000000             21    95.000000   \n",
       "3       Angola  Developing       335.000000             66    64.000000   \n",
       "4      Antigua  Developing        13.000000              0    99.000000   \n",
       "\n",
       "   Measles        BMI  Underfive_Deaths   Polio  Diphtheria       HIV  \\\n",
       "0      1154 19.100000                 83      6           65 0.100000   \n",
       "1         0 58.000000                  0     99           99 0.100000   \n",
       "2        63 59.500000                 24     95           95 0.100000   \n",
       "3       118 23.300000                 98      7           64 1.900000   \n",
       "4         0 47.700000                  0     86           99 0.200000   \n",
       "\n",
       "           GDP      Population  Malnourished10_19  Malnourished5_9  \\\n",
       "0   584.259210 33736494.000000          17.200000        17.300000   \n",
       "1  3954.227830    28873.000000           1.200000         1.300000   \n",
       "2  4132.762920 39871528.000000           6.000000         5.800000   \n",
       "3  3695.793748  2785935.000000           8.300000         8.200000   \n",
       "4 13566.954100  2174645.000000           3.300000         3.300000   \n",
       "\n",
       "   Income_Index  Schooling  Life_Expectancy  Status_encode  \n",
       "0      0.479000  10.100000        65.000000              1  \n",
       "1      0.762000  14.200000        77.800000              1  \n",
       "2      0.743000  14.400000        75.600000              1  \n",
       "3      0.531000  11.400000        52.400000              1  \n",
       "4      0.784000  13.900000        76.400000              1  "
      ]
     },
     "execution_count": 23,
     "metadata": {},
     "output_type": "execute_result"
    }
   ],
   "source": [
    "df.head()"
   ]
  },
  {
   "cell_type": "code",
   "execution_count": 52,
   "metadata": {},
   "outputs": [
    {
     "data": {
      "text/html": [
       "<div>\n",
       "<style scoped>\n",
       "    .dataframe tbody tr th:only-of-type {\n",
       "        vertical-align: middle;\n",
       "    }\n",
       "\n",
       "    .dataframe tbody tr th {\n",
       "        vertical-align: top;\n",
       "    }\n",
       "\n",
       "    .dataframe thead th {\n",
       "        text-align: right;\n",
       "    }\n",
       "</style>\n",
       "<table border=\"1\" class=\"dataframe\">\n",
       "  <thead>\n",
       "    <tr style=\"text-align: right;\">\n",
       "      <th></th>\n",
       "      <th>Country</th>\n",
       "      <th>Adult_Mortality</th>\n",
       "      <th>Infant_Deaths</th>\n",
       "      <th>Hepatitis B</th>\n",
       "      <th>Measles</th>\n",
       "      <th>BMI</th>\n",
       "      <th>Underfive_Deaths</th>\n",
       "      <th>Polio</th>\n",
       "      <th>Diphtheria</th>\n",
       "      <th>HIV</th>\n",
       "      <th>GDP</th>\n",
       "      <th>Population</th>\n",
       "      <th>Malnourished10_19</th>\n",
       "      <th>Malnourished5_9</th>\n",
       "      <th>Income_Index</th>\n",
       "      <th>Schooling</th>\n",
       "      <th>Life_Expectancy</th>\n",
       "      <th>Status_encode</th>\n",
       "    </tr>\n",
       "  </thead>\n",
       "  <tbody>\n",
       "    <tr>\n",
       "      <th>0</th>\n",
       "      <td>Afghanistan</td>\n",
       "      <td>263.000000</td>\n",
       "      <td>62</td>\n",
       "      <td>65.000000</td>\n",
       "      <td>1154</td>\n",
       "      <td>19.100000</td>\n",
       "      <td>83</td>\n",
       "      <td>6</td>\n",
       "      <td>65</td>\n",
       "      <td>0.100000</td>\n",
       "      <td>584.259210</td>\n",
       "      <td>33736494.000000</td>\n",
       "      <td>17.200000</td>\n",
       "      <td>17.300000</td>\n",
       "      <td>0.479000</td>\n",
       "      <td>10.100000</td>\n",
       "      <td>65.000000</td>\n",
       "      <td>1</td>\n",
       "    </tr>\n",
       "    <tr>\n",
       "      <th>1</th>\n",
       "      <td>Albania</td>\n",
       "      <td>74.000000</td>\n",
       "      <td>0</td>\n",
       "      <td>99.000000</td>\n",
       "      <td>0</td>\n",
       "      <td>58.000000</td>\n",
       "      <td>0</td>\n",
       "      <td>99</td>\n",
       "      <td>99</td>\n",
       "      <td>0.100000</td>\n",
       "      <td>3954.227830</td>\n",
       "      <td>28873.000000</td>\n",
       "      <td>1.200000</td>\n",
       "      <td>1.300000</td>\n",
       "      <td>0.762000</td>\n",
       "      <td>14.200000</td>\n",
       "      <td>77.800000</td>\n",
       "      <td>1</td>\n",
       "    </tr>\n",
       "    <tr>\n",
       "      <th>2</th>\n",
       "      <td>Algeria</td>\n",
       "      <td>19.000000</td>\n",
       "      <td>21</td>\n",
       "      <td>95.000000</td>\n",
       "      <td>63</td>\n",
       "      <td>59.500000</td>\n",
       "      <td>24</td>\n",
       "      <td>95</td>\n",
       "      <td>95</td>\n",
       "      <td>0.100000</td>\n",
       "      <td>4132.762920</td>\n",
       "      <td>39871528.000000</td>\n",
       "      <td>6.000000</td>\n",
       "      <td>5.800000</td>\n",
       "      <td>0.743000</td>\n",
       "      <td>14.400000</td>\n",
       "      <td>75.600000</td>\n",
       "      <td>1</td>\n",
       "    </tr>\n",
       "    <tr>\n",
       "      <th>3</th>\n",
       "      <td>Angola</td>\n",
       "      <td>335.000000</td>\n",
       "      <td>66</td>\n",
       "      <td>64.000000</td>\n",
       "      <td>118</td>\n",
       "      <td>23.300000</td>\n",
       "      <td>98</td>\n",
       "      <td>7</td>\n",
       "      <td>64</td>\n",
       "      <td>1.900000</td>\n",
       "      <td>3695.793748</td>\n",
       "      <td>2785935.000000</td>\n",
       "      <td>8.300000</td>\n",
       "      <td>8.200000</td>\n",
       "      <td>0.531000</td>\n",
       "      <td>11.400000</td>\n",
       "      <td>52.400000</td>\n",
       "      <td>1</td>\n",
       "    </tr>\n",
       "    <tr>\n",
       "      <th>4</th>\n",
       "      <td>Antigua</td>\n",
       "      <td>13.000000</td>\n",
       "      <td>0</td>\n",
       "      <td>99.000000</td>\n",
       "      <td>0</td>\n",
       "      <td>47.700000</td>\n",
       "      <td>0</td>\n",
       "      <td>86</td>\n",
       "      <td>99</td>\n",
       "      <td>0.200000</td>\n",
       "      <td>13566.954100</td>\n",
       "      <td>2174645.000000</td>\n",
       "      <td>3.300000</td>\n",
       "      <td>3.300000</td>\n",
       "      <td>0.784000</td>\n",
       "      <td>13.900000</td>\n",
       "      <td>76.400000</td>\n",
       "      <td>1</td>\n",
       "    </tr>\n",
       "  </tbody>\n",
       "</table>\n",
       "</div>"
      ],
      "text/plain": [
       "       Country  Adult_Mortality  Infant_Deaths  Hepatitis B  Measles   \\\n",
       "0  Afghanistan       263.000000             62    65.000000      1154   \n",
       "1      Albania        74.000000              0    99.000000         0   \n",
       "2      Algeria        19.000000             21    95.000000        63   \n",
       "3       Angola       335.000000             66    64.000000       118   \n",
       "4      Antigua        13.000000              0    99.000000         0   \n",
       "\n",
       "        BMI  Underfive_Deaths   Polio  Diphtheria       HIV          GDP  \\\n",
       "0 19.100000                 83      6           65 0.100000   584.259210   \n",
       "1 58.000000                  0     99           99 0.100000  3954.227830   \n",
       "2 59.500000                 24     95           95 0.100000  4132.762920   \n",
       "3 23.300000                 98      7           64 1.900000  3695.793748   \n",
       "4 47.700000                  0     86           99 0.200000 13566.954100   \n",
       "\n",
       "       Population  Malnourished10_19  Malnourished5_9  Income_Index  \\\n",
       "0 33736494.000000          17.200000        17.300000      0.479000   \n",
       "1    28873.000000           1.200000         1.300000      0.762000   \n",
       "2 39871528.000000           6.000000         5.800000      0.743000   \n",
       "3  2785935.000000           8.300000         8.200000      0.531000   \n",
       "4  2174645.000000           3.300000         3.300000      0.784000   \n",
       "\n",
       "   Schooling  Life_Expectancy  Status_encode  \n",
       "0  10.100000        65.000000              1  \n",
       "1  14.200000        77.800000              1  \n",
       "2  14.400000        75.600000              1  \n",
       "3  11.400000        52.400000              1  \n",
       "4  13.900000        76.400000              1  "
      ]
     },
     "execution_count": 52,
     "metadata": {},
     "output_type": "execute_result"
    }
   ],
   "source": [
    "df = df.drop('Status',axis=1)\n",
    "df.head()"
   ]
  },
  {
   "cell_type": "markdown",
   "metadata": {},
   "source": [
    "<a id=\"lf\"> </a>\n",
    "## 2. Linear Regression"
   ]
  },
  {
   "cell_type": "markdown",
   "metadata": {
    "collapsed": true
   },
   "source": [
    "<table align=\"left\">\n",
    "    <tr>\n",
    "        <td width=\"6%\">\n",
    "            <img src=\"question_icon.png\">\n",
    "        </td>\n",
    "        <td>\n",
    "            <div align=\"left\", style=\"font-size:120%\">\n",
    "                <font color=\"#21618C\">\n",
    "                    <b>5.  Build a full model on the given data. Check whether the obtained residuals have constant variance\n",
    "</b>\n",
    "                </font>\n",
    "            </div>\n",
    "        </td>\n",
    "    </tr>\n",
    "</table>"
   ]
  },
  {
   "cell_type": "code",
   "execution_count": 24,
   "metadata": {},
   "outputs": [],
   "source": [
    "# type your code here\n",
    "X= df.drop(['Country','Status','Life_Expectancy'],axis=1)\n",
    "y=df['Life_Expectancy']\n",
    "X=sm.add_constant(X)"
   ]
  },
  {
   "cell_type": "code",
   "execution_count": 25,
   "metadata": {},
   "outputs": [],
   "source": [
    "X_train,X_test,y_train,y_test=train_test_split(X,y,test_size=0.2,random_state=10)"
   ]
  },
  {
   "cell_type": "code",
   "execution_count": 26,
   "metadata": {},
   "outputs": [
    {
     "data": {
      "text/html": [
       "<table class=\"simpletable\">\n",
       "<caption>OLS Regression Results</caption>\n",
       "<tr>\n",
       "  <th>Dep. Variable:</th>     <td>Life_Expectancy</td> <th>  R-squared:         </th> <td>   0.896</td>\n",
       "</tr>\n",
       "<tr>\n",
       "  <th>Model:</th>                   <td>OLS</td>       <th>  Adj. R-squared:    </th> <td>   0.882</td>\n",
       "</tr>\n",
       "<tr>\n",
       "  <th>Method:</th>             <td>Least Squares</td>  <th>  F-statistic:       </th> <td>   65.29</td>\n",
       "</tr>\n",
       "<tr>\n",
       "  <th>Date:</th>             <td>Sun, 08 Aug 2021</td> <th>  Prob (F-statistic):</th> <td>1.31e-51</td>\n",
       "</tr>\n",
       "<tr>\n",
       "  <th>Time:</th>                 <td>15:08:40</td>     <th>  Log-Likelihood:    </th> <td> -327.37</td>\n",
       "</tr>\n",
       "<tr>\n",
       "  <th>No. Observations:</th>      <td>   138</td>      <th>  AIC:               </th> <td>   688.7</td>\n",
       "</tr>\n",
       "<tr>\n",
       "  <th>Df Residuals:</th>          <td>   121</td>      <th>  BIC:               </th> <td>   738.5</td>\n",
       "</tr>\n",
       "<tr>\n",
       "  <th>Df Model:</th>              <td>    16</td>      <th>                     </th>     <td> </td>   \n",
       "</tr>\n",
       "<tr>\n",
       "  <th>Covariance Type:</th>      <td>nonrobust</td>    <th>                     </th>     <td> </td>   \n",
       "</tr>\n",
       "</table>\n",
       "<table class=\"simpletable\">\n",
       "<tr>\n",
       "          <td></td>             <th>coef</th>     <th>std err</th>      <th>t</th>      <th>P>|t|</th>  <th>[0.025</th>    <th>0.975]</th>  \n",
       "</tr>\n",
       "<tr>\n",
       "  <th>const</th>             <td>   53.6933</td> <td>    2.702</td> <td>   19.871</td> <td> 0.000</td> <td>   48.344</td> <td>   59.043</td>\n",
       "</tr>\n",
       "<tr>\n",
       "  <th>Adult_Mortality</th>   <td>   -0.0212</td> <td>    0.004</td> <td>   -5.353</td> <td> 0.000</td> <td>   -0.029</td> <td>   -0.013</td>\n",
       "</tr>\n",
       "<tr>\n",
       "  <th>Infant_Deaths</th>     <td>    0.0947</td> <td>    0.039</td> <td>    2.431</td> <td> 0.017</td> <td>    0.018</td> <td>    0.172</td>\n",
       "</tr>\n",
       "<tr>\n",
       "  <th>Hepatitis B</th>       <td>    0.0492</td> <td>    0.023</td> <td>    2.140</td> <td> 0.034</td> <td>    0.004</td> <td>    0.095</td>\n",
       "</tr>\n",
       "<tr>\n",
       "  <th>Measles </th>          <td>-1.479e-05</td> <td> 6.17e-05</td> <td>   -0.240</td> <td> 0.811</td> <td>   -0.000</td> <td>    0.000</td>\n",
       "</tr>\n",
       "<tr>\n",
       "  <th>BMI</th>               <td>   -0.0287</td> <td>    0.015</td> <td>   -1.917</td> <td> 0.058</td> <td>   -0.058</td> <td>    0.001</td>\n",
       "</tr>\n",
       "<tr>\n",
       "  <th>Underfive_Deaths </th> <td>   -0.0745</td> <td>    0.029</td> <td>   -2.583</td> <td> 0.011</td> <td>   -0.132</td> <td>   -0.017</td>\n",
       "</tr>\n",
       "<tr>\n",
       "  <th>Polio</th>             <td>    0.0108</td> <td>    0.013</td> <td>    0.822</td> <td> 0.413</td> <td>   -0.015</td> <td>    0.037</td>\n",
       "</tr>\n",
       "<tr>\n",
       "  <th>Diphtheria </th>       <td>   -0.0190</td> <td>    0.027</td> <td>   -0.691</td> <td> 0.491</td> <td>   -0.073</td> <td>    0.035</td>\n",
       "</tr>\n",
       "<tr>\n",
       "  <th>HIV</th>               <td>   -0.6165</td> <td>    0.226</td> <td>   -2.722</td> <td> 0.007</td> <td>   -1.065</td> <td>   -0.168</td>\n",
       "</tr>\n",
       "<tr>\n",
       "  <th>GDP</th>               <td>-1.625e-05</td> <td> 2.51e-05</td> <td>   -0.649</td> <td> 0.518</td> <td>-6.59e-05</td> <td> 3.34e-05</td>\n",
       "</tr>\n",
       "<tr>\n",
       "  <th>Population</th>        <td> 2.504e-08</td> <td> 1.72e-08</td> <td>    1.455</td> <td> 0.148</td> <td>-9.03e-09</td> <td> 5.91e-08</td>\n",
       "</tr>\n",
       "<tr>\n",
       "  <th>Malnourished10_19</th> <td>   -0.0022</td> <td>    0.303</td> <td>   -0.007</td> <td> 0.994</td> <td>   -0.602</td> <td>    0.598</td>\n",
       "</tr>\n",
       "<tr>\n",
       "  <th>Malnourished5_9</th>   <td>   -0.1619</td> <td>    0.300</td> <td>   -0.540</td> <td> 0.590</td> <td>   -0.756</td> <td>    0.432</td>\n",
       "</tr>\n",
       "<tr>\n",
       "  <th>Income_Index</th>      <td>   32.6904</td> <td>    5.029</td> <td>    6.500</td> <td> 0.000</td> <td>   22.734</td> <td>   42.647</td>\n",
       "</tr>\n",
       "<tr>\n",
       "  <th>Schooling</th>         <td>   -0.0967</td> <td>    0.226</td> <td>   -0.428</td> <td> 0.669</td> <td>   -0.544</td> <td>    0.351</td>\n",
       "</tr>\n",
       "<tr>\n",
       "  <th>Status_encode</th>     <td>   -1.1675</td> <td>    0.757</td> <td>   -1.542</td> <td> 0.126</td> <td>   -2.666</td> <td>    0.331</td>\n",
       "</tr>\n",
       "</table>\n",
       "<table class=\"simpletable\">\n",
       "<tr>\n",
       "  <th>Omnibus:</th>       <td> 4.562</td> <th>  Durbin-Watson:     </th> <td>   1.998</td>\n",
       "</tr>\n",
       "<tr>\n",
       "  <th>Prob(Omnibus):</th> <td> 0.102</td> <th>  Jarque-Bera (JB):  </th> <td>   6.136</td>\n",
       "</tr>\n",
       "<tr>\n",
       "  <th>Skew:</th>          <td> 0.025</td> <th>  Prob(JB):          </th> <td>  0.0465</td>\n",
       "</tr>\n",
       "<tr>\n",
       "  <th>Kurtosis:</th>      <td> 4.032</td> <th>  Cond. No.          </th> <td>4.87e+08</td>\n",
       "</tr>\n",
       "</table><br/><br/>Notes:<br/>[1] Standard Errors assume that the covariance matrix of the errors is correctly specified.<br/>[2] The condition number is large, 4.87e+08. This might indicate that there are<br/>strong multicollinearity or other numerical problems."
      ],
      "text/plain": [
       "<class 'statsmodels.iolib.summary.Summary'>\n",
       "\"\"\"\n",
       "                            OLS Regression Results                            \n",
       "==============================================================================\n",
       "Dep. Variable:        Life_Expectancy   R-squared:                       0.896\n",
       "Model:                            OLS   Adj. R-squared:                  0.882\n",
       "Method:                 Least Squares   F-statistic:                     65.29\n",
       "Date:                Sun, 08 Aug 2021   Prob (F-statistic):           1.31e-51\n",
       "Time:                        15:08:40   Log-Likelihood:                -327.37\n",
       "No. Observations:                 138   AIC:                             688.7\n",
       "Df Residuals:                     121   BIC:                             738.5\n",
       "Df Model:                          16                                         \n",
       "Covariance Type:            nonrobust                                         \n",
       "=====================================================================================\n",
       "                        coef    std err          t      P>|t|      [0.025      0.975]\n",
       "-------------------------------------------------------------------------------------\n",
       "const                53.6933      2.702     19.871      0.000      48.344      59.043\n",
       "Adult_Mortality      -0.0212      0.004     -5.353      0.000      -0.029      -0.013\n",
       "Infant_Deaths         0.0947      0.039      2.431      0.017       0.018       0.172\n",
       "Hepatitis B           0.0492      0.023      2.140      0.034       0.004       0.095\n",
       "Measles           -1.479e-05   6.17e-05     -0.240      0.811      -0.000       0.000\n",
       "BMI                  -0.0287      0.015     -1.917      0.058      -0.058       0.001\n",
       "Underfive_Deaths     -0.0745      0.029     -2.583      0.011      -0.132      -0.017\n",
       "Polio                 0.0108      0.013      0.822      0.413      -0.015       0.037\n",
       "Diphtheria           -0.0190      0.027     -0.691      0.491      -0.073       0.035\n",
       "HIV                  -0.6165      0.226     -2.722      0.007      -1.065      -0.168\n",
       "GDP               -1.625e-05   2.51e-05     -0.649      0.518   -6.59e-05    3.34e-05\n",
       "Population         2.504e-08   1.72e-08      1.455      0.148   -9.03e-09    5.91e-08\n",
       "Malnourished10_19    -0.0022      0.303     -0.007      0.994      -0.602       0.598\n",
       "Malnourished5_9      -0.1619      0.300     -0.540      0.590      -0.756       0.432\n",
       "Income_Index         32.6904      5.029      6.500      0.000      22.734      42.647\n",
       "Schooling            -0.0967      0.226     -0.428      0.669      -0.544       0.351\n",
       "Status_encode        -1.1675      0.757     -1.542      0.126      -2.666       0.331\n",
       "==============================================================================\n",
       "Omnibus:                        4.562   Durbin-Watson:                   1.998\n",
       "Prob(Omnibus):                  0.102   Jarque-Bera (JB):                6.136\n",
       "Skew:                           0.025   Prob(JB):                       0.0465\n",
       "Kurtosis:                       4.032   Cond. No.                     4.87e+08\n",
       "==============================================================================\n",
       "\n",
       "Notes:\n",
       "[1] Standard Errors assume that the covariance matrix of the errors is correctly specified.\n",
       "[2] The condition number is large, 4.87e+08. This might indicate that there are\n",
       "strong multicollinearity or other numerical problems.\n",
       "\"\"\""
      ]
     },
     "execution_count": 26,
     "metadata": {},
     "output_type": "execute_result"
    }
   ],
   "source": [
    "model_full= sm.OLS(y_train,X_train).fit()\n",
    "model_full.summary()"
   ]
  },
  {
   "cell_type": "code",
   "execution_count": 27,
   "metadata": {},
   "outputs": [],
   "source": [
    "residuals=model_full.resid"
   ]
  },
  {
   "cell_type": "code",
   "execution_count": 28,
   "metadata": {},
   "outputs": [
    {
     "data": {
      "text/plain": [
       "61    -2.616690\n",
       "56     0.766856\n",
       "24    -2.255560\n",
       "59    -0.585490\n",
       "123    2.500657\n",
       "dtype: float64"
      ]
     },
     "execution_count": 28,
     "metadata": {},
     "output_type": "execute_result"
    }
   ],
   "source": [
    "residuals.head()"
   ]
  },
  {
   "cell_type": "code",
   "execution_count": 29,
   "metadata": {},
   "outputs": [],
   "source": [
    "y_pred= model_full.fittedvalues"
   ]
  },
  {
   "cell_type": "code",
   "execution_count": 30,
   "metadata": {},
   "outputs": [
    {
     "data": {
      "text/plain": [
       "61    83.616690\n",
       "56    80.333144\n",
       "24    76.755560\n",
       "59    61.685490\n",
       "123   75.299343\n",
       "dtype: float64"
      ]
     },
     "execution_count": 30,
     "metadata": {},
     "output_type": "execute_result"
    }
   ],
   "source": [
    "y_pred.head()"
   ]
  },
  {
   "cell_type": "code",
   "execution_count": 31,
   "metadata": {},
   "outputs": [
    {
     "data": {
      "text/plain": [
       "138"
      ]
     },
     "execution_count": 31,
     "metadata": {},
     "output_type": "execute_result"
    }
   ],
   "source": [
    "len(y_pred)"
   ]
  },
  {
   "cell_type": "code",
   "execution_count": 32,
   "metadata": {},
   "outputs": [
    {
     "data": {
      "text/plain": [
       "<matplotlib.collections.PathCollection at 0x1bca05346d0>"
      ]
     },
     "execution_count": 32,
     "metadata": {},
     "output_type": "execute_result"
    },
    {
     "data": {
      "image/png": "[encoded data removed]",
      "text/plain": [
       "<Figure size 432x288 with 1 Axes>"
      ]
     },
     "metadata": {
      "needs_background": "light"
     },
     "output_type": "display_data"
    }
   ],
   "source": [
    "plt.scatter(y_pred,residuals)"
   ]
  },
  {
   "cell_type": "code",
   "execution_count": 33,
   "metadata": {},
   "outputs": [
    {
     "data": {
      "image/png": "[encoded data removed]",
      "text/plain": [
       "<Figure size 1440x1080 with 16 Axes>"
      ]
     },
     "metadata": {
      "needs_background": "light"
     },
     "output_type": "display_data"
    }
   ],
   "source": [
    "fig, ax = plt.subplots(nrows = 4, ncols= 4, figsize=(20, 15))\n",
    "for variable, subplot in zip(X_train.columns[1:-1], ax.flatten()):\n",
    "    sns.scatterplot(X_train[variable], model_full.resid , ax=subplot)"
   ]
  },
  {
   "cell_type": "code",
   "execution_count": null,
   "metadata": {},
   "outputs": [],
   "source": []
  },
  {
   "cell_type": "markdown",
   "metadata": {
    "collapsed": true
   },
   "source": [
    "<table align=\"left\">\n",
    "    <tr>\n",
    "        <td width=\"6%\">\n",
    "            <img src=\"question_icon.png\">\n",
    "        </td>\n",
    "        <td>\n",
    "            <div align=\"left\", style=\"font-size:120%\">\n",
    "                <font color=\"#21618C\">\n",
    "                    <b>6. Build a model to study the impact of immunization on life expectancy, using least squares regression. Find the unexplained variation for the model\n",
    "</b>\n",
    "                </font>\n",
    "            </div>\n",
    "        </td>\n",
    "    </tr>\n",
    "</table>"
   ]
  },
  {
   "cell_type": "code",
   "execution_count": 34,
   "metadata": {},
   "outputs": [
    {
     "data": {
      "text/html": [
       "<table class=\"simpletable\">\n",
       "<caption>OLS Regression Results</caption>\n",
       "<tr>\n",
       "  <th>Dep. Variable:</th>     <td>Life_Expectancy</td> <th>  R-squared:         </th> <td>   0.346</td>\n",
       "</tr>\n",
       "<tr>\n",
       "  <th>Model:</th>                   <td>OLS</td>       <th>  Adj. R-squared:    </th> <td>   0.331</td>\n",
       "</tr>\n",
       "<tr>\n",
       "  <th>Method:</th>             <td>Least Squares</td>  <th>  F-statistic:       </th> <td>   23.59</td>\n",
       "</tr>\n",
       "<tr>\n",
       "  <th>Date:</th>             <td>Sun, 08 Aug 2021</td> <th>  Prob (F-statistic):</th> <td>2.54e-12</td>\n",
       "</tr>\n",
       "<tr>\n",
       "  <th>Time:</th>                 <td>15:10:30</td>     <th>  Log-Likelihood:    </th> <td> -454.41</td>\n",
       "</tr>\n",
       "<tr>\n",
       "  <th>No. Observations:</th>      <td>   138</td>      <th>  AIC:               </th> <td>   916.8</td>\n",
       "</tr>\n",
       "<tr>\n",
       "  <th>Df Residuals:</th>          <td>   134</td>      <th>  BIC:               </th> <td>   928.5</td>\n",
       "</tr>\n",
       "<tr>\n",
       "  <th>Df Model:</th>              <td>     3</td>      <th>                     </th>     <td> </td>   \n",
       "</tr>\n",
       "<tr>\n",
       "  <th>Covariance Type:</th>      <td>nonrobust</td>    <th>                     </th>     <td> </td>   \n",
       "</tr>\n",
       "</table>\n",
       "<table class=\"simpletable\">\n",
       "<tr>\n",
       "        <td></td>           <th>coef</th>     <th>std err</th>      <th>t</th>      <th>P>|t|</th>  <th>[0.025</th>    <th>0.975]</th>  \n",
       "</tr>\n",
       "<tr>\n",
       "  <th>const</th>         <td>   54.5931</td> <td>    2.442</td> <td>   22.355</td> <td> 0.000</td> <td>   49.763</td> <td>   59.423</td>\n",
       "</tr>\n",
       "<tr>\n",
       "  <th>Infant_Deaths</th> <td>   -0.0135</td> <td>    0.006</td> <td>   -2.218</td> <td> 0.028</td> <td>   -0.026</td> <td>   -0.001</td>\n",
       "</tr>\n",
       "<tr>\n",
       "  <th>Polio</th>         <td>    0.1088</td> <td>    0.030</td> <td>    3.684</td> <td> 0.000</td> <td>    0.050</td> <td>    0.167</td>\n",
       "</tr>\n",
       "<tr>\n",
       "  <th>Diphtheria </th>   <td>    0.1021</td> <td>    0.035</td> <td>    2.919</td> <td> 0.004</td> <td>    0.033</td> <td>    0.171</td>\n",
       "</tr>\n",
       "</table>\n",
       "<table class=\"simpletable\">\n",
       "<tr>\n",
       "  <th>Omnibus:</th>       <td> 6.514</td> <th>  Durbin-Watson:     </th> <td>   1.890</td>\n",
       "</tr>\n",
       "<tr>\n",
       "  <th>Prob(Omnibus):</th> <td> 0.039</td> <th>  Jarque-Bera (JB):  </th> <td>   6.531</td>\n",
       "</tr>\n",
       "<tr>\n",
       "  <th>Skew:</th>          <td>-0.533</td> <th>  Prob(JB):          </th> <td>  0.0382</td>\n",
       "</tr>\n",
       "<tr>\n",
       "  <th>Kurtosis:</th>      <td> 2.993</td> <th>  Cond. No.          </th> <td>    551.</td>\n",
       "</tr>\n",
       "</table><br/><br/>Notes:<br/>[1] Standard Errors assume that the covariance matrix of the errors is correctly specified."
      ],
      "text/plain": [
       "<class 'statsmodels.iolib.summary.Summary'>\n",
       "\"\"\"\n",
       "                            OLS Regression Results                            \n",
       "==============================================================================\n",
       "Dep. Variable:        Life_Expectancy   R-squared:                       0.346\n",
       "Model:                            OLS   Adj. R-squared:                  0.331\n",
       "Method:                 Least Squares   F-statistic:                     23.59\n",
       "Date:                Sun, 08 Aug 2021   Prob (F-statistic):           2.54e-12\n",
       "Time:                        15:10:30   Log-Likelihood:                -454.41\n",
       "No. Observations:                 138   AIC:                             916.8\n",
       "Df Residuals:                     134   BIC:                             928.5\n",
       "Df Model:                           3                                         \n",
       "Covariance Type:            nonrobust                                         \n",
       "=================================================================================\n",
       "                    coef    std err          t      P>|t|      [0.025      0.975]\n",
       "---------------------------------------------------------------------------------\n",
       "const            54.5931      2.442     22.355      0.000      49.763      59.423\n",
       "Infant_Deaths    -0.0135      0.006     -2.218      0.028      -0.026      -0.001\n",
       "Polio             0.1088      0.030      3.684      0.000       0.050       0.167\n",
       "Diphtheria        0.1021      0.035      2.919      0.004       0.033       0.171\n",
       "==============================================================================\n",
       "Omnibus:                        6.514   Durbin-Watson:                   1.890\n",
       "Prob(Omnibus):                  0.039   Jarque-Bera (JB):                6.531\n",
       "Skew:                          -0.533   Prob(JB):                       0.0382\n",
       "Kurtosis:                       2.993   Cond. No.                         551.\n",
       "==============================================================================\n",
       "\n",
       "Notes:\n",
       "[1] Standard Errors assume that the covariance matrix of the errors is correctly specified.\n",
       "\"\"\""
      ]
     },
     "execution_count": 34,
     "metadata": {},
     "output_type": "execute_result"
    }
   ],
   "source": [
    "# type your code here\n",
    "X=df.iloc[:,[3,8,9]]\n",
    "y=df['Life_Expectancy']\n",
    "X=sm.add_constant(X)\n",
    "X_train,X_test,y_train,y_test=train_test_split(X, y, random_state=10, test_size=0.2)\n",
    "model1=sm.OLS(y_train,X_train).fit()\n",
    "model1.summary()"
   ]
  },
  {
   "cell_type": "code",
   "execution_count": 35,
   "metadata": {},
   "outputs": [],
   "source": [
    "res=model1.resid"
   ]
  },
  {
   "cell_type": "code",
   "execution_count": 36,
   "metadata": {},
   "outputs": [],
   "source": [
    "n=np.sum(res**2)"
   ]
  },
  {
   "cell_type": "code",
   "execution_count": 37,
   "metadata": {},
   "outputs": [
    {
     "data": {
      "text/plain": [
       "5854.651940537554"
      ]
     },
     "execution_count": 37,
     "metadata": {},
     "output_type": "execute_result"
    }
   ],
   "source": [
    "n"
   ]
  },
  {
   "cell_type": "markdown",
   "metadata": {
    "collapsed": true
   },
   "source": [
    "<table align=\"left\">\n",
    "    <tr>\n",
    "        <td width=\"6%\">\n",
    "            <img src=\"question_icon.png\">\n",
    "        </td>\n",
    "        <td>\n",
    "            <div align=\"left\", style=\"font-size:120%\">\n",
    "                <font color=\"#21618C\">\n",
    "                    <b>7. Build a model to study the impact of malnutrition on life expectancy, using least squares regression. Interpret the coeffients</b>\n",
    "                </font>\n",
    "            </div>\n",
    "        </td>\n",
    "    </tr>\n",
    "</table>"
   ]
  },
  {
   "cell_type": "code",
   "execution_count": 38,
   "metadata": {},
   "outputs": [
    {
     "data": {
      "text/html": [
       "<table class=\"simpletable\">\n",
       "<caption>OLS Regression Results</caption>\n",
       "<tr>\n",
       "  <th>Dep. Variable:</th>     <td>Life_Expectancy</td> <th>  R-squared:         </th> <td>   0.222</td>\n",
       "</tr>\n",
       "<tr>\n",
       "  <th>Model:</th>                   <td>OLS</td>       <th>  Adj. R-squared:    </th> <td>   0.213</td>\n",
       "</tr>\n",
       "<tr>\n",
       "  <th>Method:</th>             <td>Least Squares</td>  <th>  F-statistic:       </th> <td>   24.32</td>\n",
       "</tr>\n",
       "<tr>\n",
       "  <th>Date:</th>             <td>Sun, 08 Aug 2021</td> <th>  Prob (F-statistic):</th> <td>5.13e-10</td>\n",
       "</tr>\n",
       "<tr>\n",
       "  <th>Time:</th>                 <td>15:11:12</td>     <th>  Log-Likelihood:    </th> <td> -583.65</td>\n",
       "</tr>\n",
       "<tr>\n",
       "  <th>No. Observations:</th>      <td>   173</td>      <th>  AIC:               </th> <td>   1173.</td>\n",
       "</tr>\n",
       "<tr>\n",
       "  <th>Df Residuals:</th>          <td>   170</td>      <th>  BIC:               </th> <td>   1183.</td>\n",
       "</tr>\n",
       "<tr>\n",
       "  <th>Df Model:</th>              <td>     2</td>      <th>                     </th>     <td> </td>   \n",
       "</tr>\n",
       "<tr>\n",
       "  <th>Covariance Type:</th>      <td>nonrobust</td>    <th>                     </th>     <td> </td>   \n",
       "</tr>\n",
       "</table>\n",
       "<table class=\"simpletable\">\n",
       "<tr>\n",
       "          <td></td>             <th>coef</th>     <th>std err</th>      <th>t</th>      <th>P>|t|</th>  <th>[0.025</th>    <th>0.975]</th>  \n",
       "</tr>\n",
       "<tr>\n",
       "  <th>const</th>             <td>   76.1322</td> <td>    0.803</td> <td>   94.851</td> <td> 0.000</td> <td>   74.548</td> <td>   77.717</td>\n",
       "</tr>\n",
       "<tr>\n",
       "  <th>Malnourished10_19</th> <td>   -0.4125</td> <td>    0.564</td> <td>   -0.731</td> <td> 0.466</td> <td>   -1.526</td> <td>    0.701</td>\n",
       "</tr>\n",
       "<tr>\n",
       "  <th>Malnourished5_9</th>   <td>   -0.5004</td> <td>    0.553</td> <td>   -0.906</td> <td> 0.366</td> <td>   -1.591</td> <td>    0.590</td>\n",
       "</tr>\n",
       "</table>\n",
       "<table class=\"simpletable\">\n",
       "<tr>\n",
       "  <th>Omnibus:</th>       <td> 6.548</td> <th>  Durbin-Watson:     </th> <td>   1.887</td>\n",
       "</tr>\n",
       "<tr>\n",
       "  <th>Prob(Omnibus):</th> <td> 0.038</td> <th>  Jarque-Bera (JB):  </th> <td>   6.783</td>\n",
       "</tr>\n",
       "<tr>\n",
       "  <th>Skew:</th>          <td>-0.476</td> <th>  Prob(JB):          </th> <td>  0.0337</td>\n",
       "</tr>\n",
       "<tr>\n",
       "  <th>Kurtosis:</th>      <td> 2.810</td> <th>  Cond. No.          </th> <td>    13.0</td>\n",
       "</tr>\n",
       "</table><br/><br/>Notes:<br/>[1] Standard Errors assume that the covariance matrix of the errors is correctly specified."
      ],
      "text/plain": [
       "<class 'statsmodels.iolib.summary.Summary'>\n",
       "\"\"\"\n",
       "                            OLS Regression Results                            \n",
       "==============================================================================\n",
       "Dep. Variable:        Life_Expectancy   R-squared:                       0.222\n",
       "Model:                            OLS   Adj. R-squared:                  0.213\n",
       "Method:                 Least Squares   F-statistic:                     24.32\n",
       "Date:                Sun, 08 Aug 2021   Prob (F-statistic):           5.13e-10\n",
       "Time:                        15:11:12   Log-Likelihood:                -583.65\n",
       "No. Observations:                 173   AIC:                             1173.\n",
       "Df Residuals:                     170   BIC:                             1183.\n",
       "Df Model:                           2                                         \n",
       "Covariance Type:            nonrobust                                         \n",
       "=====================================================================================\n",
       "                        coef    std err          t      P>|t|      [0.025      0.975]\n",
       "-------------------------------------------------------------------------------------\n",
       "const                76.1322      0.803     94.851      0.000      74.548      77.717\n",
       "Malnourished10_19    -0.4125      0.564     -0.731      0.466      -1.526       0.701\n",
       "Malnourished5_9      -0.5004      0.553     -0.906      0.366      -1.591       0.590\n",
       "==============================================================================\n",
       "Omnibus:                        6.548   Durbin-Watson:                   1.887\n",
       "Prob(Omnibus):                  0.038   Jarque-Bera (JB):                6.783\n",
       "Skew:                          -0.476   Prob(JB):                       0.0337\n",
       "Kurtosis:                       2.810   Cond. No.                         13.0\n",
       "==============================================================================\n",
       "\n",
       "Notes:\n",
       "[1] Standard Errors assume that the covariance matrix of the errors is correctly specified.\n",
       "\"\"\""
      ]
     },
     "execution_count": 38,
     "metadata": {},
     "output_type": "execute_result"
    }
   ],
   "source": [
    "# type your code here\n",
    "y=df['Life_Expectancy']\n",
    "x=df[['Malnourished10_19','Malnourished5_9']]\n",
    "xc=sm.add_constant(x)\n",
    "\n",
    "model = sm.OLS(y,xc).fit()\n",
    "model.summary()"
   ]
  },
  {
   "cell_type": "code",
   "execution_count": null,
   "metadata": {},
   "outputs": [],
   "source": [
    "With every 1% increase in Malnurished10_19, the Life Expectency of the country reduces by 0.3954 years.\n",
    "With every 1% increase in Malnurished5_9, the Life Expectency of the country reduces by 0.5087 years."
   ]
  },
  {
   "cell_type": "markdown",
   "metadata": {},
   "source": [
    "<a id=\"gd\"> </a>\n",
    "## 3. Gradient Descent"
   ]
  },
  {
   "cell_type": "markdown",
   "metadata": {
    "collapsed": true
   },
   "source": [
    "<table align=\"left\">\n",
    "    <tr>\n",
    "        <td width=\"6%\">\n",
    "            <img src=\"question_icon.png\">\n",
    "        </td>\n",
    "        <td>\n",
    "            <div align=\"left\", style=\"font-size:120%\">\n",
    "                <font color=\"#21618C\">\n",
    "                    <b>8. Build a model to study the influence of adult mortality rate on life expectancy using both the least squares regression and gradient descent approach. Are the fits for both the models different?</b>\n",
    "                </font>\n",
    "            </div>\n",
    "        </td>\n",
    "    </tr>\n",
    "</table>"
   ]
  },
  {
   "cell_type": "code",
   "execution_count": 39,
   "metadata": {},
   "outputs": [],
   "source": [
    "# type your code here\n",
    "from sklearn.preprocessing import StandardScaler"
   ]
  },
  {
   "cell_type": "code",
   "execution_count": 40,
   "metadata": {},
   "outputs": [],
   "source": [
    "sc=StandardScaler()\n",
    "X=sc.fit_transform(df[['Adult_Mortality']])\n",
    "y=sc.fit_transform(df[['Life_Expectancy']])\n",
    "X_train,X_test,y_train,y_test=train_test_split(X,y, random_state=10, test_size=0.2)\n"
   ]
  },
  {
   "cell_type": "code",
   "execution_count": 41,
   "metadata": {},
   "outputs": [],
   "source": [
    "lin=LinearRegression()\n",
    "model=lin.fit(X_train,y_train)\n",
    "y1=model.predict(X_train)"
   ]
  },
  {
   "cell_type": "code",
   "execution_count": 42,
   "metadata": {},
   "outputs": [],
   "source": [
    "from sklearn.linear_model import SGDRegressor"
   ]
  },
  {
   "cell_type": "code",
   "execution_count": 43,
   "metadata": {},
   "outputs": [],
   "source": [
    "sgd= SGDRegressor(random_state=1)\n",
    "model2=sgd.fit(X_train, y_train)\n",
    "y2=model2.predict(X_train)"
   ]
  },
  {
   "cell_type": "code",
   "execution_count": 44,
   "metadata": {},
   "outputs": [
    {
     "data": {
      "image/png": "[encoded data removed]",
      "text/plain": [
       "<Figure size 720x504 with 1 Axes>"
      ]
     },
     "metadata": {
      "needs_background": "light"
     },
     "output_type": "display_data"
    }
   ],
   "source": [
    "plt.figure(figsize=(10,7))\n",
    "plt.scatter(X_train,y_train,color='grey')\n",
    "plt.xlabel(\"Adult Mortality Rate\",fontsize = 15)\n",
    "plt.ylabel(\"Life Expectancy\",fontsize = 15)\n",
    "plt.title(\"Comparison of fits\",fontsize = 15)\n",
    "plt.plot(X_train,y1,color='red',label='Sgd regressor')\n",
    "plt.plot(X_train,y2,color='blue',label='Least squares regressor')\n",
    "plt.legend(loc='upper left')\n",
    "plt.show()"
   ]
  },
  {
   "cell_type": "code",
   "execution_count": null,
   "metadata": {},
   "outputs": [],
   "source": []
  },
  {
   "cell_type": "markdown",
   "metadata": {
    "collapsed": true
   },
   "source": [
    "<table align=\"left\">\n",
    "    <tr>\n",
    "        <td width=\"6%\">\n",
    "            <img src=\"question_icon.png\">\n",
    "        </td>\n",
    "        <td>\n",
    "            <div align=\"left\", style=\"font-size:120%\">\n",
    "                <font color=\"#21618C\">\n",
    "                    <b>9. Build a model to analyze the influence of immunization on life expectancy. Use SGD and plot a horizontal multiple barchart to compare the values of beta coefficients with values obtained by the full model build least squares regression.</b>\n",
    "                </font>\n",
    "            </div>\n",
    "        </td>\n",
    "    </tr>\n",
    "</table>"
   ]
  },
  {
   "cell_type": "code",
   "execution_count": 45,
   "metadata": {},
   "outputs": [],
   "source": [
    "# type your code here\n",
    "X = pd.DataFrame(sc.fit_transform(df[['Hepatitis B','Polio','Diphtheria ']]))\n",
    "y = pd.DataFrame(sc.fit_transform(df[['Life_Expectancy']]))\n",
    "sgd = SGDRegressor()\n",
    "X_train, X_test, y_train, y_test = train_test_split(X, y, random_state=10, test_size = 0.2)\n",
    "model_sgd_imm = sgd.fit(X_train,y_train)"
   ]
  },
  {
   "cell_type": "code",
   "execution_count": 46,
   "metadata": {},
   "outputs": [
    {
     "data": {
      "text/plain": [
       "array([0.04776379, 0.33485062, 0.23969242])"
      ]
     },
     "execution_count": 46,
     "metadata": {},
     "output_type": "execute_result"
    }
   ],
   "source": [
    "model_sgd_imm.coef_"
   ]
  },
  {
   "cell_type": "code",
   "execution_count": 47,
   "metadata": {},
   "outputs": [
    {
     "data": {
      "text/plain": [
       "array([[-0.15646397,  0.34199552,  0.444519  ]])"
      ]
     },
     "execution_count": 47,
     "metadata": {},
     "output_type": "execute_result"
    }
   ],
   "source": [
    "lr = LinearRegression()\n",
    "model_lr_imm = lr.fit(X_train,y_train)\n",
    "model_lr_imm.coef_"
   ]
  },
  {
   "cell_type": "code",
   "execution_count": 48,
   "metadata": {},
   "outputs": [],
   "source": [
    "def plot_coefficients(model, algorithm_name):\n",
    "    \n",
    "    df_coeff = pd.DataFrame({'Variable': X.columns, 'Coefficient': model.coef_.flatten()})\n",
    "\n",
    "    \n",
    "    sns.barplot(x = \"Coefficient\", y = \"Variable\", data = df_coeff)\n",
    "    \n",
    "    plt.xlabel(\"Coefficients from {}\".format(algorithm_name), fontsize = 15)\n",
    "\n",
    " \n",
    "    plt.ylabel('Features', fontsize = 15)"
   ]
  },
  {
   "cell_type": "code",
   "execution_count": 49,
   "metadata": {},
   "outputs": [
    {
     "data": {
      "image/png": "[encoded data removed]",
      "text/plain": [
       "<Figure size 864x504 with 2 Axes>"
      ]
     },
     "metadata": {
      "needs_background": "light"
     },
     "output_type": "display_data"
    }
   ],
   "source": [
    "plt.rcParams['figure.figsize']=(12,7)\n",
    "plt.subplot(1,2,1)\n",
    "plot_coefficients(model_lr_imm, 'Linear Regression (OLS)')\n",
    "\n",
    "plt.subplot(1,2,2)\n",
    "plot_coefficients(model_sgd_imm, 'Linear Regression (SGD)')\n",
    "\n",
    "plt.tight_layout()"
   ]
  },
  {
   "cell_type": "code",
   "execution_count": null,
   "metadata": {},
   "outputs": [],
   "source": []
  },
  {
   "cell_type": "markdown",
   "metadata": {
    "collapsed": true
   },
   "source": [
    "<table align=\"left\">\n",
    "    <tr>\n",
    "        <td width=\"6%\">\n",
    "            <img src=\"question_icon.png\">\n",
    "        </td>\n",
    "        <td>\n",
    "            <div align=\"left\", style=\"font-size:120%\">\n",
    "                <font color=\"#21618C\">\n",
    "                    <b>10. Build a full model using least squares regression. Check whether the model overfits the training data or not.\n",
    "</b>\n",
    "                </font>\n",
    "            </div>\n",
    "        </td>\n",
    "    </tr>\n",
    "</table>"
   ]
  },
  {
   "cell_type": "code",
   "execution_count": 54,
   "metadata": {},
   "outputs": [],
   "source": [
    "# type your code here\n",
    "X = df.drop(['Country','Life_Expectancy'],axis=1)\n",
    "y = df.Life_Expectancy\n",
    "lr = LinearRegression()\n",
    "X_train,X_test,Y_train,Y_test = train_test_split(X,y,test_size=0.2,random_state=10)"
   ]
  },
  {
   "cell_type": "code",
   "execution_count": 55,
   "metadata": {},
   "outputs": [
    {
     "name": "stdout",
     "output_type": "stream",
     "text": [
      "the rmse of train data is 2.59427940323826\n",
      "the rmse of test data is  3.5099391802594875\n"
     ]
    }
   ],
   "source": [
    "model= lr.fit(X_train,Y_train)\n",
    "ypred_train = model.predict(X_train)\n",
    "ypred_test = model.predict(X_test)\n",
    "mse_train = mean_squared_error(ypred_train,Y_train)\n",
    "mse_test = mean_squared_error(ypred_test,Y_test)\n",
    "print('the rmse of train data is',np.sqrt(mse_train))\n",
    "print('the rmse of test data is ',np.sqrt(mse_test))"
   ]
  },
  {
   "cell_type": "markdown",
   "metadata": {
    "collapsed": true
   },
   "source": [
    "<table align=\"left\">\n",
    "    <tr>\n",
    "        <td width=\"6%\">\n",
    "            <img src=\"question_icon.png\">\n",
    "        </td>\n",
    "        <td>\n",
    "            <div align=\"left\", style=\"font-size:120%\">\n",
    "                <font color=\"#21618C\">\n",
    "                    <b>11. Can we use a linear regression model to analyze how all features from the dataset impact life expectancy?</b>\n",
    "                </font>\n",
    "            </div>\n",
    "        </td>\n",
    "    </tr>\n",
    "</table>"
   ]
  },
  {
   "cell_type": "code",
   "execution_count": 56,
   "metadata": {},
   "outputs": [
    {
     "data": {
      "image/png": "[encoded data removed]",
      "text/plain": [
       "<Figure size 1080x576 with 2 Axes>"
      ]
     },
     "metadata": {
      "needs_background": "light"
     },
     "output_type": "display_data"
    }
   ],
   "source": [
    "# type your code here\n",
    "plt.figure(figsize=(15,8))\n",
    "sns.heatmap(df.corr(),annot=True)\n",
    "plt.show()  ## yes we can use it, "
   ]
  },
  {
   "cell_type": "code",
   "execution_count": 57,
   "metadata": {},
   "outputs": [
    {
     "data": {
      "text/plain": [
       "array([-2.39412817e-02,  1.01729036e-01,  4.47273900e-02, -9.21542657e-05,\n",
       "       -1.37954749e-02, -7.28861192e-02,  1.55127905e-02, -6.87737011e-03,\n",
       "       -4.92531150e-01, -6.26735056e-06,  1.51774097e-09, -1.29671274e-01,\n",
       "       -8.58470021e-02,  2.79172123e+01, -3.52200119e-03, -1.16654360e+00])"
      ]
     },
     "execution_count": 57,
     "metadata": {},
     "output_type": "execute_result"
    }
   ],
   "source": [
    "X = df.drop(['Country','Life_Expectancy'],axis=1)\n",
    "y = df.Life_Expectancy\n",
    "lr = LinearRegression()\n",
    "model = lr.fit(X,y)\n",
    "model.coef_\n"
   ]
  },
  {
   "cell_type": "markdown",
   "metadata": {},
   "source": [
    "<a id=\"reg\"> </a>\n",
    "## 4. Regularization"
   ]
  },
  {
   "cell_type": "markdown",
   "metadata": {
    "collapsed": true
   },
   "source": [
    "<table align=\"left\">\n",
    "    <tr>\n",
    "        <td width=\"6%\">\n",
    "            <img src=\"question_icon.png\">\n",
    "        </td>\n",
    "        <td>\n",
    "            <div align=\"left\", style=\"font-size:120%\">\n",
    "                <font color=\"#21618C\">\n",
    "                    <b>12. Can we perform regression analysis without eliminating features involved in multicollinearity detected in question 11?</b>\n",
    "                </font>\n",
    "            </div>\n",
    "        </td>\n",
    "    </tr>\n",
    "</table>"
   ]
  },
  {
   "cell_type": "code",
   "execution_count": 58,
   "metadata": {
    "scrolled": true
   },
   "outputs": [],
   "source": [
    "# type your code here\n",
    "X = sc.fit_transform(df.drop(['Country','Life_Expectancy'],axis=1))\n",
    "y = sc.fit_transform(df[['Life_Expectancy']])\n",
    "lr = LinearRegression()\n",
    "X_train,X_test,Y_train,Y_test = train_test_split(X,y,test_size=0.2,random_state=10)"
   ]
  },
  {
   "cell_type": "code",
   "execution_count": 59,
   "metadata": {},
   "outputs": [],
   "source": [
    "from sklearn.linear_model import Ridge\n"
   ]
  },
  {
   "cell_type": "code",
   "execution_count": 60,
   "metadata": {},
   "outputs": [
    {
     "name": "stdout",
     "output_type": "stream",
     "text": [
      "The RMSE of train data is  0.32857879902487\n",
      "The RMSE of train data is  0.4174214899549338\n"
     ]
    }
   ],
   "source": [
    "ridge = Ridge()\n",
    "model_ridge = ridge.fit(X_train,Y_train)\n",
    "ypred_ridge_train = model_ridge.predict(X_train)\n",
    "ypred_ridge_test = model_ridge.predict(X_test)\n",
    "mse_train = mean_squared_error(ypred_ridge_train,Y_train)\n",
    "mse_test = mean_squared_error(ypred_ridge_test,Y_test)\n",
    "print('The RMSE of train data is ',np.sqrt(mse_train))\n",
    "print('The RMSE of train data is ',np.sqrt(mse_test))"
   ]
  },
  {
   "cell_type": "code",
   "execution_count": 61,
   "metadata": {},
   "outputs": [
    {
     "data": {
      "text/plain": [
       "array([[-0.25249764,  0.99375661,  0.14733308, -0.01483734, -0.07275573,\n",
       "        -1.00503567,  0.03333613, -0.05366019, -0.1045272 , -0.02245211,\n",
       "         0.08262974, -0.00114351, -0.08501351,  0.61340819, -0.03468069,\n",
       "        -0.05660037]])"
      ]
     },
     "execution_count": 61,
     "metadata": {},
     "output_type": "execute_result"
    }
   ],
   "source": [
    "lr = LinearRegression()\n",
    "model_LR = lr.fit(X_train,Y_train)\n",
    "model_LR.coef_"
   ]
  },
  {
   "cell_type": "code",
   "execution_count": 62,
   "metadata": {},
   "outputs": [
    {
     "data": {
      "text/plain": [
       "array([[-0.26104823,  0.25651391,  0.13402005,  0.03458537, -0.05824863,\n",
       "        -0.29890883,  0.03629942, -0.03947183, -0.11147045, -0.01885607,\n",
       "         0.02453927, -0.00734591, -0.05515479,  0.58190739, -0.00512236,\n",
       "        -0.05835033]])"
      ]
     },
     "execution_count": 62,
     "metadata": {},
     "output_type": "execute_result"
    }
   ],
   "source": [
    "model_ridge.coef_"
   ]
  },
  {
   "cell_type": "code",
   "execution_count": 63,
   "metadata": {},
   "outputs": [],
   "source": [
    "#inference: comparitively the coffiencents of ridge model decreased"
   ]
  },
  {
   "cell_type": "markdown",
   "metadata": {
    "collapsed": true
   },
   "source": [
    "<table align=\"left\">\n",
    "    <tr>\n",
    "        <td width=\"6%\">\n",
    "            <img src=\"question_icon.png\">\n",
    "        </td>\n",
    "        <td>\n",
    "            <div align=\"left\", style=\"font-size:120%\">\n",
    "                <font color=\"#21618C\">\n",
    "                    <b>13. Build a model to study the impact of diseases and immunization on life expectancy. Identify the significant variables from the model. Use 'alpha = 1.5' if required.\n",
    "</b>\n",
    "                </font>\n",
    "            </div>\n",
    "        </td>\n",
    "    </tr>\n",
    "</table>"
   ]
  },
  {
   "cell_type": "code",
   "execution_count": 64,
   "metadata": {},
   "outputs": [],
   "source": [
    "# type your code here\n",
    "ss = StandardScaler()\n",
    "X = ss.fit_transform(df[['Hepatitis B','Measles ','Polio','Diphtheria ','HIV']])\n",
    "y = ss.fit_transform(df[['Life_Expectancy']])\n",
    "X_train, X_test, y_train, y_test= train_test_split(X,y, test_size=.2, random_state=10)"
   ]
  },
  {
   "cell_type": "code",
   "execution_count": 65,
   "metadata": {},
   "outputs": [],
   "source": [
    "from sklearn.linear_model import Lasso"
   ]
  },
  {
   "cell_type": "code",
   "execution_count": 66,
   "metadata": {},
   "outputs": [
    {
     "data": {
      "text/plain": [
       "array([ 0., -0.,  0.,  0., -0.])"
      ]
     },
     "execution_count": 66,
     "metadata": {},
     "output_type": "execute_result"
    }
   ],
   "source": [
    "lasso = Lasso(alpha=1.5)\n",
    "model_lasso = lasso.fit(X_train,y_train)\n",
    "model_lasso.coef_"
   ]
  },
  {
   "cell_type": "code",
   "execution_count": 67,
   "metadata": {},
   "outputs": [
    {
     "name": "stdout",
     "output_type": "stream",
     "text": [
      "                                 OLS Regression Results                                \n",
      "=======================================================================================\n",
      "Dep. Variable:                      y   R-squared (uncentered):                   0.494\n",
      "Model:                            OLS   Adj. R-squared (uncentered):              0.478\n",
      "Method:                 Least Squares   F-statistic:                              32.74\n",
      "Date:                Sun, 08 Aug 2021   Prob (F-statistic):                    3.18e-23\n",
      "Time:                        15:19:10   Log-Likelihood:                         -186.63\n",
      "No. Observations:                 173   AIC:                                      383.3\n",
      "Df Residuals:                     168   BIC:                                      399.0\n",
      "Df Model:                           5                                                  \n",
      "Covariance Type:            nonrobust                                                  \n",
      "==============================================================================\n",
      "                 coef    std err          t      P>|t|      [0.025      0.975]\n",
      "------------------------------------------------------------------------------\n",
      "x1            -0.1293      0.137     -0.946      0.346      -0.399       0.141\n",
      "x2            -0.0846      0.055     -1.538      0.126      -0.193       0.024\n",
      "x3             0.2505      0.074      3.380      0.001       0.104       0.397\n",
      "x4             0.2812      0.148      1.902      0.059      -0.011       0.573\n",
      "x5            -0.4320      0.063     -6.910      0.000      -0.555      -0.309\n",
      "==============================================================================\n",
      "Omnibus:                        7.288   Durbin-Watson:                   1.954\n",
      "Prob(Omnibus):                  0.026   Jarque-Bera (JB):                6.979\n",
      "Skew:                          -0.462   Prob(JB):                       0.0305\n",
      "Kurtosis:                       3.336   Cond. No.                         5.89\n",
      "==============================================================================\n",
      "\n",
      "Notes:\n",
      "[1] R² is computed without centering (uncentered) since the model does not contain a constant.\n",
      "[2] Standard Errors assume that the covariance matrix of the errors is correctly specified.\n"
     ]
    }
   ],
   "source": [
    "model_ols = sm.OLS(y,X).fit().summary()\n",
    "print(model_ols)"
   ]
  },
  {
   "cell_type": "code",
   "execution_count": 68,
   "metadata": {},
   "outputs": [],
   "source": [
    "##polio and HIV are significant features for predicting Life expectancy"
   ]
  },
  {
   "cell_type": "markdown",
   "metadata": {
    "collapsed": true
   },
   "source": [
    "<table align=\"left\">\n",
    "    <tr>\n",
    "        <td width=\"6%\">\n",
    "            <img src=\"question_icon.png\">\n",
    "        </td>\n",
    "        <td>\n",
    "            <div align=\"left\", style=\"font-size:120%\">\n",
    "                <font color=\"#21618C\">\n",
    "                    <b>14. Build a model to study the impact of malnutrition and diseases on life expectancy. Identify the insignificant variables from the model. Use 'alpha = 1' if required.</b>\n",
    "                </font>\n",
    "            </div>\n",
    "        </td>\n",
    "    </tr>\n",
    "</table>"
   ]
  },
  {
   "cell_type": "code",
   "execution_count": 69,
   "metadata": {},
   "outputs": [
    {
     "name": "stdout",
     "output_type": "stream",
     "text": [
      "                            OLS Regression Results                            \n",
      "==============================================================================\n",
      "Dep. Variable:                      y   R-squared:                       0.598\n",
      "Model:                            OLS   Adj. R-squared:                  0.581\n",
      "Method:                 Least Squares   F-statistic:                     35.08\n",
      "Date:                Sun, 08 Aug 2021   Prob (F-statistic):           1.20e-29\n",
      "Time:                        15:19:46   Log-Likelihood:                -166.62\n",
      "No. Observations:                 173   AIC:                             349.2\n",
      "Df Residuals:                     165   BIC:                             374.5\n",
      "Df Model:                           7                                         \n",
      "Covariance Type:            nonrobust                                         \n",
      "==============================================================================\n",
      "                 coef    std err          t      P>|t|      [0.025      0.975]\n",
      "------------------------------------------------------------------------------\n",
      "const       3.227e-16      0.049   6.54e-15      1.000      -0.097       0.097\n",
      "x1            -0.0842      0.123     -0.684      0.495      -0.327       0.159\n",
      "x2             0.0369      0.053      0.698      0.486      -0.067       0.141\n",
      "x3             0.1962      0.068      2.899      0.004       0.063       0.330\n",
      "x4             0.2441      0.134      1.821      0.070      -0.021       0.509\n",
      "x5            -0.3917      0.057     -6.853      0.000      -0.505      -0.279\n",
      "x6            -0.1770      0.221     -0.801      0.424      -0.614       0.259\n",
      "x7            -0.1803      0.220     -0.820      0.414      -0.615       0.254\n",
      "==============================================================================\n",
      "Omnibus:                        8.841   Durbin-Watson:                   1.948\n",
      "Prob(Omnibus):                  0.012   Jarque-Bera (JB):                8.703\n",
      "Skew:                          -0.510   Prob(JB):                       0.0129\n",
      "Kurtosis:                       3.410   Cond. No.                         10.8\n",
      "==============================================================================\n",
      "\n",
      "Notes:\n",
      "[1] Standard Errors assume that the covariance matrix of the errors is correctly specified.\n"
     ]
    }
   ],
   "source": [
    "# type your code here\n",
    "X = ss.fit_transform(df[['Hepatitis B','Measles ','Polio','Diphtheria ','HIV','Malnourished10_19','Malnourished5_9']])\n",
    "y = ss.fit_transform(df[['Life_Expectancy']])\n",
    "X = sm.add_constant(X)\n",
    "model1_ols = sm.OLS(y,X).fit().summary()\n",
    "print(model1_ols)"
   ]
  },
  {
   "cell_type": "code",
   "execution_count": 70,
   "metadata": {},
   "outputs": [],
   "source": [
    "#'Hepatitis B','Measles ',Diphtheria ','HIV','Malnourished5_9' are insignificant varaibles for predicting Life expectancy"
   ]
  },
  {
   "cell_type": "markdown",
   "metadata": {
    "collapsed": true
   },
   "source": [
    "<table align=\"left\">\n",
    "    <tr>\n",
    "        <td width=\"6%\">\n",
    "            <img src=\"question_icon.png\">\n",
    "        </td>\n",
    "        <td>\n",
    "            <div align=\"left\", style=\"font-size:120%\">\n",
    "                <font color=\"#21618C\">\n",
    "                    <b>15. Build a full model using the elastic net regression. Use 'alpha = 0.1' and 'l1_ratio=0.001'. Also, compute the RMSE for train and test sets.\n",
    " </b>\n",
    "                </font>\n",
    "            </div>\n",
    "        </td>\n",
    "    </tr>\n",
    "</table>"
   ]
  },
  {
   "cell_type": "code",
   "execution_count": 71,
   "metadata": {
    "scrolled": true
   },
   "outputs": [],
   "source": [
    "# type your code here\n",
    "from sklearn.linear_model import ElasticNet"
   ]
  },
  {
   "cell_type": "code",
   "execution_count": 72,
   "metadata": {},
   "outputs": [
    {
     "name": "stdout",
     "output_type": "stream",
     "text": [
      "rmse of train data 0.1395\n",
      "rmse of test data  0.1632\n"
     ]
    }
   ],
   "source": [
    "X = df.iloc[:,1:17]\n",
    "y = df['Life_Expectancy']\n",
    "X_scaler = StandardScaler()\n",
    "X = X_scaler.fit_transform(X)\n",
    "y = (y - y.mean()) / y.std()\n",
    "X_train, X_test, y_train, y_test = train_test_split(X, y, random_state=10, test_size = 0.2)\n",
    "\n",
    "enet= ElasticNet(alpha= 0.1, l1_ratio=.001)\n",
    "e= enet.fit(X_train,y_train)\n",
    "\n",
    "pred_train= e.predict(X_train)\n",
    "\n",
    "mse3= mean_squared_error(y_train, pred_train)\n",
    "rmse3= round(np.sqrt(mse3),4)\n",
    "print('rmse of train data' ,rmse3)\n",
    "\n",
    "pred_test= e.predict(X_test)\n",
    "mse4= mean_squared_error(y_test, pred_test)\n",
    "rmse4= round(np.sqrt(mse4),4)\n",
    "print('rmse of test data ',rmse4)"
   ]
  },
  {
   "cell_type": "markdown",
   "metadata": {
    "collapsed": true
   },
   "source": [
    "<table align=\"left\">\n",
    "    <tr>\n",
    "        <td width=\"6%\">\n",
    "            <img src=\"question_icon.png\">\n",
    "        </td>\n",
    "        <td>\n",
    "            <div align=\"left\", style=\"font-size:120%\">\n",
    "                <font color=\"#21618C\">\n",
    "                    <b>16. Build a full model. Identify the features that are significantly influencing the life expectancy. Use 'alpha = 0.5' if required. </b>\n",
    "                </font>\n",
    "            </div>\n",
    "        </td>\n",
    "    </tr>\n",
    "</table>"
   ]
  },
  {
   "cell_type": "code",
   "execution_count": 73,
   "metadata": {
    "scrolled": false
   },
   "outputs": [
    {
     "data": {
      "text/html": [
       "<table class=\"simpletable\">\n",
       "<caption>OLS Regression Results</caption>\n",
       "<tr>\n",
       "  <th>Dep. Variable:</th>            <td>y</td>        <th>  R-squared:         </th> <td>   0.886</td>\n",
       "</tr>\n",
       "<tr>\n",
       "  <th>Model:</th>                   <td>OLS</td>       <th>  Adj. R-squared:    </th> <td>   0.875</td>\n",
       "</tr>\n",
       "<tr>\n",
       "  <th>Method:</th>             <td>Least Squares</td>  <th>  F-statistic:       </th> <td>   75.97</td>\n",
       "</tr>\n",
       "<tr>\n",
       "  <th>Date:</th>             <td>Sun, 08 Aug 2021</td> <th>  Prob (F-statistic):</th> <td>4.93e-65</td>\n",
       "</tr>\n",
       "<tr>\n",
       "  <th>Time:</th>                 <td>15:21:21</td>     <th>  Log-Likelihood:    </th> <td> -57.440</td>\n",
       "</tr>\n",
       "<tr>\n",
       "  <th>No. Observations:</th>      <td>   173</td>      <th>  AIC:               </th> <td>   148.9</td>\n",
       "</tr>\n",
       "<tr>\n",
       "  <th>Df Residuals:</th>          <td>   156</td>      <th>  BIC:               </th> <td>   202.5</td>\n",
       "</tr>\n",
       "<tr>\n",
       "  <th>Df Model:</th>              <td>    16</td>      <th>                     </th>     <td> </td>   \n",
       "</tr>\n",
       "<tr>\n",
       "  <th>Covariance Type:</th>      <td>nonrobust</td>    <th>                     </th>     <td> </td>   \n",
       "</tr>\n",
       "</table>\n",
       "<table class=\"simpletable\">\n",
       "<tr>\n",
       "    <td></td>       <th>coef</th>     <th>std err</th>      <th>t</th>      <th>P>|t|</th>  <th>[0.025</th>    <th>0.975]</th>  \n",
       "</tr>\n",
       "<tr>\n",
       "  <th>const</th> <td> 3.227e-16</td> <td>    0.027</td> <td> 1.19e-14</td> <td> 1.000</td> <td>   -0.053</td> <td>    0.053</td>\n",
       "</tr>\n",
       "<tr>\n",
       "  <th>x1</th>    <td>   -0.2852</td> <td>    0.042</td> <td>   -6.852</td> <td> 0.000</td> <td>   -0.367</td> <td>   -0.203</td>\n",
       "</tr>\n",
       "<tr>\n",
       "  <th>x2</th>    <td>    1.0672</td> <td>    0.344</td> <td>    3.100</td> <td> 0.002</td> <td>    0.387</td> <td>    1.747</td>\n",
       "</tr>\n",
       "<tr>\n",
       "  <th>x3</th>    <td>    0.1340</td> <td>    0.070</td> <td>    1.926</td> <td> 0.056</td> <td>   -0.003</td> <td>    0.271</td>\n",
       "</tr>\n",
       "<tr>\n",
       "  <th>x4</th>    <td>   -0.0924</td> <td>    0.056</td> <td>   -1.656</td> <td> 0.100</td> <td>   -0.203</td> <td>    0.018</td>\n",
       "</tr>\n",
       "<tr>\n",
       "  <th>x5</th>    <td>   -0.0350</td> <td>    0.036</td> <td>   -0.981</td> <td> 0.328</td> <td>   -0.105</td> <td>    0.035</td>\n",
       "</tr>\n",
       "<tr>\n",
       "  <th>x6</th>    <td>   -0.9839</td> <td>    0.321</td> <td>   -3.066</td> <td> 0.003</td> <td>   -1.618</td> <td>   -0.350</td>\n",
       "</tr>\n",
       "<tr>\n",
       "  <th>x7</th>    <td>    0.0480</td> <td>    0.040</td> <td>    1.210</td> <td> 0.228</td> <td>   -0.030</td> <td>    0.126</td>\n",
       "</tr>\n",
       "<tr>\n",
       "  <th>x8</th>    <td>   -0.0194</td> <td>    0.076</td> <td>   -0.256</td> <td> 0.799</td> <td>   -0.170</td> <td>    0.131</td>\n",
       "</tr>\n",
       "<tr>\n",
       "  <th>x9</th>    <td>   -0.0835</td> <td>    0.038</td> <td>   -2.202</td> <td> 0.029</td> <td>   -0.158</td> <td>   -0.009</td>\n",
       "</tr>\n",
       "<tr>\n",
       "  <th>x10</th>   <td>   -0.0087</td> <td>    0.032</td> <td>   -0.270</td> <td> 0.788</td> <td>   -0.072</td> <td>    0.055</td>\n",
       "</tr>\n",
       "<tr>\n",
       "  <th>x11</th>   <td>    0.0050</td> <td>    0.032</td> <td>    0.155</td> <td> 0.877</td> <td>   -0.059</td> <td>    0.069</td>\n",
       "</tr>\n",
       "<tr>\n",
       "  <th>x12</th>   <td>   -0.0667</td> <td>    0.123</td> <td>   -0.541</td> <td> 0.589</td> <td>   -0.310</td> <td>    0.177</td>\n",
       "</tr>\n",
       "<tr>\n",
       "  <th>x13</th>   <td>   -0.0451</td> <td>    0.125</td> <td>   -0.362</td> <td> 0.718</td> <td>   -0.291</td> <td>    0.201</td>\n",
       "</tr>\n",
       "<tr>\n",
       "  <th>x14</th>   <td>    0.5238</td> <td>    0.085</td> <td>    6.184</td> <td> 0.000</td> <td>    0.357</td> <td>    0.691</td>\n",
       "</tr>\n",
       "<tr>\n",
       "  <th>x15</th>   <td>   -0.0013</td> <td>    0.071</td> <td>   -0.018</td> <td> 0.986</td> <td>   -0.142</td> <td>    0.139</td>\n",
       "</tr>\n",
       "<tr>\n",
       "  <th>x16</th>   <td>   -0.0566</td> <td>    0.034</td> <td>   -1.682</td> <td> 0.095</td> <td>   -0.123</td> <td>    0.010</td>\n",
       "</tr>\n",
       "</table>\n",
       "<table class=\"simpletable\">\n",
       "<tr>\n",
       "  <th>Omnibus:</th>       <td> 5.179</td> <th>  Durbin-Watson:     </th> <td>   1.910</td>\n",
       "</tr>\n",
       "<tr>\n",
       "  <th>Prob(Omnibus):</th> <td> 0.075</td> <th>  Jarque-Bera (JB):  </th> <td>   6.486</td>\n",
       "</tr>\n",
       "<tr>\n",
       "  <th>Skew:</th>          <td>-0.165</td> <th>  Prob(JB):          </th> <td>  0.0390</td>\n",
       "</tr>\n",
       "<tr>\n",
       "  <th>Kurtosis:</th>      <td> 3.889</td> <th>  Cond. No.          </th> <td>    41.7</td>\n",
       "</tr>\n",
       "</table><br/><br/>Notes:<br/>[1] Standard Errors assume that the covariance matrix of the errors is correctly specified."
      ],
      "text/plain": [
       "<class 'statsmodels.iolib.summary.Summary'>\n",
       "\"\"\"\n",
       "                            OLS Regression Results                            \n",
       "==============================================================================\n",
       "Dep. Variable:                      y   R-squared:                       0.886\n",
       "Model:                            OLS   Adj. R-squared:                  0.875\n",
       "Method:                 Least Squares   F-statistic:                     75.97\n",
       "Date:                Sun, 08 Aug 2021   Prob (F-statistic):           4.93e-65\n",
       "Time:                        15:21:21   Log-Likelihood:                -57.440\n",
       "No. Observations:                 173   AIC:                             148.9\n",
       "Df Residuals:                     156   BIC:                             202.5\n",
       "Df Model:                          16                                         \n",
       "Covariance Type:            nonrobust                                         \n",
       "==============================================================================\n",
       "                 coef    std err          t      P>|t|      [0.025      0.975]\n",
       "------------------------------------------------------------------------------\n",
       "const       3.227e-16      0.027   1.19e-14      1.000      -0.053       0.053\n",
       "x1            -0.2852      0.042     -6.852      0.000      -0.367      -0.203\n",
       "x2             1.0672      0.344      3.100      0.002       0.387       1.747\n",
       "x3             0.1340      0.070      1.926      0.056      -0.003       0.271\n",
       "x4            -0.0924      0.056     -1.656      0.100      -0.203       0.018\n",
       "x5            -0.0350      0.036     -0.981      0.328      -0.105       0.035\n",
       "x6            -0.9839      0.321     -3.066      0.003      -1.618      -0.350\n",
       "x7             0.0480      0.040      1.210      0.228      -0.030       0.126\n",
       "x8            -0.0194      0.076     -0.256      0.799      -0.170       0.131\n",
       "x9            -0.0835      0.038     -2.202      0.029      -0.158      -0.009\n",
       "x10           -0.0087      0.032     -0.270      0.788      -0.072       0.055\n",
       "x11            0.0050      0.032      0.155      0.877      -0.059       0.069\n",
       "x12           -0.0667      0.123     -0.541      0.589      -0.310       0.177\n",
       "x13           -0.0451      0.125     -0.362      0.718      -0.291       0.201\n",
       "x14            0.5238      0.085      6.184      0.000       0.357       0.691\n",
       "x15           -0.0013      0.071     -0.018      0.986      -0.142       0.139\n",
       "x16           -0.0566      0.034     -1.682      0.095      -0.123       0.010\n",
       "==============================================================================\n",
       "Omnibus:                        5.179   Durbin-Watson:                   1.910\n",
       "Prob(Omnibus):                  0.075   Jarque-Bera (JB):                6.486\n",
       "Skew:                          -0.165   Prob(JB):                       0.0390\n",
       "Kurtosis:                       3.889   Cond. No.                         41.7\n",
       "==============================================================================\n",
       "\n",
       "Notes:\n",
       "[1] Standard Errors assume that the covariance matrix of the errors is correctly specified.\n",
       "\"\"\""
      ]
     },
     "execution_count": 73,
     "metadata": {},
     "output_type": "execute_result"
    }
   ],
   "source": [
    "# type your code here\n",
    "X = ss.fit_transform(df.drop(['Country','Life_Expectancy'],axis=1))\n",
    "y = ss.fit_transform(df[['Life_Expectancy']])\n",
    "X = sm.add_constant(X)\n",
    "model1_ols1 = sm.OLS(y,X).fit()\n",
    "model1_ols1.summary()"
   ]
  },
  {
   "cell_type": "code",
   "execution_count": null,
   "metadata": {},
   "outputs": [],
   "source": [
    "#x2,x3,x6,x14 are the significant values"
   ]
  },
  {
   "cell_type": "markdown",
   "metadata": {},
   "source": [
    "<a id=\"gs\"> </a>\n",
    "## 5. Grid Search "
   ]
  },
  {
   "cell_type": "markdown",
   "metadata": {
    "collapsed": true
   },
   "source": [
    "<table align=\"left\">\n",
    "    <tr>\n",
    "        <td width=\"6%\">\n",
    "            <img src=\"question_icon.png\">\n",
    "        </td>\n",
    "        <td>\n",
    "            <div align=\"left\", style=\"font-size:120%\">\n",
    "                <font color=\"#21618C\">\n",
    "                    <b>17. If ridge regression is used to build a full model. Which value is the best alpha from the list of values?<br><br>Consider the alpha values: [7,8,9,10,11]</b>\n",
    "                </font>\n",
    "            </div>\n",
    "        </td>\n",
    "    </tr>\n",
    "</table>"
   ]
  },
  {
   "cell_type": "code",
   "execution_count": 74,
   "metadata": {
    "scrolled": true
   },
   "outputs": [],
   "source": [
    "# type your code here\n",
    "from sklearn.model_selection import GridSearchCV"
   ]
  },
  {
   "cell_type": "code",
   "execution_count": 75,
   "metadata": {},
   "outputs": [],
   "source": [
    "ss = StandardScaler()\n",
    "X = ss.fit_transform(df.drop(['Country','Life_Expectancy'],axis=1))\n",
    "y = ss.fit_transform(df[['Life_Expectancy']])\n",
    "lr = LinearRegression()\n",
    "X_train,X_test,Y_train,Y_test = train_test_split(X,y,test_size=0.2,random_state=10)"
   ]
  },
  {
   "cell_type": "code",
   "execution_count": 76,
   "metadata": {},
   "outputs": [
    {
     "name": "stdout",
     "output_type": "stream",
     "text": [
      "Best Parameters {'alpha': 11}\n"
     ]
    }
   ],
   "source": [
    "ridge = Ridge()\n",
    "tune = [{'alpha':[7,8,9,10,11]}]\n",
    "grid = GridSearchCV(estimator=ridge,\n",
    "                   param_grid=tune)\n",
    "model_ridge = grid.fit(X_train,Y_train)\n",
    "print('Best Parameters',model_ridge.best_params_)"
   ]
  },
  {
   "cell_type": "markdown",
   "metadata": {
    "collapsed": true
   },
   "source": [
    "<table align=\"left\">\n",
    "    <tr>\n",
    "        <td width=\"6%\">\n",
    "            <img src=\"question_icon.png\">\n",
    "        </td>\n",
    "        <td>\n",
    "            <div align=\"left\", style=\"font-size:120%\">\n",
    "                <font color=\"#21618C\">\n",
    "                    <b>18. If lasso regression is used to build a full model. Which value is the best alpha from the list of values?<br><br>Consider the alpha values: [7,8,9,10,11]</b>\n",
    "                </font>\n",
    "            </div>\n",
    "        </td>\n",
    "    </tr>\n",
    "</table>"
   ]
  },
  {
   "cell_type": "code",
   "execution_count": 77,
   "metadata": {},
   "outputs": [],
   "source": [
    "# type your code here\n",
    "ss = StandardScaler()\n",
    "X = ss.fit_transform(df.drop(['Country','Life_Expectancy'],axis=1))\n",
    "y = ss.fit_transform(df[['Life_Expectancy']])\n",
    "lr = LinearRegression()\n",
    "X_train,X_test,Y_train,Y_test = train_test_split(X,y,test_size=0.2,random_state=10)"
   ]
  },
  {
   "cell_type": "code",
   "execution_count": 78,
   "metadata": {},
   "outputs": [
    {
     "data": {
      "text/plain": [
       "{'alpha': 7}"
      ]
     },
     "execution_count": 78,
     "metadata": {},
     "output_type": "execute_result"
    }
   ],
   "source": [
    "tune = [{'alpha':[7,8,9,10,11]}]\n",
    "lasso  = Lasso()\n",
    "\n",
    "l_grid = GridSearchCV(estimator=lasso,\n",
    "            param_grid=tune,\n",
    "            cv=5)\n",
    "l_grid.fit(X_train,Y_train)\n",
    "l_grid.best_params_"
   ]
  },
  {
   "cell_type": "markdown",
   "metadata": {
    "collapsed": true
   },
   "source": [
    "<table align=\"left\">\n",
    "    <tr>\n",
    "        <td width=\"6%\">\n",
    "            <img src=\"question_icon.png\">\n",
    "        </td>\n",
    "        <td>\n",
    "            <div align=\"left\", style=\"font-size:120%\">\n",
    "                <font color=\"#21618C\">\n",
    "                    <b>19. Perform regression analysis to study the impact of malnutrition and diseases on life expectancy. Determine the optimal value of alpha and mixing parameter if elastic net regression is used to build the model. Consider the following list of values:<br><br> alpha : [0.1,0.5,1,1.5,2,2.5,3,3.5,4]<br> l1_ratio : [0.5,0.55,0.6,0.65,0.7,0.75,0.8,0.85,0.9] </b>\n",
    "                </font>\n",
    "            </div>\n",
    "        </td>\n",
    "    </tr>\n",
    "</table>"
   ]
  },
  {
   "cell_type": "code",
   "execution_count": 79,
   "metadata": {},
   "outputs": [],
   "source": [
    "# type your code here\n",
    "X = ss.fit_transform(df[['Hepatitis B','Measles ','Polio','Diphtheria ','HIV','Malnourished10_19','Malnourished5_9']])\n",
    "y = ss.fit_transform(df[['Life_Expectancy']])\n",
    "X_train,X_test,Y_train,Y_test = train_test_split(X,y,test_size=0.2,random_state=10)"
   ]
  },
  {
   "cell_type": "code",
   "execution_count": 80,
   "metadata": {},
   "outputs": [
    {
     "name": "stdout",
     "output_type": "stream",
     "text": [
      "Best Parameters are {'alpha': 0.1, 'l1_ratio': 0.5}\n"
     ]
    }
   ],
   "source": [
    "elastic = ElasticNet()\n",
    "tune=[{'alpha':  [0.1,0.5,1,1.5,2,2.5,3,3.5,4],\n",
    "     'l1_ratio': [0.5,0.55,0.6,0.65,0.7,0.75,0.8,0.85,0.9]}]\n",
    "\n",
    "e_grid=GridSearchCV(estimator=elastic,\n",
    "            param_grid=tune,\n",
    "            cv=5)\n",
    "e_grid.fit(X_train,Y_train)\n",
    "print('Best Parameters are',e_grid.best_params_)"
   ]
  },
  {
   "cell_type": "code",
   "execution_count": 81,
   "metadata": {},
   "outputs": [
    {
     "name": "stdout",
     "output_type": "stream",
     "text": [
      "the RMSE of elastic model with best parameters is 0.6585582208150678\n"
     ]
    }
   ],
   "source": [
    "model = ElasticNet(alpha=0.1,l1_ratio=0.5)\n",
    "model_best = model.fit(X_train,Y_train)\n",
    "ypred_best  = model_best.predict(X_test)\n",
    "mse_best = mean_squared_error(ypred_best,Y_test)\n",
    "print('the RMSE of elastic model with best parameters is',np.sqrt(mse_best))"
   ]
  },
  {
   "cell_type": "markdown",
   "metadata": {
    "collapsed": true
   },
   "source": [
    "<table align=\"left\">\n",
    "    <tr>\n",
    "        <td width=\"6%\">\n",
    "            <img src=\"question_icon.png\">\n",
    "        </td>\n",
    "        <td>\n",
    "            <div align=\"left\", style=\"font-size:120%\">\n",
    "                <font color=\"#21618C\">\n",
    "                    <b>20. Build a full model. Select the optimal value for elastic net mixing parameter if the alpha value is 0.8<br><br>Consider the values: l1_ratio : [0.001, 0.005, 0.01, 0.05, 0.1, 0.5, 1]</b>\n",
    "                </font>\n",
    "            </div>\n",
    "        </td>\n",
    "    </tr>\n",
    "</table>"
   ]
  },
  {
   "cell_type": "code",
   "execution_count": 82,
   "metadata": {
    "scrolled": true
   },
   "outputs": [
    {
     "data": {
      "text/plain": [
       "GridSearchCV(cv=5, estimator=ElasticNet(alpha=0.8),\n",
       "             param_grid=[{'l1_ratio': [0.5, 0.55, 0.6, 0.65, 0.7, 0.75, 0.8,\n",
       "                                       0.85, 0.9]}])"
      ]
     },
     "execution_count": 82,
     "metadata": {},
     "output_type": "execute_result"
    }
   ],
   "source": [
    "# type your code here\n",
    "tune=[{'l1_ratio': [0.5,0.55,0.6,0.65,0.7,0.75,0.8,0.85,0.9]}]\n",
    "\n",
    "e=ElasticNet(alpha=0.8)\n",
    "\n",
    "e_grid=GridSearchCV(estimator=e,\n",
    "            param_grid=tune,\n",
    "            cv=5)\n",
    "e_grid.fit(X_train,Y_train)"
   ]
  },
  {
   "cell_type": "code",
   "execution_count": 83,
   "metadata": {},
   "outputs": [
    {
     "data": {
      "text/plain": [
       "{'l1_ratio': 0.5}"
      ]
     },
     "execution_count": 83,
     "metadata": {},
     "output_type": "execute_result"
    }
   ],
   "source": [
    "e_grid.best_params_"
   ]
  },
  {
   "cell_type": "code",
   "execution_count": 84,
   "metadata": {},
   "outputs": [
    {
     "name": "stdout",
     "output_type": "stream",
     "text": [
      "the RMSE of elastic model with best parameters is 0.8876580574384115\n"
     ]
    }
   ],
   "source": [
    "model = ElasticNet(alpha=0.8,l1_ratio=0.5)\n",
    "model_best = model.fit(X_train,Y_train)\n",
    "ypred_best  = model_best.predict(X_test)\n",
    "mse_best = mean_squared_error(ypred_best,Y_test)\n",
    "print('the RMSE of elastic model with best parameters is',np.sqrt(mse_best))"
   ]
  }
 ],
 "metadata": {
  "kernelspec": {
   "display_name": "Python 3",
   "language": "python",
   "name": "python3"
  },
  "language_info": {
   "codemirror_mode": {
    "name": "ipython",
    "version": 3
   },
   "file_extension": ".py",
   "mimetype": "text/x-python",
   "name": "python",
   "nbconvert_exporter": "python",
   "pygments_lexer": "ipython3",
   "version": "3.8.5"
  }
 },
 "nbformat": 4,
 "nbformat_minor": 2
}
