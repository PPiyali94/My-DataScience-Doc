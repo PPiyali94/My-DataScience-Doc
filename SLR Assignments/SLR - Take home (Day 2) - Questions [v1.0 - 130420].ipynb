{
 "cells": [
  {
   "cell_type": "markdown",
   "metadata": {},
   "source": [
    "<table align=\"center\" width=100%>\n",
    "    <tr>\n",
    "        <td width=\"15%\">\n",
    "            <img src=\"homework.png\">\n",
    "        </td>\n",
    "        <td>\n",
    "            <div align=\"center\">\n",
    "                <font color=\"#21618C\" size=8px>\n",
    "                    <b> Take-Home <br>(Day 2)\n",
    "                    </b>\n",
    "                </font>\n",
    "            </div>\n",
    "        </td>\n",
    "    </tr>\n",
    "</table>"
   ]
  },
  {
   "cell_type": "markdown",
   "metadata": {},
   "source": [
    "#### Import the required libraries"
   ]
  },
  {
   "cell_type": "code",
   "execution_count": 37,
   "metadata": {},
   "outputs": [],
   "source": [
    "# type your code here\n",
    "# import 'Pandas' \n",
    "import pandas as pd \n",
    "\n",
    "# import 'Numpy' \n",
    "import numpy as np\n",
    "\n",
    "# import subpackage of Matplotlib\n",
    "import matplotlib.pyplot as plt\n",
    "\n",
    "# import 'Seaborn' \n",
    "import seaborn as sns\n",
    "\n",
    "# to suppress warnings \n",
    "from warnings import filterwarnings\n",
    "filterwarnings('ignore')\n",
    "\n",
    "# display all columns of the dataframe\n",
    "pd.options.display.max_columns = None\n",
    "\n",
    "# display all rows of the dataframe\n",
    "pd.options.display.max_rows = None\n",
    " \n",
    "# to display the float values upto 6 decimal places     \n",
    "pd.options.display.float_format = '{:.6f}'.format\n",
    "\n",
    "# import train-test split \n",
    "from sklearn.model_selection import train_test_split\n",
    "\n",
    "# import various functions from statsmodel to perform linear regression\n",
    "import statsmodels\n",
    "import statsmodels.api as sm\n",
    "import statsmodels.stats.api as sms\n",
    "from statsmodels.graphics.gofplots import qqplot\n",
    "from statsmodels.stats.outliers_influence import variance_inflation_factor\n",
    "import statsmodels.tsa.api as smt\n",
    "\n",
    "# import various functions from scipy\n",
    "from scipy import stats\n",
    "# import various functions from scipy\n",
    "from scipy import stats\n",
    "\n",
    "# import 'metrics' from sklearn is used for evaluating the model performance\n",
    "from sklearn.metrics import mean_squared_error\n",
    "\n",
    "# import StandardScaler for scaling the data\n",
    "from sklearn.preprocessing import StandardScaler\n",
    "\n",
    "# functions for forward selection\n",
    "\n",
    "from sklearn.feature_selection import RFE\n",
    "\n",
    "# functions for linear regression\n",
    "from sklearn.linear_model import LinearRegression\n",
    "\n",
    "# functions for  cross validation\n",
    "from sklearn.model_selection import LeaveOneOut\n",
    "from sklearn.model_selection import cross_val_score\n",
    "from sklearn.model_selection import KFold\n",
    "from sklearn import preprocessing\n"
   ]
  },
  {
   "cell_type": "code",
   "execution_count": 38,
   "metadata": {},
   "outputs": [
    {
     "name": "stdout",
     "output_type": "stream",
     "text": [
      "Requirement already satisfied: mlxtend in c:\\programdata\\anaconda3\\lib\\site-packages (0.18.0)\n",
      "Requirement already satisfied: setuptools in c:\\programdata\\anaconda3\\lib\\site-packages (from mlxtend) (50.3.1.post20201107)\n",
      "Requirement already satisfied: pandas>=0.24.2 in c:\\programdata\\anaconda3\\lib\\site-packages (from mlxtend) (1.1.3)\n",
      "Requirement already satisfied: numpy>=1.16.2 in c:\\programdata\\anaconda3\\lib\\site-packages (from mlxtend) (1.19.2)\n",
      "Requirement already satisfied: scipy>=1.2.1 in c:\\programdata\\anaconda3\\lib\\site-packages (from mlxtend) (1.5.2)\n",
      "Requirement already satisfied: joblib>=0.13.2 in c:\\programdata\\anaconda3\\lib\\site-packages (from mlxtend) (0.17.0)\n",
      "Requirement already satisfied: matplotlib>=3.0.0 in c:\\programdata\\anaconda3\\lib\\site-packages (from mlxtend) (3.3.2)\n",
      "Requirement already satisfied: scikit-learn>=0.20.3 in c:\\programdata\\anaconda3\\lib\\site-packages (from mlxtend) (0.23.2)\n",
      "Requirement already satisfied: pytz>=2017.2 in c:\\programdata\\anaconda3\\lib\\site-packages (from pandas>=0.24.2->mlxtend) (2020.1)\n",
      "Requirement already satisfied: python-dateutil>=2.7.3 in c:\\programdata\\anaconda3\\lib\\site-packages (from pandas>=0.24.2->mlxtend) (2.8.1)\n",
      "Requirement already satisfied: pillow>=6.2.0 in c:\\programdata\\anaconda3\\lib\\site-packages (from matplotlib>=3.0.0->mlxtend) (8.0.1)\n",
      "Requirement already satisfied: certifi>=2020.06.20 in c:\\programdata\\anaconda3\\lib\\site-packages (from matplotlib>=3.0.0->mlxtend) (2020.6.20)\n",
      "Requirement already satisfied: cycler>=0.10 in c:\\programdata\\anaconda3\\lib\\site-packages (from matplotlib>=3.0.0->mlxtend) (0.10.0)\n",
      "Requirement already satisfied: pyparsing!=2.0.4,!=2.1.2,!=2.1.6,>=2.0.3 in c:\\programdata\\anaconda3\\lib\\site-packages (from matplotlib>=3.0.0->mlxtend) (2.4.7)\n",
      "Requirement already satisfied: kiwisolver>=1.0.1 in c:\\programdata\\anaconda3\\lib\\site-packages (from matplotlib>=3.0.0->mlxtend) (1.3.0)\n",
      "Requirement already satisfied: threadpoolctl>=2.0.0 in c:\\programdata\\anaconda3\\lib\\site-packages (from scikit-learn>=0.20.3->mlxtend) (2.1.0)\n",
      "Requirement already satisfied: six>=1.5 in c:\\programdata\\anaconda3\\lib\\site-packages (from python-dateutil>=2.7.3->pandas>=0.24.2->mlxtend) (1.15.0)\n",
      "Note: you may need to restart the kernel to use updated packages.\n"
     ]
    }
   ],
   "source": [
    "pip install mlxtend"
   ]
  },
  {
   "cell_type": "code",
   "execution_count": 39,
   "metadata": {},
   "outputs": [],
   "source": [
    "from mlxtend.feature_selection import SequentialFeatureSelector as sfs"
   ]
  },
  {
   "cell_type": "markdown",
   "metadata": {},
   "source": [
    "#### Read the data\n",
    "\n",
    "Load the csv file and print the first five observations."
   ]
  },
  {
   "cell_type": "code",
   "execution_count": 65,
   "metadata": {},
   "outputs": [
    {
     "data": {
      "text/html": [
       "<div>\n",
       "<style scoped>\n",
       "    .dataframe tbody tr th:only-of-type {\n",
       "        vertical-align: middle;\n",
       "    }\n",
       "\n",
       "    .dataframe tbody tr th {\n",
       "        vertical-align: top;\n",
       "    }\n",
       "\n",
       "    .dataframe thead th {\n",
       "        text-align: right;\n",
       "    }\n",
       "</style>\n",
       "<table border=\"1\" class=\"dataframe\">\n",
       "  <thead>\n",
       "    <tr style=\"text-align: right;\">\n",
       "      <th></th>\n",
       "      <th>carat</th>\n",
       "      <th>cut</th>\n",
       "      <th>color</th>\n",
       "      <th>depth</th>\n",
       "      <th>table</th>\n",
       "      <th>price</th>\n",
       "      <th>x</th>\n",
       "      <th>y</th>\n",
       "      <th>z</th>\n",
       "    </tr>\n",
       "  </thead>\n",
       "  <tbody>\n",
       "    <tr>\n",
       "      <th>0</th>\n",
       "      <td>0.300000</td>\n",
       "      <td>Good</td>\n",
       "      <td>F</td>\n",
       "      <td>61.100000</td>\n",
       "      <td>61.000000</td>\n",
       "      <td>682</td>\n",
       "      <td>4.290000</td>\n",
       "      <td>4.320000</td>\n",
       "      <td>2.630000</td>\n",
       "    </tr>\n",
       "    <tr>\n",
       "      <th>1</th>\n",
       "      <td>0.720000</td>\n",
       "      <td>Ideal</td>\n",
       "      <td>H</td>\n",
       "      <td>62.000000</td>\n",
       "      <td>56.000000</td>\n",
       "      <td>2443</td>\n",
       "      <td>5.800000</td>\n",
       "      <td>5.740000</td>\n",
       "      <td>3.580000</td>\n",
       "    </tr>\n",
       "    <tr>\n",
       "      <th>2</th>\n",
       "      <td>1.710000</td>\n",
       "      <td>Premium</td>\n",
       "      <td>J</td>\n",
       "      <td>62.900000</td>\n",
       "      <td>58.000000</td>\n",
       "      <td>8848</td>\n",
       "      <td>7.640000</td>\n",
       "      <td>7.580000</td>\n",
       "      <td>4.790000</td>\n",
       "    </tr>\n",
       "    <tr>\n",
       "      <th>3</th>\n",
       "      <td>1.010000</td>\n",
       "      <td>Premium</td>\n",
       "      <td>E</td>\n",
       "      <td>59.200000</td>\n",
       "      <td>59.000000</td>\n",
       "      <td>7287</td>\n",
       "      <td>6.670000</td>\n",
       "      <td>6.600000</td>\n",
       "      <td>3.930000</td>\n",
       "    </tr>\n",
       "    <tr>\n",
       "      <th>4</th>\n",
       "      <td>0.520000</td>\n",
       "      <td>Ideal</td>\n",
       "      <td>D</td>\n",
       "      <td>62.700000</td>\n",
       "      <td>56.000000</td>\n",
       "      <td>1720</td>\n",
       "      <td>5.170000</td>\n",
       "      <td>5.140000</td>\n",
       "      <td>3.230000</td>\n",
       "    </tr>\n",
       "  </tbody>\n",
       "</table>\n",
       "</div>"
      ],
      "text/plain": [
       "     carat      cut color     depth     table  price        x        y  \\\n",
       "0 0.300000     Good     F 61.100000 61.000000    682 4.290000 4.320000   \n",
       "1 0.720000    Ideal     H 62.000000 56.000000   2443 5.800000 5.740000   \n",
       "2 1.710000  Premium     J 62.900000 58.000000   8848 7.640000 7.580000   \n",
       "3 1.010000  Premium     E 59.200000 59.000000   7287 6.670000 6.600000   \n",
       "4 0.520000    Ideal     D 62.700000 56.000000   1720 5.170000 5.140000   \n",
       "\n",
       "         z  \n",
       "0 2.630000  \n",
       "1 3.580000  \n",
       "2 4.790000  \n",
       "3 3.930000  \n",
       "4 3.230000  "
      ]
     },
     "execution_count": 65,
     "metadata": {},
     "output_type": "execute_result"
    }
   ],
   "source": [
    "# type your code here\n",
    "df_diamond=pd.read_csv('diamond_data.csv')\n",
    "df_diamond.head()"
   ]
  },
  {
   "cell_type": "code",
   "execution_count": 41,
   "metadata": {},
   "outputs": [
    {
     "name": "stdout",
     "output_type": "stream",
     "text": [
      "<class 'pandas.core.frame.DataFrame'>\n",
      "RangeIndex: 1547 entries, 0 to 1546\n",
      "Data columns (total 9 columns):\n",
      " #   Column  Non-Null Count  Dtype  \n",
      "---  ------  --------------  -----  \n",
      " 0   carat   1547 non-null   float64\n",
      " 1   cut     1547 non-null   object \n",
      " 2   color   1547 non-null   object \n",
      " 3   depth   1547 non-null   float64\n",
      " 4   table   1547 non-null   float64\n",
      " 5   price   1547 non-null   int64  \n",
      " 6   x       1547 non-null   float64\n",
      " 7   y       1547 non-null   float64\n",
      " 8   z       1547 non-null   float64\n",
      "dtypes: float64(6), int64(1), object(2)\n",
      "memory usage: 108.9+ KB\n"
     ]
    }
   ],
   "source": [
    "df_diamond.info()"
   ]
  },
  {
   "cell_type": "code",
   "execution_count": 4,
   "metadata": {},
   "outputs": [
    {
     "data": {
      "text/html": [
       "<div>\n",
       "<style scoped>\n",
       "    .dataframe tbody tr th:only-of-type {\n",
       "        vertical-align: middle;\n",
       "    }\n",
       "\n",
       "    .dataframe tbody tr th {\n",
       "        vertical-align: top;\n",
       "    }\n",
       "\n",
       "    .dataframe thead th {\n",
       "        text-align: right;\n",
       "    }\n",
       "</style>\n",
       "<table border=\"1\" class=\"dataframe\">\n",
       "  <thead>\n",
       "    <tr style=\"text-align: right;\">\n",
       "      <th></th>\n",
       "      <th>carat</th>\n",
       "      <th>depth</th>\n",
       "      <th>table</th>\n",
       "      <th>price</th>\n",
       "      <th>x</th>\n",
       "      <th>y</th>\n",
       "      <th>z</th>\n",
       "    </tr>\n",
       "  </thead>\n",
       "  <tbody>\n",
       "    <tr>\n",
       "      <th>count</th>\n",
       "      <td>1547.000000</td>\n",
       "      <td>1547.000000</td>\n",
       "      <td>1547.000000</td>\n",
       "      <td>1547.000000</td>\n",
       "      <td>1547.000000</td>\n",
       "      <td>1547.000000</td>\n",
       "      <td>1547.000000</td>\n",
       "    </tr>\n",
       "    <tr>\n",
       "      <th>mean</th>\n",
       "      <td>0.791325</td>\n",
       "      <td>61.762185</td>\n",
       "      <td>57.445184</td>\n",
       "      <td>3938.685844</td>\n",
       "      <td>5.713594</td>\n",
       "      <td>5.714460</td>\n",
       "      <td>3.528203</td>\n",
       "    </tr>\n",
       "    <tr>\n",
       "      <th>std</th>\n",
       "      <td>0.475814</td>\n",
       "      <td>1.439904</td>\n",
       "      <td>2.235772</td>\n",
       "      <td>4117.039798</td>\n",
       "      <td>1.126730</td>\n",
       "      <td>1.116477</td>\n",
       "      <td>0.693149</td>\n",
       "    </tr>\n",
       "    <tr>\n",
       "      <th>min</th>\n",
       "      <td>0.230000</td>\n",
       "      <td>54.600000</td>\n",
       "      <td>52.000000</td>\n",
       "      <td>327.000000</td>\n",
       "      <td>3.860000</td>\n",
       "      <td>3.880000</td>\n",
       "      <td>2.310000</td>\n",
       "    </tr>\n",
       "    <tr>\n",
       "      <th>25%</th>\n",
       "      <td>0.400000</td>\n",
       "      <td>61.100000</td>\n",
       "      <td>56.000000</td>\n",
       "      <td>918.000000</td>\n",
       "      <td>4.705000</td>\n",
       "      <td>4.720000</td>\n",
       "      <td>2.910000</td>\n",
       "    </tr>\n",
       "    <tr>\n",
       "      <th>50%</th>\n",
       "      <td>0.700000</td>\n",
       "      <td>61.900000</td>\n",
       "      <td>57.000000</td>\n",
       "      <td>2301.000000</td>\n",
       "      <td>5.640000</td>\n",
       "      <td>5.660000</td>\n",
       "      <td>3.500000</td>\n",
       "    </tr>\n",
       "    <tr>\n",
       "      <th>75%</th>\n",
       "      <td>1.035000</td>\n",
       "      <td>62.500000</td>\n",
       "      <td>59.000000</td>\n",
       "      <td>5188.000000</td>\n",
       "      <td>6.535000</td>\n",
       "      <td>6.520000</td>\n",
       "      <td>4.030000</td>\n",
       "    </tr>\n",
       "    <tr>\n",
       "      <th>max</th>\n",
       "      <td>2.660000</td>\n",
       "      <td>71.800000</td>\n",
       "      <td>70.000000</td>\n",
       "      <td>18803.000000</td>\n",
       "      <td>9.080000</td>\n",
       "      <td>9.010000</td>\n",
       "      <td>5.540000</td>\n",
       "    </tr>\n",
       "  </tbody>\n",
       "</table>\n",
       "</div>"
      ],
      "text/plain": [
       "            carat       depth       table        price           x  \\\n",
       "count 1547.000000 1547.000000 1547.000000  1547.000000 1547.000000   \n",
       "mean     0.791325   61.762185   57.445184  3938.685844    5.713594   \n",
       "std      0.475814    1.439904    2.235772  4117.039798    1.126730   \n",
       "min      0.230000   54.600000   52.000000   327.000000    3.860000   \n",
       "25%      0.400000   61.100000   56.000000   918.000000    4.705000   \n",
       "50%      0.700000   61.900000   57.000000  2301.000000    5.640000   \n",
       "75%      1.035000   62.500000   59.000000  5188.000000    6.535000   \n",
       "max      2.660000   71.800000   70.000000 18803.000000    9.080000   \n",
       "\n",
       "                y           z  \n",
       "count 1547.000000 1547.000000  \n",
       "mean     5.714460    3.528203  \n",
       "std      1.116477    0.693149  \n",
       "min      3.880000    2.310000  \n",
       "25%      4.720000    2.910000  \n",
       "50%      5.660000    3.500000  \n",
       "75%      6.520000    4.030000  \n",
       "max      9.010000    5.540000  "
      ]
     },
     "execution_count": 4,
     "metadata": {},
     "output_type": "execute_result"
    }
   ],
   "source": [
    "df_diamond.describe()"
   ]
  },
  {
   "cell_type": "code",
   "execution_count": 42,
   "metadata": {},
   "outputs": [
    {
     "data": {
      "text/plain": [
       "carat    0\n",
       "cut      0\n",
       "color    0\n",
       "depth    0\n",
       "table    0\n",
       "price    0\n",
       "x        0\n",
       "y        0\n",
       "z        0\n",
       "dtype: int64"
      ]
     },
     "execution_count": 42,
     "metadata": {},
     "output_type": "execute_result"
    }
   ],
   "source": [
    "df_diamond.isnull().sum()"
   ]
  },
  {
   "cell_type": "code",
   "execution_count": 6,
   "metadata": {},
   "outputs": [
    {
     "data": {
      "text/plain": [
       "<AxesSubplot:>"
      ]
     },
     "execution_count": 6,
     "metadata": {},
     "output_type": "execute_result"
    },
    {
     "data": {
      "image/png": "[encoded data removed]",
      "text/plain": [
       "<Figure size 432x288 with 1 Axes>"
      ]
     },
     "metadata": {
      "needs_background": "light"
     },
     "output_type": "display_data"
    }
   ],
   "source": [
    "df_diamond.boxplot()"
   ]
  },
  {
   "cell_type": "markdown",
   "metadata": {},
   "source": [
    "Our objective is to predict the price of the diamond."
   ]
  },
  {
   "cell_type": "code",
   "execution_count": 43,
   "metadata": {},
   "outputs": [],
   "source": [
    "df_cat=df_diamond.select_dtypes(include=object)"
   ]
  },
  {
   "cell_type": "code",
   "execution_count": 44,
   "metadata": {},
   "outputs": [],
   "source": [
    "df_num=df_diamond.select_dtypes(include=np.number)"
   ]
  },
  {
   "cell_type": "markdown",
   "metadata": {},
   "source": [
    "**The data definition is as follows:** <br>\n",
    "\n",
    "**carat**: Weight of the diamond\n",
    "\n",
    "**cut**: Quality of the cut (Fair, Good, Very Good, Premium, Ideal)\n",
    "\n",
    "**color**: Diamond color\n",
    "\n",
    "**depth**: Total depth percentage (it is calculated as: 2 * z / (x + y))\n",
    "\n",
    "**table**: Width of top of the diamond relative to the widest point \n",
    "\n",
    "**price**: Price of a diamond in US dollars (target/dependent variable)\n",
    "\n",
    "**x**: Length of a diamond in mm\n",
    "\n",
    "**y**: Width of a diamond in mm\n",
    "\n",
    "**z**: Depth of a diamond in mm"
   ]
  },
  {
   "cell_type": "markdown",
   "metadata": {},
   "source": [
    "### Let's begin with some hands-on practice exercises"
   ]
  },
  {
   "cell_type": "markdown",
   "metadata": {},
   "source": [
    "<table align=\"left\">\n",
    "    <tr>\n",
    "        <td width=\"6%\">\n",
    "            <img src=\"question_icon.png\">\n",
    "        </td>\n",
    "        <td>\n",
    "            <div align=\"left\", style=\"font-size:120%\">\n",
    "                <font color=\"#21618C\">\n",
    "                    <b>1. Is the variable representing the width of a diamond skewed? If yes, apply an appropriate technique to make the distribution less skewed </b>\n",
    "                </font>\n",
    "            </div>\n",
    "        </td>\n",
    "    </tr>\n",
    "</table>"
   ]
  },
  {
   "cell_type": "code",
   "execution_count": 9,
   "metadata": {},
   "outputs": [
    {
     "data": {
      "text/plain": [
       "0.4383878452014628"
      ]
     },
     "execution_count": 9,
     "metadata": {},
     "output_type": "execute_result"
    }
   ],
   "source": [
    "# type your code here\n",
    "df_diamond['y'].skew()"
   ]
  },
  {
   "cell_type": "code",
   "execution_count": 10,
   "metadata": {},
   "outputs": [
    {
     "data": {
      "text/plain": [
       "<AxesSubplot:xlabel='y', ylabel='Density'>"
      ]
     },
     "execution_count": 10,
     "metadata": {},
     "output_type": "execute_result"
    },
    {
     "data": {
      "image/png": "[encoded data removed]",
      "text/plain": [
       "<Figure size 432x288 with 1 Axes>"
      ]
     },
     "metadata": {
      "needs_background": "light"
     },
     "output_type": "display_data"
    }
   ],
   "source": [
    "sns.distplot(df_diamond['y'])"
   ]
  },
  {
   "cell_type": "code",
   "execution_count": 11,
   "metadata": {},
   "outputs": [],
   "source": [
    "df_diamond['y']=np.log(df_diamond['y'])"
   ]
  },
  {
   "cell_type": "code",
   "execution_count": 12,
   "metadata": {},
   "outputs": [
    {
     "data": {
      "text/plain": [
       "0.15322643692701352"
      ]
     },
     "execution_count": 12,
     "metadata": {},
     "output_type": "execute_result"
    }
   ],
   "source": [
    "df_diamond['y'].skew()"
   ]
  },
  {
   "cell_type": "code",
   "execution_count": 13,
   "metadata": {},
   "outputs": [
    {
     "data": {
      "text/plain": [
       "<AxesSubplot:xlabel='y', ylabel='Density'>"
      ]
     },
     "execution_count": 13,
     "metadata": {},
     "output_type": "execute_result"
    },
    {
     "data": {
      "image/png": "[encoded data removed]",
      "text/plain": [
       "<Figure size 432x288 with 1 Axes>"
      ]
     },
     "metadata": {
      "needs_background": "light"
     },
     "output_type": "display_data"
    }
   ],
   "source": [
    "sns.distplot(df_diamond['y'])"
   ]
  },
  {
   "cell_type": "markdown",
   "metadata": {},
   "source": [
    "<table align=\"left\">\n",
    "    <tr>\n",
    "        <td width=\"6%\">\n",
    "            <img src=\"question_icon.png\">\n",
    "        </td>\n",
    "        <td>\n",
    "            <div align=\"left\", style=\"font-size:120%\">\n",
    "                <font color=\"#21618C\">\n",
    "                    <b>2. Build a full model and check whether the errors have a serial correlation or not</b>\n",
    "                </font>\n",
    "            </div>\n",
    "        </td>\n",
    "    </tr>\n",
    "</table>"
   ]
  },
  {
   "cell_type": "code",
   "execution_count": 61,
   "metadata": {
    "scrolled": false
   },
   "outputs": [
    {
     "data": {
      "text/html": [
       "<div>\n",
       "<style scoped>\n",
       "    .dataframe tbody tr th:only-of-type {\n",
       "        vertical-align: middle;\n",
       "    }\n",
       "\n",
       "    .dataframe tbody tr th {\n",
       "        vertical-align: top;\n",
       "    }\n",
       "\n",
       "    .dataframe thead th {\n",
       "        text-align: right;\n",
       "    }\n",
       "</style>\n",
       "<table border=\"1\" class=\"dataframe\">\n",
       "  <thead>\n",
       "    <tr style=\"text-align: right;\">\n",
       "      <th></th>\n",
       "      <th>carat</th>\n",
       "      <th>cut</th>\n",
       "      <th>color</th>\n",
       "      <th>depth</th>\n",
       "      <th>table</th>\n",
       "      <th>price</th>\n",
       "      <th>x</th>\n",
       "      <th>y</th>\n",
       "      <th>z</th>\n",
       "    </tr>\n",
       "  </thead>\n",
       "  <tbody>\n",
       "    <tr>\n",
       "      <th>0</th>\n",
       "      <td>0.300000</td>\n",
       "      <td>Good</td>\n",
       "      <td>F</td>\n",
       "      <td>61.100000</td>\n",
       "      <td>61.000000</td>\n",
       "      <td>682</td>\n",
       "      <td>4.290000</td>\n",
       "      <td>4.320000</td>\n",
       "      <td>2.630000</td>\n",
       "    </tr>\n",
       "    <tr>\n",
       "      <th>1</th>\n",
       "      <td>0.720000</td>\n",
       "      <td>Ideal</td>\n",
       "      <td>H</td>\n",
       "      <td>62.000000</td>\n",
       "      <td>56.000000</td>\n",
       "      <td>2443</td>\n",
       "      <td>5.800000</td>\n",
       "      <td>5.740000</td>\n",
       "      <td>3.580000</td>\n",
       "    </tr>\n",
       "    <tr>\n",
       "      <th>2</th>\n",
       "      <td>1.710000</td>\n",
       "      <td>Premium</td>\n",
       "      <td>J</td>\n",
       "      <td>62.900000</td>\n",
       "      <td>58.000000</td>\n",
       "      <td>8848</td>\n",
       "      <td>7.640000</td>\n",
       "      <td>7.580000</td>\n",
       "      <td>4.790000</td>\n",
       "    </tr>\n",
       "    <tr>\n",
       "      <th>3</th>\n",
       "      <td>1.010000</td>\n",
       "      <td>Premium</td>\n",
       "      <td>E</td>\n",
       "      <td>59.200000</td>\n",
       "      <td>59.000000</td>\n",
       "      <td>7287</td>\n",
       "      <td>6.670000</td>\n",
       "      <td>6.600000</td>\n",
       "      <td>3.930000</td>\n",
       "    </tr>\n",
       "    <tr>\n",
       "      <th>4</th>\n",
       "      <td>0.520000</td>\n",
       "      <td>Ideal</td>\n",
       "      <td>D</td>\n",
       "      <td>62.700000</td>\n",
       "      <td>56.000000</td>\n",
       "      <td>1720</td>\n",
       "      <td>5.170000</td>\n",
       "      <td>5.140000</td>\n",
       "      <td>3.230000</td>\n",
       "    </tr>\n",
       "  </tbody>\n",
       "</table>\n",
       "</div>"
      ],
      "text/plain": [
       "     carat      cut color     depth     table  price        x        y  \\\n",
       "0 0.300000     Good     F 61.100000 61.000000    682 4.290000 4.320000   \n",
       "1 0.720000    Ideal     H 62.000000 56.000000   2443 5.800000 5.740000   \n",
       "2 1.710000  Premium     J 62.900000 58.000000   8848 7.640000 7.580000   \n",
       "3 1.010000  Premium     E 59.200000 59.000000   7287 6.670000 6.600000   \n",
       "4 0.520000    Ideal     D 62.700000 56.000000   1720 5.170000 5.140000   \n",
       "\n",
       "         z  \n",
       "0 2.630000  \n",
       "1 3.580000  \n",
       "2 4.790000  \n",
       "3 3.930000  \n",
       "4 3.230000  "
      ]
     },
     "execution_count": 61,
     "metadata": {},
     "output_type": "execute_result"
    }
   ],
   "source": [
    "df_diamond.head()"
   ]
  },
  {
   "cell_type": "code",
   "execution_count": 46,
   "metadata": {},
   "outputs": [
    {
     "data": {
      "text/plain": [
       "(1547, 9)"
      ]
     },
     "execution_count": 46,
     "metadata": {},
     "output_type": "execute_result"
    }
   ],
   "source": [
    "df_diamond.shape"
   ]
  },
  {
   "cell_type": "code",
   "execution_count": 70,
   "metadata": {},
   "outputs": [],
   "source": [
    "df_diamond=pd.get_dummies(df_diamond,columns=['cut','color'],drop_first=True)"
   ]
  },
  {
   "cell_type": "code",
   "execution_count": 71,
   "metadata": {},
   "outputs": [
    {
     "name": "stdout",
     "output_type": "stream",
     "text": [
      "                            OLS Regression Results                            \n",
      "==============================================================================\n",
      "Dep. Variable:                  price   R-squared:                       0.893\n",
      "Model:                            OLS   Adj. R-squared:                  0.891\n",
      "Method:                 Least Squares   F-statistic:                     794.4\n",
      "Date:                Sat, 07 Aug 2021   Prob (F-statistic):               0.00\n",
      "Time:                        02:45:16   Log-Likelihood:                -13345.\n",
      "No. Observations:                1547   AIC:                         2.672e+04\n",
      "Df Residuals:                    1530   BIC:                         2.681e+04\n",
      "Df Model:                          16                                         \n",
      "Covariance Type:            nonrobust                                         \n",
      "=================================================================================\n",
      "                    coef    std err          t      P>|t|      [0.025      0.975]\n",
      "---------------------------------------------------------------------------------\n",
      "const         -1.066e+04   8378.089     -1.272      0.204   -2.71e+04    5776.269\n",
      "carat          1.322e+04    371.464     35.601      0.000    1.25e+04     1.4e+04\n",
      "depth           273.9828    131.712      2.080      0.038      15.627     532.338\n",
      "table           -30.3427     20.547     -1.477      0.140     -70.646       9.961\n",
      "x             -1692.0142    899.352     -1.881      0.060   -3456.108      72.080\n",
      "y              3092.6570   1044.380      2.961      0.003    1044.089    5141.226\n",
      "z             -5599.5209   2150.582     -2.604      0.009   -9817.921   -1381.121\n",
      "cut_Good        579.7803    249.044      2.328      0.020      91.277    1068.284\n",
      "cut_Ideal      1184.3864    249.248      4.752      0.000     695.482    1673.291\n",
      "cut_Premium     927.6344    237.371      3.908      0.000     462.028    1393.241\n",
      "cut_Very Good   933.0889    243.198      3.837      0.000     456.051    1410.126\n",
      "color_E           2.2611    124.611      0.018      0.986    -242.166     246.688\n",
      "color_F         182.0281    125.368      1.452      0.147     -63.882     427.939\n",
      "color_G         -40.9346    121.618     -0.337      0.736    -279.490     197.621\n",
      "color_H        -606.2675    129.269     -4.690      0.000    -859.831    -352.704\n",
      "color_I       -1016.8542    150.205     -6.770      0.000   -1311.483    -722.225\n",
      "color_J       -1930.5179    180.045    -10.722      0.000   -2283.678   -1577.357\n",
      "==============================================================================\n",
      "Omnibus:                      470.401   Durbin-Watson:                   1.945\n",
      "Prob(Omnibus):                  0.000   Jarque-Bera (JB):             5833.995\n",
      "Skew:                           1.056   Prob(JB):                         0.00\n",
      "Kurtosis:                      12.276   Cond. No.                     2.13e+04\n",
      "==============================================================================\n",
      "\n",
      "Notes:\n",
      "[1] Standard Errors assume that the covariance matrix of the errors is correctly specified.\n",
      "[2] The condition number is large, 2.13e+04. This might indicate that there are\n",
      "strong multicollinearity or other numerical problems.\n"
     ]
    }
   ],
   "source": [
    "X=df_diamond.drop('price',axis=1)\n",
    "y=df_diamond['price']\n",
    "X=sm.add_constant(X)\n",
    "model=sm.OLS(y,X).fit()\n",
    "print(model.summary())"
   ]
  },
  {
   "cell_type": "code",
   "execution_count": 40,
   "metadata": {},
   "outputs": [
    {
     "data": {
      "text/plain": [
       "<AxesSubplot:>"
      ]
     },
     "execution_count": 40,
     "metadata": {},
     "output_type": "execute_result"
    },
    {
     "data": {
      "image/png": "[encoded data removed]",
      "text/plain": [
       "<Figure size 864x576 with 2 Axes>"
      ]
     },
     "metadata": {
      "needs_background": "light"
     },
     "output_type": "display_data"
    }
   ],
   "source": [
    "plt.figure(figsize=(12,8))\n",
    "sns.heatmap(df_diamond.corr(),annot=True)"
   ]
  },
  {
   "cell_type": "code",
   "execution_count": null,
   "metadata": {},
   "outputs": [],
   "source": [
    "#as condition number is large and there is strong correlation between price-carat,price-x,price-y,price-z"
   ]
  },
  {
   "cell_type": "markdown",
   "metadata": {},
   "source": [
    "<table align=\"left\">\n",
    "    <tr>\n",
    "        <td width=\"6%\">\n",
    "            <img src=\"question_icon.png\">\n",
    "        </td>\n",
    "        <td>\n",
    "            <div align=\"left\", style=\"font-size:120%\">\n",
    "                <font color=\"#21618C\">\n",
    "                    <b>3. Add the features one-by-one to obtain the set of features which explains the price of a diamond with the highest accuracy\n",
    "                    </b>\n",
    "                </font>\n",
    "            </div>\n",
    "        </td>\n",
    "    </tr>\n",
    "</table>"
   ]
  },
  {
   "cell_type": "code",
   "execution_count": 24,
   "metadata": {},
   "outputs": [],
   "source": [
    "x=df_diamond.drop('price',axis=1)\n",
    "X=pd.get_dummies(x,drop_first=True)\n",
    "y=df_diamond['price']\n",
    "X=sm.add_constant(X)"
   ]
  },
  {
   "cell_type": "code",
   "execution_count": 25,
   "metadata": {},
   "outputs": [
    {
     "name": "stderr",
     "output_type": "stream",
     "text": [
      "[Parallel(n_jobs=1)]: Using backend SequentialBackend with 1 concurrent workers.\n",
      "[Parallel(n_jobs=1)]: Done   1 out of   1 | elapsed:    0.0s remaining:    0.0s\n",
      "[Parallel(n_jobs=1)]: Done  17 out of  17 | elapsed:    0.1s finished\n",
      "\n",
      "[2021-08-07 01:25:01] Features: 1/8 -- score: 0.8611859711618426[Parallel(n_jobs=1)]: Using backend SequentialBackend with 1 concurrent workers.\n",
      "[Parallel(n_jobs=1)]: Done   1 out of   1 | elapsed:    0.0s remaining:    0.0s\n",
      "[Parallel(n_jobs=1)]: Done  16 out of  16 | elapsed:    0.1s finished\n",
      "\n",
      "[2021-08-07 01:25:01] Features: 2/8 -- score: 0.8701992571397323[Parallel(n_jobs=1)]: Using backend SequentialBackend with 1 concurrent workers.\n",
      "[Parallel(n_jobs=1)]: Done   1 out of   1 | elapsed:    0.0s remaining:    0.0s\n",
      "[Parallel(n_jobs=1)]: Done  15 out of  15 | elapsed:    0.0s finished\n",
      "\n",
      "[2021-08-07 01:25:02] Features: 3/8 -- score: 0.8777650727854528[Parallel(n_jobs=1)]: Using backend SequentialBackend with 1 concurrent workers.\n",
      "[Parallel(n_jobs=1)]: Done   1 out of   1 | elapsed:    0.0s remaining:    0.0s\n",
      "[Parallel(n_jobs=1)]: Done  14 out of  14 | elapsed:    0.0s finished\n",
      "\n",
      "[2021-08-07 01:25:02] Features: 4/8 -- score: 0.8806158764516034[Parallel(n_jobs=1)]: Using backend SequentialBackend with 1 concurrent workers.\n",
      "[Parallel(n_jobs=1)]: Done   1 out of   1 | elapsed:    0.0s remaining:    0.0s\n",
      "[Parallel(n_jobs=1)]: Done  13 out of  13 | elapsed:    0.0s finished\n",
      "\n",
      "[2021-08-07 01:25:02] Features: 5/8 -- score: 0.8832318821671485[Parallel(n_jobs=1)]: Using backend SequentialBackend with 1 concurrent workers.\n",
      "[Parallel(n_jobs=1)]: Done   1 out of   1 | elapsed:    0.0s remaining:    0.0s\n",
      "[Parallel(n_jobs=1)]: Done  12 out of  12 | elapsed:    0.0s finished\n",
      "\n",
      "[2021-08-07 01:25:02] Features: 6/8 -- score: 0.8858308155967378[Parallel(n_jobs=1)]: Using backend SequentialBackend with 1 concurrent workers.\n",
      "[Parallel(n_jobs=1)]: Done   1 out of   1 | elapsed:    0.0s remaining:    0.0s\n",
      "[Parallel(n_jobs=1)]: Done  11 out of  11 | elapsed:    0.0s finished\n",
      "\n",
      "[2021-08-07 01:25:02] Features: 7/8 -- score: 0.8860880221724292[Parallel(n_jobs=1)]: Using backend SequentialBackend with 1 concurrent workers.\n",
      "[Parallel(n_jobs=1)]: Done   1 out of   1 | elapsed:    0.0s remaining:    0.0s\n",
      "[Parallel(n_jobs=1)]: Done  10 out of  10 | elapsed:    0.0s finished\n",
      "\n",
      "[2021-08-07 01:25:02] Features: 8/8 -- score: 0.8866646718004952"
     ]
    },
    {
     "data": {
      "text/plain": [
       "SequentialFeatureSelector(estimator=LinearRegression(), k_features=8,\n",
       "                          scoring='r2', verbose=2)"
      ]
     },
     "execution_count": 25,
     "metadata": {},
     "output_type": "execute_result"
    }
   ],
   "source": [
    "clf=LinearRegression()\n",
    "sfs1=sfs(clf,k_features=8,forward=True,scoring='r2',cv=5,verbose=2)\n",
    "sfs1.fit(X,y)"
   ]
  },
  {
   "cell_type": "code",
   "execution_count": 59,
   "metadata": {},
   "outputs": [
    {
     "data": {
      "text/html": [
       "<div>\n",
       "<style scoped>\n",
       "    .dataframe tbody tr th:only-of-type {\n",
       "        vertical-align: middle;\n",
       "    }\n",
       "\n",
       "    .dataframe tbody tr th {\n",
       "        vertical-align: top;\n",
       "    }\n",
       "\n",
       "    .dataframe thead th {\n",
       "        text-align: right;\n",
       "    }\n",
       "</style>\n",
       "<table border=\"1\" class=\"dataframe\">\n",
       "  <thead>\n",
       "    <tr style=\"text-align: right;\">\n",
       "      <th></th>\n",
       "      <th>feature_idx</th>\n",
       "      <th>cv_scores</th>\n",
       "      <th>avg_score</th>\n",
       "      <th>feature_names</th>\n",
       "    </tr>\n",
       "  </thead>\n",
       "  <tbody>\n",
       "    <tr>\n",
       "      <th>1</th>\n",
       "      <td>(1,)</td>\n",
       "      <td>[0.8762829949804581, 0.8669378259743176, 0.855...</td>\n",
       "      <td>0.861186</td>\n",
       "      <td>(carat,)</td>\n",
       "    </tr>\n",
       "    <tr>\n",
       "      <th>2</th>\n",
       "      <td>(1, 6)</td>\n",
       "      <td>[0.8834118629620207, 0.8802461032547032, 0.868...</td>\n",
       "      <td>0.870199</td>\n",
       "      <td>(carat, z)</td>\n",
       "    </tr>\n",
       "    <tr>\n",
       "      <th>3</th>\n",
       "      <td>(1, 6, 16)</td>\n",
       "      <td>[0.8913075810938818, 0.886325436421043, 0.8742...</td>\n",
       "      <td>0.877765</td>\n",
       "      <td>(carat, z, color_J)</td>\n",
       "    </tr>\n",
       "    <tr>\n",
       "      <th>4</th>\n",
       "      <td>(1, 6, 15, 16)</td>\n",
       "      <td>[0.8871631778975614, 0.8903240744152804, 0.880...</td>\n",
       "      <td>0.880616</td>\n",
       "      <td>(carat, z, color_I, color_J)</td>\n",
       "    </tr>\n",
       "    <tr>\n",
       "      <th>5</th>\n",
       "      <td>(1, 3, 6, 15, 16)</td>\n",
       "      <td>[0.8875842536762168, 0.8918173287852081, 0.885...</td>\n",
       "      <td>0.883232</td>\n",
       "      <td>(carat, table, z, color_I, color_J)</td>\n",
       "    </tr>\n",
       "    <tr>\n",
       "      <th>6</th>\n",
       "      <td>(1, 3, 6, 14, 15, 16)</td>\n",
       "      <td>[0.8911045141725183, 0.8907896057845885, 0.889...</td>\n",
       "      <td>0.885831</td>\n",
       "      <td>(carat, table, z, color_H, color_I, color_J)</td>\n",
       "    </tr>\n",
       "    <tr>\n",
       "      <th>7</th>\n",
       "      <td>(1, 3, 6, 8, 14, 15, 16)</td>\n",
       "      <td>[0.8911153033743009, 0.8918738122339651, 0.889...</td>\n",
       "      <td>0.886088</td>\n",
       "      <td>(carat, table, z, cut_Ideal, color_H, color_I,...</td>\n",
       "    </tr>\n",
       "    <tr>\n",
       "      <th>8</th>\n",
       "      <td>(1, 3, 4, 6, 8, 14, 15, 16)</td>\n",
       "      <td>[0.8921105651697747, 0.8926103827717617, 0.890...</td>\n",
       "      <td>0.886665</td>\n",
       "      <td>(carat, table, x, z, cut_Ideal, color_H, color...</td>\n",
       "    </tr>\n",
       "  </tbody>\n",
       "</table>\n",
       "</div>"
      ],
      "text/plain": [
       "                   feature_idx  \\\n",
       "1                         (1,)   \n",
       "2                       (1, 6)   \n",
       "3                   (1, 6, 16)   \n",
       "4               (1, 6, 15, 16)   \n",
       "5            (1, 3, 6, 15, 16)   \n",
       "6        (1, 3, 6, 14, 15, 16)   \n",
       "7     (1, 3, 6, 8, 14, 15, 16)   \n",
       "8  (1, 3, 4, 6, 8, 14, 15, 16)   \n",
       "\n",
       "                                           cv_scores avg_score  \\\n",
       "1  [0.8762829949804581, 0.8669378259743176, 0.855...  0.861186   \n",
       "2  [0.8834118629620207, 0.8802461032547032, 0.868...  0.870199   \n",
       "3  [0.8913075810938818, 0.886325436421043, 0.8742...  0.877765   \n",
       "4  [0.8871631778975614, 0.8903240744152804, 0.880...  0.880616   \n",
       "5  [0.8875842536762168, 0.8918173287852081, 0.885...  0.883232   \n",
       "6  [0.8911045141725183, 0.8907896057845885, 0.889...  0.885831   \n",
       "7  [0.8911153033743009, 0.8918738122339651, 0.889...  0.886088   \n",
       "8  [0.8921105651697747, 0.8926103827717617, 0.890...  0.886665   \n",
       "\n",
       "                                       feature_names  \n",
       "1                                           (carat,)  \n",
       "2                                         (carat, z)  \n",
       "3                                (carat, z, color_J)  \n",
       "4                       (carat, z, color_I, color_J)  \n",
       "5                (carat, table, z, color_I, color_J)  \n",
       "6       (carat, table, z, color_H, color_I, color_J)  \n",
       "7  (carat, table, z, cut_Ideal, color_H, color_I,...  \n",
       "8  (carat, table, x, z, cut_Ideal, color_H, color...  "
      ]
     },
     "execution_count": 59,
     "metadata": {},
     "output_type": "execute_result"
    }
   ],
   "source": [
    "pd.DataFrame(sfs1.subsets_).T"
   ]
  },
  {
   "cell_type": "markdown",
   "metadata": {},
   "source": [
    "<table align=\"left\">\n",
    "    <tr>\n",
    "        <td width=\"6%\">\n",
    "            <img src=\"question_icon.png\">\n",
    "        </td>\n",
    "        <td>\n",
    "            <div align=\"left\", style=\"font-size:120%\">\n",
    "                <font color=\"#21618C\">\n",
    "                    <b>4. Use the 4-fold cross validation method and compute the coefficient of determination for each model\n",
    "                    </b>\n",
    "                </font>\n",
    "            </div>\n",
    "        </td>\n",
    "    </tr>\n",
    "</table>"
   ]
  },
  {
   "cell_type": "code",
   "execution_count": 26,
   "metadata": {},
   "outputs": [],
   "source": [
    "# type your code here\n",
    "LR=LinearRegression()\n",
    "cv_score=cross_val_score(LR,X,y,cv=4,scoring='r2')"
   ]
  },
  {
   "cell_type": "code",
   "execution_count": 27,
   "metadata": {},
   "outputs": [],
   "source": [
    "k_fold=KFold(n_splits=4,shuffle=True,random_state=5)\n",
    "CV_1=cross_val_score(LR,X,y,cv=k_fold,scoring='r2')"
   ]
  },
  {
   "cell_type": "code",
   "execution_count": 28,
   "metadata": {},
   "outputs": [
    {
     "data": {
      "text/plain": [
       "array([0.87701916, 0.90466516, 0.8953416 , 0.86677039])"
      ]
     },
     "execution_count": 28,
     "metadata": {},
     "output_type": "execute_result"
    }
   ],
   "source": [
    "cv_score #by directly giving noofsplit"
   ]
  },
  {
   "cell_type": "code",
   "execution_count": 29,
   "metadata": {},
   "outputs": [
    {
     "data": {
      "text/plain": [
       "array([0.89854273, 0.88980734, 0.90174939, 0.8565487 ])"
      ]
     },
     "execution_count": 29,
     "metadata": {},
     "output_type": "execute_result"
    }
   ],
   "source": [
    "CV_1 #by using kfold in cross validation."
   ]
  },
  {
   "cell_type": "markdown",
   "metadata": {},
   "source": [
    "<table align=\"left\">\n",
    "    <tr>\n",
    "        <td width=\"6%\">\n",
    "            <img src=\"question_icon.png\">\n",
    "        </td>\n",
    "        <td>\n",
    "            <div align=\"left\", style=\"font-size:120%\">\n",
    "                <font color=\"#21618C\">\n",
    "                    <b>5. Identify the most insignificant numerical variable among all the numeric variables in the data\n",
    "                    </b>\n",
    "                </font>\n",
    "            </div>\n",
    "        </td>\n",
    "    </tr>\n",
    "</table>"
   ]
  },
  {
   "cell_type": "code",
   "execution_count": 30,
   "metadata": {},
   "outputs": [
    {
     "name": "stdout",
     "output_type": "stream",
     "text": [
      "                                 OLS Regression Results                                \n",
      "=======================================================================================\n",
      "Dep. Variable:                  price   R-squared (uncentered):                   0.944\n",
      "Model:                            OLS   Adj. R-squared (uncentered):              0.943\n",
      "Method:                 Least Squares   F-statistic:                              1609.\n",
      "Date:                Sat, 07 Aug 2021   Prob (F-statistic):                        0.00\n",
      "Time:                        01:25:14   Log-Likelihood:                         -13345.\n",
      "No. Observations:                1547   AIC:                                  2.672e+04\n",
      "Df Residuals:                    1531   BIC:                                  2.681e+04\n",
      "Df Model:                          16                                                  \n",
      "Covariance Type:            nonrobust                                                  \n",
      "=================================================================================\n",
      "                    coef    std err          t      P>|t|      [0.025      0.975]\n",
      "---------------------------------------------------------------------------------\n",
      "carat          1.327e+04    369.867     35.875      0.000    1.25e+04     1.4e+04\n",
      "depth           108.7414     21.777      4.993      0.000      66.025     151.458\n",
      "table           -36.4735     19.978     -1.826      0.068     -75.660       2.713\n",
      "x             -2340.7794    740.910     -3.159      0.002   -3794.085    -887.474\n",
      "y              2127.1070    717.492      2.965      0.003     719.735    3534.479\n",
      "z             -3015.3166    705.837     -4.272      0.000   -4399.826   -1630.807\n",
      "cut_Good        574.9017    249.065      2.308      0.021      86.358    1063.446\n",
      "cut_Ideal      1147.0728    247.566      4.633      0.000     661.468    1632.678\n",
      "cut_Premium     898.8884    236.340      3.803      0.000     435.303    1362.474\n",
      "cut_Very Good   916.2418    242.887      3.772      0.000     439.816    1392.667\n",
      "color_E          -1.2404    124.606     -0.010      0.992    -245.657     243.176\n",
      "color_F         177.6519    125.346      1.417      0.157     -68.215     423.519\n",
      "color_G         -41.1777    121.642     -0.339      0.735    -279.781     197.426\n",
      "color_H        -606.1674    129.295     -4.688      0.000    -859.782    -352.553\n",
      "color_I       -1017.9849    150.233     -6.776      0.000   -1312.668    -723.302\n",
      "color_J       -1934.5108    180.054    -10.744      0.000   -2287.689   -1581.333\n",
      "==============================================================================\n",
      "Omnibus:                      467.689   Durbin-Watson:                   1.945\n",
      "Prob(Omnibus):                  0.000   Jarque-Bera (JB):             5972.038\n",
      "Skew:                           1.039   Prob(JB):                         0.00\n",
      "Kurtosis:                      12.398   Cond. No.                     2.45e+03\n",
      "==============================================================================\n",
      "\n",
      "Notes:\n",
      "[1] R² is computed without centering (uncentered) since the model does not contain a constant.\n",
      "[2] Standard Errors assume that the covariance matrix of the errors is correctly specified.\n",
      "[3] The condition number is large, 2.45e+03. This might indicate that there are\n",
      "strong multicollinearity or other numerical problems.\n"
     ]
    }
   ],
   "source": [
    "# type your code here\n",
    "y=df_diamond['price']\n",
    "X=sm.add_constant(X)\n",
    "X=df_diamond.drop('price',axis=1)\n",
    "f_model=sm.OLS(y,X).fit()\n",
    "print(f_model.summary())"
   ]
  },
  {
   "cell_type": "code",
   "execution_count": null,
   "metadata": {},
   "outputs": [],
   "source": [
    "#according to the f_model we can clearly say that the 'color_E' is the most insignificant feature as it has the highest p_value"
   ]
  },
  {
   "cell_type": "markdown",
   "metadata": {},
   "source": [
    "<table align=\"left\">\n",
    "    <tr>\n",
    "        <td width=\"6%\">\n",
    "            <img src=\"question_icon.png\">\n",
    "        </td>\n",
    "        <td>\n",
    "            <div align=\"left\", style=\"font-size:120%\">\n",
    "                <font color=\"#21618C\">\n",
    "                    <b>6. Do the residuals obtained from the full model follow a normal distribution?\n",
    "                    </b>\n",
    "                </font>\n",
    "            </div>\n",
    "        </td>\n",
    "    </tr>\n",
    "</table>"
   ]
  },
  {
   "cell_type": "code",
   "execution_count": 31,
   "metadata": {},
   "outputs": [
    {
     "data": {
      "text/plain": [
       "1.0403127824253127"
      ]
     },
     "execution_count": 31,
     "metadata": {},
     "output_type": "execute_result"
    }
   ],
   "source": [
    "# type your code here\n",
    "f_model.resid.skew()"
   ]
  },
  {
   "cell_type": "code",
   "execution_count": 16,
   "metadata": {},
   "outputs": [
    {
     "name": "stdout",
     "output_type": "stream",
     "text": [
      "p_value : 9.309036005383286e-37\n"
     ]
    }
   ],
   "source": [
    "stat,p_val=stats.shapiro(f_model.resid)\n",
    "print('p_value :',p_val)"
   ]
  },
  {
   "cell_type": "code",
   "execution_count": 17,
   "metadata": {},
   "outputs": [
    {
     "data": {
      "text/plain": [
       "<AxesSubplot:ylabel='Density'>"
      ]
     },
     "execution_count": 17,
     "metadata": {},
     "output_type": "execute_result"
    },
    {
     "data": {
      "image/png": "[encoded data removed]",
      "text/plain": [
       "<Figure size 432x288 with 1 Axes>"
      ]
     },
     "metadata": {
      "needs_background": "light"
     },
     "output_type": "display_data"
    }
   ],
   "source": [
    "sns.distplot(f_model.resid)"
   ]
  },
  {
   "cell_type": "code",
   "execution_count": null,
   "metadata": {},
   "outputs": [],
   "source": [
    "#residuals are slightly right skewed,p_val<0.05 so we conclide that data is not normal"
   ]
  },
  {
   "cell_type": "markdown",
   "metadata": {},
   "source": [
    "<table align=\"left\">\n",
    "    <tr>\n",
    "        <td width=\"6%\">\n",
    "            <img src=\"question_icon.png\">\n",
    "        </td>\n",
    "        <td>\n",
    "            <div align=\"left\", style=\"font-size:120%\">\n",
    "                <font color=\"#21618C\">\n",
    "                    <b>7. Is it possible to make the residuals normal? If yes, do the needful\n",
    "                    </b>\n",
    "                </font>\n",
    "            </div>\n",
    "        </td>\n",
    "    </tr>\n",
    "</table>"
   ]
  },
  {
   "cell_type": "code",
   "execution_count": 1,
   "metadata": {},
   "outputs": [],
   "source": [
    "# type your code here\n",
    "yes it is possible to make the residuals normal."
   ]
  },
  {
   "cell_type": "code",
   "execution_count": 33,
   "metadata": {},
   "outputs": [
    {
     "data": {
      "text/plain": [
       "-0.7941251193648868"
      ]
     },
     "execution_count": 33,
     "metadata": {},
     "output_type": "execute_result"
    }
   ],
   "source": [
    "x=np.log(f_model.resid)\n",
    "x.skew()"
   ]
  },
  {
   "cell_type": "markdown",
   "metadata": {},
   "source": [
    "<table align=\"left\">\n",
    "    <tr>\n",
    "        <td width=\"6%\">\n",
    "            <img src=\"question_icon.png\">\n",
    "        </td>\n",
    "        <td>\n",
    "            <div align=\"left\", style=\"font-size:120%\">\n",
    "                <font color=\"#21618C\">\n",
    "                    <b>8. Consider the full model and remove the variables one-by-one to obtain the set of seven most significant variables\n",
    "                    </b>\n",
    "                </font>\n",
    "            </div>\n",
    "        </td>\n",
    "    </tr>\n",
    "</table>"
   ]
  },
  {
   "cell_type": "code",
   "execution_count": 52,
   "metadata": {},
   "outputs": [
    {
     "name": "stdout",
     "output_type": "stream",
     "text": [
      "                            OLS Regression Results                            \n",
      "==============================================================================\n",
      "Dep. Variable:                  price   R-squared:                       0.893\n",
      "Model:                            OLS   Adj. R-squared:                  0.891\n",
      "Method:                 Least Squares   F-statistic:                     794.4\n",
      "Date:                Sat, 07 Aug 2021   Prob (F-statistic):               0.00\n",
      "Time:                        01:53:38   Log-Likelihood:                -13345.\n",
      "No. Observations:                1547   AIC:                         2.672e+04\n",
      "Df Residuals:                    1530   BIC:                         2.681e+04\n",
      "Df Model:                          16                                         \n",
      "Covariance Type:            nonrobust                                         \n",
      "=================================================================================\n",
      "                    coef    std err          t      P>|t|      [0.025      0.975]\n",
      "---------------------------------------------------------------------------------\n",
      "const         -1.066e+04   8378.089     -1.272      0.204   -2.71e+04    5776.269\n",
      "carat          1.322e+04    371.464     35.601      0.000    1.25e+04     1.4e+04\n",
      "depth           273.9828    131.712      2.080      0.038      15.627     532.338\n",
      "table           -30.3427     20.547     -1.477      0.140     -70.646       9.961\n",
      "x             -1692.0142    899.352     -1.881      0.060   -3456.108      72.080\n",
      "y              3092.6570   1044.380      2.961      0.003    1044.089    5141.226\n",
      "z             -5599.5209   2150.582     -2.604      0.009   -9817.921   -1381.121\n",
      "cut_Good        579.7803    249.044      2.328      0.020      91.277    1068.284\n",
      "cut_Ideal      1184.3864    249.248      4.752      0.000     695.482    1673.291\n",
      "cut_Premium     927.6344    237.371      3.908      0.000     462.028    1393.241\n",
      "cut_Very Good   933.0889    243.198      3.837      0.000     456.051    1410.126\n",
      "color_E           2.2611    124.611      0.018      0.986    -242.166     246.688\n",
      "color_F         182.0281    125.368      1.452      0.147     -63.882     427.939\n",
      "color_G         -40.9346    121.618     -0.337      0.736    -279.490     197.621\n",
      "color_H        -606.2675    129.269     -4.690      0.000    -859.831    -352.704\n",
      "color_I       -1016.8542    150.205     -6.770      0.000   -1311.483    -722.225\n",
      "color_J       -1930.5179    180.045    -10.722      0.000   -2283.678   -1577.357\n",
      "==============================================================================\n",
      "Omnibus:                      470.401   Durbin-Watson:                   1.945\n",
      "Prob(Omnibus):                  0.000   Jarque-Bera (JB):             5833.995\n",
      "Skew:                           1.056   Prob(JB):                         0.00\n",
      "Kurtosis:                      12.276   Cond. No.                     2.13e+04\n",
      "==============================================================================\n",
      "\n",
      "Notes:\n",
      "[1] Standard Errors assume that the covariance matrix of the errors is correctly specified.\n",
      "[2] The condition number is large, 2.13e+04. This might indicate that there are\n",
      "strong multicollinearity or other numerical problems.\n"
     ]
    }
   ],
   "source": [
    "# type your code here\n",
    "X=df_diamond.drop('price',axis=1)\n",
    "y=df_diamond['price']\n",
    "X=sm.add_constant(X)\n",
    "f_model=sm.OLS(y,X).fit()\n",
    "print(f_model.summary())"
   ]
  },
  {
   "cell_type": "code",
   "execution_count": 53,
   "metadata": {},
   "outputs": [
    {
     "name": "stdout",
     "output_type": "stream",
     "text": [
      "Fitting estimator with 17 features.\n",
      "Fitting estimator with 16 features.\n",
      "Fitting estimator with 15 features.\n",
      "Fitting estimator with 14 features.\n",
      "Fitting estimator with 13 features.\n",
      "Fitting estimator with 12 features.\n",
      "Fitting estimator with 11 features.\n",
      "Fitting estimator with 10 features.\n",
      "Fitting estimator with 9 features.\n",
      "Fitting estimator with 8 features.\n"
     ]
    },
    {
     "data": {
      "text/plain": [
       "RFE(estimator=LinearRegression(), n_features_to_select=7, verbose=3)"
      ]
     },
     "execution_count": 53,
     "metadata": {},
     "output_type": "execute_result"
    }
   ],
   "source": [
    "rfe=RFE(LR,n_features_to_select=7,verbose=3)\n",
    "rfe.fit(X,y)"
   ]
  },
  {
   "cell_type": "code",
   "execution_count": 54,
   "metadata": {},
   "outputs": [
    {
     "data": {
      "text/html": [
       "<div>\n",
       "<style scoped>\n",
       "    .dataframe tbody tr th:only-of-type {\n",
       "        vertical-align: middle;\n",
       "    }\n",
       "\n",
       "    .dataframe tbody tr th {\n",
       "        vertical-align: top;\n",
       "    }\n",
       "\n",
       "    .dataframe thead th {\n",
       "        text-align: right;\n",
       "    }\n",
       "</style>\n",
       "<table border=\"1\" class=\"dataframe\">\n",
       "  <thead>\n",
       "    <tr style=\"text-align: right;\">\n",
       "      <th></th>\n",
       "      <th>rank</th>\n",
       "    </tr>\n",
       "  </thead>\n",
       "  <tbody>\n",
       "    <tr>\n",
       "      <th>color_J</th>\n",
       "      <td>1</td>\n",
       "    </tr>\n",
       "    <tr>\n",
       "      <th>carat</th>\n",
       "      <td>1</td>\n",
       "    </tr>\n",
       "    <tr>\n",
       "      <th>color_H</th>\n",
       "      <td>1</td>\n",
       "    </tr>\n",
       "    <tr>\n",
       "      <th>color_I</th>\n",
       "      <td>1</td>\n",
       "    </tr>\n",
       "    <tr>\n",
       "      <th>x</th>\n",
       "      <td>1</td>\n",
       "    </tr>\n",
       "    <tr>\n",
       "      <th>y</th>\n",
       "      <td>1</td>\n",
       "    </tr>\n",
       "    <tr>\n",
       "      <th>z</th>\n",
       "      <td>1</td>\n",
       "    </tr>\n",
       "    <tr>\n",
       "      <th>cut_Ideal</th>\n",
       "      <td>2</td>\n",
       "    </tr>\n",
       "    <tr>\n",
       "      <th>cut_Very Good</th>\n",
       "      <td>3</td>\n",
       "    </tr>\n",
       "    <tr>\n",
       "      <th>cut_Premium</th>\n",
       "      <td>4</td>\n",
       "    </tr>\n",
       "    <tr>\n",
       "      <th>cut_Good</th>\n",
       "      <td>5</td>\n",
       "    </tr>\n",
       "    <tr>\n",
       "      <th>depth</th>\n",
       "      <td>6</td>\n",
       "    </tr>\n",
       "    <tr>\n",
       "      <th>color_F</th>\n",
       "      <td>7</td>\n",
       "    </tr>\n",
       "    <tr>\n",
       "      <th>color_G</th>\n",
       "      <td>8</td>\n",
       "    </tr>\n",
       "    <tr>\n",
       "      <th>table</th>\n",
       "      <td>9</td>\n",
       "    </tr>\n",
       "    <tr>\n",
       "      <th>color_E</th>\n",
       "      <td>10</td>\n",
       "    </tr>\n",
       "    <tr>\n",
       "      <th>const</th>\n",
       "      <td>11</td>\n",
       "    </tr>\n",
       "  </tbody>\n",
       "</table>\n",
       "</div>"
      ],
      "text/plain": [
       "               rank\n",
       "color_J           1\n",
       "carat             1\n",
       "color_H           1\n",
       "color_I           1\n",
       "x                 1\n",
       "y                 1\n",
       "z                 1\n",
       "cut_Ideal         2\n",
       "cut_Very Good     3\n",
       "cut_Premium       4\n",
       "cut_Good          5\n",
       "depth             6\n",
       "color_F           7\n",
       "color_G           8\n",
       "table             9\n",
       "color_E          10\n",
       "const            11"
      ]
     },
     "execution_count": 54,
     "metadata": {},
     "output_type": "execute_result"
    }
   ],
   "source": [
    "pd.DataFrame(rfe.ranking_,index=X.columns,columns=['rank']).sort_values(by='rank')"
   ]
  },
  {
   "cell_type": "code",
   "execution_count": null,
   "metadata": {},
   "outputs": [],
   "source": [
    "#color_J,carat,color_H,color_I,x,y,z are the 7 most sgnificant variable."
   ]
  },
  {
   "cell_type": "markdown",
   "metadata": {},
   "source": [
    "<table align=\"left\">\n",
    "    <tr>\n",
    "        <td width=\"6%\">\n",
    "            <img src=\"question_icon.png\">\n",
    "        </td>\n",
    "        <td>\n",
    "            <div align=\"left\", style=\"font-size:120%\">\n",
    "                <font color=\"#21618C\">\n",
    "                    <b>9. Identify the colors of a diamond that are not significant while predicting the price?\n",
    "                    </b>\n",
    "                </font>\n",
    "            </div>\n",
    "        </td>\n",
    "    </tr>\n",
    "</table>"
   ]
  },
  {
   "cell_type": "code",
   "execution_count": 66,
   "metadata": {},
   "outputs": [],
   "source": [
    "x=df_diamond[['color']]\n",
    "X=pd.get_dummies(x,drop_first=True)\n",
    "y=df_diamond['price']\n",
    "X=sm.add_constant(X)"
   ]
  },
  {
   "cell_type": "code",
   "execution_count": 67,
   "metadata": {},
   "outputs": [
    {
     "name": "stdout",
     "output_type": "stream",
     "text": [
      "Fitting estimator with 7 features.\n",
      "Fitting estimator with 6 features.\n",
      "Fitting estimator with 5 features.\n",
      "Fitting estimator with 4 features.\n"
     ]
    },
    {
     "data": {
      "text/plain": [
       "RFE(estimator=LinearRegression(), n_features_to_select=3, verbose=3)"
      ]
     },
     "execution_count": 67,
     "metadata": {},
     "output_type": "execute_result"
    }
   ],
   "source": [
    "LR=LinearRegression()\n",
    "rfe=RFE(LR,n_features_to_select=3,verbose=3)\n",
    "rfe.fit(X,y)"
   ]
  },
  {
   "cell_type": "code",
   "execution_count": 68,
   "metadata": {},
   "outputs": [
    {
     "data": {
      "text/html": [
       "<div>\n",
       "<style scoped>\n",
       "    .dataframe tbody tr th:only-of-type {\n",
       "        vertical-align: middle;\n",
       "    }\n",
       "\n",
       "    .dataframe tbody tr th {\n",
       "        vertical-align: top;\n",
       "    }\n",
       "\n",
       "    .dataframe thead th {\n",
       "        text-align: right;\n",
       "    }\n",
       "</style>\n",
       "<table border=\"1\" class=\"dataframe\">\n",
       "  <thead>\n",
       "    <tr style=\"text-align: right;\">\n",
       "      <th></th>\n",
       "      <th>rank</th>\n",
       "    </tr>\n",
       "  </thead>\n",
       "  <tbody>\n",
       "    <tr>\n",
       "      <th>color_H</th>\n",
       "      <td>1</td>\n",
       "    </tr>\n",
       "    <tr>\n",
       "      <th>color_I</th>\n",
       "      <td>1</td>\n",
       "    </tr>\n",
       "    <tr>\n",
       "      <th>color_J</th>\n",
       "      <td>1</td>\n",
       "    </tr>\n",
       "    <tr>\n",
       "      <th>color_E</th>\n",
       "      <td>2</td>\n",
       "    </tr>\n",
       "    <tr>\n",
       "      <th>color_G</th>\n",
       "      <td>3</td>\n",
       "    </tr>\n",
       "    <tr>\n",
       "      <th>color_F</th>\n",
       "      <td>4</td>\n",
       "    </tr>\n",
       "    <tr>\n",
       "      <th>const</th>\n",
       "      <td>5</td>\n",
       "    </tr>\n",
       "  </tbody>\n",
       "</table>\n",
       "</div>"
      ],
      "text/plain": [
       "         rank\n",
       "color_H     1\n",
       "color_I     1\n",
       "color_J     1\n",
       "color_E     2\n",
       "color_G     3\n",
       "color_F     4\n",
       "const       5"
      ]
     },
     "execution_count": 68,
     "metadata": {},
     "output_type": "execute_result"
    }
   ],
   "source": [
    "pd.DataFrame(rfe.ranking_,index=X.columns,columns=['rank']).sort_values(by='rank')"
   ]
  },
  {
   "cell_type": "code",
   "execution_count": null,
   "metadata": {},
   "outputs": [],
   "source": [
    "#according to the rfe model color_E,color_G,color_F less significant than color_H,color_I,color_J"
   ]
  },
  {
   "cell_type": "markdown",
   "metadata": {},
   "source": [
    "<table align=\"left\">\n",
    "    <tr>\n",
    "        <td width=\"6%\">\n",
    "            <img src=\"question_icon.png\">\n",
    "        </td>\n",
    "        <td>\n",
    "            <div align=\"left\", style=\"font-size:120%\">\n",
    "                <font color=\"#21618C\">\n",
    "                    <b>10. Build a regression model on the five features obtained by eliminating the features recursively \n",
    "                    </b>\n",
    "                </font>\n",
    "            </div>\n",
    "        </td>\n",
    "    </tr>\n",
    "</table>"
   ]
  },
  {
   "cell_type": "code",
   "execution_count": 73,
   "metadata": {},
   "outputs": [],
   "source": [
    "X=df_diamond.drop('price',axis=1)\n",
    "y=df_diamond['price']\n",
    "X=sm.add_constant(X)\n",
    "f_model=sm.OLS(y,X).fit()"
   ]
  },
  {
   "cell_type": "code",
   "execution_count": 74,
   "metadata": {},
   "outputs": [
    {
     "name": "stdout",
     "output_type": "stream",
     "text": [
      "Fitting estimator with 17 features.\n",
      "Fitting estimator with 16 features.\n",
      "Fitting estimator with 15 features.\n",
      "Fitting estimator with 14 features.\n",
      "Fitting estimator with 13 features.\n",
      "Fitting estimator with 12 features.\n",
      "Fitting estimator with 11 features.\n",
      "Fitting estimator with 10 features.\n",
      "Fitting estimator with 9 features.\n",
      "Fitting estimator with 8 features.\n",
      "Fitting estimator with 7 features.\n",
      "Fitting estimator with 6 features.\n"
     ]
    },
    {
     "data": {
      "text/plain": [
       "RFE(estimator=LinearRegression(), n_features_to_select=5, verbose=3)"
      ]
     },
     "execution_count": 74,
     "metadata": {},
     "output_type": "execute_result"
    }
   ],
   "source": [
    "rfe=RFE(LR,n_features_to_select=5,verbose=3)\n",
    "rfe.fit(X,y)"
   ]
  },
  {
   "cell_type": "code",
   "execution_count": 75,
   "metadata": {},
   "outputs": [
    {
     "data": {
      "text/html": [
       "<div>\n",
       "<style scoped>\n",
       "    .dataframe tbody tr th:only-of-type {\n",
       "        vertical-align: middle;\n",
       "    }\n",
       "\n",
       "    .dataframe tbody tr th {\n",
       "        vertical-align: top;\n",
       "    }\n",
       "\n",
       "    .dataframe thead th {\n",
       "        text-align: right;\n",
       "    }\n",
       "</style>\n",
       "<table border=\"1\" class=\"dataframe\">\n",
       "  <thead>\n",
       "    <tr style=\"text-align: right;\">\n",
       "      <th></th>\n",
       "      <th>rank</th>\n",
       "    </tr>\n",
       "  </thead>\n",
       "  <tbody>\n",
       "    <tr>\n",
       "      <th>color_J</th>\n",
       "      <td>1</td>\n",
       "    </tr>\n",
       "    <tr>\n",
       "      <th>carat</th>\n",
       "      <td>1</td>\n",
       "    </tr>\n",
       "    <tr>\n",
       "      <th>x</th>\n",
       "      <td>1</td>\n",
       "    </tr>\n",
       "    <tr>\n",
       "      <th>y</th>\n",
       "      <td>1</td>\n",
       "    </tr>\n",
       "    <tr>\n",
       "      <th>z</th>\n",
       "      <td>1</td>\n",
       "    </tr>\n",
       "    <tr>\n",
       "      <th>color_I</th>\n",
       "      <td>2</td>\n",
       "    </tr>\n",
       "    <tr>\n",
       "      <th>color_H</th>\n",
       "      <td>3</td>\n",
       "    </tr>\n",
       "    <tr>\n",
       "      <th>cut_Ideal</th>\n",
       "      <td>4</td>\n",
       "    </tr>\n",
       "    <tr>\n",
       "      <th>cut_Very Good</th>\n",
       "      <td>5</td>\n",
       "    </tr>\n",
       "    <tr>\n",
       "      <th>cut_Premium</th>\n",
       "      <td>6</td>\n",
       "    </tr>\n",
       "    <tr>\n",
       "      <th>cut_Good</th>\n",
       "      <td>7</td>\n",
       "    </tr>\n",
       "    <tr>\n",
       "      <th>depth</th>\n",
       "      <td>8</td>\n",
       "    </tr>\n",
       "    <tr>\n",
       "      <th>color_F</th>\n",
       "      <td>9</td>\n",
       "    </tr>\n",
       "    <tr>\n",
       "      <th>color_G</th>\n",
       "      <td>10</td>\n",
       "    </tr>\n",
       "    <tr>\n",
       "      <th>table</th>\n",
       "      <td>11</td>\n",
       "    </tr>\n",
       "    <tr>\n",
       "      <th>color_E</th>\n",
       "      <td>12</td>\n",
       "    </tr>\n",
       "    <tr>\n",
       "      <th>const</th>\n",
       "      <td>13</td>\n",
       "    </tr>\n",
       "  </tbody>\n",
       "</table>\n",
       "</div>"
      ],
      "text/plain": [
       "               rank\n",
       "color_J           1\n",
       "carat             1\n",
       "x                 1\n",
       "y                 1\n",
       "z                 1\n",
       "color_I           2\n",
       "color_H           3\n",
       "cut_Ideal         4\n",
       "cut_Very Good     5\n",
       "cut_Premium       6\n",
       "cut_Good          7\n",
       "depth             8\n",
       "color_F           9\n",
       "color_G          10\n",
       "table            11\n",
       "color_E          12\n",
       "const            13"
      ]
     },
     "execution_count": 75,
     "metadata": {},
     "output_type": "execute_result"
    }
   ],
   "source": [
    "pd.DataFrame(rfe.ranking_,index=X.columns,columns=['rank']).sort_values(by='rank')"
   ]
  },
  {
   "cell_type": "code",
   "execution_count": null,
   "metadata": {},
   "outputs": [],
   "source": [
    "#color_j,carat,x,y,z the 5 most significant features."
   ]
  }
 ],
 "metadata": {
  "kernelspec": {
   "display_name": "Python 3",
   "language": "python",
   "name": "python3"
  },
  "language_info": {
   "codemirror_mode": {
    "name": "ipython",
    "version": 3
   },
   "file_extension": ".py",
   "mimetype": "text/x-python",
   "name": "python",
   "nbconvert_exporter": "python",
   "pygments_lexer": "ipython3",
   "version": "3.8.5"
  }
 },
 "nbformat": 4,
 "nbformat_minor": 2
}
