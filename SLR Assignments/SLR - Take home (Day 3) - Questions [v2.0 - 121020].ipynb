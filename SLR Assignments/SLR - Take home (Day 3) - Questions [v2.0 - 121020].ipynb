{
 "cells": [
  {
   "cell_type": "markdown",
   "metadata": {},
   "source": [
    "<table align=\"center\" width=100%>\n",
    "    <tr>\n",
    "        <td width=\"15%\">\n",
    "            <img src=\"homework.png\">\n",
    "        </td>\n",
    "        <td>\n",
    "            <div align=\"center\">\n",
    "                <font color=\"#21618C\" size=8px>\n",
    "                    <b> Take-Home <br>(Day 3)\n",
    "                    </b>\n",
    "                </font>\n",
    "            </div>\n",
    "        </td>\n",
    "    </tr>\n",
    "</table>"
   ]
  },
  {
   "cell_type": "markdown",
   "metadata": {},
   "source": [
    "#### Import the required libraries"
   ]
  },
  {
   "cell_type": "code",
   "execution_count": 37,
   "metadata": {},
   "outputs": [],
   "source": [
    "# type your code here\n",
    "# type your code here\n",
    "# import 'Pandas' \n",
    "import pandas as pd \n",
    "\n",
    "# import 'Numpy' \n",
    "import numpy as np\n",
    "\n",
    "# import subpackage of Matplotlib\n",
    "import matplotlib.pyplot as plt\n",
    "\n",
    "# import 'Seaborn' \n",
    "import seaborn as sns\n",
    "\n",
    "# to suppress warnings \n",
    "from warnings import filterwarnings\n",
    "filterwarnings('ignore')\n",
    "\n",
    "# display all columns of the dataframe\n",
    "pd.options.display.max_columns = None\n",
    "\n",
    "# display all rows of the dataframe\n",
    "pd.options.display.max_rows = None\n",
    " \n",
    "# to display the float values upto 6 decimal places     \n",
    "pd.options.display.float_format = '{:.6f}'.format\n",
    "\n",
    "# import train-test split \n",
    "from sklearn.model_selection import train_test_split\n",
    "\n",
    "# import various functions from statsmodels\n",
    "import statsmodels\n",
    "import statsmodels.api as sm\n",
    "import statsmodels.stats.api as sms\n",
    "from statsmodels.graphics.gofplots import qqplot\n",
    "\n",
    "# import 'stats'\n",
    "from scipy import stats\n",
    "\n",
    "# 'metrics' from sklearn is used for evaluating the model performance\n",
    "from sklearn.metrics import mean_squared_error\n",
    "\n",
    "# import functions to perform feature selection\n",
    "\n",
    "from sklearn.feature_selection import RFE\n",
    "\n",
    "# import function to perform linear regression\n",
    "from sklearn.linear_model import LinearRegression\n",
    "\n",
    "# import functions to perform cross validation\n",
    "from sklearn.model_selection import LeaveOneOut\n",
    "from sklearn.model_selection import cross_val_score\n",
    "from sklearn.model_selection import KFold"
   ]
  },
  {
   "cell_type": "markdown",
   "metadata": {},
   "source": [
    "#### Read the data\n",
    "\n",
    "Load the csv file and print the first five observations."
   ]
  },
  {
   "cell_type": "code",
   "execution_count": 4,
   "metadata": {},
   "outputs": [
    {
     "data": {
      "text/html": [
       "<div>\n",
       "<style scoped>\n",
       "    .dataframe tbody tr th:only-of-type {\n",
       "        vertical-align: middle;\n",
       "    }\n",
       "\n",
       "    .dataframe tbody tr th {\n",
       "        vertical-align: top;\n",
       "    }\n",
       "\n",
       "    .dataframe thead th {\n",
       "        text-align: right;\n",
       "    }\n",
       "</style>\n",
       "<table border=\"1\" class=\"dataframe\">\n",
       "  <thead>\n",
       "    <tr style=\"text-align: right;\">\n",
       "      <th></th>\n",
       "      <th>Species</th>\n",
       "      <th>Weight</th>\n",
       "      <th>V_length</th>\n",
       "      <th>D_length</th>\n",
       "      <th>C_length</th>\n",
       "      <th>Height</th>\n",
       "      <th>Width</th>\n",
       "    </tr>\n",
       "  </thead>\n",
       "  <tbody>\n",
       "    <tr>\n",
       "      <th>0</th>\n",
       "      <td>Bream</td>\n",
       "      <td>242.000000</td>\n",
       "      <td>23.200000</td>\n",
       "      <td>25.400000</td>\n",
       "      <td>30.000000</td>\n",
       "      <td>11.520000</td>\n",
       "      <td>4.020000</td>\n",
       "    </tr>\n",
       "    <tr>\n",
       "      <th>1</th>\n",
       "      <td>Bream</td>\n",
       "      <td>290.000000</td>\n",
       "      <td>24.000000</td>\n",
       "      <td>26.300000</td>\n",
       "      <td>31.200000</td>\n",
       "      <td>12.480000</td>\n",
       "      <td>4.305600</td>\n",
       "    </tr>\n",
       "    <tr>\n",
       "      <th>2</th>\n",
       "      <td>Bream</td>\n",
       "      <td>340.000000</td>\n",
       "      <td>23.900000</td>\n",
       "      <td>26.500000</td>\n",
       "      <td>31.100000</td>\n",
       "      <td>12.377800</td>\n",
       "      <td>4.696100</td>\n",
       "    </tr>\n",
       "    <tr>\n",
       "      <th>3</th>\n",
       "      <td>Bream</td>\n",
       "      <td>363.000000</td>\n",
       "      <td>26.300000</td>\n",
       "      <td>29.000000</td>\n",
       "      <td>33.500000</td>\n",
       "      <td>12.730000</td>\n",
       "      <td>4.455500</td>\n",
       "    </tr>\n",
       "    <tr>\n",
       "      <th>4</th>\n",
       "      <td>Bream</td>\n",
       "      <td>430.000000</td>\n",
       "      <td>26.500000</td>\n",
       "      <td>29.000000</td>\n",
       "      <td>34.000000</td>\n",
       "      <td>12.444000</td>\n",
       "      <td>5.134000</td>\n",
       "    </tr>\n",
       "  </tbody>\n",
       "</table>\n",
       "</div>"
      ],
      "text/plain": [
       "  Species     Weight  V_length  D_length  C_length    Height    Width\n",
       "0   Bream 242.000000 23.200000 25.400000 30.000000 11.520000 4.020000\n",
       "1   Bream 290.000000 24.000000 26.300000 31.200000 12.480000 4.305600\n",
       "2   Bream 340.000000 23.900000 26.500000 31.100000 12.377800 4.696100\n",
       "3   Bream 363.000000 26.300000 29.000000 33.500000 12.730000 4.455500\n",
       "4   Bream 430.000000 26.500000 29.000000 34.000000 12.444000 5.134000"
      ]
     },
     "execution_count": 4,
     "metadata": {},
     "output_type": "execute_result"
    }
   ],
   "source": [
    "# type your code here\n",
    "fish = pd.read_csv(\"fish_weight_predict.csv\")\n",
    "fish.head()"
   ]
  },
  {
   "cell_type": "code",
   "execution_count": 5,
   "metadata": {},
   "outputs": [
    {
     "data": {
      "text/plain": [
       "Perch        56\n",
       "Bream        35\n",
       "Roach        20\n",
       "Pike         17\n",
       "Smelt        14\n",
       "Parkki       11\n",
       "Whitefish     6\n",
       "Name: Species, dtype: int64"
      ]
     },
     "execution_count": 5,
     "metadata": {},
     "output_type": "execute_result"
    }
   ],
   "source": [
    "fish['Species'].value_counts()"
   ]
  },
  {
   "cell_type": "markdown",
   "metadata": {},
   "source": [
    "Our objective is to predict the weight of a fish."
   ]
  },
  {
   "cell_type": "markdown",
   "metadata": {},
   "source": [
    "**The data definition is as follows:** <br>\n",
    "\n",
    "**Species:** Species of a fish\n",
    "\n",
    "**Weight:** Weight of a fish (target/dependent variable)\n",
    "\n",
    "**V_length:** Vertical length of a fish\n",
    "\n",
    "**D_length:** Diagonal length of a fish\n",
    "\n",
    "**C_length:** Cross length of a fish\n",
    "\n",
    "**Height:** Height of a fish\n",
    "\n",
    "**Width:** Diagonal width of a fish"
   ]
  },
  {
   "cell_type": "markdown",
   "metadata": {},
   "source": [
    "### Let's begin with some hands-on practice exercises"
   ]
  },
  {
   "cell_type": "markdown",
   "metadata": {},
   "source": [
    "<table align=\"left\">\n",
    "    <tr>\n",
    "        <td width=\"6%\">\n",
    "            <img src=\"question_icon.png\">\n",
    "        </td>\n",
    "        <td>\n",
    "            <div align=\"left\", style=\"font-size:120%\">\n",
    "                <font color=\"#21618C\">\n",
    "                    <b>1. Build a full model on the scaled data and check whether the model is overfitting or not</b>\n",
    "                </font>\n",
    "            </div>\n",
    "        </td>\n",
    "    </tr>\n",
    "</table>"
   ]
  },
  {
   "cell_type": "code",
   "execution_count": 6,
   "metadata": {},
   "outputs": [
    {
     "data": {
      "text/html": [
       "<div>\n",
       "<style scoped>\n",
       "    .dataframe tbody tr th:only-of-type {\n",
       "        vertical-align: middle;\n",
       "    }\n",
       "\n",
       "    .dataframe tbody tr th {\n",
       "        vertical-align: top;\n",
       "    }\n",
       "\n",
       "    .dataframe thead th {\n",
       "        text-align: right;\n",
       "    }\n",
       "</style>\n",
       "<table border=\"1\" class=\"dataframe\">\n",
       "  <thead>\n",
       "    <tr style=\"text-align: right;\">\n",
       "      <th></th>\n",
       "      <th>Weight</th>\n",
       "      <th>V_length</th>\n",
       "      <th>D_length</th>\n",
       "      <th>C_length</th>\n",
       "      <th>Height</th>\n",
       "      <th>Width</th>\n",
       "      <th>Species_Parkki</th>\n",
       "      <th>Species_Perch</th>\n",
       "      <th>Species_Pike</th>\n",
       "      <th>Species_Roach</th>\n",
       "      <th>Species_Smelt</th>\n",
       "      <th>Species_Whitefish</th>\n",
       "    </tr>\n",
       "  </thead>\n",
       "  <tbody>\n",
       "    <tr>\n",
       "      <th>0</th>\n",
       "      <td>242.000000</td>\n",
       "      <td>23.200000</td>\n",
       "      <td>25.400000</td>\n",
       "      <td>30.000000</td>\n",
       "      <td>11.520000</td>\n",
       "      <td>4.020000</td>\n",
       "      <td>0</td>\n",
       "      <td>0</td>\n",
       "      <td>0</td>\n",
       "      <td>0</td>\n",
       "      <td>0</td>\n",
       "      <td>0</td>\n",
       "    </tr>\n",
       "    <tr>\n",
       "      <th>1</th>\n",
       "      <td>290.000000</td>\n",
       "      <td>24.000000</td>\n",
       "      <td>26.300000</td>\n",
       "      <td>31.200000</td>\n",
       "      <td>12.480000</td>\n",
       "      <td>4.305600</td>\n",
       "      <td>0</td>\n",
       "      <td>0</td>\n",
       "      <td>0</td>\n",
       "      <td>0</td>\n",
       "      <td>0</td>\n",
       "      <td>0</td>\n",
       "    </tr>\n",
       "    <tr>\n",
       "      <th>2</th>\n",
       "      <td>340.000000</td>\n",
       "      <td>23.900000</td>\n",
       "      <td>26.500000</td>\n",
       "      <td>31.100000</td>\n",
       "      <td>12.377800</td>\n",
       "      <td>4.696100</td>\n",
       "      <td>0</td>\n",
       "      <td>0</td>\n",
       "      <td>0</td>\n",
       "      <td>0</td>\n",
       "      <td>0</td>\n",
       "      <td>0</td>\n",
       "    </tr>\n",
       "    <tr>\n",
       "      <th>3</th>\n",
       "      <td>363.000000</td>\n",
       "      <td>26.300000</td>\n",
       "      <td>29.000000</td>\n",
       "      <td>33.500000</td>\n",
       "      <td>12.730000</td>\n",
       "      <td>4.455500</td>\n",
       "      <td>0</td>\n",
       "      <td>0</td>\n",
       "      <td>0</td>\n",
       "      <td>0</td>\n",
       "      <td>0</td>\n",
       "      <td>0</td>\n",
       "    </tr>\n",
       "    <tr>\n",
       "      <th>4</th>\n",
       "      <td>430.000000</td>\n",
       "      <td>26.500000</td>\n",
       "      <td>29.000000</td>\n",
       "      <td>34.000000</td>\n",
       "      <td>12.444000</td>\n",
       "      <td>5.134000</td>\n",
       "      <td>0</td>\n",
       "      <td>0</td>\n",
       "      <td>0</td>\n",
       "      <td>0</td>\n",
       "      <td>0</td>\n",
       "      <td>0</td>\n",
       "    </tr>\n",
       "  </tbody>\n",
       "</table>\n",
       "</div>"
      ],
      "text/plain": [
       "      Weight  V_length  D_length  C_length    Height    Width  Species_Parkki  \\\n",
       "0 242.000000 23.200000 25.400000 30.000000 11.520000 4.020000               0   \n",
       "1 290.000000 24.000000 26.300000 31.200000 12.480000 4.305600               0   \n",
       "2 340.000000 23.900000 26.500000 31.100000 12.377800 4.696100               0   \n",
       "3 363.000000 26.300000 29.000000 33.500000 12.730000 4.455500               0   \n",
       "4 430.000000 26.500000 29.000000 34.000000 12.444000 5.134000               0   \n",
       "\n",
       "   Species_Perch  Species_Pike  Species_Roach  Species_Smelt  \\\n",
       "0              0             0              0              0   \n",
       "1              0             0              0              0   \n",
       "2              0             0              0              0   \n",
       "3              0             0              0              0   \n",
       "4              0             0              0              0   \n",
       "\n",
       "   Species_Whitefish  \n",
       "0                  0  \n",
       "1                  0  \n",
       "2                  0  \n",
       "3                  0  \n",
       "4                  0  "
      ]
     },
     "execution_count": 6,
     "metadata": {},
     "output_type": "execute_result"
    }
   ],
   "source": [
    "# type your code here\n",
    "fish = pd.get_dummies(fish,drop_first=True)\n",
    "fish.head()"
   ]
  },
  {
   "cell_type": "code",
   "execution_count": 7,
   "metadata": {},
   "outputs": [
    {
     "data": {
      "text/plain": [
       "(159, 12)"
      ]
     },
     "execution_count": 7,
     "metadata": {},
     "output_type": "execute_result"
    }
   ],
   "source": [
    "fish.shape"
   ]
  },
  {
   "cell_type": "code",
   "execution_count": 8,
   "metadata": {},
   "outputs": [],
   "source": [
    "from sklearn.preprocessing import StandardScaler\n",
    "ss=StandardScaler()\n",
    "fishss = ss.fit_transform(fish)\n",
    "fishs = pd.DataFrame(fish,columns=fish.columns)"
   ]
  },
  {
   "cell_type": "code",
   "execution_count": 10,
   "metadata": {},
   "outputs": [],
   "source": [
    "from sklearn.model_selection import train_test_split\n",
    "from sklearn.linear_model import LinearRegression\n",
    "from sklearn.feature_selection import RFE\n",
    "X = fishs.drop('Weight',axis=1)\n",
    "y = fishs['Weight']\n",
    "X_train, X_test, y_train, y_test = train_test_split(X,y,test_size=0.3, random_state=44)\n",
    "no_of_cols = 25\n",
    "score_train = []\n",
    "score_test = []\n",
    "for n in range(no_of_cols):\n",
    "    model = LinearRegression()\n",
    "    rfe = RFE(model, n_features_to_select=n+1)\n",
    "    rfe.fit(X_train,y_train)\n",
    "    \n",
    "    score = rfe.score(X_train, y_train)\n",
    "    score_train.append(score)\n",
    "\n",
    "    score2= rfe.score(X_test, y_test)\n",
    "    score_test.append(score2)"
   ]
  },
  {
   "cell_type": "code",
   "execution_count": 11,
   "metadata": {},
   "outputs": [
    {
     "data": {
      "image/png": "[encoded data removed]",
      "text/plain": [
       "<Figure size 432x288 with 1 Axes>"
      ]
     },
     "metadata": {
      "needs_background": "light"
     },
     "output_type": "display_data"
    }
   ],
   "source": [
    "plt.plot(score_train, 'salmon')\n",
    "plt.plot(score_test, 'seagreen')\n",
    "plt.show()"
   ]
  },
  {
   "cell_type": "code",
   "execution_count": 12,
   "metadata": {},
   "outputs": [
    {
     "data": {
      "text/plain": [
       "GridSearchCV(cv=KFold(n_splits=5, random_state=4, shuffle=True),\n",
       "             estimator=RFE(estimator=LinearRegression()),\n",
       "             param_grid=[{'n_features_to_select': [1, 2, 3, 4, 5, 6, 7, 8, 9,\n",
       "                                                   10, 11, 12]}],\n",
       "             return_train_score=True, scoring='r2')"
      ]
     },
     "execution_count": 12,
     "metadata": {},
     "output_type": "execute_result"
    }
   ],
   "source": [
    "from sklearn.model_selection import KFold, GridSearchCV\n",
    "\n",
    "folds = KFold(n_splits=5, shuffle=True, random_state=4)\n",
    "\n",
    "params = [{'n_features_to_select' : list(range(1,13))}]\n",
    "\n",
    "lr = LinearRegression()\n",
    "rfe = RFE(lr)\n",
    "\n",
    "gsearch = GridSearchCV(rfe, param_grid = params, scoring='r2',return_train_score=True, cv=folds)\n",
    "gsearch.fit(X,y)"
   ]
  },
  {
   "cell_type": "code",
   "execution_count": 13,
   "metadata": {},
   "outputs": [
    {
     "data": {
      "text/plain": [
       "array([-4.77857533,  0.11317821, -5.20002295,  0.82477109,  0.60179311])"
      ]
     },
     "execution_count": 13,
     "metadata": {},
     "output_type": "execute_result"
    }
   ],
   "source": [
    "scores = cross_val_score(rfe, X, y, cv=5)\n",
    "scores"
   ]
  },
  {
   "cell_type": "code",
   "execution_count": 14,
   "metadata": {},
   "outputs": [
    {
     "data": {
      "text/plain": [
       "{'n_features_to_select': 8}"
      ]
     },
     "execution_count": 14,
     "metadata": {},
     "output_type": "execute_result"
    }
   ],
   "source": [
    "gsearch.best_params_"
   ]
  },
  {
   "cell_type": "code",
   "execution_count": 15,
   "metadata": {},
   "outputs": [
    {
     "data": {
      "text/html": [
       "<div>\n",
       "<style scoped>\n",
       "    .dataframe tbody tr th:only-of-type {\n",
       "        vertical-align: middle;\n",
       "    }\n",
       "\n",
       "    .dataframe tbody tr th {\n",
       "        vertical-align: top;\n",
       "    }\n",
       "\n",
       "    .dataframe thead th {\n",
       "        text-align: right;\n",
       "    }\n",
       "</style>\n",
       "<table border=\"1\" class=\"dataframe\">\n",
       "  <thead>\n",
       "    <tr style=\"text-align: right;\">\n",
       "      <th></th>\n",
       "      <th>params</th>\n",
       "      <th>split0_test_score</th>\n",
       "      <th>split1_test_score</th>\n",
       "      <th>split2_test_score</th>\n",
       "      <th>split3_test_score</th>\n",
       "      <th>split4_test_score</th>\n",
       "      <th>mean_test_score</th>\n",
       "      <th>std_test_score</th>\n",
       "      <th>rank_test_score</th>\n",
       "      <th>split0_train_score</th>\n",
       "      <th>split1_train_score</th>\n",
       "      <th>split2_train_score</th>\n",
       "      <th>split3_train_score</th>\n",
       "      <th>split4_train_score</th>\n",
       "      <th>mean_train_score</th>\n",
       "      <th>std_train_score</th>\n",
       "    </tr>\n",
       "  </thead>\n",
       "  <tbody>\n",
       "    <tr>\n",
       "      <th>0</th>\n",
       "      <td>{'n_features_to_select': 1}</td>\n",
       "      <td>-0.149403</td>\n",
       "      <td>-0.009507</td>\n",
       "      <td>-0.084639</td>\n",
       "      <td>0.135654</td>\n",
       "      <td>-0.355170</td>\n",
       "      <td>-0.092613</td>\n",
       "      <td>0.162011</td>\n",
       "      <td>12</td>\n",
       "      <td>0.130695</td>\n",
       "      <td>0.137640</td>\n",
       "      <td>0.123700</td>\n",
       "      <td>0.086791</td>\n",
       "      <td>0.031918</td>\n",
       "      <td>0.102149</td>\n",
       "      <td>0.039261</td>\n",
       "    </tr>\n",
       "    <tr>\n",
       "      <th>1</th>\n",
       "      <td>{'n_features_to_select': 2}</td>\n",
       "      <td>-0.005105</td>\n",
       "      <td>0.729651</td>\n",
       "      <td>-0.103192</td>\n",
       "      <td>0.195160</td>\n",
       "      <td>-0.238767</td>\n",
       "      <td>0.115549</td>\n",
       "      <td>0.338054</td>\n",
       "      <td>11</td>\n",
       "      <td>0.216187</td>\n",
       "      <td>0.858652</td>\n",
       "      <td>0.213673</td>\n",
       "      <td>0.133185</td>\n",
       "      <td>0.143602</td>\n",
       "      <td>0.313060</td>\n",
       "      <td>0.274956</td>\n",
       "    </tr>\n",
       "    <tr>\n",
       "      <th>2</th>\n",
       "      <td>{'n_features_to_select': 3}</td>\n",
       "      <td>0.936176</td>\n",
       "      <td>0.724882</td>\n",
       "      <td>-0.140394</td>\n",
       "      <td>0.231923</td>\n",
       "      <td>-0.200890</td>\n",
       "      <td>0.310340</td>\n",
       "      <td>0.454793</td>\n",
       "      <td>10</td>\n",
       "      <td>0.926785</td>\n",
       "      <td>0.862475</td>\n",
       "      <td>0.261825</td>\n",
       "      <td>0.205098</td>\n",
       "      <td>0.231175</td>\n",
       "      <td>0.497472</td>\n",
       "      <td>0.325411</td>\n",
       "    </tr>\n",
       "    <tr>\n",
       "      <th>3</th>\n",
       "      <td>{'n_features_to_select': 4}</td>\n",
       "      <td>0.943648</td>\n",
       "      <td>0.720031</td>\n",
       "      <td>0.874373</td>\n",
       "      <td>0.921826</td>\n",
       "      <td>0.905139</td>\n",
       "      <td>0.873004</td>\n",
       "      <td>0.079762</td>\n",
       "      <td>9</td>\n",
       "      <td>0.928043</td>\n",
       "      <td>0.868928</td>\n",
       "      <td>0.940466</td>\n",
       "      <td>0.931179</td>\n",
       "      <td>0.931047</td>\n",
       "      <td>0.919932</td>\n",
       "      <td>0.025841</td>\n",
       "    </tr>\n",
       "    <tr>\n",
       "      <th>4</th>\n",
       "      <td>{'n_features_to_select': 5}</td>\n",
       "      <td>0.952195</td>\n",
       "      <td>0.753197</td>\n",
       "      <td>0.876403</td>\n",
       "      <td>0.922759</td>\n",
       "      <td>0.901611</td>\n",
       "      <td>0.881233</td>\n",
       "      <td>0.068690</td>\n",
       "      <td>8</td>\n",
       "      <td>0.929215</td>\n",
       "      <td>0.896604</td>\n",
       "      <td>0.943344</td>\n",
       "      <td>0.934530</td>\n",
       "      <td>0.933182</td>\n",
       "      <td>0.927375</td>\n",
       "      <td>0.016064</td>\n",
       "    </tr>\n",
       "    <tr>\n",
       "      <th>5</th>\n",
       "      <td>{'n_features_to_select': 6}</td>\n",
       "      <td>0.952297</td>\n",
       "      <td>0.788911</td>\n",
       "      <td>0.873340</td>\n",
       "      <td>0.905273</td>\n",
       "      <td>0.906913</td>\n",
       "      <td>0.885347</td>\n",
       "      <td>0.054385</td>\n",
       "      <td>7</td>\n",
       "      <td>0.929491</td>\n",
       "      <td>0.901335</td>\n",
       "      <td>0.943994</td>\n",
       "      <td>0.936483</td>\n",
       "      <td>0.935515</td>\n",
       "      <td>0.929364</td>\n",
       "      <td>0.014753</td>\n",
       "    </tr>\n",
       "    <tr>\n",
       "      <th>6</th>\n",
       "      <td>{'n_features_to_select': 7}</td>\n",
       "      <td>0.951984</td>\n",
       "      <td>0.895284</td>\n",
       "      <td>0.873235</td>\n",
       "      <td>0.904098</td>\n",
       "      <td>0.904710</td>\n",
       "      <td>0.905862</td>\n",
       "      <td>0.025722</td>\n",
       "      <td>3</td>\n",
       "      <td>0.929512</td>\n",
       "      <td>0.938519</td>\n",
       "      <td>0.944000</td>\n",
       "      <td>0.936627</td>\n",
       "      <td>0.935830</td>\n",
       "      <td>0.936898</td>\n",
       "      <td>0.004665</td>\n",
       "    </tr>\n",
       "    <tr>\n",
       "      <th>7</th>\n",
       "      <td>{'n_features_to_select': 8}</td>\n",
       "      <td>0.951608</td>\n",
       "      <td>0.897224</td>\n",
       "      <td>0.873254</td>\n",
       "      <td>0.904018</td>\n",
       "      <td>0.905153</td>\n",
       "      <td>0.906251</td>\n",
       "      <td>0.025431</td>\n",
       "      <td>1</td>\n",
       "      <td>0.929534</td>\n",
       "      <td>0.939117</td>\n",
       "      <td>0.944001</td>\n",
       "      <td>0.936634</td>\n",
       "      <td>0.935846</td>\n",
       "      <td>0.937026</td>\n",
       "      <td>0.004705</td>\n",
       "    </tr>\n",
       "    <tr>\n",
       "      <th>8</th>\n",
       "      <td>{'n_features_to_select': 9}</td>\n",
       "      <td>0.951621</td>\n",
       "      <td>0.901960</td>\n",
       "      <td>0.870389</td>\n",
       "      <td>0.901742</td>\n",
       "      <td>0.904737</td>\n",
       "      <td>0.906090</td>\n",
       "      <td>0.026021</td>\n",
       "      <td>2</td>\n",
       "      <td>0.930169</td>\n",
       "      <td>0.939524</td>\n",
       "      <td>0.945027</td>\n",
       "      <td>0.937498</td>\n",
       "      <td>0.935879</td>\n",
       "      <td>0.937619</td>\n",
       "      <td>0.004838</td>\n",
       "    </tr>\n",
       "    <tr>\n",
       "      <th>9</th>\n",
       "      <td>{'n_features_to_select': 10}</td>\n",
       "      <td>0.949832</td>\n",
       "      <td>0.896718</td>\n",
       "      <td>0.862217</td>\n",
       "      <td>0.900383</td>\n",
       "      <td>0.906009</td>\n",
       "      <td>0.903032</td>\n",
       "      <td>0.027971</td>\n",
       "      <td>6</td>\n",
       "      <td>0.930264</td>\n",
       "      <td>0.940617</td>\n",
       "      <td>0.945531</td>\n",
       "      <td>0.937838</td>\n",
       "      <td>0.935940</td>\n",
       "      <td>0.938038</td>\n",
       "      <td>0.005053</td>\n",
       "    </tr>\n",
       "    <tr>\n",
       "      <th>10</th>\n",
       "      <td>{'n_features_to_select': 11}</td>\n",
       "      <td>0.949809</td>\n",
       "      <td>0.896260</td>\n",
       "      <td>0.862586</td>\n",
       "      <td>0.899950</td>\n",
       "      <td>0.906823</td>\n",
       "      <td>0.903086</td>\n",
       "      <td>0.027906</td>\n",
       "      <td>4</td>\n",
       "      <td>0.930264</td>\n",
       "      <td>0.940622</td>\n",
       "      <td>0.945568</td>\n",
       "      <td>0.937859</td>\n",
       "      <td>0.936006</td>\n",
       "      <td>0.938064</td>\n",
       "      <td>0.005059</td>\n",
       "    </tr>\n",
       "    <tr>\n",
       "      <th>11</th>\n",
       "      <td>{'n_features_to_select': 12}</td>\n",
       "      <td>0.949809</td>\n",
       "      <td>0.896260</td>\n",
       "      <td>0.862586</td>\n",
       "      <td>0.899950</td>\n",
       "      <td>0.906823</td>\n",
       "      <td>0.903086</td>\n",
       "      <td>0.027906</td>\n",
       "      <td>4</td>\n",
       "      <td>0.930264</td>\n",
       "      <td>0.940622</td>\n",
       "      <td>0.945568</td>\n",
       "      <td>0.937859</td>\n",
       "      <td>0.936006</td>\n",
       "      <td>0.938064</td>\n",
       "      <td>0.005059</td>\n",
       "    </tr>\n",
       "  </tbody>\n",
       "</table>\n",
       "</div>"
      ],
      "text/plain": [
       "                          params  split0_test_score  split1_test_score  \\\n",
       "0    {'n_features_to_select': 1}          -0.149403          -0.009507   \n",
       "1    {'n_features_to_select': 2}          -0.005105           0.729651   \n",
       "2    {'n_features_to_select': 3}           0.936176           0.724882   \n",
       "3    {'n_features_to_select': 4}           0.943648           0.720031   \n",
       "4    {'n_features_to_select': 5}           0.952195           0.753197   \n",
       "5    {'n_features_to_select': 6}           0.952297           0.788911   \n",
       "6    {'n_features_to_select': 7}           0.951984           0.895284   \n",
       "7    {'n_features_to_select': 8}           0.951608           0.897224   \n",
       "8    {'n_features_to_select': 9}           0.951621           0.901960   \n",
       "9   {'n_features_to_select': 10}           0.949832           0.896718   \n",
       "10  {'n_features_to_select': 11}           0.949809           0.896260   \n",
       "11  {'n_features_to_select': 12}           0.949809           0.896260   \n",
       "\n",
       "    split2_test_score  split3_test_score  split4_test_score  mean_test_score  \\\n",
       "0           -0.084639           0.135654          -0.355170        -0.092613   \n",
       "1           -0.103192           0.195160          -0.238767         0.115549   \n",
       "2           -0.140394           0.231923          -0.200890         0.310340   \n",
       "3            0.874373           0.921826           0.905139         0.873004   \n",
       "4            0.876403           0.922759           0.901611         0.881233   \n",
       "5            0.873340           0.905273           0.906913         0.885347   \n",
       "6            0.873235           0.904098           0.904710         0.905862   \n",
       "7            0.873254           0.904018           0.905153         0.906251   \n",
       "8            0.870389           0.901742           0.904737         0.906090   \n",
       "9            0.862217           0.900383           0.906009         0.903032   \n",
       "10           0.862586           0.899950           0.906823         0.903086   \n",
       "11           0.862586           0.899950           0.906823         0.903086   \n",
       "\n",
       "    std_test_score  rank_test_score  split0_train_score  split1_train_score  \\\n",
       "0         0.162011               12            0.130695            0.137640   \n",
       "1         0.338054               11            0.216187            0.858652   \n",
       "2         0.454793               10            0.926785            0.862475   \n",
       "3         0.079762                9            0.928043            0.868928   \n",
       "4         0.068690                8            0.929215            0.896604   \n",
       "5         0.054385                7            0.929491            0.901335   \n",
       "6         0.025722                3            0.929512            0.938519   \n",
       "7         0.025431                1            0.929534            0.939117   \n",
       "8         0.026021                2            0.930169            0.939524   \n",
       "9         0.027971                6            0.930264            0.940617   \n",
       "10        0.027906                4            0.930264            0.940622   \n",
       "11        0.027906                4            0.930264            0.940622   \n",
       "\n",
       "    split2_train_score  split3_train_score  split4_train_score  \\\n",
       "0             0.123700            0.086791            0.031918   \n",
       "1             0.213673            0.133185            0.143602   \n",
       "2             0.261825            0.205098            0.231175   \n",
       "3             0.940466            0.931179            0.931047   \n",
       "4             0.943344            0.934530            0.933182   \n",
       "5             0.943994            0.936483            0.935515   \n",
       "6             0.944000            0.936627            0.935830   \n",
       "7             0.944001            0.936634            0.935846   \n",
       "8             0.945027            0.937498            0.935879   \n",
       "9             0.945531            0.937838            0.935940   \n",
       "10            0.945568            0.937859            0.936006   \n",
       "11            0.945568            0.937859            0.936006   \n",
       "\n",
       "    mean_train_score  std_train_score  \n",
       "0           0.102149         0.039261  \n",
       "1           0.313060         0.274956  \n",
       "2           0.497472         0.325411  \n",
       "3           0.919932         0.025841  \n",
       "4           0.927375         0.016064  \n",
       "5           0.929364         0.014753  \n",
       "6           0.936898         0.004665  \n",
       "7           0.937026         0.004705  \n",
       "8           0.937619         0.004838  \n",
       "9           0.938038         0.005053  \n",
       "10          0.938064         0.005059  \n",
       "11          0.938064         0.005059  "
      ]
     },
     "execution_count": 15,
     "metadata": {},
     "output_type": "execute_result"
    }
   ],
   "source": [
    "cv_result = pd.DataFrame(gsearch.cv_results_).iloc[:,5:]\n",
    "cv_result"
   ]
  },
  {
   "cell_type": "markdown",
   "metadata": {},
   "source": [
    "<table align=\"left\">\n",
    "    <tr>\n",
    "        <td width=\"6%\">\n",
    "            <img src=\"question_icon.png\">\n",
    "        </td>\n",
    "        <td>\n",
    "            <div align=\"left\", style=\"font-size:120%\">\n",
    "                <font color=\"#21618C\">\n",
    "                    <b>2. Is there multicollinearity present in the scaled data?\n",
    "                     </b>\n",
    "                </font>\n",
    "            </div>\n",
    "        </td>\n",
    "    </tr>\n",
    "</table>"
   ]
  },
  {
   "cell_type": "code",
   "execution_count": 16,
   "metadata": {},
   "outputs": [],
   "source": [
    "# type your code here\n",
    "X = fishs.drop('Weight',axis=1)\n",
    "y = fishs['Weight']\n",
    "from statsmodels.stats.outliers_influence import variance_inflation_factor\n",
    "\n",
    "vif_data = pd.DataFrame() \n",
    "vif_data[\"feature\"] = X.columns \n",
    "vif_data[\"VIF\"] = [variance_inflation_factor(X.values, i) \n",
    "                          for i in range(len(X.columns))] "
   ]
  },
  {
   "cell_type": "code",
   "execution_count": 17,
   "metadata": {},
   "outputs": [
    {
     "data": {
      "text/html": [
       "<div>\n",
       "<style scoped>\n",
       "    .dataframe tbody tr th:only-of-type {\n",
       "        vertical-align: middle;\n",
       "    }\n",
       "\n",
       "    .dataframe tbody tr th {\n",
       "        vertical-align: top;\n",
       "    }\n",
       "\n",
       "    .dataframe thead th {\n",
       "        text-align: right;\n",
       "    }\n",
       "</style>\n",
       "<table border=\"1\" class=\"dataframe\">\n",
       "  <thead>\n",
       "    <tr style=\"text-align: right;\">\n",
       "      <th></th>\n",
       "      <th>feature</th>\n",
       "      <th>VIF</th>\n",
       "    </tr>\n",
       "  </thead>\n",
       "  <tbody>\n",
       "    <tr>\n",
       "      <th>0</th>\n",
       "      <td>V_length</td>\n",
       "      <td>18095.288475</td>\n",
       "    </tr>\n",
       "    <tr>\n",
       "      <th>1</th>\n",
       "      <td>D_length</td>\n",
       "      <td>30522.367427</td>\n",
       "    </tr>\n",
       "    <tr>\n",
       "      <th>2</th>\n",
       "      <td>C_length</td>\n",
       "      <td>7960.777533</td>\n",
       "    </tr>\n",
       "    <tr>\n",
       "      <th>3</th>\n",
       "      <td>Height</td>\n",
       "      <td>235.486610</td>\n",
       "    </tr>\n",
       "    <tr>\n",
       "      <th>4</th>\n",
       "      <td>Width</td>\n",
       "      <td>182.874185</td>\n",
       "    </tr>\n",
       "    <tr>\n",
       "      <th>5</th>\n",
       "      <td>Species_Parkki</td>\n",
       "      <td>1.272513</td>\n",
       "    </tr>\n",
       "    <tr>\n",
       "      <th>6</th>\n",
       "      <td>Species_Perch</td>\n",
       "      <td>8.913123</td>\n",
       "    </tr>\n",
       "    <tr>\n",
       "      <th>7</th>\n",
       "      <td>Species_Pike</td>\n",
       "      <td>15.338391</td>\n",
       "    </tr>\n",
       "    <tr>\n",
       "      <th>8</th>\n",
       "      <td>Species_Roach</td>\n",
       "      <td>2.747195</td>\n",
       "    </tr>\n",
       "    <tr>\n",
       "      <th>9</th>\n",
       "      <td>Species_Smelt</td>\n",
       "      <td>1.840413</td>\n",
       "    </tr>\n",
       "    <tr>\n",
       "      <th>10</th>\n",
       "      <td>Species_Whitefish</td>\n",
       "      <td>1.747763</td>\n",
       "    </tr>\n",
       "  </tbody>\n",
       "</table>\n",
       "</div>"
      ],
      "text/plain": [
       "              feature          VIF\n",
       "0            V_length 18095.288475\n",
       "1            D_length 30522.367427\n",
       "2            C_length  7960.777533\n",
       "3              Height   235.486610\n",
       "4               Width   182.874185\n",
       "5      Species_Parkki     1.272513\n",
       "6       Species_Perch     8.913123\n",
       "7        Species_Pike    15.338391\n",
       "8       Species_Roach     2.747195\n",
       "9       Species_Smelt     1.840413\n",
       "10  Species_Whitefish     1.747763"
      ]
     },
     "execution_count": 17,
     "metadata": {},
     "output_type": "execute_result"
    }
   ],
   "source": [
    "vif_data"
   ]
  },
  {
   "cell_type": "code",
   "execution_count": null,
   "metadata": {},
   "outputs": [],
   "source": [
    "#yes there is multicolinearity present in the data."
   ]
  },
  {
   "cell_type": "markdown",
   "metadata": {},
   "source": [
    "<table align=\"left\">\n",
    "    <tr>\n",
    "        <td width=\"6%\">\n",
    "            <img src=\"question_icon.png\">\n",
    "        </td>\n",
    "        <td>\n",
    "            <div align=\"left\", style=\"font-size:120%\">\n",
    "                <font color=\"#21618C\">\n",
    "                    <b>3. Apply the ridge regression with 'alpha = 1.5' and compare the RMSE on the test dataset with the RMSE obtained from linear regression using OLS\n",
    "                    </b>\n",
    "                </font>\n",
    "            </div>\n",
    "        </td>\n",
    "    </tr>\n",
    "</table>"
   ]
  },
  {
   "cell_type": "code",
   "execution_count": 18,
   "metadata": {},
   "outputs": [
    {
     "name": "stdout",
     "output_type": "stream",
     "text": [
      "RMSE Ridge :  98.00285639260575\n"
     ]
    }
   ],
   "source": [
    "from sklearn.linear_model import Ridge, RidgeCV\n",
    "X = fishs.drop('Weight',axis=1)\n",
    "y = fishs['Weight']\n",
    "X_train, X_test, y_train, y_test = train_test_split(X,y,test_size=0.3, random_state=44)\n",
    "\n",
    "ridge = Ridge(alpha=1.5)\n",
    "\n",
    "ridge.fit(X,y)\n",
    "pred = ridge.predict(X_test)\n",
    "rmse = np.sqrt(mean_squared_error(y_test,pred))\n",
    "print(\"RMSE Ridge : \", rmse)"
   ]
  },
  {
   "cell_type": "code",
   "execution_count": 19,
   "metadata": {},
   "outputs": [
    {
     "data": {
      "text/html": [
       "<table class=\"simpletable\">\n",
       "<caption>OLS Regression Results</caption>\n",
       "<tr>\n",
       "  <th>Dep. Variable:</th>         <td>Weight</td>      <th>  R-squared:         </th> <td>   0.936</td>\n",
       "</tr>\n",
       "<tr>\n",
       "  <th>Model:</th>                   <td>OLS</td>       <th>  Adj. R-squared:    </th> <td>   0.931</td>\n",
       "</tr>\n",
       "<tr>\n",
       "  <th>Method:</th>             <td>Least Squares</td>  <th>  F-statistic:       </th> <td>   194.7</td>\n",
       "</tr>\n",
       "<tr>\n",
       "  <th>Date:</th>             <td>Sun, 08 Aug 2021</td> <th>  Prob (F-statistic):</th> <td>9.67e-82</td>\n",
       "</tr>\n",
       "<tr>\n",
       "  <th>Time:</th>                 <td>03:55:06</td>     <th>  Log-Likelihood:    </th> <td> -941.46</td>\n",
       "</tr>\n",
       "<tr>\n",
       "  <th>No. Observations:</th>      <td>   159</td>      <th>  AIC:               </th> <td>   1907.</td>\n",
       "</tr>\n",
       "<tr>\n",
       "  <th>Df Residuals:</th>          <td>   147</td>      <th>  BIC:               </th> <td>   1944.</td>\n",
       "</tr>\n",
       "<tr>\n",
       "  <th>Df Model:</th>              <td>    11</td>      <th>                     </th>     <td> </td>   \n",
       "</tr>\n",
       "<tr>\n",
       "  <th>Covariance Type:</th>      <td>nonrobust</td>    <th>                     </th>     <td> </td>   \n",
       "</tr>\n",
       "</table>\n",
       "<table class=\"simpletable\">\n",
       "<tr>\n",
       "          <td></td>             <th>coef</th>     <th>std err</th>      <th>t</th>      <th>P>|t|</th>  <th>[0.025</th>    <th>0.975]</th>  \n",
       "</tr>\n",
       "<tr>\n",
       "  <th>const</th>             <td> -907.1500</td> <td>  127.078</td> <td>   -7.139</td> <td> 0.000</td> <td>-1158.285</td> <td> -656.015</td>\n",
       "</tr>\n",
       "<tr>\n",
       "  <th>V_length</th>          <td>  -79.3905</td> <td>   36.277</td> <td>   -2.188</td> <td> 0.030</td> <td> -151.082</td> <td>   -7.699</td>\n",
       "</tr>\n",
       "<tr>\n",
       "  <th>D_length</th>          <td>   83.5100</td> <td>   45.716</td> <td>    1.827</td> <td> 0.070</td> <td>   -6.835</td> <td>  173.856</td>\n",
       "</tr>\n",
       "<tr>\n",
       "  <th>C_length</th>          <td>   28.0340</td> <td>   29.299</td> <td>    0.957</td> <td> 0.340</td> <td>  -29.867</td> <td>   85.935</td>\n",
       "</tr>\n",
       "<tr>\n",
       "  <th>Height</th>            <td>    6.3568</td> <td>   13.055</td> <td>    0.487</td> <td> 0.627</td> <td>  -19.444</td> <td>   32.157</td>\n",
       "</tr>\n",
       "<tr>\n",
       "  <th>Width</th>             <td>   -1.0454</td> <td>   23.912</td> <td>   -0.044</td> <td> 0.965</td> <td>  -48.301</td> <td>   46.210</td>\n",
       "</tr>\n",
       "<tr>\n",
       "  <th>Species_Parkki</th>    <td>  157.1605</td> <td>   75.696</td> <td>    2.076</td> <td> 0.040</td> <td>    7.567</td> <td>  306.754</td>\n",
       "</tr>\n",
       "<tr>\n",
       "  <th>Species_Perch</th>     <td>  129.2065</td> <td>  120.308</td> <td>    1.074</td> <td> 0.285</td> <td> -108.551</td> <td>  366.964</td>\n",
       "</tr>\n",
       "<tr>\n",
       "  <th>Species_Pike</th>      <td> -209.6167</td> <td>  135.300</td> <td>   -1.549</td> <td> 0.123</td> <td> -477.002</td> <td>   57.769</td>\n",
       "</tr>\n",
       "<tr>\n",
       "  <th>Species_Roach</th>     <td>  106.7884</td> <td>   91.304</td> <td>    1.170</td> <td> 0.244</td> <td>  -73.650</td> <td>  287.227</td>\n",
       "</tr>\n",
       "<tr>\n",
       "  <th>Species_Smelt</th>     <td>  438.3931</td> <td>  119.425</td> <td>    3.671</td> <td> 0.000</td> <td>  202.381</td> <td>  674.405</td>\n",
       "</tr>\n",
       "<tr>\n",
       "  <th>Species_Whitefish</th> <td>   89.2880</td> <td>   96.654</td> <td>    0.924</td> <td> 0.357</td> <td> -101.722</td> <td>  280.298</td>\n",
       "</tr>\n",
       "</table>\n",
       "<table class=\"simpletable\">\n",
       "<tr>\n",
       "  <th>Omnibus:</th>       <td>42.986</td> <th>  Durbin-Watson:     </th> <td>   0.947</td>\n",
       "</tr>\n",
       "<tr>\n",
       "  <th>Prob(Omnibus):</th> <td> 0.000</td> <th>  Jarque-Bera (JB):  </th> <td>  95.736</td>\n",
       "</tr>\n",
       "<tr>\n",
       "  <th>Skew:</th>          <td> 1.170</td> <th>  Prob(JB):          </th> <td>1.63e-21</td>\n",
       "</tr>\n",
       "<tr>\n",
       "  <th>Kurtosis:</th>      <td> 5.996</td> <th>  Cond. No.          </th> <td>2.03e+03</td>\n",
       "</tr>\n",
       "</table><br/><br/>Notes:<br/>[1] Standard Errors assume that the covariance matrix of the errors is correctly specified.<br/>[2] The condition number is large, 2.03e+03. This might indicate that there are<br/>strong multicollinearity or other numerical problems."
      ],
      "text/plain": [
       "<class 'statsmodels.iolib.summary.Summary'>\n",
       "\"\"\"\n",
       "                            OLS Regression Results                            \n",
       "==============================================================================\n",
       "Dep. Variable:                 Weight   R-squared:                       0.936\n",
       "Model:                            OLS   Adj. R-squared:                  0.931\n",
       "Method:                 Least Squares   F-statistic:                     194.7\n",
       "Date:                Sun, 08 Aug 2021   Prob (F-statistic):           9.67e-82\n",
       "Time:                        03:55:06   Log-Likelihood:                -941.46\n",
       "No. Observations:                 159   AIC:                             1907.\n",
       "Df Residuals:                     147   BIC:                             1944.\n",
       "Df Model:                          11                                         \n",
       "Covariance Type:            nonrobust                                         \n",
       "=====================================================================================\n",
       "                        coef    std err          t      P>|t|      [0.025      0.975]\n",
       "-------------------------------------------------------------------------------------\n",
       "const              -907.1500    127.078     -7.139      0.000   -1158.285    -656.015\n",
       "V_length            -79.3905     36.277     -2.188      0.030    -151.082      -7.699\n",
       "D_length             83.5100     45.716      1.827      0.070      -6.835     173.856\n",
       "C_length             28.0340     29.299      0.957      0.340     -29.867      85.935\n",
       "Height                6.3568     13.055      0.487      0.627     -19.444      32.157\n",
       "Width                -1.0454     23.912     -0.044      0.965     -48.301      46.210\n",
       "Species_Parkki      157.1605     75.696      2.076      0.040       7.567     306.754\n",
       "Species_Perch       129.2065    120.308      1.074      0.285    -108.551     366.964\n",
       "Species_Pike       -209.6167    135.300     -1.549      0.123    -477.002      57.769\n",
       "Species_Roach       106.7884     91.304      1.170      0.244     -73.650     287.227\n",
       "Species_Smelt       438.3931    119.425      3.671      0.000     202.381     674.405\n",
       "Species_Whitefish    89.2880     96.654      0.924      0.357    -101.722     280.298\n",
       "==============================================================================\n",
       "Omnibus:                       42.986   Durbin-Watson:                   0.947\n",
       "Prob(Omnibus):                  0.000   Jarque-Bera (JB):               95.736\n",
       "Skew:                           1.170   Prob(JB):                     1.63e-21\n",
       "Kurtosis:                       5.996   Cond. No.                     2.03e+03\n",
       "==============================================================================\n",
       "\n",
       "Notes:\n",
       "[1] Standard Errors assume that the covariance matrix of the errors is correctly specified.\n",
       "[2] The condition number is large, 2.03e+03. This might indicate that there are\n",
       "strong multicollinearity or other numerical problems.\n",
       "\"\"\""
      ]
     },
     "execution_count": 19,
     "metadata": {},
     "output_type": "execute_result"
    }
   ],
   "source": [
    "import statsmodels.api as sm\n",
    "\n",
    "Xc = sm.add_constant(X)\n",
    "OLS_model = sm.OLS(y,Xc).fit()\n",
    "OLS_model.summary()"
   ]
  },
  {
   "cell_type": "code",
   "execution_count": 20,
   "metadata": {},
   "outputs": [],
   "source": [
    "predicted = OLS_model.predict()"
   ]
  },
  {
   "cell_type": "code",
   "execution_count": 21,
   "metadata": {},
   "outputs": [
    {
     "data": {
      "text/plain": [
       "90.21305484788707"
      ]
     },
     "execution_count": 21,
     "metadata": {},
     "output_type": "execute_result"
    }
   ],
   "source": [
    "from statsmodels.tools.eval_measures import rmse\n",
    "\n",
    "rmse(predicted,y,axis=0)"
   ]
  },
  {
   "cell_type": "markdown",
   "metadata": {},
   "source": [
    "<table align=\"left\">\n",
    "    <tr>\n",
    "        <td width=\"6%\">\n",
    "            <img src=\"question_icon.png\">\n",
    "        </td>\n",
    "        <td>\n",
    "            <div align=\"left\", style=\"font-size:120%\">\n",
    "                <font color=\"#21618C\">\n",
    "                    <b>4. Build a full model using SGD. Plot a multiple barchart to compare the beta coefficients for each variable obtained by the SGD model and the full model build using OLS \n",
    "                    </b>\n",
    "                </font>\n",
    "            </div>\n",
    "        </td>\n",
    "    </tr>\n",
    "</table>"
   ]
  },
  {
   "cell_type": "code",
   "execution_count": 22,
   "metadata": {},
   "outputs": [],
   "source": [
    "X = fishs.drop('Weight',axis=1)\n",
    "y = fishs['Weight']\n",
    "x_train,x_test,y_train,y_test=train_test_split(X,y,test_size=0.3)"
   ]
  },
  {
   "cell_type": "code",
   "execution_count": 23,
   "metadata": {},
   "outputs": [
    {
     "name": "stdout",
     "output_type": "stream",
     "text": [
      "Mean Squared Error : 4.74223533199653e+22\n"
     ]
    }
   ],
   "source": [
    "from sklearn.linear_model import SGDRegressor, Ridge, RidgeCV\n",
    "from sklearn.metrics import mean_squared_error\n",
    "n_iter=45\n",
    "clf_ = SGDRegressor(max_iter=n_iter)\n",
    "clf_.fit(X, y)\n",
    "y_pred_sksgd=clf_.predict(x_test)\n",
    "\n",
    "print('Mean Squared Error :',mean_squared_error(y_test, y_pred_sksgd))"
   ]
  },
  {
   "cell_type": "code",
   "execution_count": 24,
   "metadata": {},
   "outputs": [
    {
     "data": {
      "text/plain": [
       "V_length             -79.390480\n",
       "D_length              83.510047\n",
       "C_length              28.033970\n",
       "Height                 6.356798\n",
       "Width                 -1.045415\n",
       "Species_Parkki       157.160463\n",
       "Species_Perch        129.206549\n",
       "Species_Pike        -209.616742\n",
       "Species_Roach        106.788415\n",
       "Species_Smelt        438.393056\n",
       "Species_Whitefish     89.288024\n",
       "dtype: float64"
      ]
     },
     "execution_count": 24,
     "metadata": {},
     "output_type": "execute_result"
    }
   ],
   "source": [
    "coef = OLS_model.params[1:]\n",
    "coef"
   ]
  },
  {
   "cell_type": "code",
   "execution_count": 25,
   "metadata": {},
   "outputs": [
    {
     "data": {
      "text/html": [
       "<div>\n",
       "<style scoped>\n",
       "    .dataframe tbody tr th:only-of-type {\n",
       "        vertical-align: middle;\n",
       "    }\n",
       "\n",
       "    .dataframe tbody tr th {\n",
       "        vertical-align: top;\n",
       "    }\n",
       "\n",
       "    .dataframe thead th {\n",
       "        text-align: right;\n",
       "    }\n",
       "</style>\n",
       "<table border=\"1\" class=\"dataframe\">\n",
       "  <thead>\n",
       "    <tr style=\"text-align: right;\">\n",
       "      <th></th>\n",
       "      <th>coefficients_sgd</th>\n",
       "      <th>coefficients_least_square</th>\n",
       "    </tr>\n",
       "  </thead>\n",
       "  <tbody>\n",
       "    <tr>\n",
       "      <th>V_length</th>\n",
       "      <td>5005155820.207302</td>\n",
       "      <td>-79.390480</td>\n",
       "    </tr>\n",
       "    <tr>\n",
       "      <th>D_length</th>\n",
       "      <td>-5597751392.650005</td>\n",
       "      <td>83.510047</td>\n",
       "    </tr>\n",
       "    <tr>\n",
       "      <th>C_length</th>\n",
       "      <td>-8126133543.034726</td>\n",
       "      <td>28.033970</td>\n",
       "    </tr>\n",
       "    <tr>\n",
       "      <th>Height</th>\n",
       "      <td>34393304735.097832</td>\n",
       "      <td>6.356798</td>\n",
       "    </tr>\n",
       "    <tr>\n",
       "      <th>Width</th>\n",
       "      <td>34137209264.872242</td>\n",
       "      <td>-1.045415</td>\n",
       "    </tr>\n",
       "    <tr>\n",
       "      <th>Species_Parkki</th>\n",
       "      <td>-426750996.048697</td>\n",
       "      <td>157.160463</td>\n",
       "    </tr>\n",
       "    <tr>\n",
       "      <th>Species_Perch</th>\n",
       "      <td>-26241823127.390884</td>\n",
       "      <td>129.206549</td>\n",
       "    </tr>\n",
       "    <tr>\n",
       "      <th>Species_Pike</th>\n",
       "      <td>13057353033.058867</td>\n",
       "      <td>-209.616742</td>\n",
       "    </tr>\n",
       "    <tr>\n",
       "      <th>Species_Roach</th>\n",
       "      <td>-6596598321.159869</td>\n",
       "      <td>106.788415</td>\n",
       "    </tr>\n",
       "    <tr>\n",
       "      <th>Species_Smelt</th>\n",
       "      <td>2578235284.029955</td>\n",
       "      <td>438.393056</td>\n",
       "    </tr>\n",
       "    <tr>\n",
       "      <th>Species_Whitefish</th>\n",
       "      <td>10946407348.254990</td>\n",
       "      <td>89.288024</td>\n",
       "    </tr>\n",
       "  </tbody>\n",
       "</table>\n",
       "</div>"
      ],
      "text/plain": [
       "                     coefficients_sgd  coefficients_least_square\n",
       "V_length            5005155820.207302                 -79.390480\n",
       "D_length           -5597751392.650005                  83.510047\n",
       "C_length           -8126133543.034726                  28.033970\n",
       "Height             34393304735.097832                   6.356798\n",
       "Width              34137209264.872242                  -1.045415\n",
       "Species_Parkki      -426750996.048697                 157.160463\n",
       "Species_Perch     -26241823127.390884                 129.206549\n",
       "Species_Pike       13057353033.058867                -209.616742\n",
       "Species_Roach      -6596598321.159869                 106.788415\n",
       "Species_Smelt       2578235284.029955                 438.393056\n",
       "Species_Whitefish  10946407348.254990                  89.288024"
      ]
     },
     "execution_count": 25,
     "metadata": {},
     "output_type": "execute_result"
    }
   ],
   "source": [
    "sgd = clf_.coef_\n",
    "sgd = pd.DataFrame(sgd,index=['V_length','D_length','C_length','Height','Width','Species_Parkki','Species_Perch','Species_Pike','Species_Roach','Species_Smelt','Species_Whitefish'])\n",
    "sgd['coefficients_least_square'] = coef\n",
    "sgd.rename(columns={0:'coefficients_sgd'},inplace=True)\n",
    "sgd"
   ]
  },
  {
   "cell_type": "code",
   "execution_count": 26,
   "metadata": {},
   "outputs": [
    {
     "data": {
      "image/png": "[encoded data removed]",
      "text/plain": [
       "<Figure size 864x432 with 1 Axes>"
      ]
     },
     "metadata": {
      "needs_background": "light"
     },
     "output_type": "display_data"
    }
   ],
   "source": [
    "sgd.plot(kind='bar',figsize=(12,6))\n",
    "plt.xlabel('Immunization Features')\n",
    "plt.ylabel('Beta-Coefficient Values')\n",
    "plt.title('Beta-Cofficient comparison of Teo Models')\n",
    "plt.show()"
   ]
  },
  {
   "cell_type": "markdown",
   "metadata": {},
   "source": [
    "<table align=\"left\">\n",
    "    <tr>\n",
    "        <td width=\"6%\">\n",
    "            <img src=\"question_icon.png\">\n",
    "        </td>\n",
    "        <td>\n",
    "            <div align=\"left\", style=\"font-size:120%\">\n",
    "                <font color=\"#21618C\">\n",
    "                    <b>5. Identify the least significant variables in the data by considering 'alpha = 0.1' \n",
    "                    </b>\n",
    "                </font>\n",
    "            </div>\n",
    "        </td>\n",
    "    </tr>\n",
    "</table>"
   ]
  },
  {
   "cell_type": "code",
   "execution_count": 46,
   "metadata": {},
   "outputs": [
    {
     "data": {
      "text/plain": [
       "0.07678020963304932"
      ]
     },
     "execution_count": 46,
     "metadata": {},
     "output_type": "execute_result"
    }
   ],
   "source": [
    "from sklearn.linear_model import Lasso, LassoCV, Ridge, RidgeCV, ElasticNet, ElasticNetCV\n",
    "from sklearn.model_selection import cross_val_score\n",
    "from sklearn.metrics import r2_score, mean_squared_error\n",
    "X = fishs.drop('Weight',axis=1)\n",
    "y = fishs['Weight']\n",
    "lasso = Lasso(alpha=0.1,max_iter=25000)\n",
    "lasso.fit(X_train,y_train)\n",
    "y_train_pred = lasso.predict(X_train)\n",
    "r2_score(y_train,y_train_pred)"
   ]
  },
  {
   "cell_type": "code",
   "execution_count": 32,
   "metadata": {},
   "outputs": [
    {
     "data": {
      "text/html": [
       "<div>\n",
       "<style scoped>\n",
       "    .dataframe tbody tr th:only-of-type {\n",
       "        vertical-align: middle;\n",
       "    }\n",
       "\n",
       "    .dataframe tbody tr th {\n",
       "        vertical-align: top;\n",
       "    }\n",
       "\n",
       "    .dataframe thead th {\n",
       "        text-align: right;\n",
       "    }\n",
       "</style>\n",
       "<table border=\"1\" class=\"dataframe\">\n",
       "  <thead>\n",
       "    <tr style=\"text-align: right;\">\n",
       "      <th></th>\n",
       "      <th>coefs</th>\n",
       "    </tr>\n",
       "  </thead>\n",
       "  <tbody>\n",
       "    <tr>\n",
       "      <th>V_length</th>\n",
       "      <td>11.885166</td>\n",
       "    </tr>\n",
       "    <tr>\n",
       "      <th>D_length</th>\n",
       "      <td>-6.884829</td>\n",
       "    </tr>\n",
       "    <tr>\n",
       "      <th>C_length</th>\n",
       "      <td>28.804767</td>\n",
       "    </tr>\n",
       "    <tr>\n",
       "      <th>Height</th>\n",
       "      <td>-5.870673</td>\n",
       "    </tr>\n",
       "    <tr>\n",
       "      <th>Width</th>\n",
       "      <td>-170.129992</td>\n",
       "    </tr>\n",
       "    <tr>\n",
       "      <th>Species_Parkki</th>\n",
       "      <td>250.727654</td>\n",
       "    </tr>\n",
       "    <tr>\n",
       "      <th>Species_Perch</th>\n",
       "      <td>56.140827</td>\n",
       "    </tr>\n",
       "    <tr>\n",
       "      <th>Species_Pike</th>\n",
       "      <td>-503.940794</td>\n",
       "    </tr>\n",
       "    <tr>\n",
       "      <th>Species_Roach</th>\n",
       "      <td>-87.272925</td>\n",
       "    </tr>\n",
       "    <tr>\n",
       "      <th>Species_Smelt</th>\n",
       "      <td>-43.497227</td>\n",
       "    </tr>\n",
       "    <tr>\n",
       "      <th>Species_Whitefish</th>\n",
       "      <td>-19.305412</td>\n",
       "    </tr>\n",
       "  </tbody>\n",
       "</table>\n",
       "</div>"
      ],
      "text/plain": [
       "                        coefs\n",
       "V_length            11.885166\n",
       "D_length            -6.884829\n",
       "C_length            28.804767\n",
       "Height              -5.870673\n",
       "Width             -170.129992\n",
       "Species_Parkki     250.727654\n",
       "Species_Perch       56.140827\n",
       "Species_Pike      -503.940794\n",
       "Species_Roach      -87.272925\n",
       "Species_Smelt      -43.497227\n",
       "Species_Whitefish  -19.305412"
      ]
     },
     "execution_count": 32,
     "metadata": {},
     "output_type": "execute_result"
    }
   ],
   "source": [
    "pd.DataFrame(lasso.coef_, index = X.columns, columns=['coefs'])"
   ]
  },
  {
   "cell_type": "markdown",
   "metadata": {},
   "source": [
    "<table align=\"left\">\n",
    "    <tr>\n",
    "        <td width=\"6%\">\n",
    "            <img src=\"question_icon.png\">\n",
    "        </td>\n",
    "        <td>\n",
    "            <div align=\"left\", style=\"font-size:120%\">\n",
    "                <font color=\"#21618C\">\n",
    "                    <b>6. What is the impact of diagonal width on the weight of a fish?\n",
    "                    </b>\n",
    "                </font>\n",
    "            </div>\n",
    "        </td>\n",
    "    </tr>\n",
    "</table>"
   ]
  },
  {
   "cell_type": "code",
   "execution_count": 33,
   "metadata": {},
   "outputs": [
    {
     "data": {
      "text/html": [
       "<table class=\"simpletable\">\n",
       "<caption>OLS Regression Results</caption>\n",
       "<tr>\n",
       "  <th>Dep. Variable:</th>         <td>Weight</td>      <th>  R-squared:         </th> <td>   0.787</td>\n",
       "</tr>\n",
       "<tr>\n",
       "  <th>Model:</th>                   <td>OLS</td>       <th>  Adj. R-squared:    </th> <td>   0.785</td>\n",
       "</tr>\n",
       "<tr>\n",
       "  <th>Method:</th>             <td>Least Squares</td>  <th>  F-statistic:       </th> <td>   579.0</td>\n",
       "</tr>\n",
       "<tr>\n",
       "  <th>Date:</th>             <td>Sun, 08 Aug 2021</td> <th>  Prob (F-statistic):</th> <td>1.52e-54</td>\n",
       "</tr>\n",
       "<tr>\n",
       "  <th>Time:</th>                 <td>04:00:59</td>     <th>  Log-Likelihood:    </th> <td> -1036.9</td>\n",
       "</tr>\n",
       "<tr>\n",
       "  <th>No. Observations:</th>      <td>   159</td>      <th>  AIC:               </th> <td>   2078.</td>\n",
       "</tr>\n",
       "<tr>\n",
       "  <th>Df Residuals:</th>          <td>   157</td>      <th>  BIC:               </th> <td>   2084.</td>\n",
       "</tr>\n",
       "<tr>\n",
       "  <th>Df Model:</th>              <td>     1</td>      <th>                     </th>     <td> </td>   \n",
       "</tr>\n",
       "<tr>\n",
       "  <th>Covariance Type:</th>      <td>nonrobust</td>    <th>                     </th>     <td> </td>   \n",
       "</tr>\n",
       "</table>\n",
       "<table class=\"simpletable\">\n",
       "<tr>\n",
       "    <td></td>       <th>coef</th>     <th>std err</th>      <th>t</th>      <th>P>|t|</th>  <th>[0.025</th>    <th>0.975]</th>  \n",
       "</tr>\n",
       "<tr>\n",
       "  <th>const</th> <td> -430.7425</td> <td>   36.904</td> <td>  -11.672</td> <td> 0.000</td> <td> -503.636</td> <td> -357.849</td>\n",
       "</tr>\n",
       "<tr>\n",
       "  <th>Width</th> <td>  187.8925</td> <td>    7.808</td> <td>   24.063</td> <td> 0.000</td> <td>  172.470</td> <td>  203.315</td>\n",
       "</tr>\n",
       "</table>\n",
       "<table class=\"simpletable\">\n",
       "<tr>\n",
       "  <th>Omnibus:</th>       <td>100.078</td> <th>  Durbin-Watson:     </th> <td>   0.341</td> \n",
       "</tr>\n",
       "<tr>\n",
       "  <th>Prob(Omnibus):</th> <td> 0.000</td>  <th>  Jarque-Bera (JB):  </th> <td> 635.292</td> \n",
       "</tr>\n",
       "<tr>\n",
       "  <th>Skew:</th>          <td> 2.298</td>  <th>  Prob(JB):          </th> <td>1.12e-138</td>\n",
       "</tr>\n",
       "<tr>\n",
       "  <th>Kurtosis:</th>      <td>11.647</td>  <th>  Cond. No.          </th> <td>    13.8</td> \n",
       "</tr>\n",
       "</table><br/><br/>Notes:<br/>[1] Standard Errors assume that the covariance matrix of the errors is correctly specified."
      ],
      "text/plain": [
       "<class 'statsmodels.iolib.summary.Summary'>\n",
       "\"\"\"\n",
       "                            OLS Regression Results                            \n",
       "==============================================================================\n",
       "Dep. Variable:                 Weight   R-squared:                       0.787\n",
       "Model:                            OLS   Adj. R-squared:                  0.785\n",
       "Method:                 Least Squares   F-statistic:                     579.0\n",
       "Date:                Sun, 08 Aug 2021   Prob (F-statistic):           1.52e-54\n",
       "Time:                        04:00:59   Log-Likelihood:                -1036.9\n",
       "No. Observations:                 159   AIC:                             2078.\n",
       "Df Residuals:                     157   BIC:                             2084.\n",
       "Df Model:                           1                                         \n",
       "Covariance Type:            nonrobust                                         \n",
       "==============================================================================\n",
       "                 coef    std err          t      P>|t|      [0.025      0.975]\n",
       "------------------------------------------------------------------------------\n",
       "const       -430.7425     36.904    -11.672      0.000    -503.636    -357.849\n",
       "Width        187.8925      7.808     24.063      0.000     172.470     203.315\n",
       "==============================================================================\n",
       "Omnibus:                      100.078   Durbin-Watson:                   0.341\n",
       "Prob(Omnibus):                  0.000   Jarque-Bera (JB):              635.292\n",
       "Skew:                           2.298   Prob(JB):                    1.12e-138\n",
       "Kurtosis:                      11.647   Cond. No.                         13.8\n",
       "==============================================================================\n",
       "\n",
       "Notes:\n",
       "[1] Standard Errors assume that the covariance matrix of the errors is correctly specified.\n",
       "\"\"\""
      ]
     },
     "execution_count": 33,
     "metadata": {},
     "output_type": "execute_result"
    }
   ],
   "source": [
    "# type your code here\n",
    "X = fishs['Width']\n",
    "y = fishs['Weight']\n",
    "Xc = sm.add_constant(X)\n",
    "OLS_2 = sm.OLS(y,Xc).fit()\n",
    "OLS_2.summary()"
   ]
  },
  {
   "cell_type": "markdown",
   "metadata": {},
   "source": [
    "<table align=\"left\">\n",
    "    <tr>\n",
    "        <td width=\"6%\">\n",
    "            <img src=\"question_icon.png\">\n",
    "        </td>\n",
    "        <td>\n",
    "            <div align=\"left\", style=\"font-size:120%\">\n",
    "                <font color=\"#21618C\">\n",
    "                    <b>7. Which value of alpha from the list of values returns lowest RMSE on the test set in ridge regression\n",
    "                    </b>\n",
    "                </font>\n",
    "            </div>\n",
    "        </td>\n",
    "    </tr>\n",
    "</table>"
   ]
  },
  {
   "cell_type": "markdown",
   "metadata": {},
   "source": [
    "Consider the list of values for alpha:\n",
    "\n",
    "    list_of_alpha = [0.00001, 0.001, 0.1, 10, 100]\n",
    "    \n",
    "Consider 5-fold cross validation."
   ]
  },
  {
   "cell_type": "code",
   "execution_count": 47,
   "metadata": {},
   "outputs": [
    {
     "data": {
      "text/plain": [
       "RidgeCV(alphas=array([1.e-04, 1.e-03, 1.e-02, 1.e-01, 1.e+00]), cv=3)"
      ]
     },
     "execution_count": 47,
     "metadata": {},
     "output_type": "execute_result"
    }
   ],
   "source": [
    "# type your code here\n",
    "X = fishs.drop('Weight',axis=1)\n",
    "y = fishs['Weight']\n",
    "\n",
    "from sklearn.linear_model import RidgeCV \n",
    "alphas = [0.0001, 0.001, 0.01, 0.1, 1]\n",
    "\n",
    "ridge_cv = RidgeCV(alphas=alphas, cv=3)\n",
    "\n",
    "ridge_cv.fit(X,y)"
   ]
  },
  {
   "cell_type": "code",
   "execution_count": 48,
   "metadata": {},
   "outputs": [
    {
     "data": {
      "text/plain": [
       "1.0"
      ]
     },
     "execution_count": 48,
     "metadata": {},
     "output_type": "execute_result"
    }
   ],
   "source": [
    "ridge_cv.alpha_"
   ]
  },
  {
   "cell_type": "markdown",
   "metadata": {},
   "source": [
    "ridge = Ridge(alpha=ridge_cv.alpha_)\n",
    "ridge.fit(X_train,y_train)\n",
    "\n",
    "y_train_pred = ridge.predict(X_train)\n",
    "r2_score=(y_train, y_train_pred)\n",
    "r2_score"
   ]
  },
  {
   "cell_type": "code",
   "execution_count": 49,
   "metadata": {},
   "outputs": [
    {
     "data": {
      "text/plain": [
       "0.10317648636608578"
      ]
     },
     "execution_count": 49,
     "metadata": {},
     "output_type": "execute_result"
    }
   ],
   "source": [
    "y_test_pred = ridge.predict(X_test)\n",
    "r2_score(y_test,y_test_pred)"
   ]
  },
  {
   "cell_type": "markdown",
   "metadata": {},
   "source": [
    "<table align=\"left\">\n",
    "    <tr>\n",
    "        <td width=\"6%\">\n",
    "            <img src=\"question_icon.png\">\n",
    "        </td>\n",
    "        <td>\n",
    "            <div align=\"left\", style=\"font-size:120%\">\n",
    "                <font color=\"#21618C\">\n",
    "                    <b>8. Select the best value for the elastic net mixing parameter from the list of values\n",
    "                    </b>\n",
    "                </font>\n",
    "            </div>\n",
    "        </td>\n",
    "    </tr>\n",
    "</table>"
   ]
  },
  {
   "cell_type": "markdown",
   "metadata": {},
   "source": [
    "Consider the below list of values:\n",
    "\n",
    "    list_of_parameter = [0.0001, 0.001, 0.01, 0.1, 1]\n",
    "\n",
    "Consider 5-fold cross validation."
   ]
  },
  {
   "cell_type": "code",
   "execution_count": 50,
   "metadata": {},
   "outputs": [
    {
     "data": {
      "text/plain": [
       "ElasticNetCV(alphas=[0.0001, 0.001, 0.01, 0.1, 1], cv=3, max_iter=50000)"
      ]
     },
     "execution_count": 50,
     "metadata": {},
     "output_type": "execute_result"
    }
   ],
   "source": [
    "# type your code here\n",
    "from sklearn.linear_model import ElasticNetCV \n",
    "alphas = [0.0001, 0.001, 0.01, 0.1, 1]\n",
    "\n",
    "enet_cv = ElasticNetCV(max_iter=50000,alphas=alphas, cv=3)\n",
    "\n",
    "enet_cv.fit(X,y)"
   ]
  },
  {
   "cell_type": "code",
   "execution_count": 51,
   "metadata": {},
   "outputs": [
    {
     "data": {
      "text/plain": [
       "0.027637398028684368"
      ]
     },
     "execution_count": 51,
     "metadata": {},
     "output_type": "execute_result"
    }
   ],
   "source": [
    "enet= ElasticNet(alpha=enet_cv.alpha_, max_iter=5000)\n",
    "enet.fit(X_train,y_train)\n",
    "\n",
    "y_train_pred = enet.predict(X_train)\n",
    "r2_score(y_train, y_train_pred)"
   ]
  },
  {
   "cell_type": "code",
   "execution_count": 52,
   "metadata": {},
   "outputs": [
    {
     "data": {
      "text/plain": [
       "0.0827609681587087"
      ]
     },
     "execution_count": 52,
     "metadata": {},
     "output_type": "execute_result"
    }
   ],
   "source": [
    "y_test_pred = enet.predict(X_test)\n",
    "r2_score(y_test, y_test_pred)"
   ]
  },
  {
   "cell_type": "code",
   "execution_count": 53,
   "metadata": {},
   "outputs": [
    {
     "name": "stdout",
     "output_type": "stream",
     "text": [
      "Best Alpha :  1.0\n"
     ]
    }
   ],
   "source": [
    "print(\"Best Alpha : \", enet_cv.alpha_)"
   ]
  },
  {
   "cell_type": "markdown",
   "metadata": {},
   "source": [
    "<table align=\"left\">\n",
    "    <tr>\n",
    "        <td width=\"6%\">\n",
    "            <img src=\"question_icon.png\">\n",
    "        </td>\n",
    "        <td>\n",
    "            <div align=\"left\", style=\"font-size:120%\">\n",
    "                <font color=\"#21618C\">\n",
    "                    <b>9. Identify the best value of alpha from the list of values for lasso regression\n",
    "                    </b>\n",
    "                </font>\n",
    "            </div>\n",
    "        </td>\n",
    "    </tr>\n",
    "</table>"
   ]
  },
  {
   "cell_type": "markdown",
   "metadata": {},
   "source": [
    "Consider the list of values for alpha:\n",
    "\n",
    "    list_of_alpha = [0.0001, 0.001, 0.1, 1, 2, 3]\n",
    "    \n",
    "Consider 5-fold cross validation."
   ]
  },
  {
   "cell_type": "code",
   "execution_count": 54,
   "metadata": {},
   "outputs": [
    {
     "data": {
      "text/plain": [
       "LassoCV(alphas=[0.0001, 0.001, 0.1, 1, 2, 3], cv=3, max_iter=35000,\n",
       "        random_state=4, verbose=0)"
      ]
     },
     "execution_count": 54,
     "metadata": {},
     "output_type": "execute_result"
    }
   ],
   "source": [
    "# type your code here\n",
    "alphas = [0.0001, 0.001, 0.1, 1, 2, 3]\n",
    "\n",
    "lasso_cv = LassoCV(alphas=alphas, cv=3, random_state=4, max_iter=35000, verbose=0)\n",
    "\n",
    "lasso_cv.fit(X,y)"
   ]
  },
  {
   "cell_type": "code",
   "execution_count": 55,
   "metadata": {},
   "outputs": [
    {
     "data": {
      "text/plain": [
       "0.06420342567326265"
      ]
     },
     "execution_count": 55,
     "metadata": {},
     "output_type": "execute_result"
    }
   ],
   "source": [
    "lasso = Lasso(alpha=lasso_cv.alpha_, max_iter=35000)\n",
    "lasso.fit(X_train,y_train)\n",
    "\n",
    "y_train_pred = lasso.predict(X_train)\n",
    "r2_score(y_train, y_train_pred)"
   ]
  },
  {
   "cell_type": "code",
   "execution_count": 56,
   "metadata": {},
   "outputs": [
    {
     "data": {
      "text/plain": [
       "0.09599171618713254"
      ]
     },
     "execution_count": 56,
     "metadata": {},
     "output_type": "execute_result"
    }
   ],
   "source": [
    "y_test_pred = lasso.predict(X_test)\n",
    "r2_score(y_test, y_test_pred)"
   ]
  },
  {
   "cell_type": "code",
   "execution_count": 57,
   "metadata": {},
   "outputs": [
    {
     "name": "stdout",
     "output_type": "stream",
     "text": [
      "Best Value of Alpha :  3.0\n"
     ]
    }
   ],
   "source": [
    "print(\"Best Value of Alpha : \", lasso_cv.alpha_)"
   ]
  },
  {
   "cell_type": "markdown",
   "metadata": {},
   "source": [
    "<table align=\"left\">\n",
    "    <tr>\n",
    "        <td width=\"6%\">\n",
    "            <img src=\"question_icon.png\">\n",
    "        </td>\n",
    "        <td>\n",
    "            <div align=\"left\", style=\"font-size:120%\">\n",
    "                <font color=\"#21618C\">\n",
    "                    <b>10. Build the elastic net regression model with 'alpha = 0.1' and best l1_ratio obtained by the GridSearchCV method. Also, compute the RMSE for test set\n",
    "                    </b>\n",
    "                </font>\n",
    "            </div>\n",
    "        </td>\n",
    "    </tr>\n",
    "</table>"
   ]
  },
  {
   "cell_type": "code",
   "execution_count": 58,
   "metadata": {},
   "outputs": [
    {
     "name": "stdout",
     "output_type": "stream",
     "text": [
      "RMSE Elastic Net :  460.1340393049059\n"
     ]
    }
   ],
   "source": [
    "# type your code here\n",
    "enet= ElasticNet(alpha=0.1, max_iter=5000)\n",
    "enet.fit(X_train,y_train)\n",
    "\n",
    "y_train_pred = enet.predict(X_train)\n",
    "\n",
    "print(\"RMSE Elastic Net : \", np.sqrt(mean_squared_error(y_test,pred)))"
   ]
  },
  {
   "cell_type": "code",
   "execution_count": null,
   "metadata": {},
   "outputs": [],
   "source": []
  }
 ],
 "metadata": {
  "kernelspec": {
   "display_name": "Python 3",
   "language": "python",
   "name": "python3"
  },
  "language_info": {
   "codemirror_mode": {
    "name": "ipython",
    "version": 3
   },
   "file_extension": ".py",
   "mimetype": "text/x-python",
   "name": "python",
   "nbconvert_exporter": "python",
   "pygments_lexer": "ipython3",
   "version": "3.8.5"
  }
 },
 "nbformat": 4,
 "nbformat_minor": 2
}
