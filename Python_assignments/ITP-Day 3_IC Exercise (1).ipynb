{
 "cells": [
  {
   "cell_type": "markdown",
   "metadata": {},
   "source": [
    "<table align=\"center\" width=100%>\n",
    "    <tr>\n",
    "        <td width=\"10%\">\n",
    "            <img src=\"in_class.png\">\n",
    "        </td>\n",
    "        <td>\n",
    "            <div align=\"center\">\n",
    "                <font color=\"#21618C\" size=8px>\n",
    "                    <b> Inclass-Lab  <br>(Day 3)\n",
    "                    </b>\n",
    "                </font>\n",
    "            </div>\n",
    "        </td>\n",
    "    </tr>\n",
    "</table>"
   ]
  },
  {
   "cell_type": "markdown",
   "metadata": {},
   "source": [
    "## Table of Content\n",
    "\n",
    "1. **[Conditional Statements](#cond)**\n",
    "2. **[Python Flow Control](#flow_control)**\n",
    "3. **[List Comprehension](#lc)**\n",
    "\n"
   ]
  },
  {
   "cell_type": "markdown",
   "metadata": {
    "colab_type": "text",
    "id": "bEAynmvFHq-M"
   },
   "source": [
    "<a id=\"cond\"> </a>\n",
    "## 1. Conditional Statements"
   ]
  },
  {
   "cell_type": "markdown",
   "metadata": {
    "colab_type": "text",
    "id": "lRSkSpPqHq-M"
   },
   "source": [
    "<table align=\"left\">\n",
    "    <tr>\n",
    "        <td width=\"6%\">\n",
    "            <img src=\"question_icon.png\">\n",
    "        </td>\n",
    "        <td>\n",
    "            <div align=\"left\", style=\"font-size:120%\">\n",
    "                <font color=\"#21618C\">\n",
    "                    <b>1. Write a program to check whether a given number is multiple of 7 (use if statement)</b>\n",
    "                </font>\n",
    "            </div>\n",
    "        </td>\n",
    "    </tr>\n",
    "</table>"
   ]
  },
  {
   "cell_type": "code",
   "execution_count": 2,
   "metadata": {
    "colab": {},
    "colab_type": "code",
    "id": "7v0jNVSEHq-M"
   },
   "outputs": [
    {
     "name": "stdout",
     "output_type": "stream",
     "text": [
      "please enter the number11\n",
      "the number is not multiple of 7\n"
     ]
    }
   ],
   "source": [
    "number=int(input(\"please enter the number\"))\n",
    "if number%7==0:\n",
    "    print(\"the number is multiple of 7\")\n",
    "else:\n",
    "    print(\"the number is not multiple of 7\")"
   ]
  },
  {
   "cell_type": "markdown",
   "metadata": {
    "colab_type": "text",
    "id": "K6Vhhi5AHq-P"
   },
   "source": [
    "<table align=\"left\">\n",
    "    <tr>\n",
    "        <td width=\"6%\">\n",
    "            <img src=\"question_icon.png\">\n",
    "        </td>\n",
    "        <td>\n",
    "            <div align=\"left\", style=\"font-size:120%\">\n",
    "                <font color=\"#21618C\">\n",
    "                    <b>2. Write a code to print the maximum of two numbers (use if-else)</b>\n",
    "                </font>\n",
    "            </div>\n",
    "        </td>\n",
    "    </tr>\n",
    "</table>"
   ]
  },
  {
   "cell_type": "code",
   "execution_count": 2,
   "metadata": {
    "colab": {},
    "colab_type": "code",
    "id": "hr63zbq1Hq-Q"
   },
   "outputs": [
    {
     "name": "stdout",
     "output_type": "stream",
     "text": [
      "what is the firt number55\n",
      "what is the second number88\n",
      "the bigger number is 88.0\n"
     ]
    }
   ],
   "source": [
    "number1=float(input(\"what is the firt number\"))\n",
    "number2=float(input(\"what is the second number\"))\n",
    "\n",
    "if number1>number2:\n",
    "    print(\"the bigger number is\",number1)\n",
    "else:\n",
    "    print(\"the bigger number is\",number2)"
   ]
  },
  {
   "cell_type": "markdown",
   "metadata": {
    "colab_type": "text",
    "id": "HxI9Dq2jHq-S"
   },
   "source": [
    "<table align=\"left\">\n",
    "    <tr>\n",
    "        <td width=\"6%\">\n",
    "            <img src=\"question_icon.png\">\n",
    "        </td>\n",
    "        <td>\n",
    "            <div align=\"left\", style=\"font-size:120%\">\n",
    "                <font color=\"#21618C\">\n",
    "                    <b>3. Write a program to check whether a number is positive, negative or zero (use if-elif) </b>\n",
    "                </font>\n",
    "            </div>\n",
    "        </td>\n",
    "    </tr>\n",
    "</table>"
   ]
  },
  {
   "cell_type": "code",
   "execution_count": 1,
   "metadata": {
    "colab": {},
    "colab_type": "code",
    "id": "Y47AyVjLHq-T"
   },
   "outputs": [
    {
     "name": "stdout",
     "output_type": "stream",
     "text": [
      "enter a number56\n",
      "the number is a positive number\n"
     ]
    }
   ],
   "source": [
    "number=int(input(\"enter a number \"))\n",
    "if number==0:\n",
    "    print(\"the number is zero\")\n",
    "elif number<0:\n",
    "    print(\"the number is a negative number \")\n",
    "else:\n",
    "    print(\"the number is a positive number \")"
   ]
  },
  {
   "cell_type": "markdown",
   "metadata": {},
   "source": [
    "### Let's begin with some hands-on practice exercises"
   ]
  },
  {
   "cell_type": "markdown",
   "metadata": {},
   "source": [
    "<a id= \"flow_control\"> </a>\n",
    "## 2. Python Flow Control"
   ]
  },
  {
   "cell_type": "markdown",
   "metadata": {},
   "source": [
    "<table align=\"left\">\n",
    "    <tr>\n",
    "        <td width=\"6%\">\n",
    "            <img src=\"question_icon.png\">\n",
    "        </td>\n",
    "        <td>\n",
    "            <div align=\"left\", style=\"font-size:120%\">\n",
    "                <font color=\"#21618C\">\n",
    "                    <b>4. Write a code to print table of 5 using assignment operand +=.</b>\n",
    "                </font>\n",
    "            </div>\n",
    "        </td>\n",
    "    </tr>\n",
    "</table>"
   ]
  },
  {
   "cell_type": "code",
   "execution_count": 8,
   "metadata": {},
   "outputs": [
    {
     "name": "stdout",
     "output_type": "stream",
     "text": [
      "5 times 1 is 5\n",
      "5 times 2 is 10\n",
      "5 times 3 is 15\n",
      "5 times 4 is 20\n",
      "5 times 5 is 25\n",
      "5 times 6 is 30\n",
      "5 times 7 is 35\n",
      "5 times 8 is 40\n",
      "5 times 9 is 45\n",
      "5 times 10 is 50\n"
     ]
    }
   ],
   "source": [
    "total=0\n",
    "for i in [1,2,3,4,5,6,7,8,9,10]:\n",
    "    total+=5\n",
    "    print('5 times %d is %d' %(i,total))"
   ]
  },
  {
   "cell_type": "markdown",
   "metadata": {},
   "source": [
    "<table align=\"left\">\n",
    "    <tr>\n",
    "        <td width=\"6%\">\n",
    "            <img src=\"question_icon.png\">\n",
    "        </td>\n",
    "        <td>\n",
    "            <div align=\"left\", style=\"font-size:120%\">\n",
    "                <font color=\"#21618C\">\n",
    "                    <b>5. Write a program for generating a fibonacci series starting with 0 and 1 for the next 10 values using a while loop. </b>\n",
    "                </font>\n",
    "            </div>\n",
    "        </td>\n",
    "    </tr>\n",
    "</table>"
   ]
  },
  {
   "cell_type": "code",
   "execution_count": 5,
   "metadata": {},
   "outputs": [
    {
     "name": "stdout",
     "output_type": "stream",
     "text": [
      "the fibonaci series is  [0, 1, 1, 2, 3, 5, 8, 13, 21, 34, 55, 89]\n"
     ]
    }
   ],
   "source": [
    "a=0\n",
    "b=1\n",
    "fibo=[a,b]\n",
    "i=1\n",
    "while i<11:\n",
    "    c= a+b\n",
    "    a=b\n",
    "    b=c\n",
    "    i+=1\n",
    "    fibo.append(b)\n",
    "print(\"the fibonaci series is \" , fibo)"
   ]
  },
  {
   "cell_type": "markdown",
   "metadata": {},
   "source": [
    "<table align=\"left\">\n",
    "    <tr>\n",
    "        <td width=\"6%\">\n",
    "            <img src=\"question_icon.png\">\n",
    "        </td>\n",
    "        <td>\n",
    "            <div align=\"left\", style=\"font-size:120%\">\n",
    "                <font color=\"#21618C\">\n",
    "                    <b>6. Write a program to check whether a number is greater than the other using if statement (take the input from user).</b>\n",
    "                </font>\n",
    "            </div>\n",
    "        </td>\n",
    "    </tr>\n",
    "</table>"
   ]
  },
  {
   "cell_type": "code",
   "execution_count": 4,
   "metadata": {},
   "outputs": [
    {
     "name": "stdout",
     "output_type": "stream",
     "text": [
      "what is the first number77\n",
      "what is the second number09\n",
      "first number is greater than the second number\n"
     ]
    }
   ],
   "source": [
    "num1=float(input(\"what is the first number\"))  \n",
    "num2=float(input(\"what is the second number\"))\n",
    "if num1>num2:\n",
    "    print(\"first number is greater than the second number\")\n",
    "else:\n",
    "    print(\"second number is greater than the first number\")"
   ]
  },
  {
   "cell_type": "markdown",
   "metadata": {},
   "source": [
    "<table align=\"left\">\n",
    "    <tr>\n",
    "        <td width=\"6%\">\n",
    "            <img src=\"question_icon.png\">\n",
    "        </td>\n",
    "        <td>\n",
    "            <div align=\"left\", style=\"font-size:120%\">\n",
    "                <font color=\"#21618C\">\n",
    "                    <b>7. Write a code to check whether a number is divisible by 7 or not (take the input from user). </b>\n",
    "                </font>\n",
    "            </div>\n",
    "        </td>\n",
    "    </tr>\n",
    "</table>"
   ]
  },
  {
   "cell_type": "code",
   "execution_count": 2,
   "metadata": {},
   "outputs": [
    {
     "name": "stdout",
     "output_type": "stream",
     "text": [
      "enter a number44\n",
      "the number is not divisable by 7\n"
     ]
    }
   ],
   "source": [
    "num=int(input(\"enter a number\"))\n",
    "if num%7==0:\n",
    "    print(\"the number is divisable by 7\")\n",
    "else:\n",
    "    print(\"the number is not divisable by 7\")"
   ]
  },
  {
   "cell_type": "markdown",
   "metadata": {},
   "source": [
    "<table align=\"left\">\n",
    "    <tr>\n",
    "        <td width=\"6%\">\n",
    "            <img src=\"question_icon.png\">\n",
    "        </td>\n",
    "        <td>\n",
    "            <div align=\"left\", style=\"font-size:120%\">\n",
    "                <font color=\"#21618C\">\n",
    "                    <b>8. Write a code to find factorial of a number (take the input from user). </b>\n",
    "                </font>\n",
    "            </div>\n",
    "        </td>\n",
    "    </tr>\n",
    "</table>"
   ]
  },
  {
   "cell_type": "code",
   "execution_count": 12,
   "metadata": {},
   "outputs": [
    {
     "name": "stdout",
     "output_type": "stream",
     "text": [
      "enter your number5\n",
      "the factorial of  5 is 120\n"
     ]
    }
   ],
   "source": [
    "num=int(input(\"enter your number\"))\n",
    "factorial= 1\n",
    "if num<0:\n",
    "    print(\"the factorial is not exists for negative number\")\n",
    "elif num==0:\n",
    "    print(\"factorial of 0 is 1\")\n",
    "elif num==1:\n",
    "    print(\"factorial of 1 is 1\")\n",
    "else:\n",
    "    fact=1\n",
    "    for num in range(1,num+1):\n",
    "        factorial=factorial*num\n",
    "    print(\"the factorial of \" ,num,'is',factorial)"
   ]
  },
  {
   "cell_type": "markdown",
   "metadata": {},
   "source": [
    "<table align=\"left\">\n",
    "    <tr>\n",
    "        <td width=\"6%\">\n",
    "            <img src=\"question_icon.png\">\n",
    "        </td>\n",
    "        <td>\n",
    "            <div align=\"left\", style=\"font-size:120%\">\n",
    "                <font color=\"#21618C\">\n",
    "                    <b>9. Write a program to check whether a number is prime or not (take the input from user).</b>\n",
    "                </font>\n",
    "            </div>\n",
    "        </td>\n",
    "    </tr>\n",
    "</table>"
   ]
  },
  {
   "cell_type": "code",
   "execution_count": 16,
   "metadata": {},
   "outputs": [
    {
     "name": "stdout",
     "output_type": "stream",
     "text": [
      "enter a number : 11\n",
      "11 is prime number\n"
     ]
    }
   ],
   "source": [
    "num=int(input(\"enter a number : \"))\n",
    "flag=0\n",
    "i=2\n",
    "while num>i:\n",
    "    if num%i==0:\n",
    "        flag=1\n",
    "    i+=1\n",
    "if flag==0:\n",
    "    print(num,\"is prime number\")\n",
    "else:\n",
    "    print(num,\"is not prime\")\n",
    "        \n",
    "        "
   ]
  },
  {
   "cell_type": "markdown",
   "metadata": {},
   "source": [
    "<table align=\"left\">\n",
    "    <tr>\n",
    "        <td width=\"6%\">\n",
    "            <img src=\"question_icon.png\">\n",
    "        </td>\n",
    "        <td>\n",
    "            <div align=\"left\", style=\"font-size:120%\">\n",
    "                <font color=\"#21618C\">\n",
    "                    <b>10. Write a program to check whether two numbers are amicable or not (take the input from user).</b>\n",
    "                </font>\n",
    "            </div>\n",
    "        </td>\n",
    "    </tr>\n",
    "</table>"
   ]
  },
  {
   "cell_type": "code",
   "execution_count": 10,
   "metadata": {},
   "outputs": [],
   "source": []
  },
  {
   "cell_type": "markdown",
   "metadata": {},
   "source": [
    "<table align=\"left\">\n",
    "    <tr>\n",
    "        <td width=\"6%\">\n",
    "            <img src=\"question_icon.png\">\n",
    "        </td>\n",
    "        <td>\n",
    "            <div align=\"left\", style=\"font-size:120%\">\n",
    "                <font color=\"#21618C\">\n",
    "                    <b>11. Reverse string using a for loop (take the input from user).</b>\n",
    "                </font>\n",
    "            </div>\n",
    "        </td>\n",
    "    </tr>\n",
    "</table>"
   ]
  },
  {
   "cell_type": "code",
   "execution_count": 2,
   "metadata": {},
   "outputs": [
    {
     "name": "stdout",
     "output_type": "stream",
     "text": [
      "enter your sentence : piyali\n",
      "ilayip\n"
     ]
    }
   ],
   "source": [
    "s=input(\"enter your sentence : \")\n",
    "string=str()\n",
    "for i in s:\n",
    "        string=i+string\n",
    "print(string)\n",
    "\n"
   ]
  },
  {
   "cell_type": "markdown",
   "metadata": {},
   "source": [
    "<table align=\"left\">\n",
    "    <tr>\n",
    "        <td width=\"6%\">\n",
    "            <img src=\"question_icon.png\">\n",
    "        </td>\n",
    "        <td>\n",
    "            <div align=\"left\", style=\"font-size:120%\">\n",
    "                <font color=\"#21618C\">\n",
    "                    <b>12. Write a code to find the average of given numbers (take the input from user).</b>\n",
    "                </font>\n",
    "            </div>\n",
    "        </td>\n",
    "    </tr>\n",
    "</table>"
   ]
  },
  {
   "cell_type": "code",
   "execution_count": 10,
   "metadata": {},
   "outputs": [
    {
     "name": "stdout",
     "output_type": "stream",
     "text": [
      "how many numbers 5\n",
      "enter your number2\n",
      "enter your number3\n",
      "enter your number4\n",
      "enter your number6\n",
      "enter your number7\n",
      "Average of  5 numbers is :  4.4\n"
     ]
    }
   ],
   "source": [
    "num=int(input(\"how many numbers \"))\n",
    "total_sum=0\n",
    "for n in range(num):\n",
    "    numbers=int(input(\"enter your number\"))\n",
    "    total_sum+=numbers\n",
    "avg=total_sum/num\n",
    "print(\"Average of \",num,'numbers is : ',avg)"
   ]
  },
  {
   "cell_type": "markdown",
   "metadata": {},
   "source": [
    "<table align=\"left\">\n",
    "    <tr>\n",
    "        <td width=\"6%\">\n",
    "            <img src=\"question_icon.png\">\n",
    "        </td>\n",
    "        <td>\n",
    "            <div align=\"left\", style=\"font-size:120%\">\n",
    "                <font color=\"#21618C\">\n",
    "                    <b>13. Write a program to find the area of a circle for a given radius (take the input from user).</b>\n",
    "                </font>\n",
    "            </div>\n",
    "        </td>\n",
    "    </tr>\n",
    "</table>"
   ]
  },
  {
   "cell_type": "code",
   "execution_count": 16,
   "metadata": {},
   "outputs": [
    {
     "name": "stdout",
     "output_type": "stream",
     "text": [
      "enter the radius of the circle5\n",
      "the area of the circle is 305.2447761824001\n"
     ]
    }
   ],
   "source": [
    "pi=3.14\n",
    "Radius_of_the_circle=float(input(\"enter the radius of the circle\"))\n",
    "area=(pi**Radius_of_the_circle)\n",
    "print(\"the area of the circle is \", area)"
   ]
  },
  {
   "cell_type": "markdown",
   "metadata": {},
   "source": [
    "<table align=\"left\">\n",
    "    <tr>\n",
    "        <td width=\"6%\">\n",
    "            <img src=\"question_icon.png\">\n",
    "        </td>\n",
    "        <td>\n",
    "            <div align=\"left\", style=\"font-size:120%\">\n",
    "                <font color=\"#21618C\">\n",
    "                    <b>14. Write a code to find the simple interest (take the input from user).</b>\n",
    "                </font>\n",
    "            </div>\n",
    "        </td>\n",
    "    </tr>\n",
    "</table>"
   ]
  },
  {
   "cell_type": "code",
   "execution_count": 17,
   "metadata": {},
   "outputs": [
    {
     "name": "stdout",
     "output_type": "stream",
     "text": [
      "what is your principal amount in Rs.500000000000\n",
      "whats the time period10\n",
      "whats the rate of interest7\n",
      "the simple interest is Rs.  350000000000.0\n"
     ]
    }
   ],
   "source": [
    "principal_amount=float(input(\"what is your principal amount in Rs.\"))\n",
    "Number_of_years=int(input(\"whats the time period\"))\n",
    "Rate_of_interest=float(input(\"whats the rate of interest\"))\n",
    "simple_interest=(principal_amount*Number_of_years*Rate_of_interest)/100\n",
    "print(\"the simple interest is Rs. \",simple_interest)"
   ]
  },
  {
   "cell_type": "markdown",
   "metadata": {},
   "source": [
    "<a id= \"lc\"> </a>\n",
    "## 3. List Comprehension"
   ]
  },
  {
   "cell_type": "markdown",
   "metadata": {},
   "source": [
    "<table align=\"left\">\n",
    "    <tr>\n",
    "        <td width=\"6%\">\n",
    "            <img src=\"question_icon.png\">\n",
    "        </td>\n",
    "        <td>\n",
    "            <div align=\"left\", style=\"font-size:120%\">\n",
    "                <font color=\"#21618C\">\n",
    "                    <b>15. Use list comprehension to obtain the squre root of first 10 natural numbers.</b>\n",
    "                </font>\n",
    "            </div>\n",
    "        </td>\n",
    "    </tr>\n",
    "</table>"
   ]
  },
  {
   "cell_type": "code",
   "execution_count": 1,
   "metadata": {},
   "outputs": [
    {
     "data": {
      "text/plain": [
       "[1.0,\n",
       " 1.4142135623730951,\n",
       " 1.7320508075688772,\n",
       " 2.0,\n",
       " 2.23606797749979,\n",
       " 2.449489742783178,\n",
       " 2.6457513110645907,\n",
       " 2.8284271247461903,\n",
       " 3.0,\n",
       " 3.1622776601683795]"
      ]
     },
     "execution_count": 1,
     "metadata": {},
     "output_type": "execute_result"
    }
   ],
   "source": [
    "abc=[natural_num**0.5     for natural_num in range(1,11)]\n",
    "abc"
   ]
  },
  {
   "cell_type": "markdown",
   "metadata": {},
   "source": [
    "<table align=\"left\">\n",
    "    <tr>\n",
    "        <td width=\"6%\">\n",
    "            <img src=\"question_icon.png\">\n",
    "        </td>\n",
    "        <td>\n",
    "            <div align=\"left\", style=\"font-size:120%\">\n",
    "                <font color=\"#21618C\">\n",
    "                    <b>16. Use list comprehension to find the used vowels in a given sentence and/or word (take the input from user). </b>\n",
    "                </font>\n",
    "            </div>\n",
    "        </td>\n",
    "    </tr>\n",
    "</table>"
   ]
  },
  {
   "cell_type": "code",
   "execution_count": 6,
   "metadata": {},
   "outputs": [
    {
     "name": "stdout",
     "output_type": "stream",
     "text": [
      "enter your word here datascience\n",
      "{'a', 'e', 'i'}\n"
     ]
    }
   ],
   "source": [
    "s=input(\"enter your word here \")\n",
    "vowels=[x for x in s if x in['a','e','i','o','u','A','E','I','O','U']]\n",
    "print(set(vowels))"
   ]
  },
  {
   "cell_type": "markdown",
   "metadata": {},
   "source": [
    "<table align=\"left\">\n",
    "    <tr>\n",
    "        <td width=\"6%\">\n",
    "            <img src=\"question_icon.png\">\n",
    "        </td>\n",
    "        <td>\n",
    "            <div align=\"left\", style=\"font-size:120%\">\n",
    "                <font color=\"#21618C\">\n",
    "                    <b>17. Create a dictionary and access it values using a condition on its key. The data is given below. Let the condidtion on the key is that it should be a even number.</b>\n",
    "                </font>\n",
    "            </div>\n",
    "       </td>\n",
    "    </tr>\n",
    "</table>\n"
   ]
  },
  {
   "cell_type": "markdown",
   "metadata": {},
   "source": [
    "<table>\n",
    "<tr>\n",
    "    <th>Key</th>\n",
    "    <td>1</td>\n",
    "    <td>2</td>\n",
    "    <td>3</td>\n",
    "    <td>4</td> \n",
    "    <td>5</td> \n",
    "</tr>\n",
    "<tr>\n",
    "    <th>Name</th>\n",
    "    <td>Aman</td>\n",
    "    <td>Mohit</td>\n",
    "    <td>Guari</td>\n",
    "    <td>Imran</td>\n",
    "    <td>Roma</td\n",
    "     </tr>\n",
    "<tr>\n",
    "    <th>Marks</th>\n",
    "    <td>24</td>\n",
    "    <td>25</td>\n",
    "    <td>26</td>\n",
    "    <td>24</td>\n",
    "    <td>27</td>\n",
    "   </tr>\n",
    "</table>"
   ]
  },
  {
   "cell_type": "code",
   "execution_count": 10,
   "metadata": {
    "scrolled": false
   },
   "outputs": [
    {
     "data": {
      "text/plain": [
       "{2: ['Mohit', 25], 4: ['Imran', 24]}"
      ]
     },
     "execution_count": 10,
     "metadata": {},
     "output_type": "execute_result"
    }
   ],
   "source": [
    "abc={1:['Aman',24],2:['Mohit',25],3:['Gauri',26],4:['Imran',24],5:['Roma',27]}\n",
    "new={   keys:values        for keys,values in abc.items()        if keys%2==0  }\n",
    "new"
   ]
  },
  {
   "cell_type": "markdown",
   "metadata": {},
   "source": [
    "<table align=\"left\">\n",
    "    <tr>\n",
    "        <td width=\"6%\">\n",
    "            <img src=\"question_icon.png\">\n",
    "        </td>\n",
    "        <td>\n",
    "            <div align=\"left\", style=\"font-size:120%\">\n",
    "                <font color=\"#21618C\">\n",
    "                    <b>18. Use list comprehension to find even and odd numbers from first 20 whole numbers.</b>\n",
    "                </font>\n",
    "            </div>\n",
    "        </td>\n",
    "    </tr>\n",
    "</table>"
   ]
  },
  {
   "cell_type": "code",
   "execution_count": 26,
   "metadata": {},
   "outputs": [
    {
     "name": "stdout",
     "output_type": "stream",
     "text": [
      "enen numbers are [0, 2, 4, 6, 8, 10, 12, 14, 16, 18, 20]\n",
      "odd numbers are [1, 3, 5, 7, 9, 11, 13, 15, 17, 19]\n"
     ]
    }
   ],
   "source": [
    "even=[numbers for numbers in range(0,21) if numbers%2==0]\n",
    "print(\"enen numbers are\", even)\n",
    "odd=[numbers for numbers in range(0,21) if numbers%2!=0]\n",
    "print(\"odd numbers are\",odd)"
   ]
  },
  {
   "cell_type": "markdown",
   "metadata": {},
   "source": [
    "<table align=\"left\">\n",
    "    <tr>\n",
    "        <td width=\"6%\">\n",
    "            <img src=\"question_icon.png\">\n",
    "        </td>\n",
    "        <td>\n",
    "            <div align=\"left\", style=\"font-size:120%\">\n",
    "                <font color=\"#21618C\">\n",
    "                    <b>19. Use list comprehension to print numbers divisible  by 2 and 3 in between 1 and 100. </b>\n",
    "                </font>\n",
    "            </div>\n",
    "        </td>\n",
    "    </tr>\n",
    "</table>"
   ]
  },
  {
   "cell_type": "code",
   "execution_count": 9,
   "metadata": {},
   "outputs": [
    {
     "data": {
      "text/plain": [
       "[6, 12, 18, 24, 30, 36, 42, 48, 54, 60, 66, 72, 78, 84, 90, 96]"
      ]
     },
     "execution_count": 9,
     "metadata": {},
     "output_type": "execute_result"
    }
   ],
   "source": [
    "number=[   numbers for numbers in range(1,100)      if numbers%2==0 and numbers%3==0   ]\n",
    "number"
   ]
  },
  {
   "cell_type": "markdown",
   "metadata": {},
   "source": [
    "<table align=\"left\">\n",
    "    <tr>\n",
    "        <td width=\"6%\">\n",
    "            <img src=\"question_icon.png\">\n",
    "        </td>\n",
    "        <td>\n",
    "            <div align=\"left\", style=\"font-size:120%\">\n",
    "                <font color=\"#21618C\">\n",
    "                    <b>20. Use list comprehension to create a dictionary such that its keys are numbers from 1 to 10 and values are the corresponding to that key are its cube.</b>\n",
    "                </font>\n",
    "            </div>\n",
    "        </td>\n",
    "    </tr>\n",
    "</table>"
   ]
  },
  {
   "cell_type": "code",
   "execution_count": 15,
   "metadata": {},
   "outputs": [
    {
     "data": {
      "text/plain": [
       "{1: 1, 2: 8, 3: 27, 4: 64, 5: 125, 6: 216, 7: 343, 8: 512, 9: 729, 10: 1000}"
      ]
     },
     "execution_count": 15,
     "metadata": {},
     "output_type": "execute_result"
    }
   ],
   "source": [
    "cube=[[number,number**3] for number in range(1,11)]\n",
    "dict(cube)"
   ]
  },
  {
   "cell_type": "markdown",
   "metadata": {},
   "source": [
    "<table align=\"left\">\n",
    "    <tr>\n",
    "        <td width=\"6%\">\n",
    "            <img src=\"question_icon.png\">\n",
    "        </td>\n",
    "        <td>\n",
    "            <div align=\"left\", style=\"font-size:120%\">\n",
    "                <font color=\"#21618C\">\n",
    "                    <b>21. Use list comprehension to extract numbers from a string </b>\n",
    "                </font>\n",
    "            </div>\n",
    "        </td>\n",
    "    </tr>\n",
    "</table>"
   ]
  },
  {
   "cell_type": "code",
   "execution_count": 2,
   "metadata": {},
   "outputs": [
    {
     "name": "stdout",
     "output_type": "stream",
     "text": [
      "['1', '2', '3', '4', '5']\n"
     ]
    }
   ],
   "source": [
    "string='great learning 12345'\n",
    "numbers=[x for x in string if x.isdigit()]\n",
    "print(numbers)"
   ]
  },
  {
   "cell_type": "markdown",
   "metadata": {},
   "source": [
    "<table align=\"left\">\n",
    "    <tr>\n",
    "        <td width=\"6%\">\n",
    "            <img src=\"question_icon.png\">\n",
    "        </td>\n",
    "        <td>\n",
    "            <div align=\"left\", style=\"font-size:120%\">\n",
    "                <font color=\"#21618C\">\n",
    "                    <b>22. Use list comprehension to print table of 11 to 20 as shown below.</b>\n",
    "                </font>\n",
    "            </div>\n",
    "        </td>\n",
    "    </tr>\n",
    "</table>"
   ]
  },
  {
   "cell_type": "markdown",
   "metadata": {},
   "source": [
    "<table>\n",
    "<tr>\n",
    "    <td>11</td><td>22</td><td>33</td><td>44</td><td>55</td><td>66</td><td>77</td><td>88</td><td>99</td><td>110</td> \n",
    "</tr>\n",
    "    \n",
    "<tr>\n",
    "    <td>12</td><td>24</td><td>36</td><td>48</td><td>60</td><td>72</td><td>84</td><td>96</td><td>108</td><td>120</td> \n",
    "</tr>\n",
    "\n",
    "<tr>\n",
    "    <td>13</td><td>36</td><td>39</td><td>52</td><td>65</td><td>78</td><td>91</td><td>104</td><td>117</td><td>130</td> \n",
    "</tr> \n",
    "\n",
    "<tr>\n",
    "     <td>14</td><td>28</td><td>42</td><td>56</td><td>70</td> <td>84</td><td>98</td><td>112</td><td>126</td><td>140</td> \n",
    "</tr>\n",
    "\n",
    "<tr>\n",
    "     <td>15</td><td>30</td><td>45</td><td>60</td><td>75</td><td>90</td><td>105</td><td>120</td><td>135</td><td>150</td> \n",
    "</tr>\n",
    "\n",
    "<tr>\n",
    "     <td>16</td><td>32</td><td>48</td><td>64</td><td>80</td><td>96</td><td>112</td><td>128</td><td>144</td><td>160</td> \n",
    "</tr> \n",
    "\n",
    "<tr>\n",
    "     <td>17</td><td>34</td><td>51</td><td>68</td><td>85</td><td>102</td><td>119</td><td>136</td><td>153</td><td>170</td> \n",
    "</tr> \n",
    "\n",
    "<tr>\n",
    "     <td>18</td><td>36</td><td>54</td><td>72</td><td>90</td> <td>108</td><td>126</td><td>144</td><td>162</td><td>180</td> \n",
    "</tr>\n",
    "\n",
    "<tr>\n",
    " <td>19</td><td>38</td><td>57</td><td>76</td><td>95</td><td>114</td><td>133</td><td>152</td><td>171</td><td>190</td> \n",
    "</tr>\n",
    "\n",
    "<tr>\n",
    "     <td>20</td><td>40</td><td>60</td><td>80</td><td>100</td><td>120</td><td>140</td><td>160</td><td>180</td><td>200</td> \n",
    "<tr>    \n",
    "    \n",
    "</table>"
   ]
  },
  {
   "cell_type": "code",
   "execution_count": 19,
   "metadata": {},
   "outputs": [
    {
     "data": {
      "text/plain": [
       "[[11, 22, 33, 44, 55, 66, 77, 88, 99, 110],\n",
       " [12, 24, 36, 48, 60, 72, 84, 96, 108, 120],\n",
       " [13, 26, 39, 52, 65, 78, 91, 104, 117, 130],\n",
       " [14, 28, 42, 56, 70, 84, 98, 112, 126, 140],\n",
       " [15, 30, 45, 60, 75, 90, 105, 120, 135, 150],\n",
       " [16, 32, 48, 64, 80, 96, 112, 128, 144, 160],\n",
       " [17, 34, 51, 68, 85, 102, 119, 136, 153, 170],\n",
       " [18, 36, 54, 72, 90, 108, 126, 144, 162, 180],\n",
       " [19, 38, 57, 76, 95, 114, 133, 152, 171, 190],\n",
       " [20, 40, 60, 80, 100, 120, 140, 160, 180, 200]]"
      ]
     },
     "execution_count": 19,
     "metadata": {},
     "output_type": "execute_result"
    }
   ],
   "source": [
    "abc=[  [i*a for i in range(1,11)]   for a in range(11,21)]\n",
    "abc"
   ]
  },
  {
   "cell_type": "markdown",
   "metadata": {},
   "source": [
    "<table align=\"left\">\n",
    "    <tr>\n",
    "        <td width=\"6%\">\n",
    "            <img src=\"question_icon.png\">\n",
    "        </td>\n",
    "        <td>\n",
    "            <div align=\"left\", style=\"font-size:120%\">\n",
    "                <font color=\"#21618C\">\n",
    "                    <b>23. Use list comprehension to find transpose of the matrix given below.</b>\n",
    "                </font>\n",
    "            </div>\n",
    "        </td>\n",
    "    </tr>\n",
    "</table>"
   ]
  },
  {
   "cell_type": "markdown",
   "metadata": {},
   "source": [
    "<table>\n",
    "    <tr>\n",
    "        <td>1</td>\n",
    "        <td>2</td>\n",
    "    </tr>\n",
    "    <tr>\n",
    "        <td>3</td>\n",
    "        <td>4</td>\n",
    "    </tr>\n",
    "    <tr>\n",
    "        <td>5</td>\n",
    "        <td>6</td>\n",
    "    </tr>\n",
    "    <tr>\n",
    "        <td>7</td>\n",
    "        <td>8</td>\n",
    "    </tr>\n",
    "    </table>"
   ]
  },
  {
   "cell_type": "code",
   "execution_count": 1,
   "metadata": {},
   "outputs": [
    {
     "name": "stdout",
     "output_type": "stream",
     "text": [
      "2 4 6 8\n",
      "1 3 5 7\n"
     ]
    }
   ],
   "source": [
    "a=[i for i in range(1,9)  if i%2==0]\n",
    "b=[i for i in range(1,9)  if i%2!=0]\n",
    "print(*a)\n",
    "print(*b)\n"
   ]
  },
  {
   "cell_type": "code",
   "execution_count": null,
   "metadata": {},
   "outputs": [],
   "source": []
  }
 ],
 "metadata": {
  "kernelspec": {
   "display_name": "Python 3",
   "language": "python",
   "name": "python3"
  },
  "language_info": {
   "codemirror_mode": {
    "name": "ipython",
    "version": 3
   },
   "file_extension": ".py",
   "mimetype": "text/x-python",
   "name": "python",
   "nbconvert_exporter": "python",
   "pygments_lexer": "ipython3",
   "version": "3.8.5"
  }
 },
 "nbformat": 4,
 "nbformat_minor": 2
}
