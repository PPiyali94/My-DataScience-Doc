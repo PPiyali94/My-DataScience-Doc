{
 "cells": [
  {
   "cell_type": "markdown",
   "metadata": {
    "colab_type": "text",
    "id": "0yzl3MKzf98L"
   },
   "source": [
    "<table align=\"center\" width=100%>\n",
    "    <tr>\n",
    "        <td width=\"10%\">\n",
    "            <img src=\"in_class.png\">\n",
    "        </td>\n",
    "        <td>\n",
    "            <div align=\"center\">\n",
    "                <font color=\"#21618C\" size=8px>\n",
    "                    <b> Inclass-Lab  <br>(Day 3)\n",
    "                    </b>\n",
    "                </font>\n",
    "            </div>\n",
    "        </td>\n",
    "    </tr>\n",
    "</table>"
   ]
  },
  {
   "cell_type": "markdown",
   "metadata": {},
   "source": [
    "## Table of Content\n",
    "\n",
    "1. **[Large Sample Test](#z)**\n",
    "2. **[Small Sample Test](#t)**\n",
    "3. **[Z Proportion Test](#prop)**"
   ]
  },
  {
   "cell_type": "markdown",
   "metadata": {},
   "source": [
    "**Import the required libraries**"
   ]
  },
  {
   "cell_type": "code",
   "execution_count": 16,
   "metadata": {},
   "outputs": [],
   "source": [
    "# import 'pandas' \n",
    "import pandas as pd \n",
    "\n",
    "# import 'numpy' \n",
    "import numpy as np\n",
    "\n",
    "# import subpackage of matplotlib\n",
    "import matplotlib.pyplot as plt\n",
    "\n",
    "# import 'seaborn'\n",
    "import seaborn as sns\n",
    "\n",
    "# to suppress warnings \n",
    "from warnings import filterwarnings\n",
    "filterwarnings('ignore')\n",
    "\n",
    "# import 'random' to generate random sample\n",
    "import random\n",
    "\n",
    "# import statistics to perform statistical computation  \n",
    "import statistics\n",
    "\n",
    "# import 'stats' package from scipy library\n",
    "from scipy import stats\n",
    "\n",
    "# import a library to perform Z-test\n",
    "from statsmodels.stats import weightstats as stests\n",
    "\n",
    "# to test the normality \n",
    "from scipy.stats import shapiro\n",
    "\n",
    "# import the function to calculate the power of test\n",
    "from statsmodels.stats import power\n",
    "import statsmodels as sm\n",
    "from statsmodels import api"
   ]
  },
  {
   "cell_type": "markdown",
   "metadata": {
    "colab_type": "text",
    "id": "psOYFu6zf98N"
   },
   "source": [
    "### Let's begin with some hands-on practice exercises"
   ]
  },
  {
   "cell_type": "markdown",
   "metadata": {
    "colab_type": "text",
    "id": "r4J-iIEhf98N"
   },
   "source": [
    "<a id = \"z\"> </a>\n",
    "## 1. Large Sample Test"
   ]
  },
  {
   "cell_type": "markdown",
   "metadata": {
    "colab_type": "text",
    "id": "V7QJT8W9f98T"
   },
   "source": [
    "<table align=\"left\">\n",
    "    <tr>\n",
    "        <td width=\"6%\">\n",
    "            <img src=\"question_icon.png\">\n",
    "        </td>\n",
    "        <td>\n",
    "            <div align=\"left\", style=\"font-size:120%\">\n",
    "                <font color=\"#21618C\">\n",
    "                    <b>1. The company MangoFun that produces mango juice claims that the protein content in their juice is more than the juice produced by their competitor company FruitMix. Protein content in 50 boxes of MangoFun juice and 80 boxes of FruitMix juice is collected from a normal population which have an average protein content as 0.4 g and 0.35 g. The two samples have a standard deviation of 0.08 g for MangoFun juice and 0.05 g for FruitMix juice. Test the claim using a critical value method at a 1% level of significance.</b>\n",
    "                </font>\n",
    "            </div>\n",
    "        </td>\n",
    "    </tr>\n",
    "</table>"
   ]
  },
  {
   "cell_type": "code",
   "execution_count": null,
   "metadata": {},
   "outputs": [],
   "source": [
    "# type your code here\n",
    "h0:mu1 - mu2 <= 0\n",
    "h1:mu1 - mu2 > 0\n",
    "    \n",
    "mu1 --> avg protein in Mangafun\n",
    "mu1 --> avg protein in fruitmix"
   ]
  },
  {
   "cell_type": "code",
   "execution_count": 2,
   "metadata": {},
   "outputs": [
    {
     "data": {
      "text/plain": [
       "2.33"
      ]
     },
     "execution_count": 2,
     "metadata": {},
     "output_type": "execute_result"
    }
   ],
   "source": [
    "z_critical=round(stats.norm.isf(q=0.01),2)\n",
    "z_critical"
   ]
  },
  {
   "cell_type": "code",
   "execution_count": null,
   "metadata": {},
   "outputs": [],
   "source": [
    "#if the zscore is going to greater than 2.33,then we reject the null hypothesis"
   ]
  },
  {
   "cell_type": "code",
   "execution_count": 3,
   "metadata": {},
   "outputs": [],
   "source": [
    "mango_no_n=50\n",
    "fruit_mix_n=80\n",
    "mu1=0.4\n",
    "mu2=0.35\n",
    "std_mango=0.08\n",
    "std_fruit_mix=0.05\n",
    "\n",
    "samp_mean=mu1-mu2\n",
    "value=0"
   ]
  },
  {
   "cell_type": "code",
   "execution_count": 7,
   "metadata": {},
   "outputs": [
    {
     "data": {
      "text/plain": [
       "0.050000000000000044"
      ]
     },
     "execution_count": 7,
     "metadata": {},
     "output_type": "execute_result"
    }
   ],
   "source": [
    "num=mu1-mu2\n",
    "num"
   ]
  },
  {
   "cell_type": "code",
   "execution_count": 8,
   "metadata": {},
   "outputs": [],
   "source": [
    "den=np.sqrt(((std_mango**2)/mango_no_n)+(std_fruit_mix**2)/fruit_mix_n)"
   ]
  },
  {
   "cell_type": "code",
   "execution_count": 9,
   "metadata": {},
   "outputs": [],
   "source": [
    " zscore = num/ den"
   ]
  },
  {
   "cell_type": "code",
   "execution_count": 10,
   "metadata": {},
   "outputs": [
    {
     "data": {
      "text/plain": [
       "3.96214425875164"
      ]
     },
     "execution_count": 10,
     "metadata": {},
     "output_type": "execute_result"
    }
   ],
   "source": [
    "zscore"
   ]
  },
  {
   "cell_type": "code",
   "execution_count": null,
   "metadata": {},
   "outputs": [],
   "source": [
    "#z score is > than z_critical so we can reject the H0."
   ]
  },
  {
   "cell_type": "markdown",
   "metadata": {
    "colab_type": "text",
    "id": "6YXVLVi9f98b"
   },
   "source": [
    "<table align=\"left\">\n",
    "    <tr>\n",
    "        <td width=\"6%\">\n",
    "            <img src=\"question_icon.png\">\n",
    "        </td>\n",
    "        <td>\n",
    "            <div align=\"left\", style=\"font-size:120%\">\n",
    "                <font color=\"#21618C\">\n",
    "                    <b>2. The technician wants to test whether the price of a phablet is not the same as the price of tablet. For the study, the technician collects the data of 50 gadgets of each type. Check whether the data satisfies the conditions to use the two sample Z-test. (Use 5% level of significance)</b>\n",
    "                </font>\n",
    "            </div>\n",
    "        </td>\n",
    "    </tr>\n",
    "</table>"
   ]
  },
  {
   "cell_type": "markdown",
   "metadata": {},
   "source": [
    "Consider the dataset given in the CSV file `electronic.csv`. "
   ]
  },
  {
   "cell_type": "code",
   "execution_count": 17,
   "metadata": {},
   "outputs": [
    {
     "data": {
      "text/html": [
       "<div>\n",
       "<style scoped>\n",
       "    .dataframe tbody tr th:only-of-type {\n",
       "        vertical-align: middle;\n",
       "    }\n",
       "\n",
       "    .dataframe tbody tr th {\n",
       "        vertical-align: top;\n",
       "    }\n",
       "\n",
       "    .dataframe thead th {\n",
       "        text-align: right;\n",
       "    }\n",
       "</style>\n",
       "<table border=\"1\" class=\"dataframe\">\n",
       "  <thead>\n",
       "    <tr style=\"text-align: right;\">\n",
       "      <th></th>\n",
       "      <th>Screensize (inch)</th>\n",
       "      <th>Price ($)</th>\n",
       "      <th>Weight (g)</th>\n",
       "      <th>Type</th>\n",
       "    </tr>\n",
       "  </thead>\n",
       "  <tbody>\n",
       "    <tr>\n",
       "      <th>0</th>\n",
       "      <td>6.5</td>\n",
       "      <td>245</td>\n",
       "      <td>252</td>\n",
       "      <td>Phablet</td>\n",
       "    </tr>\n",
       "    <tr>\n",
       "      <th>1</th>\n",
       "      <td>6.3</td>\n",
       "      <td>210</td>\n",
       "      <td>252</td>\n",
       "      <td>Phablet</td>\n",
       "    </tr>\n",
       "    <tr>\n",
       "      <th>2</th>\n",
       "      <td>6.1</td>\n",
       "      <td>224</td>\n",
       "      <td>234</td>\n",
       "      <td>Phablet</td>\n",
       "    </tr>\n",
       "    <tr>\n",
       "      <th>3</th>\n",
       "      <td>6.0</td>\n",
       "      <td>217</td>\n",
       "      <td>212</td>\n",
       "      <td>Phablet</td>\n",
       "    </tr>\n",
       "    <tr>\n",
       "      <th>4</th>\n",
       "      <td>6.4</td>\n",
       "      <td>252</td>\n",
       "      <td>252</td>\n",
       "      <td>Phablet</td>\n",
       "    </tr>\n",
       "  </tbody>\n",
       "</table>\n",
       "</div>"
      ],
      "text/plain": [
       "   Screensize (inch)  Price ($)  Weight (g)     Type\n",
       "0                6.5        245         252  Phablet\n",
       "1                6.3        210         252  Phablet\n",
       "2                6.1        224         234  Phablet\n",
       "3                6.0        217         212  Phablet\n",
       "4                6.4        252         252  Phablet"
      ]
     },
     "execution_count": 17,
     "metadata": {},
     "output_type": "execute_result"
    }
   ],
   "source": [
    "# type your code here\n",
    "data=pd.read_csv('electronic.csv')\n",
    "data.head()"
   ]
  },
  {
   "cell_type": "code",
   "execution_count": 22,
   "metadata": {},
   "outputs": [
    {
     "data": {
      "text/plain": [
       "50"
      ]
     },
     "execution_count": 22,
     "metadata": {},
     "output_type": "execute_result"
    }
   ],
   "source": [
    "phablet_price=data[data['Type']=='Phablet']['Price ($)']\n",
    "n1=len(phablet_price)\n",
    "n1"
   ]
  },
  {
   "cell_type": "code",
   "execution_count": 23,
   "metadata": {},
   "outputs": [
    {
     "data": {
      "text/plain": [
       "50"
      ]
     },
     "execution_count": 23,
     "metadata": {},
     "output_type": "execute_result"
    }
   ],
   "source": [
    "Tablet_price=data[data['Type']=='Tablet']['Price ($)']\n",
    "n2=len(Tablet_price)\n",
    "n2"
   ]
  },
  {
   "cell_type": "code",
   "execution_count": 26,
   "metadata": {},
   "outputs": [
    {
     "data": {
      "text/plain": [
       "(0.9888564348220825, 0.5733178853988647)"
      ]
     },
     "execution_count": 26,
     "metadata": {},
     "output_type": "execute_result"
    }
   ],
   "source": [
    "stat,p_value=stats.shapiro(data['Price ($)'])\n",
    "stat,p_value"
   ]
  },
  {
   "cell_type": "code",
   "execution_count": null,
   "metadata": {},
   "outputs": [],
   "source": [
    "#here there is 5% significance so than we can say p_value is greater than 0.05 so the data is normally distributed."
   ]
  },
  {
   "cell_type": "code",
   "execution_count": 29,
   "metadata": {},
   "outputs": [
    {
     "name": "stdout",
     "output_type": "stream",
     "text": [
      "statistics :  0.6635459332943239\n",
      "p_value :  0.4172859681296204\n"
     ]
    }
   ],
   "source": [
    "stat,p_value=stats.levene(phablet_price,Tablet_price)\n",
    "print('statistics : ',stat)\n",
    "print('p_value : ',p_value)"
   ]
  },
  {
   "cell_type": "code",
   "execution_count": null,
   "metadata": {},
   "outputs": [],
   "source": [
    "#p_value is greter than 0.05 so that so the varience are equal\n",
    "# data is satisfied all the conditions so we can proceed foe z-test."
   ]
  },
  {
   "cell_type": "markdown",
   "metadata": {
    "colab_type": "text",
    "id": "YIaQZc58f98p"
   },
   "source": [
    "<table align=\"left\">\n",
    "    <tr>\n",
    "        <td width=\"6%\">\n",
    "            <img src=\"question_icon.png\">\n",
    "        </td>\n",
    "        <td>\n",
    "            <div align=\"left\", style=\"font-size:120%\">\n",
    "                <font color=\"#21618C\">\n",
    "                    <b>3. The technician claims that the price of phablet is not the same as the price of tablet. For the study, the technician collects the data of 50 gadgets of each type. Test the technician's claim using the 95% confidence interval.</b>\n",
    "                </font>\n",
    "            </div>\n",
    "        </td>\n",
    "    </tr>\n",
    "</table>"
   ]
  },
  {
   "cell_type": "markdown",
   "metadata": {},
   "source": [
    "Consider the dataset given in the CSV file `electronic.csv`. "
   ]
  },
  {
   "cell_type": "markdown",
   "metadata": {},
   "source": [
    "H0: mu1-mu2=0\n",
    "H1: mu-mu2!=0"
   ]
  },
  {
   "cell_type": "code",
   "execution_count": 33,
   "metadata": {},
   "outputs": [],
   "source": [
    "phablet_price = data[data['Type']=='Phablet']['Price ($)']\n",
    "phablet_len = len(phablet_price)"
   ]
  },
  {
   "cell_type": "code",
   "execution_count": 34,
   "metadata": {},
   "outputs": [],
   "source": [
    "tablet_price = data[data['Type']=='Tablet']['Price ($)']\n",
    "tablet_len = len(tablet_price)"
   ]
  },
  {
   "cell_type": "code",
   "execution_count": 35,
   "metadata": {},
   "outputs": [],
   "source": [
    "phablet_mean = np.mean(phablet_price)\n",
    "tablet_mean = np.mean(tablet_price)"
   ]
  },
  {
   "cell_type": "code",
   "execution_count": 36,
   "metadata": {},
   "outputs": [],
   "source": [
    "phablet_std = statistics.stdev(phablet_price)\n",
    "tablet_std = statistics.stdev(tablet_price)"
   ]
  },
  {
   "cell_type": "code",
   "execution_count": 37,
   "metadata": {},
   "outputs": [
    {
     "name": "stdout",
     "output_type": "stream",
     "text": [
      "Confidence interval: (35.78269259462732, 54.93730740537265)\n"
     ]
    }
   ],
   "source": [
    "print('Confidence interval:', stats.norm.interval(0.95, loc = phablet_mean - tablet_mean, \n",
    "                                                  scale = np.sqrt((phablet_std**2/phablet_len) + (tablet_std**2/tablet_len))))"
   ]
  },
  {
   "cell_type": "code",
   "execution_count": 38,
   "metadata": {},
   "outputs": [],
   "source": [
    "#null hypothesis is not lying in the interval so we reject null hypothesis."
   ]
  },
  {
   "cell_type": "code",
   "execution_count": 41,
   "metadata": {},
   "outputs": [
    {
     "name": "stdout",
     "output_type": "stream",
     "text": [
      "z_score  9.282772555558113\n",
      "p_vale  1.6512473234517284e-20\n"
     ]
    }
   ],
   "source": [
    "z_score, p_value = stests.ztest(x1 = phablet_price, x2 =tablet_price , value = 0, alternative = 'two-sided')\n",
    "print('z_score ',z_score)\n",
    "print('p_vale ',p_value)"
   ]
  },
  {
   "cell_type": "code",
   "execution_count": null,
   "metadata": {},
   "outputs": [],
   "source": []
  },
  {
   "cell_type": "markdown",
   "metadata": {
    "colab_type": "text",
    "id": "QLSslfFdf98b"
   },
   "source": [
    "<a id=\"t\"></a>\n",
    "## 2. Small Sample Test"
   ]
  },
  {
   "cell_type": "markdown",
   "metadata": {
    "colab_type": "text",
    "id": "qI6L73Qhf98t"
   },
   "source": [
    "<table align=\"left\">\n",
    "    <tr>\n",
    "        <td width=\"6%\">\n",
    "            <img src=\"question_icon.png\">\n",
    "        </td>\n",
    "        <td>\n",
    "            <div align=\"left\", style=\"font-size:120%\">\n",
    "                <font color=\"#21618C\">\n",
    "                    <b>4. The quality assurance department has collected 15 packets of potato chips. The department wants to test the average weight of the packets. Check whether they can use the one sample t-test for the population mean with 95% confidence.</b>\n",
    "                </font>\n",
    "            </div>\n",
    "        </td>\n",
    "    </tr>\n",
    "</table>"
   ]
  },
  {
   "cell_type": "markdown",
   "metadata": {},
   "source": [
    "Use the data given below:\n",
    "        \n",
    "    pack_wt = [26.8, 29.6, 27.8, 31.2, 30.9, 27.1, 28, 28.6, 29.4, 29.3, 31.5, 32.4, 29.7, 28.1, 31.9]"
   ]
  },
  {
   "cell_type": "code",
   "execution_count": 42,
   "metadata": {},
   "outputs": [],
   "source": [
    "# type your code here\n",
    "pack_wt = [26.8, 29.6, 27.8, 31.2, 30.9, 27.1, 28, 28.6, 29.4, 29.3, 31.5, 32.4, 29.7, 28.1, 31.9]"
   ]
  },
  {
   "cell_type": "code",
   "execution_count": 43,
   "metadata": {},
   "outputs": [],
   "source": [
    "#n<30 so we use t-test"
   ]
  },
  {
   "cell_type": "code",
   "execution_count": 45,
   "metadata": {},
   "outputs": [
    {
     "name": "stdout",
     "output_type": "stream",
     "text": [
      "Statistics : 0.9538426995277405\n",
      "P_value : 0.5868644714355469\n"
     ]
    }
   ],
   "source": [
    "stat,p_val=stats.shapiro(pack_wt)\n",
    "print('Statistics :',stat)\n",
    "print('P_value :',p_val)"
   ]
  },
  {
   "cell_type": "code",
   "execution_count": null,
   "metadata": {},
   "outputs": [],
   "source": [
    "n=15\n",
    "avg=np.mean(pack_wt)\n",
    "samp_std=statistics.stdev(pack_wt)"
   ]
  },
  {
   "cell_type": "code",
   "execution_count": null,
   "metadata": {},
   "outputs": [],
   "source": [
    "#p_value is greater than 0.05 the data is normally distributed "
   ]
  },
  {
   "cell_type": "code",
   "execution_count": null,
   "metadata": {},
   "outputs": [],
   "source": [
    "#we can conclude that yes we can use one sample t-test as n<15."
   ]
  },
  {
   "cell_type": "markdown",
   "metadata": {
    "colab_type": "text",
    "id": "iZkGr2rTf98y"
   },
   "source": [
    "<table align=\"left\">\n",
    "    <tr>\n",
    "        <td width=\"6%\">\n",
    "            <img src=\"question_icon.png\">\n",
    "        </td>\n",
    "        <td>\n",
    "            <div align=\"left\", style=\"font-size:120%\">\n",
    "                <font color=\"#21618C\">\n",
    "                    <b>5. Use the weight of the potato chips packets given in the previous question and test whether the average weight of packet is more than 30 g. using p-value method. (Use 10% level of significance)</b>\n",
    "                </font>\n",
    "            </div>\n",
    "        </td>\n",
    "    </tr>\n",
    "</table>"
   ]
  },
  {
   "cell_type": "markdown",
   "metadata": {},
   "source": [
    "Use the data given below:\n",
    "        \n",
    "    pack_wt = [26.8, 29.6, 27.8, 31.2, 30.9, 27.1, 28, 28.6, 29.4, 29.3, 31.5, 32.4, 29.7, 28.1, 31.9]"
   ]
  },
  {
   "cell_type": "code",
   "execution_count": 46,
   "metadata": {},
   "outputs": [],
   "source": [
    "# type your code here\n",
    "pack_wt = [26.8, 29.6, 27.8, 31.2, 30.9, 27.1, 28, 28.6, 29.4, 29.3, 31.5, 32.4, 29.7, 28.1, 31.9]"
   ]
  },
  {
   "cell_type": "code",
   "execution_count": null,
   "metadata": {},
   "outputs": [],
   "source": [
    "H0: mu<30\n",
    "H1: mu>30"
   ]
  },
  {
   "cell_type": "code",
   "execution_count": null,
   "metadata": {},
   "outputs": [],
   "source": [
    "# this is a right tail test and asper sample  we use t-test"
   ]
  },
  {
   "cell_type": "code",
   "execution_count": 50,
   "metadata": {},
   "outputs": [],
   "source": [
    "mu=30\n",
    "samp_mean=np.mean(pack_wt)\n",
    "samp_std=statistics.stdev(pack_wt)\n",
    "n=len(pack_wt)\n",
    "alpha=0.1"
   ]
  },
  {
   "cell_type": "code",
   "execution_count": 51,
   "metadata": {},
   "outputs": [
    {
     "name": "stdout",
     "output_type": "stream",
     "text": [
      "t_critical  1.35\n"
     ]
    }
   ],
   "source": [
    "t_critical = stats.t.isf(alpha,df=len(pack_wt)-1)\n",
    "print('t_critical ',round(t_critical,2))"
   ]
  },
  {
   "cell_type": "code",
   "execution_count": null,
   "metadata": {},
   "outputs": [],
   "source": [
    "# if t-score will be grater than 1.35 we will reject null"
   ]
  },
  {
   "cell_type": "code",
   "execution_count": 54,
   "metadata": {},
   "outputs": [
    {
     "data": {
      "text/plain": [
       "-1.1204731591740873"
      ]
     },
     "execution_count": 54,
     "metadata": {},
     "output_type": "execute_result"
    }
   ],
   "source": [
    "t_score=(samp_mean-mu)/(samp_std/np.sqrt(n))\n",
    "t_score"
   ]
  },
  {
   "cell_type": "code",
   "execution_count": 56,
   "metadata": {},
   "outputs": [
    {
     "data": {
      "text/plain": [
       "0.14068288127820355"
      ]
     },
     "execution_count": 56,
     "metadata": {},
     "output_type": "execute_result"
    }
   ],
   "source": [
    "p_value=stats.t.cdf(t_score,df=n-1)\n",
    "p_value"
   ]
  },
  {
   "cell_type": "code",
   "execution_count": null,
   "metadata": {},
   "outputs": [],
   "source": [
    "#0.14>0.1 so we fail reject the null hypothesis."
   ]
  },
  {
   "cell_type": "markdown",
   "metadata": {
    "collapsed": true
   },
   "source": [
    "<table align=\"left\">\n",
    "    <tr>\n",
    "        <td width=\"6%\">\n",
    "            <img src=\"question_icon.png\">\n",
    "        </td>\n",
    "        <td>\n",
    "            <div align=\"left\", style=\"font-size:120%\">\n",
    "                <font color=\"#21618C\">\n",
    "                    <b>6. The orthopaedic surgeon states that a T-score for females older than 30 years is less than -1.2 which indicates the low bone density. To test the claim a sample of 10 women was selected and the average T-score was found to be -1.34 with a standard deviation of 0.8. Test the surgeon's claim using a critical value method with 95% confidence. (Assume the normality of the T-score). </b>\n",
    "                </font>\n",
    "            </div>\n",
    "        </td>\n",
    "    </tr>\n",
    "</table>"
   ]
  },
  {
   "cell_type": "code",
   "execution_count": 63,
   "metadata": {},
   "outputs": [],
   "source": [
    "# type your code here\n",
    "samp_t_score = -1.34\n",
    "samp_std = 0.8\n",
    "alpha = 0.05\n",
    "t_score = -1.2\n",
    "n = 10"
   ]
  },
  {
   "cell_type": "code",
   "execution_count": 64,
   "metadata": {},
   "outputs": [
    {
     "name": "stdout",
     "output_type": "stream",
     "text": [
      "t_critical  1.8331129326536337\n"
     ]
    }
   ],
   "source": [
    "t_critical = stats.t.isf(alpha,df=n-1)\n",
    "print('t_critical ',t_critical)"
   ]
  },
  {
   "cell_type": "code",
   "execution_count": 66,
   "metadata": {},
   "outputs": [
    {
     "name": "stdout",
     "output_type": "stream",
     "text": [
      "P_val  0.1065460754268941\n"
     ]
    }
   ],
   "source": [
    "p_val = stats.t.cdf(samp_t_score,df=n-1)\n",
    "print('P_val ', p_val)"
   ]
  },
  {
   "cell_type": "code",
   "execution_count": null,
   "metadata": {},
   "outputs": [],
   "source": [
    "#we fail to reject the null hypothesis."
   ]
  },
  {
   "cell_type": "markdown",
   "metadata": {
    "colab_type": "text",
    "id": "iOS1kKjWf983"
   },
   "source": [
    "<table align=\"left\">\n",
    "    <tr>\n",
    "        <td width=\"6%\">\n",
    "            <img src=\"question_icon.png\">\n",
    "        </td>\n",
    "        <td>\n",
    "            <div align=\"left\", style=\"font-size:120%\">\n",
    "                <font color=\"#21618C\">\n",
    "                    <b>7. The newspaper agency wants to test whether Harry takes less time to deliver the newspapers than his colleague Ron. The manager has collected time (in minutes) taken by Harry and Ron for 7 days. Is the given dataset unpaired? If yes, check whether the manager at newspaper agency can use the two sample t-test for unpaired data with 99% confidence.  </b>\n",
    "                </font>\n",
    "            </div>\n",
    "        </td>\n",
    "    </tr>\n",
    "</table>"
   ]
  },
  {
   "cell_type": "markdown",
   "metadata": {},
   "source": [
    "Use the data given below:\n",
    "        \n",
    "    harry = [18.5, 17.4, 19.2, 16, 15.8, 13.4, 19.5]\n",
    "    ron = [19.7, 18.6, 21.3, 17.5, 23.8, 20.7, 21]"
   ]
  },
  {
   "cell_type": "code",
   "execution_count": 67,
   "metadata": {},
   "outputs": [],
   "source": [
    "# type your code here\n",
    "harry = [18.5, 17.4, 19.2, 16, 15.8, 13.4, 19.5]\n",
    "ron = [19.7, 18.6, 21.3, 17.5, 23.8, 20.7, 21]"
   ]
  },
  {
   "cell_type": "code",
   "execution_count": null,
   "metadata": {},
   "outputs": [],
   "source": [
    "H0 : harry_mu >= ron_mu\n",
    "H1 : harry_mu < ron_mu"
   ]
  },
  {
   "cell_type": "code",
   "execution_count": 68,
   "metadata": {},
   "outputs": [],
   "source": [
    "alpha = 0.01\n",
    "avg_samp_1 = np.mean(harry)\n",
    "n_1= len(harry)\n",
    "std_samp_1 = statistics.stdev(harry)\n",
    "avg_samp_2 = np.mean(ron)\n",
    "n_2 = len(ron)\n",
    "std_samp_2 = statistics.stdev(ron)"
   ]
  },
  {
   "cell_type": "code",
   "execution_count": 79,
   "metadata": {},
   "outputs": [
    {
     "name": "stdout",
     "output_type": "stream",
     "text": [
      "t_critical  2.68\n"
     ]
    }
   ],
   "source": [
    "t_critical = stats.t.isf(0.01,df=n_1+n_2-2)\n",
    "print('t_critical ',round(t_critical,2))"
   ]
  },
  {
   "cell_type": "code",
   "execution_count": 80,
   "metadata": {},
   "outputs": [
    {
     "name": "stdout",
     "output_type": "stream",
     "text": [
      "p_value  0.12664736512679725\n"
     ]
    }
   ],
   "source": [
    "p_value = stats.t.cdf(t_score,df=(n_1+n_2-2))\n",
    "print('p_value ',p_value)"
   ]
  },
  {
   "cell_type": "code",
   "execution_count": 81,
   "metadata": {},
   "outputs": [
    {
     "name": "stdout",
     "output_type": "stream",
     "text": [
      "-2.8788582527177526\n",
      "0.00692997580305821\n"
     ]
    }
   ],
   "source": [
    "t_stat, p_val = stats.ttest_ind(a = harry, b = ron)\n",
    "print(t_stat)\n",
    "print(p_val/2)"
   ]
  },
  {
   "cell_type": "markdown",
   "metadata": {
    "colab_type": "text",
    "id": "V7QJT8W9f98T"
   },
   "source": [
    "<table align=\"left\">\n",
    "    <tr>\n",
    "        <td width=\"6%\">\n",
    "            <img src=\"question_icon.png\">\n",
    "        </td>\n",
    "        <td>\n",
    "            <div align=\"left\", style=\"font-size:120%\">\n",
    "                <font color=\"#21618C\">\n",
    "                    <b>8. The newspaper agency wants to test whether Harry takes less time to deliver the newspapers than his colleague Ron. The manager has collected time (in minutes) taken by Harry and Ron for 7 days. Use the given data and test the hypothesis for population mean time using a critical value method and p-value criteria with 90% confidence.</b>\n",
    "                </font>\n",
    "            </div>\n",
    "        </td>\n",
    "    </tr>\n",
    "</table>"
   ]
  },
  {
   "cell_type": "markdown",
   "metadata": {},
   "source": [
    "Use the data given below:\n",
    "        \n",
    "    harry = [18.5, 17.4, 19.2, 16, 15.8, 13.4, 19.5]\n",
    "    ron = [19.7, 18.6, 21.3, 17.5, 23.8, 20.7, 21]"
   ]
  },
  {
   "cell_type": "code",
   "execution_count": 72,
   "metadata": {},
   "outputs": [],
   "source": [
    "# type your code here\n",
    "harry = [18.5, 17.4, 19.2, 16, 15.8, 13.4, 19.5]\n",
    "ron = [19.7, 18.6, 21.3, 17.5, 23.8, 20.7, 21]"
   ]
  },
  {
   "cell_type": "code",
   "execution_count": null,
   "metadata": {},
   "outputs": [],
   "source": [
    "H0 : harry_mu >= ron_mu\n",
    "H1 : harry_mu < ron_mu"
   ]
  },
  {
   "cell_type": "code",
   "execution_count": 82,
   "metadata": {},
   "outputs": [
    {
     "name": "stdout",
     "output_type": "stream",
     "text": [
      "t_critical  1.36\n"
     ]
    }
   ],
   "source": [
    "t_critical = stats.t.isf(0.10,df=n_1+n_2-2)\n",
    "print('t_critical ',round(t_critical,2))"
   ]
  },
  {
   "cell_type": "code",
   "execution_count": 83,
   "metadata": {},
   "outputs": [
    {
     "name": "stdout",
     "output_type": "stream",
     "text": [
      "-2.8788582527177526\n",
      "0.00692997580305821\n"
     ]
    }
   ],
   "source": [
    "t_stat, p_val = stats.ttest_ind(a = harry, b = ron)\n",
    "print(t_stat)\n",
    "print(p_val/2)#by default two tailed "
   ]
  },
  {
   "cell_type": "code",
   "execution_count": null,
   "metadata": {},
   "outputs": [],
   "source": [
    "#p_val<0.10 so we fail to reject"
   ]
  },
  {
   "cell_type": "markdown",
   "metadata": {
    "colab_type": "text",
    "id": "XID79y2_f99O"
   },
   "source": [
    "<table align=\"left\">\n",
    "    <tr>\n",
    "        <td width=\"6%\">\n",
    "            <img src=\"question_icon.png\">\n",
    "        </td>\n",
    "        <td>\n",
    "            <div align=\"left\", style=\"font-size:120%\">\n",
    "                <font color=\"#21618C\">\n",
    "                        <b>9. The pharmaceutical company had organized a program to introduce its new drug to lower the sugar level. They recorded the fasting sugar (in mg/dl) of 25 diabetic people. Those people undergo a medication of the new drug for 10 days and again took a fasting sugar level test. The company claim that the sugar level decreases due to its new drug. Test the claim using p-value technique with 95% confidence.</b>\n",
    "                </font>\n",
    "            </div>\n",
    "        </td>\n",
    "    </tr>\n",
    "</table>"
   ]
  },
  {
   "cell_type": "markdown",
   "metadata": {},
   "source": [
    "Use the data given in the file `sugar_level.xlsx`"
   ]
  },
  {
   "cell_type": "code",
   "execution_count": 85,
   "metadata": {},
   "outputs": [
    {
     "data": {
      "text/html": [
       "<div>\n",
       "<style scoped>\n",
       "    .dataframe tbody tr th:only-of-type {\n",
       "        vertical-align: middle;\n",
       "    }\n",
       "\n",
       "    .dataframe tbody tr th {\n",
       "        vertical-align: top;\n",
       "    }\n",
       "\n",
       "    .dataframe thead th {\n",
       "        text-align: right;\n",
       "    }\n",
       "</style>\n",
       "<table border=\"1\" class=\"dataframe\">\n",
       "  <thead>\n",
       "    <tr style=\"text-align: right;\">\n",
       "      <th></th>\n",
       "      <th>sugar_before</th>\n",
       "      <th>sugar_after</th>\n",
       "    </tr>\n",
       "  </thead>\n",
       "  <tbody>\n",
       "    <tr>\n",
       "      <th>0</th>\n",
       "      <td>135</td>\n",
       "      <td>132</td>\n",
       "    </tr>\n",
       "    <tr>\n",
       "      <th>1</th>\n",
       "      <td>132</td>\n",
       "      <td>136</td>\n",
       "    </tr>\n",
       "    <tr>\n",
       "      <th>2</th>\n",
       "      <td>142</td>\n",
       "      <td>139</td>\n",
       "    </tr>\n",
       "    <tr>\n",
       "      <th>3</th>\n",
       "      <td>154</td>\n",
       "      <td>151</td>\n",
       "    </tr>\n",
       "    <tr>\n",
       "      <th>4</th>\n",
       "      <td>198</td>\n",
       "      <td>192</td>\n",
       "    </tr>\n",
       "  </tbody>\n",
       "</table>\n",
       "</div>"
      ],
      "text/plain": [
       "   sugar_before  sugar_after\n",
       "0           135          132\n",
       "1           132          136\n",
       "2           142          139\n",
       "3           154          151\n",
       "4           198          192"
      ]
     },
     "execution_count": 85,
     "metadata": {},
     "output_type": "execute_result"
    }
   ],
   "source": [
    "# type your code here\n",
    "df=pd.read_excel('sugar_level.xlsx')\n",
    "df.head()"
   ]
  },
  {
   "cell_type": "code",
   "execution_count": 86,
   "metadata": {},
   "outputs": [],
   "source": [
    "#its a paired test"
   ]
  },
  {
   "cell_type": "code",
   "execution_count": 87,
   "metadata": {},
   "outputs": [],
   "source": [
    "n=len(df)"
   ]
  },
  {
   "cell_type": "code",
   "execution_count": null,
   "metadata": {},
   "outputs": [],
   "source": [
    "H0 : mu1 >= mu2\n",
    "Ha : mu1 < mu2"
   ]
  },
  {
   "cell_type": "code",
   "execution_count": 88,
   "metadata": {},
   "outputs": [
    {
     "name": "stdout",
     "output_type": "stream",
     "text": [
      "t_critical  1.71\n"
     ]
    }
   ],
   "source": [
    "t_critical = stats.t.isf(0.05,df=n-1)\n",
    "print('t_critical ',round(t_critical,2))"
   ]
  },
  {
   "cell_type": "code",
   "execution_count": 89,
   "metadata": {},
   "outputs": [
    {
     "name": "stdout",
     "output_type": "stream",
     "text": [
      "-5.268469999584946\n",
      "1.0544706972911436e-05\n"
     ]
    }
   ],
   "source": [
    "t_stat, p_val = stats.ttest_rel(df['sugar_after'], df['sugar_before'])\n",
    "print(t_stat)\n",
    "print(p_val/2)"
   ]
  },
  {
   "cell_type": "code",
   "execution_count": null,
   "metadata": {},
   "outputs": [],
   "source": [
    "#p_value<0.05 we can reject the null hypothesis."
   ]
  },
  {
   "cell_type": "markdown",
   "metadata": {
    "colab_type": "text",
    "id": "OL9cj_rRf983"
   },
   "source": [
    "<a id= \"prop\"></a>\n",
    "## 3. Z Proportion Test"
   ]
  },
  {
   "cell_type": "markdown",
   "metadata": {
    "colab_type": "text",
    "id": "XID79y2_f99O"
   },
   "source": [
    "<table align=\"left\">\n",
    "    <tr>\n",
    "        <td width=\"6%\">\n",
    "            <img src=\"question_icon.png\">\n",
    "        </td>\n",
    "        <td>\n",
    "            <div align=\"left\", style=\"font-size:120%\">\n",
    "                <font color=\"#21618C\">\n",
    "                    <b>10. The physics department claims that it received 14% of fraud applications this year. The university head wants to test whether the percentage is different than what the department claims. The sample of 250 applications is selected out of which 38 applications are found to fraud. Test the claim with a 95% confidence interval.</b>\n",
    "                </font>\n",
    "            </div>\n",
    "        </td>\n",
    "    </tr>\n",
    "</table>"
   ]
  },
  {
   "cell_type": "code",
   "execution_count": 1,
   "metadata": {},
   "outputs": [],
   "source": [
    "# type your code here\n",
    "H0 : mu = 0.14\n",
    "Ha : mu != 0.14"
   ]
  },
  {
   "cell_type": "code",
   "execution_count": 93,
   "metadata": {},
   "outputs": [],
   "source": [
    "mu= 0.14\n",
    "n = 250\n",
    "x = 38\n",
    "p = 38/250"
   ]
  },
  {
   "cell_type": "code",
   "execution_count": 94,
   "metadata": {},
   "outputs": [
    {
     "name": "stdout",
     "output_type": "stream",
     "text": [
      "z_critical :  1.96\n"
     ]
    }
   ],
   "source": [
    "z_critical = stats.norm.isf(0.05/2)\n",
    "print('z_critical : ',round(z_critical,2))"
   ]
  },
  {
   "cell_type": "code",
   "execution_count": 98,
   "metadata": {},
   "outputs": [],
   "source": [
    "den = np.sqrt((mu*(1-mu)/n))"
   ]
  },
  {
   "cell_type": "code",
   "execution_count": 99,
   "metadata": {},
   "outputs": [],
   "source": [
    "num = (p - mu)"
   ]
  },
  {
   "cell_type": "code",
   "execution_count": 100,
   "metadata": {},
   "outputs": [
    {
     "name": "stdout",
     "output_type": "stream",
     "text": [
      "z_score  0.5468119624323661\n"
     ]
    }
   ],
   "source": [
    "z_score = num/den\n",
    "print('z_score ',z_score)"
   ]
  },
  {
   "cell_type": "code",
   "execution_count": 101,
   "metadata": {},
   "outputs": [
    {
     "name": "stdout",
     "output_type": "stream",
     "text": [
      "p_value  0.5845079238217354\n"
     ]
    }
   ],
   "source": [
    "p_value = stats.norm.sf(z_score)\n",
    "print('p_value ',p_value*2)"
   ]
  },
  {
   "cell_type": "code",
   "execution_count": null,
   "metadata": {},
   "outputs": [],
   "source": [
    "#z-score is in the accepence region and p_value greater than0.05 so fail to reject the null hypothesis."
   ]
  },
  {
   "cell_type": "markdown",
   "metadata": {
    "colab_type": "text",
    "id": "9qnEEhR4f98X"
   },
   "source": [
    "<table align=\"left\">\n",
    "    <tr>\n",
    "        <td width=\"6%\">\n",
    "            <img src=\"question_icon.png\">\n",
    "        </td>\n",
    "        <td>\n",
    "            <div align=\"left\", style=\"font-size:120%\">\n",
    "                <font color=\"#21618C\">\n",
    "                    <b>11. The store manager claims that he received more 20% of defective plastic boxes in his previous order. Test the manager's claim using a critical value method. From a sample of 120 boxes, 42 were found to be defective. Test the claim with 90% confidence.</b>\n",
    "                </font>\n",
    "            </div>\n",
    "        </td>\n",
    "    </tr>\n",
    "</table>"
   ]
  },
  {
   "cell_type": "code",
   "execution_count": 1,
   "metadata": {},
   "outputs": [],
   "source": [
    "# type your code here\n",
    "H0 : pop_mu <= 0.20\n",
    "Ha :pop_mu > 0.20"
   ]
  },
  {
   "cell_type": "code",
   "execution_count": 102,
   "metadata": {},
   "outputs": [],
   "source": [
    "pop_mu = 0.20\n",
    "n = 120\n",
    "x = 42\n",
    "p = x/n"
   ]
  },
  {
   "cell_type": "code",
   "execution_count": 103,
   "metadata": {},
   "outputs": [
    {
     "name": "stdout",
     "output_type": "stream",
     "text": [
      "z_critical  1.28\n"
     ]
    }
   ],
   "source": [
    "z_critical = stats.norm.isf(0.10)\n",
    "print('z_critical ',round(z_critical,2))"
   ]
  },
  {
   "cell_type": "code",
   "execution_count": 104,
   "metadata": {},
   "outputs": [],
   "source": [
    "num = (p - pop_mu)"
   ]
  },
  {
   "cell_type": "code",
   "execution_count": 106,
   "metadata": {},
   "outputs": [],
   "source": [
    "den = np.sqrt((pop_mu*(1-pop_mu)/n))"
   ]
  },
  {
   "cell_type": "code",
   "execution_count": 108,
   "metadata": {},
   "outputs": [
    {
     "data": {
      "text/plain": [
       "4.107919181288744"
      ]
     },
     "execution_count": 108,
     "metadata": {},
     "output_type": "execute_result"
    }
   ],
   "source": [
    "z_score=num/den\n",
    "z_score"
   ]
  },
  {
   "cell_type": "code",
   "execution_count": null,
   "metadata": {},
   "outputs": [],
   "source": [
    "#this is a right tail so z_score is greater than z_critical so it is in the rejection region we can reject the null hypothesis."
   ]
  },
  {
   "cell_type": "markdown",
   "metadata": {
    "colab_type": "text",
    "id": "6YXVLVi9f98b"
   },
   "source": [
    "<table align=\"left\">\n",
    "    <tr>\n",
    "        <td width=\"6%\">\n",
    "            <img src=\"question_icon.png\">\n",
    "        </td>\n",
    "        <td>\n",
    "            <div align=\"left\", style=\"font-size:120%\">\n",
    "                <font color=\"#21618C\">\n",
    "                        <b>12. The HR head of a company claims that the company supports the woman empowerment and the proportion of female employees is same in the New York and Oneonta branches. The women empowerment cell wants to check whether the proportion is different for the two branches. The sample of 150 employees is selected from New York branch out of which 53 are females and a sample of 170 employees is selected from Oneonta branch out of which 76 are females. Use the p-value technique with 95% confidence. </b>\n",
    "                </font>\n",
    "            </div>\n",
    "        </td>\n",
    "    </tr>\n",
    "</table>"
   ]
  },
  {
   "cell_type": "code",
   "execution_count": 1,
   "metadata": {},
   "outputs": [],
   "source": [
    "# type your code here\n",
    "H0 : mu1-mu2 = 0\n",
    "Ha : mu1-mu2 != 0"
   ]
  },
  {
   "cell_type": "code",
   "execution_count": 111,
   "metadata": {},
   "outputs": [],
   "source": [
    "n1 = 150\n",
    "n2 = 170\n",
    "x1 = 53\n",
    "x2 = 76"
   ]
  },
  {
   "cell_type": "code",
   "execution_count": 112,
   "metadata": {},
   "outputs": [],
   "source": [
    "mu1 = x1/n1\n",
    "mu2 = x2/n2"
   ]
  },
  {
   "cell_type": "code",
   "execution_count": 117,
   "metadata": {},
   "outputs": [
    {
     "name": "stdout",
     "output_type": "stream",
     "text": [
      "z_critical  2.58\n"
     ]
    }
   ],
   "source": [
    "z_critical = stats.norm.isf(alpha/2)\n",
    "print('z_critical ',round(z_critical,2))"
   ]
  },
  {
   "cell_type": "code",
   "execution_count": null,
   "metadata": {},
   "outputs": [],
   "source": [
    "#its a right tail test"
   ]
  },
  {
   "cell_type": "code",
   "execution_count": 113,
   "metadata": {},
   "outputs": [
    {
     "name": "stdout",
     "output_type": "stream",
     "text": [
      "p_bar  0.403125\n"
     ]
    }
   ],
   "source": [
    "p_bar = (x1+x2)/(n1+n2)\n",
    "print('p_bar ',p_bar)"
   ]
  },
  {
   "cell_type": "code",
   "execution_count": 114,
   "metadata": {},
   "outputs": [],
   "source": [
    "num = (mu1-mu2)"
   ]
  },
  {
   "cell_type": "code",
   "execution_count": 115,
   "metadata": {},
   "outputs": [],
   "source": [
    "den= np.sqrt((p_bar)*(1-p_bar)*((1/n1)/(1/n2)))"
   ]
  },
  {
   "cell_type": "code",
   "execution_count": 116,
   "metadata": {},
   "outputs": [
    {
     "name": "stdout",
     "output_type": "stream",
     "text": [
      "z_score  -0.1794805240403688\n"
     ]
    }
   ],
   "source": [
    "z_score = num/den\n",
    "print('z_score ',z_score)"
   ]
  },
  {
   "cell_type": "code",
   "execution_count": null,
   "metadata": {},
   "outputs": [],
   "source": [
    "#_score lies in the aceptance region so we fail to reject the null hypothesis."
   ]
  },
  {
   "cell_type": "markdown",
   "metadata": {
    "colab_type": "text",
    "id": "3uPwVwgAf99s"
   },
   "source": [
    "<table align=\"left\">\n",
    "    <tr>\n",
    "        <td width=\"6%\">\n",
    "            <img src=\"question_icon.png\">\n",
    "        </td>\n",
    "        <td>\n",
    "            <div align=\"left\", style=\"font-size:120%\">\n",
    "                <font color=\"#21618C\">\n",
    "                    <b>13. The education department claims that the proportion of students failed in Mathematics is more than the proportion of students failed in English. To test the claim a sample of 200 students enrolled for Mathematics was considered out of which 73 students failed in the exam and a sample of 150 students enrolled for English was considered out of which 53 students failed in the exam. Use the critical value method to test the department's claim with 90% confidence. </b>\n",
    "                </font>\n",
    "            </div>\n",
    "        </td>\n",
    "    </tr>\n",
    "</table>"
   ]
  },
  {
   "cell_type": "code",
   "execution_count": 1,
   "metadata": {},
   "outputs": [],
   "source": [
    "# type your code here\n",
    "H0 : mu1 - mu2 <= 0\n",
    "Ha : mu1 - mu2 > 0"
   ]
  },
  {
   "cell_type": "code",
   "execution_count": null,
   "metadata": {},
   "outputs": [],
   "source": [
    "n1 = 200\n",
    "n2 = 150\n",
    "x1 = 73\n",
    "x2 = 53"
   ]
  },
  {
   "cell_type": "code",
   "execution_count": 118,
   "metadata": {},
   "outputs": [],
   "source": [
    "mu1=x1/n1\n",
    "mu2=x2/n2"
   ]
  },
  {
   "cell_type": "code",
   "execution_count": 119,
   "metadata": {},
   "outputs": [
    {
     "name": "stdout",
     "output_type": "stream",
     "text": [
      "z_critical  1.28\n"
     ]
    }
   ],
   "source": [
    "z_critical = stats.norm.isf(0.10)\n",
    "print('z_critical ',round(z_critical,2))"
   ]
  },
  {
   "cell_type": "code",
   "execution_count": 121,
   "metadata": {},
   "outputs": [
    {
     "name": "stdout",
     "output_type": "stream",
     "text": [
      "p_bar  0.403125\n"
     ]
    }
   ],
   "source": [
    "p_bar = (x1+x2)/(n1+n2)\n",
    "print('p_bar ',p_bar)"
   ]
  },
  {
   "cell_type": "code",
   "execution_count": 122,
   "metadata": {},
   "outputs": [],
   "source": [
    "den = np.sqrt((p_bar)*(1-p_bar)*((1/n1)/(1/n2)))"
   ]
  },
  {
   "cell_type": "code",
   "execution_count": 123,
   "metadata": {},
   "outputs": [],
   "source": [
    "num=(mu1-mu2)"
   ]
  },
  {
   "cell_type": "code",
   "execution_count": 124,
   "metadata": {},
   "outputs": [
    {
     "name": "stdout",
     "output_type": "stream",
     "text": [
      "z_score  -0.1794805240403688\n"
     ]
    }
   ],
   "source": [
    "z_score = num/den\n",
    "print('z_score ',z_score)"
   ]
  },
  {
   "cell_type": "code",
   "execution_count": null,
   "metadata": {},
   "outputs": [],
   "source": [
    "#z_score is lieng in the accepence region so we fail to reject the null hypothesis."
   ]
  }
 ],
 "metadata": {
  "colab": {
   "name": "ITP - In-Class Lab Exercise (Day1) - Solutions [V1.0 030120].ipynb",
   "provenance": []
  },
  "kernelspec": {
   "display_name": "Python 3",
   "language": "python",
   "name": "python3"
  },
  "language_info": {
   "codemirror_mode": {
    "name": "ipython",
    "version": 3
   },
   "file_extension": ".py",
   "mimetype": "text/x-python",
   "name": "python",
   "nbconvert_exporter": "python",
   "pygments_lexer": "ipython3",
   "version": "3.8.5"
  }
 },
 "nbformat": 4,
 "nbformat_minor": 1
}
