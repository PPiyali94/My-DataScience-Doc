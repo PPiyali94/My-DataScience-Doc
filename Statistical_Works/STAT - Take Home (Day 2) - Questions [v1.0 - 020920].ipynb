{
 "cells": [
  {
   "cell_type": "markdown",
   "metadata": {},
   "source": [
    "<table align=\"center\" width=100%>\n",
    "    <tr>\n",
    "        <td width=\"15%\">\n",
    "            <img src=\"homework.png\">\n",
    "        </td>\n",
    "        <td>\n",
    "            <div align=\"center\">\n",
    "                <font color=\"#21618C\" size=8px>\n",
    "                    <b> Take-Home <br>(Day 2)\n",
    "                    </b>\n",
    "                </font>\n",
    "            </div>\n",
    "        </td>\n",
    "    </tr>\n",
    "</table>"
   ]
  },
  {
   "cell_type": "markdown",
   "metadata": {},
   "source": [
    "**Import the required libraries**"
   ]
  },
  {
   "cell_type": "code",
   "execution_count": 1,
   "metadata": {},
   "outputs": [],
   "source": [
    "# type your code here\n",
    "import numpy as np\n",
    "import pandas as pd\n",
    "\n",
    "# to suppress warnings \n",
    "from warnings import filterwarnings\n",
    "filterwarnings('ignore')\n",
    "\n",
    "import random \n",
    "import statistics\n",
    "from scipy import stats\n",
    "from statsmodels.stats import weightstats as stests\n",
    "from scipy.stats import shapiro\n",
    "from statsmodels.stats import power"
   ]
  },
  {
   "cell_type": "markdown",
   "metadata": {},
   "source": [
    "### Let's begin with some hands-on practice exercises"
   ]
  },
  {
   "cell_type": "markdown",
   "metadata": {
    "collapsed": true
   },
   "source": [
    "<table align=\"left\">\n",
    "    <tr>\n",
    "        <td width=\"6%\">\n",
    "            <img src=\"question_icon.png\">\n",
    "        </td>\n",
    "        <td>\n",
    "            <div align=\"left\", style=\"font-size:120%\">\n",
    "                <font color=\"#21618C\">\n",
    "                    <b>1. The meteorological department states that on average the temperature on summer days is 82 (degree F) in California. For a study on climate change, a sample of data is collected for 20 summer days. Find the sampling error for the mean.</b>\n",
    "                </font>\n",
    "            </div>\n",
    "        </td>\n",
    "    </tr>\n",
    "</table>"
   ]
  },
  {
   "cell_type": "markdown",
   "metadata": {},
   "source": [
    "Use the data given below:\n",
    "        \n",
    "            temp (in F) = [51, 68, 83, 93, 89, 58, 79, 54, 60, 77, 87, 57, 63, 85, 92, 74, 67, 88, 91, 82]"
   ]
  },
  {
   "cell_type": "code",
   "execution_count": 4,
   "metadata": {},
   "outputs": [],
   "source": [
    "# type your code here\n",
    "#population mean of the temperature\n",
    "population_mean=82\n",
    "\n",
    "#sample of data\n",
    "temp= [51, 68, 83, 93, 89, 58, 79, 54, 60, 77, 87, 57, 63, 85, 92, 74, 67, 88, 91, 82]\n",
    "\n",
    "#calculate the sample mean\n",
    "sample_mean=np.mean(temp)"
   ]
  },
  {
   "cell_type": "code",
   "execution_count": 7,
   "metadata": {},
   "outputs": [
    {
     "name": "stdout",
     "output_type": "stream",
     "text": [
      "The calculated sampling error : -7.099999999999994\n"
     ]
    }
   ],
   "source": [
    "#calculation of sampling error=(sample_mean-population_mean)\n",
    "\n",
    "sampling_error=(sample_mean-population_mean)\n",
    "print('The calculated sampling error :',sampling_error)"
   ]
  },
  {
   "cell_type": "markdown",
   "metadata": {
    "collapsed": true
   },
   "source": [
    "<table align=\"left\">\n",
    "    <tr>\n",
    "        <td width=\"6%\">\n",
    "            <img src=\"question_icon.png\">\n",
    "        </td>\n",
    "        <td>\n",
    "            <div align=\"left\", style=\"font-size:120%\">\n",
    "                <font color=\"#21618C\">\n",
    "                    <b>2. A team of IT experts wants to estimate the average time required to a system to run a specific program. The team aims to estimate the average time with 95% confidence. A technical report from last week shows that the standard deviation is 3.8 minutes. The team decides that the margin of error should be 1.2 minutes. How many systems should the team choose for the estimation? </b>\n",
    "                </font>\n",
    "            </div>\n",
    "        </td>\n",
    "    </tr>\n",
    "</table>"
   ]
  },
  {
   "cell_type": "code",
   "execution_count": 10,
   "metadata": {},
   "outputs": [
    {
     "name": "stdout",
     "output_type": "stream",
     "text": [
      "The value of z_alpha_by_2 :  1.96\n",
      "Number of teams :  39\n"
     ]
    }
   ],
   "source": [
    "# type your code here\n",
    "#standard deviation  as sigma\n",
    "sigma=3.8\n",
    "\n",
    "#Mergin of error as ME\n",
    "ME=1.2\n",
    "\n",
    "#calculate the z_alpha_by_2 \n",
    "z_alpha_by_2=round(stats.norm.isf(0.05/2),4)\n",
    "print(\"The value of z_alpha_by_2 : \",z_alpha_by_2)\n",
    "\n",
    "#finding How many systems should the team choose for the estimation\n",
    "#n=(z_alpha_by_2**2)*(sigma**2)/(ME**2)\n",
    "\n",
    "n=((z_alpha_by_2)**2)*(sigma**2)/(ME**2)\n",
    "print('Number of teams : ',round(n))"
   ]
  },
  {
   "cell_type": "markdown",
   "metadata": {
    "collapsed": true
   },
   "source": [
    "<table align=\"left\">\n",
    "    <tr>\n",
    "        <td width=\"6%\">\n",
    "            <img src=\"question_icon.png\">\n",
    "        </td>\n",
    "        <td>\n",
    "            <div align=\"left\", style=\"font-size:120%\">\n",
    "                <font color=\"#21618C\">\n",
    "                    <b>3. The production manager at the Xen Sewing Factory claims that on average the diameter of a class 14M bobbin is less than 18 mm. The previous study shows that the standard deviation is 1.7 mm. Consider a sample of 40 class 14M bobbins from a normally distributed population with sample mean diameter as 17.5 mm. Calculate 99% confidence interval for the population mean diameter.\n",
    "</b>\n",
    "                </font>\n",
    "            </div>\n",
    "        </td>\n",
    "    </tr>\n",
    "</table>"
   ]
  },
  {
   "cell_type": "code",
   "execution_count": 1,
   "metadata": {},
   "outputs": [],
   "source": [
    "# type your code heresam\n",
    "#null hypothesis and alternate hypothesis as H0,H1\n",
    "H0: mu>=18\n",
    "H1: mu<18\n",
    "\n",
    "#it is a left tail test"
   ]
  },
  {
   "cell_type": "code",
   "execution_count": 15,
   "metadata": {},
   "outputs": [
    {
     "name": "stdout",
     "output_type": "stream",
     "text": [
      "The calculated interval :  (16.80763356564332, 18.19236643435668)\n"
     ]
    }
   ],
   "source": [
    "#population mean\n",
    "mu=18\n",
    "\n",
    "#sample mean\n",
    "sample_mean=17.5\n",
    "\n",
    "#standard deviation\n",
    "pop_std=1.7\n",
    "\n",
    "#sample size\n",
    "n=40\n",
    "\n",
    "#calculate the interval\n",
    "interval_test=stats.norm.interval(0.99,loc=sample_mean,scale=pop_std/np.sqrt(n))\n",
    "print(\"The calculated interval : \",interval_test)"
   ]
  },
  {
   "cell_type": "markdown",
   "metadata": {
    "collapsed": true
   },
   "source": [
    "<table align=\"left\">\n",
    "    <tr>\n",
    "        <td width=\"6%\">\n",
    "            <img src=\"question_icon.png\">\n",
    "        </td>\n",
    "        <td>\n",
    "            <div align=\"left\", style=\"font-size:120%\">\n",
    "                <font color=\"#21618C\">\n",
    "                    <b>4. A construction company wants to estimate the daily wages of contract workers. In the construction business, the wages of contract workers follow the normal distribution with a standard deviation of 85 dollars. A sample of wages for 50 contract workers is considered for the study. Calculate the margin of error for a 95% confidence level.</b>\n",
    "                </font>\n",
    "            </div>\n",
    "        </td>\n",
    "    </tr>\n",
    "</table>"
   ]
  },
  {
   "cell_type": "code",
   "execution_count": 16,
   "metadata": {},
   "outputs": [
    {
     "name": "stdout",
     "output_type": "stream",
     "text": [
      "The calculated Mergin of Error :  23.56079794913576\n"
     ]
    }
   ],
   "source": [
    "# type your code here\n",
    "#number of sample \n",
    "n=50\n",
    "\n",
    "#standard diviation\n",
    "std=85\n",
    "\n",
    "#confedence lavel\n",
    "con_lvl=0.95\n",
    "\n",
    "#calculate the value of z_alpha_by_2\n",
    "z_alpha_by_2=round(stats.norm.isf(0.05/2),4)\n",
    "\n",
    "#calculation of mergin of error\n",
    "error=z_alpha_by_2*std/np.sqrt(n)\n",
    "print('The calculated Mergin of Error : ',error)"
   ]
  },
  {
   "cell_type": "markdown",
   "metadata": {
    "collapsed": true
   },
   "source": [
    "<table align=\"left\">\n",
    "    <tr>\n",
    "        <td width=\"6%\">\n",
    "            <img src=\"question_icon.png\">\n",
    "        </td>\n",
    "        <td>\n",
    "            <div align=\"left\", style=\"font-size:120%\">\n",
    "                <font color=\"#21618C\">\n",
    "                    <b>5. To study the climate changes, a sample of data of temperature in California is collected for 20 summer days. Calculate 95% confidence interval for the population mean temperature.</b>\n",
    "                </font>\n",
    "            </div>\n",
    "        </td>\n",
    "    </tr>\n",
    "</table>"
   ]
  },
  {
   "cell_type": "markdown",
   "metadata": {},
   "source": [
    "Use the data given below:\n",
    "        \n",
    "            temp (in F) = [51, 68, 83, 93, 89, 58, 79, 54, 60, 77, 87, 57, 63, 85, 92, 74, 67, 88, 91, 82]"
   ]
  },
  {
   "cell_type": "code",
   "execution_count": 19,
   "metadata": {},
   "outputs": [
    {
     "name": "stdout",
     "output_type": "stream",
     "text": [
      "Calculated interval of the population mean with 95% interval : 68.91975124263213 80.88024875736788\n"
     ]
    }
   ],
   "source": [
    "# type your code here\n",
    "temp= [51, 68, 83, 93, 89, 58, 79, 54, 60, 77, 87, 57, 63, 85, 92, 74, 67, 88, 91, 82]\n",
    "\n",
    "#sample mean\n",
    "avg=np.mean(temp)\n",
    "\n",
    "#standard deviation\n",
    "std_pop=np.std(temp)\n",
    "\n",
    "n=len(temp)\n",
    "\n",
    "#z_alpha_by_2 calculation\n",
    "z_alpha_by_2=round(stats.norm.isf(0.05/2),4)\n",
    "\n",
    "#calculate the interval with the value of z_alpha_by_2\n",
    "\n",
    "lower_lmt=avg-(z_alpha_by_2*std_pop/np.sqrt(n))\n",
    "upper_lmt=avg+(z_alpha_by_2*std_pop/np.sqrt(n))\n",
    "\n",
    "print('Calculated interval of the population mean with 95% interval :',lower_lmt,upper_lmt)"
   ]
  },
  {
   "cell_type": "markdown",
   "metadata": {
    "collapsed": true
   },
   "source": [
    "<table align=\"left\">\n",
    "    <tr>\n",
    "        <td width=\"6%\">\n",
    "            <img src=\"question_icon.png\">\n",
    "        </td>\n",
    "        <td>\n",
    "            <div align=\"left\", style=\"font-size:120%\">\n",
    "                <font color=\"#21618C\">\n",
    "                    <b>6. A botanical garden in Manchester city planted 350 plant seeds of white, pink and blue lily in the last summer. After 3 months a sample of 125 plants was selected, out of which 80 plants were found to be of pink lilies. Find a 90% confidence interval for the population proportion of pink lily plants.</b>\n",
    "                </font>\n",
    "            </div>\n",
    "        </td>\n",
    "    </tr>\n",
    "</table>"
   ]
  },
  {
   "cell_type": "code",
   "execution_count": 20,
   "metadata": {},
   "outputs": [
    {
     "name": "stdout",
     "output_type": "stream",
     "text": [
      "The population proportion interval with 90% confedence lavel : (0.569382313160309, 0.710617686839691)\n"
     ]
    }
   ],
   "source": [
    "# type your code here\n",
    "#total count of plant \n",
    "N=350\n",
    "\n",
    "#sample count of plant\n",
    "n=125\n",
    "\n",
    "#pink lily count\n",
    "x=80\n",
    "\n",
    "#proportion of sample\n",
    "p_samp=x/n\n",
    "\n",
    "#calculate the interval for the population proportion of pink lily plants\n",
    "pop_prop_interval=stats.norm.interval(0.90,loc=p_samp,scale=np.sqrt((p_samp*(1-p_samp))/n))\n",
    "print('The population proportion interval with 90% confedence lavel :',pop_prop_interval)"
   ]
  },
  {
   "cell_type": "markdown",
   "metadata": {
    "collapsed": true
   },
   "source": [
    "<table align=\"left\">\n",
    "    <tr>\n",
    "        <td width=\"6%\">\n",
    "            <img src=\"question_icon.png\">\n",
    "        </td>\n",
    "        <td>\n",
    "            <div align=\"left\", style=\"font-size:120%\">\n",
    "                <font color=\"#21618C\">\n",
    "                    <b>7. The quality assurance department claims that on average the non-fat yogurt contains less than 148 mg of potassium per 100 g pack. To check this claim 35 packs of yogurt are collected and the content of potassium is recorded. Can we use the Z-test to test the claim of the quality assurance department?\n",
    "</b>\n",
    "                </font>\n",
    "            </div>\n",
    "        </td>\n",
    "    </tr>\n",
    "</table>"
   ]
  },
  {
   "cell_type": "markdown",
   "metadata": {},
   "source": [
    "Use the data given below:\n",
    "        \n",
    "        pot_mg = [151, 159, 168, 146, 129, 147, 149, 141, 150, 158, 119, 125, 139, 154, 163, 156, 132, 137, 126, 152,\n",
    "                  127, 135, 138, 145, 128, 148, 153, 124, 170, 134, 157, 164, 144, 160, 161]\n"
   ]
  },
  {
   "cell_type": "code",
   "execution_count": null,
   "metadata": {},
   "outputs": [],
   "source": [
    "#null hypothesis as H0,alternate Hypothesis as H1\n",
    "H0: mu>=148\n",
    "H1: mu<148\n",
    "\n",
    "#this is a left tail test"
   ]
  },
  {
   "cell_type": "code",
   "execution_count": 24,
   "metadata": {},
   "outputs": [
    {
     "name": "stdout",
     "output_type": "stream",
     "text": [
      "z-score : -1.109712412013474\n",
      "p_value : 0.13356148631189496\n"
     ]
    }
   ],
   "source": [
    "# type your code here\n",
    "pot_mg = [151, 159, 168, 146, 129, 147, 149, 141, 150, 158, 119, 125, 139, 154, 163,156, 132, \n",
    "        137, 126, 152,127, 135, 138, 145, 128, 148, 153, 124, 170, 134, 157, 164, 144, 160, 161]\n",
    "\n",
    "#ztest()return the z-score and the corresponding p-value \n",
    "#x1=sample,value=148,alternative=smaller as it is a left tell test\n",
    "\n",
    "z_score,p_value=stests.ztest(x1=pot_mg,value=148,alternative='smaller')\n",
    "print('z-score :',z_score)\n",
    "print('p_value :',p_value)\n"
   ]
  },
  {
   "cell_type": "code",
   "execution_count": null,
   "metadata": {},
   "outputs": [],
   "source": [
    "#as there is no given significance so that we cant reject or accept the claim."
   ]
  },
  {
   "cell_type": "markdown",
   "metadata": {
    "collapsed": true
   },
   "source": [
    "<table align=\"left\">\n",
    "    <tr>\n",
    "        <td width=\"6%\">\n",
    "            <img src=\"question_icon.png\">\n",
    "        </td>\n",
    "        <td>\n",
    "            <div align=\"left\", style=\"font-size:120%\">\n",
    "                <font color=\"#21618C\">\n",
    "                    <b>8. The quality assurance department claims that on average the non-fat yogurt contains less than 148 mg of potassium per 100 g pack. To check this claim 35 packs of yogurt are collected and the content of potassium is recorded. Use 0.05 as a level of significance to test the claim using p-value technique.   \n",
    "</b>\n",
    "                </font>\n",
    "            </div>\n",
    "        </td>\n",
    "    </tr>\n",
    "</table>"
   ]
  },
  {
   "cell_type": "markdown",
   "metadata": {},
   "source": [
    "Use the data given below:\n",
    "        \n",
    "          pot_mg = [151, 159, 168, 146, 129, 147, 149, 141, 150, 158, 119, 125, 139, 154, 163, 156, 132, 137, 126, 152,\n",
    "                    127, 135, 138, 145, 128, 148, 153, 124, 170, 134, 157, 164, 144, 160, 161]"
   ]
  },
  {
   "cell_type": "code",
   "execution_count": null,
   "metadata": {},
   "outputs": [],
   "source": [
    "#null hypothesis as H0,alternate Hypothesis as H1\n",
    "H0: mu>=148\n",
    "H1: mu<148\n",
    "\n",
    "#this is a left tail test"
   ]
  },
  {
   "cell_type": "code",
   "execution_count": 28,
   "metadata": {},
   "outputs": [],
   "source": [
    "# type your code here\n",
    "pot_mg = [151, 159, 168, 146, 129, 147, 149, 141, 150, 158, 119, 125, 139, 154, 163,156, 132, \n",
    "        137, 126, 152,127, 135, 138, 145, 128, 148, 153, 124, 170, 134, 157, 164, 144, 160, 161]\n"
   ]
  },
  {
   "cell_type": "code",
   "execution_count": 34,
   "metadata": {},
   "outputs": [
    {
     "data": {
      "text/plain": [
       "1.96"
      ]
     },
     "execution_count": 34,
     "metadata": {},
     "output_type": "execute_result"
    }
   ],
   "source": [
    "z_value=round(stats.norm.isf(0.05/2),4)\n",
    "z_value"
   ]
  },
  {
   "cell_type": "code",
   "execution_count": null,
   "metadata": {},
   "outputs": [],
   "source": [
    "#if the p value less than the significance level we reject the null hypothesis"
   ]
  },
  {
   "cell_type": "code",
   "execution_count": 35,
   "metadata": {},
   "outputs": [
    {
     "name": "stdout",
     "output_type": "stream",
     "text": [
      "The p-value :  0.1301010778123673\n"
     ]
    }
   ],
   "source": [
    "#population average\n",
    "mu=148\n",
    "\n",
    "#sample average\n",
    "avg_samp=np.mean(pot_mg)\n",
    "\n",
    "#standard diviation\n",
    "pop_std=np.std(pot_mg)\n",
    "\n",
    "#count of sample\n",
    "n=35\n",
    "\n",
    "z_score=(avg_samp-mu)/(pop_std/np.sqrt(n))\n",
    "#p-value\n",
    "p_value=stats.norm.cdf(z_score)\n",
    "print('The p-value : ',p_value)"
   ]
  },
  {
   "cell_type": "code",
   "execution_count": null,
   "metadata": {},
   "outputs": [],
   "source": [
    "#p_value is greater than 0.05,so we fail to reject H0."
   ]
  },
  {
   "cell_type": "markdown",
   "metadata": {
    "collapsed": true
   },
   "source": [
    "<table align=\"left\">\n",
    "    <tr>\n",
    "        <td width=\"6%\">\n",
    "            <img src=\"question_icon.png\">\n",
    "        </td>\n",
    "        <td>\n",
    "            <div align=\"left\", style=\"font-size:120%\">\n",
    "                <font color=\"#21618C\">\n",
    "                    <b>9. The production manager at the Xen Sewing Factory claims that on average the diameter of a class 14M bobbin is less than 18 mm. The previous study shows that the standard deviation is 1.7 mm. Consider a sample of 40 class 14M bobbins from a normally distributed population with sample mean diameter as 17.5 mm. Test the claim of the production manager with 99% confidence. \n",
    "</b>\n",
    "                </font>\n",
    "            </div>\n",
    "        </td>\n",
    "    </tr>\n",
    "</table>"
   ]
  },
  {
   "cell_type": "code",
   "execution_count": 1,
   "metadata": {},
   "outputs": [],
   "source": [
    "# type your code here\n",
    "#null hypothesis as H0,alternate Hypothesis as H1\n",
    "H0: mu>=18\n",
    "H1: mu<18\n",
    "\n",
    "#this is a left tail test"
   ]
  },
  {
   "cell_type": "code",
   "execution_count": 33,
   "metadata": {},
   "outputs": [
    {
     "name": "stdout",
     "output_type": "stream",
     "text": [
      "The z_critical value : 2.33\n"
     ]
    }
   ],
   "source": [
    "#confedence level\n",
    "z_critical=round(stats.norm.isf(0.01),2)\n",
    "print('The z_critical value :',z_critical)"
   ]
  },
  {
   "cell_type": "code",
   "execution_count": null,
   "metadata": {},
   "outputs": [],
   "source": [
    "if the z calculated value going to be less than -2.33 then we can reject the null hypothesis."
   ]
  },
  {
   "cell_type": "code",
   "execution_count": 38,
   "metadata": {},
   "outputs": [
    {
     "name": "stdout",
     "output_type": "stream",
     "text": [
      "The z-score value : -1.8601633295108115\n"
     ]
    }
   ],
   "source": [
    "#population average\n",
    "mu=18\n",
    "\n",
    "#sample average\n",
    "avg=17.5\n",
    "\n",
    "#standard diviation\n",
    "std_pop=1.7\n",
    "\n",
    "#count of sample\n",
    "n=40\n",
    "\n",
    "z_score=(avg-mu)/(std_pop/np.sqrt(n))\n",
    "print('The z-score value :',z_score)"
   ]
  },
  {
   "cell_type": "code",
   "execution_count": null,
   "metadata": {},
   "outputs": [],
   "source": [
    "as z-score is greater than -2.58 so we fail to reject the null hypothesis."
   ]
  },
  {
   "cell_type": "markdown",
   "metadata": {
    "colab_type": "text",
    "id": "V7QJT8W9f98T"
   },
   "source": [
    "<table align=\"left\">\n",
    "    <tr>\n",
    "        <td width=\"6%\">\n",
    "            <img src=\"question_icon.png\">\n",
    "        </td>\n",
    "        <td>\n",
    "            <div align=\"left\", style=\"font-size:120%\">\n",
    "                <font color=\"#21618C\">\n",
    "                    <b>10. The NY university has opened the post of Astrophysics professor. The total number of applications was 36. To check the authenticity of the applicants a sample of 10 applications was collected, out of which 3 applicants were found to be a fraud. Estimate the number of fraud applicants from all the applications.</b>\n",
    "                </font>\n",
    "            </div>\n",
    "        </td>\n",
    "    </tr>\n",
    "</table>"
   ]
  },
  {
   "cell_type": "code",
   "execution_count": 40,
   "metadata": {},
   "outputs": [
    {
     "name": "stdout",
     "output_type": "stream",
     "text": [
      "The Estimate the number of fraud applicants : 11\n"
     ]
    }
   ],
   "source": [
    "# type your code here\n",
    "# total number of applications\n",
    "N=36\n",
    "\n",
    "#the count sample\n",
    "n=10\n",
    "\n",
    "#fraud aplication found\n",
    "x=3\n",
    "\n",
    "#sample proportion\n",
    "p_samp=x/n\n",
    "\n",
    "#Estimate the number of fraud applicants\n",
    "estimate_num_fraud_applicants=p_samp*N\n",
    "print('The Estimate the number of fraud applicants :',round(estimate_num_fraud_applicants))"
   ]
  },
  {
   "cell_type": "markdown",
   "metadata": {
    "colab_type": "text",
    "id": "iZkGr2rTf98y"
   },
   "source": [
    "<table align=\"left\">\n",
    "    <tr>\n",
    "        <td width=\"6%\">\n",
    "            <img src=\"question_icon.png\">\n",
    "        </td>\n",
    "        <td>\n",
    "            <div align=\"left\", style=\"font-size:120%\">\n",
    "                <font color=\"#21618C\">\n",
    "                    <b>11. The physical trainer at a university wants to estimate the average height of students at the university. The trainer collects the data of 100 students and found that the average height is 168 cm with a standard deviation of 12 cm. Find the 95% confidence interval for the population average height.</b>\n",
    "                </font>\n",
    "            </div>\n",
    "        </td>\n",
    "    </tr>\n",
    "</table>"
   ]
  },
  {
   "cell_type": "code",
   "execution_count": 3,
   "metadata": {},
   "outputs": [
    {
     "name": "stdout",
     "output_type": "stream",
     "text": [
      "95% confidence interval for the population average height : (165.64804321855195, 170.35195678144805)\n"
     ]
    }
   ],
   "source": [
    "# type your code here\n",
    "#total count of students\n",
    "n=100\n",
    "\n",
    "#average height\n",
    "avg_samp=168\n",
    "\n",
    "#standard deviation\n",
    "std=12\n",
    "\n",
    "#calculation of  95% confidence interval for the population average height\n",
    "interval=stats.norm.interval(0.95,loc=avg_samp,scale=std/np.sqrt(n))\n",
    "print('95% confidence interval for the population average height :',interval)"
   ]
  },
  {
   "cell_type": "markdown",
   "metadata": {
    "colab_type": "text",
    "id": "iOS1kKjWf983"
   },
   "source": [
    "<table align=\"left\">\n",
    "    <tr>\n",
    "        <td width=\"6%\">\n",
    "            <img src=\"question_icon.png\">\n",
    "        </td>\n",
    "        <td>\n",
    "            <div align=\"left\", style=\"font-size:120%\">\n",
    "                <font color=\"#21618C\">\n",
    "                    <b>12. The health magazine in Los Angeles states that a person should drink 1.8 L water every day. To study this statement, the physician collects the data of 15 people and found that the average water intake for these people is 1.6 L with a standard deviation of 0.5 L. Calculate the 90% confidence interval for the population average water intake.</b>\n",
    "                </font>\n",
    "            </div>\n",
    "        </td>\n",
    "    </tr>\n",
    "</table>"
   ]
  },
  {
   "cell_type": "code",
   "execution_count": 9,
   "metadata": {},
   "outputs": [
    {
     "name": "stdout",
     "output_type": "stream",
     "text": [
      "The value ofz_alpha_by_2 :  1.64\n",
      "90% confidence interval for the population avg water intake : 1.388276910407328 1.8117230895926721\n"
     ]
    }
   ],
   "source": [
    "# type your code here\n",
    "##total count of sample\n",
    "n=15\n",
    "\n",
    "#average water intake\n",
    "samp_avg=1.6\n",
    "\n",
    "#standard deviation\n",
    "samp_std=0.5\n",
    "\n",
    "#calculate z_alpha_by_2\n",
    "z_alpha_by_2=round(stats.norm.isf(0.10/2),2)\n",
    "print('The value ofz_alpha_by_2 : ',z_alpha_by_2)\n",
    "\n",
    "#calculate the interval with the value of z_alpha_by_2\n",
    "\n",
    "lower_lmt=samp_avg-(z_alpha_by_2*samp_std/np.sqrt(n))\n",
    "upper_lmt=samp_avg+(z_alpha_by_2*samp_std/np.sqrt(n))\n",
    "\n",
    "print('90% confidence interval for the population avg water intake :',lower_lmt,upper_lmt)"
   ]
  },
  {
   "cell_type": "markdown",
   "metadata": {
    "colab_type": "text",
    "id": "9qnEEhR4f98X"
   },
   "source": [
    "<table align=\"left\">\n",
    "    <tr>\n",
    "        <td width=\"6%\">\n",
    "            <img src=\"question_icon.png\">\n",
    "        </td>\n",
    "        <td>\n",
    "            <div align=\"left\", style=\"font-size:120%\">\n",
    "                <font color=\"#21618C\">\n",
    "                    <b>13. The production manager at the automobile company states that all the steel rods are produced with an average length of 26 cm and a standard deviation of 2.4 cm. The length of 60 rods is collected as a sample and the average length of these rods is found to be 24.8 cm. Test whether the length of the rod is different than 26 cm with a 95% confidence interval. </b>\n",
    "                </font>\n",
    "            </div>\n",
    "        </td>\n",
    "    </tr>\n",
    "</table>"
   ]
  },
  {
   "cell_type": "code",
   "execution_count": 1,
   "metadata": {},
   "outputs": [],
   "source": [
    "# type your code here\n",
    "#null hypothesis as H0,alternate Hypothesis as H1\n",
    "H0: mu=26\n",
    "H1: mu!=26\n",
    "\n",
    "#this is a two tail test"
   ]
  },
  {
   "cell_type": "code",
   "execution_count": 10,
   "metadata": {},
   "outputs": [
    {
     "name": "stdout",
     "output_type": "stream",
     "text": [
      "The z_critical value : 1.96\n"
     ]
    }
   ],
   "source": [
    "z_critical=round(stats.norm.isf(0.05/2),2)\n",
    "print('The z_critical value :',z_critical)"
   ]
  },
  {
   "cell_type": "code",
   "execution_count": null,
   "metadata": {},
   "outputs": [],
   "source": [
    "if the z calculated value going to be less than -1.96 or greater than 1.96 then we can reject the null hypothesis."
   ]
  },
  {
   "cell_type": "code",
   "execution_count": 11,
   "metadata": {},
   "outputs": [
    {
     "name": "stdout",
     "output_type": "stream",
     "text": [
      "The z-score value : -3.872983346207415\n"
     ]
    }
   ],
   "source": [
    "#population average\n",
    "mu=26\n",
    "\n",
    "#sample average\n",
    "avg=24.8\n",
    "\n",
    "#standard diviation\n",
    "std_pop=2.4\n",
    "\n",
    "#count of sample\n",
    "n=60\n",
    "\n",
    "z_score=(avg-mu)/(std_pop/np.sqrt(n))\n",
    "print('The z-score value :',z_score)"
   ]
  },
  {
   "cell_type": "code",
   "execution_count": null,
   "metadata": {},
   "outputs": [],
   "source": [
    "as the z_score is less than z_critical the null hypothesis is rejected."
   ]
  },
  {
   "cell_type": "markdown",
   "metadata": {
    "colab_type": "text",
    "id": "6YXVLVi9f98b"
   },
   "source": [
    "<table align=\"left\">\n",
    "    <tr>\n",
    "        <td width=\"6%\">\n",
    "            <img src=\"question_icon.png\">\n",
    "        </td>\n",
    "        <td>\n",
    "            <div align=\"left\", style=\"font-size:120%\">\n",
    "                <font color=\"#21618C\">\n",
    "                        <b>14. The production manager at tea emporium claims that the weight of a green tea bag is less than 3.5 g. To test the manager's claim consider a sample of 50 tea bags. The sample average weight is found to be 3.28 g with a standard deviation of 0.6 g. Use the p-value technique to test the claim at a 10% level of significance. </b>\n",
    "                </font>\n",
    "            </div>\n",
    "        </td>\n",
    "    </tr>\n",
    "</table>"
   ]
  },
  {
   "cell_type": "code",
   "execution_count": 1,
   "metadata": {},
   "outputs": [],
   "source": [
    "# type your code here\n",
    "#null hypothesis as H0,alternate Hypothesis as H1\n",
    "H0: mu>=3.5\n",
    "H1: mu<3.5\n",
    "#this is a left tail test"
   ]
  },
  {
   "cell_type": "code",
   "execution_count": 14,
   "metadata": {},
   "outputs": [
    {
     "name": "stdout",
     "output_type": "stream",
     "text": [
      "The z_critical value : 1.28\n"
     ]
    }
   ],
   "source": [
    "z_critical=round(stats.norm.isf(0.10),2)\n",
    "print('The z_critical value :',z_critical)"
   ]
  },
  {
   "cell_type": "code",
   "execution_count": null,
   "metadata": {},
   "outputs": [],
   "source": [
    "if the z calculated value going to be less than -1.28 we can reject the null hypothesis."
   ]
  },
  {
   "cell_type": "code",
   "execution_count": 15,
   "metadata": {},
   "outputs": [
    {
     "name": "stdout",
     "output_type": "stream",
     "text": [
      "The z-score value : -2.592724864350677\n"
     ]
    }
   ],
   "source": [
    "#population average\n",
    "mu=3.5\n",
    "\n",
    "#sample average\n",
    "avg=3.28\n",
    "\n",
    "#standard diviation\n",
    "std_pop=0.6\n",
    "\n",
    "#count of sample\n",
    "n=50\n",
    "\n",
    "#calculate the z_score\n",
    "z_score=(avg-mu)/(std_pop/np.sqrt(n))\n",
    "print('The z-score value :',z_score)"
   ]
  },
  {
   "cell_type": "code",
   "execution_count": 25,
   "metadata": {},
   "outputs": [
    {
     "name": "stdout",
     "output_type": "stream",
     "text": [
      "The p-value :  0.0048\n"
     ]
    }
   ],
   "source": [
    "p_value=round(stats.norm.cdf(z_score),4)\n",
    "print('The p-value : ',p_value)"
   ]
  },
  {
   "cell_type": "code",
   "execution_count": null,
   "metadata": {},
   "outputs": [],
   "source": [
    "we can reject null hypothesis "
   ]
  },
  {
   "cell_type": "markdown",
   "metadata": {
    "collapsed": true
   },
   "source": [
    "<table align=\"left\">\n",
    "    <tr>\n",
    "        <td width=\"6%\">\n",
    "            <img src=\"question_icon.png\">\n",
    "        </td>\n",
    "        <td>\n",
    "            <div align=\"left\", style=\"font-size:120%\">\n",
    "                <font color=\"#21618C\">\n",
    "                    <b>15. The physician at university claims that the average height of male students in the university hostel is more than 175 cm with a standard deviation of 8 cm. To test the claim the physical trainer at a university collects the data of 75 male students in the hostel and calculate the average height of those 75 students as 176.3 cm. Test the physician's claim at 95% confidence.\n",
    "</b>\n",
    "                </font>\n",
    "            </div>\n",
    "        </td>\n",
    "    </tr>\n",
    "</table>"
   ]
  },
  {
   "cell_type": "code",
   "execution_count": 1,
   "metadata": {},
   "outputs": [],
   "source": [
    "# type your code here\n",
    "#null hypothesis as H0,alternate Hypothesis as H1\n",
    "H0: mu<=175\n",
    "H1: mu>175\n",
    "#this is a right tail test"
   ]
  },
  {
   "cell_type": "code",
   "execution_count": 27,
   "metadata": {},
   "outputs": [
    {
     "name": "stdout",
     "output_type": "stream",
     "text": [
      "The z_critical value : 1.64\n"
     ]
    }
   ],
   "source": [
    "z_critical=round(stats.norm.isf(0.05),2)\n",
    "print('The z_critical value :',z_critical)"
   ]
  },
  {
   "cell_type": "code",
   "execution_count": null,
   "metadata": {},
   "outputs": [],
   "source": [
    "if the z calculated value going to be greater than 1.64 we can reject the null hypothesis."
   ]
  },
  {
   "cell_type": "code",
   "execution_count": 28,
   "metadata": {},
   "outputs": [
    {
     "name": "stdout",
     "output_type": "stream",
     "text": [
      "The z-score value : 1.4072912811497253\n"
     ]
    }
   ],
   "source": [
    "#population average\n",
    "mu=175\n",
    "\n",
    "#sample average\n",
    "avg=176.3\n",
    "\n",
    "#standard diviation\n",
    "std_pop=8\n",
    "\n",
    "#count of sample\n",
    "n=75\n",
    "\n",
    "#calculate the z_score\n",
    "z_score=(avg-mu)/(std_pop/np.sqrt(n))\n",
    "print('The z-score value :',z_score)"
   ]
  },
  {
   "cell_type": "code",
   "execution_count": 29,
   "metadata": {},
   "outputs": [
    {
     "name": "stdout",
     "output_type": "stream",
     "text": [
      "Confidence interval: (174.48946282547814, 178.11053717452188)\n"
     ]
    }
   ],
   "source": [
    "# pass the scaling factor (pop_std / n^(1/2)) to the parameter, 'scale'\n",
    "print('Confidence interval:', stats.norm.interval(0.95, loc = avg, scale =std_pop / np.sqrt(n)))"
   ]
  },
  {
   "cell_type": "code",
   "execution_count": null,
   "metadata": {},
   "outputs": [],
   "source": [
    "z_score is less than 1.64 so it is in the acceptence region we fail to reject the null hypothesis."
   ]
  },
  {
   "cell_type": "markdown",
   "metadata": {
    "colab_type": "text",
    "id": "Lzs2ddCwf99m"
   },
   "source": [
    "<table align=\"left\">\n",
    "    <tr>\n",
    "        <td width=\"6%\">\n",
    "            <img src=\"question_icon.png\">\n",
    "        </td>\n",
    "        <td>\n",
    "            <div align=\"left\", style=\"font-size:120%\">\n",
    "                <font color=\"#21618C\">\n",
    "                    <b>16. The quality control department at a soap company states that their herbal soap contains 28 ml of palm oil with a standard deviation of 3.5 ml. A sample of 120 soaps is considered. The average amount of palm oil in the sample is 27.6 ml. Test whether the amount of palm oil is different than 28 ml using the 90% confidence interval. </b>\n",
    "                </font>\n",
    "            </div>\n",
    "        </td>\n",
    "    </tr>\n",
    "</table>"
   ]
  },
  {
   "cell_type": "code",
   "execution_count": 1,
   "metadata": {},
   "outputs": [],
   "source": [
    "# type your code here\n",
    "#null hypothesis as H0,alternate Hypothesis as H1\n",
    "H0: mu=28\n",
    "H1: mu!=28\n",
    "\n",
    "#this is a two tail test"
   ]
  },
  {
   "cell_type": "code",
   "execution_count": 30,
   "metadata": {},
   "outputs": [
    {
     "name": "stdout",
     "output_type": "stream",
     "text": [
      "The z_critical value : 1.64\n"
     ]
    }
   ],
   "source": [
    "z_critical=round(stats.norm.isf(0.10/2),2)\n",
    "print('The z_critical value :',z_critical)"
   ]
  },
  {
   "cell_type": "code",
   "execution_count": null,
   "metadata": {},
   "outputs": [],
   "source": [
    "if the z calculated value going to be less than -1.64 or greater than 1.64 then we can reject the null hypothesis."
   ]
  },
  {
   "cell_type": "code",
   "execution_count": 31,
   "metadata": {},
   "outputs": [
    {
     "name": "stdout",
     "output_type": "stream",
     "text": [
      "The z-score value : -1.251937274297518\n"
     ]
    }
   ],
   "source": [
    "#population average\n",
    "mu=28\n",
    "\n",
    "#sample average\n",
    "avg=27.6\n",
    "\n",
    "#standard diviation\n",
    "std_pop=3.5\n",
    "\n",
    "#count of sample\n",
    "n=120\n",
    "\n",
    "z_score=(avg-mu)/(std_pop/np.sqrt(n))\n",
    "print('The z-score value :',z_score)"
   ]
  },
  {
   "cell_type": "code",
   "execution_count": 32,
   "metadata": {},
   "outputs": [
    {
     "name": "stdout",
     "output_type": "stream",
     "text": [
      "Confidence interval: (27.074461329422622, 28.12553867057738)\n"
     ]
    }
   ],
   "source": [
    "# pass the scaling factor (pop_std / n^(1/2)) to the parameter, 'scale'\n",
    "print('Confidence interval:', stats.norm.interval(0.90, loc = avg, scale =std_pop / np.sqrt(n)))"
   ]
  },
  {
   "cell_type": "code",
   "execution_count": null,
   "metadata": {},
   "outputs": [],
   "source": [
    "z_score is greater than z critical value and also contain the value(i.e mu=28) so we fail to reject null hypothesis"
   ]
  }
 ],
 "metadata": {
  "kernelspec": {
   "display_name": "Python 3",
   "language": "python",
   "name": "python3"
  },
  "language_info": {
   "codemirror_mode": {
    "name": "ipython",
    "version": 3
   },
   "file_extension": ".py",
   "mimetype": "text/x-python",
   "name": "python",
   "nbconvert_exporter": "python",
   "pygments_lexer": "ipython3",
   "version": "3.8.5"
  }
 },
 "nbformat": 4,
 "nbformat_minor": 2
}
