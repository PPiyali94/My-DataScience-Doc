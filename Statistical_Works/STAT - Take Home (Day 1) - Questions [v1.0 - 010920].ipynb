{
 "cells": [
  {
   "cell_type": "markdown",
   "metadata": {},
   "source": [
    "<table align=\"center\" width=100%>\n",
    "    <tr>\n",
    "        <td width=\"15%\">\n",
    "            <img src=\"homework.png\">\n",
    "        </td>\n",
    "        <td>\n",
    "            <div align=\"center\">\n",
    "                <font color=\"#21618C\" size=8px>\n",
    "                    <b> Take-Home <br>(Day 1)\n",
    "                    </b>\n",
    "                </font>\n",
    "            </div>\n",
    "        </td>\n",
    "    </tr>\n",
    "</table>"
   ]
  },
  {
   "cell_type": "markdown",
   "metadata": {},
   "source": [
    "**Import the required libraries**"
   ]
  },
  {
   "cell_type": "code",
   "execution_count": 1,
   "metadata": {},
   "outputs": [],
   "source": [
    "# type your code here\n",
    "# import 'pandas' \n",
    "import pandas as pd \n",
    "\n",
    "# import 'numpy' \n",
    "import numpy as np\n",
    "\n",
    "# to suppress warnings \n",
    "from warnings import filterwarnings\n",
    "filterwarnings('ignore')\n",
    "\n",
    "# import 'factorial' from math library\n",
    "from math import factorial\n",
    "\n",
    "# import 'stats' package from scipy library\n",
    "from scipy import stats\n",
    "from scipy.stats import randint\n",
    "from scipy.stats import skewnorm\n",
    "\n",
    "# import 'random' to generate a random sample\n",
    "import random"
   ]
  },
  {
   "cell_type": "markdown",
   "metadata": {},
   "source": [
    "### Let's begin with some hands-on practice exercises"
   ]
  },
  {
   "cell_type": "markdown",
   "metadata": {
    "collapsed": true
   },
   "source": [
    "<table align=\"left\">\n",
    "    <tr>\n",
    "        <td width=\"6%\">\n",
    "            <img src=\"question_icon.png\">\n",
    "        </td>\n",
    "        <td>\n",
    "            <div align=\"left\", style=\"font-size:120%\">\n",
    "                <font color=\"#21618C\">\n",
    "                    <b>1. A gift package contains 4 sandalwood perfumes, 6 cherry blossom perfumes and 8 rose perfumes. Two perfumes are randomly selected. Calculate the probability that the sandalwood perfumes are not selected? </b>\n",
    "                </font>\n",
    "            </div>\n",
    "        </td>\n",
    "    </tr>\n",
    "</table>"
   ]
  },
  {
   "cell_type": "code",
   "execution_count": 2,
   "metadata": {},
   "outputs": [
    {
     "data": {
      "text/plain": [
       "0.7777777777777778"
      ]
     },
     "execution_count": 2,
     "metadata": {},
     "output_type": "execute_result"
    }
   ],
   "source": [
    "# type your code here\n",
    "#total number of 3 type perfumes\n",
    "total_no_of_perfume=18\n",
    "\n",
    "#finding the probability of sandalwood perfume\n",
    "sandalwood_perfume_prob=4/18\n",
    "\n",
    "#finding the probability of non sandalwood perfume\n",
    "non_sandalwood_perfume_prob=1-sandalwood_perfume_prob\n",
    "non_sandalwood_perfume_prob"
   ]
  },
  {
   "cell_type": "markdown",
   "metadata": {
    "collapsed": true
   },
   "source": [
    "<table align=\"left\">\n",
    "    <tr>\n",
    "        <td width=\"6%\">\n",
    "            <img src=\"question_icon.png\">\n",
    "        </td>\n",
    "        <td>\n",
    "            <div align=\"left\", style=\"font-size:120%\">\n",
    "                <font color=\"#21618C\">\n",
    "                    <b>2. The students' committee had organized a fun gala at their school. Three friends Jack, Mark and Bran have participated in the bucketball game and successfully threw the ball in a bucket with the probability 0.65, 0.6, 0.7 respectively. What is the probability that Bran will miss the target given that Mark threw the ball successfully?</b>\n",
    "                </font>\n",
    "            </div>\n",
    "        </td>\n",
    "    </tr>\n",
    "</table>"
   ]
  },
  {
   "cell_type": "code",
   "execution_count": 3,
   "metadata": {},
   "outputs": [
    {
     "name": "stdout",
     "output_type": "stream",
     "text": [
      "The final probability calculation : 0.30000000000000004\n"
     ]
    }
   ],
   "source": [
    "# type your code here\n",
    "#the success of mark and bran\n",
    "bran_success_prob=0.7\n",
    "mark_success_prob=0.6\n",
    "\n",
    "#finding the bran miss probability\n",
    "bran_miss_prob=1-bran_success_prob\n",
    "\n",
    "#finding the final probability\n",
    "result_prob=(bran_miss_prob*mark_success_prob)/mark_success_prob\n",
    "print('The final probability calculation :',result_prob)"
   ]
  },
  {
   "cell_type": "markdown",
   "metadata": {
    "collapsed": true
   },
   "source": [
    "<table align=\"left\">\n",
    "    <tr>\n",
    "        <td width=\"6%\">\n",
    "            <img src=\"question_icon.png\">\n",
    "        </td>\n",
    "        <td>\n",
    "            <div align=\"left\", style=\"font-size:120%\">\n",
    "                <font color=\"#21618C\">\n",
    "                    <b>3. Japanese council has released a list of cities that are either at high or moderate risk for an earthquake. The odds that a city picked at random will be at high risk is a:8. The probability of selecting a city with high risk is 0.6. Find the number of cities in the list with high risk.\n",
    "</b>\n",
    "                </font>\n",
    "            </div>\n",
    "        </td>\n",
    "    </tr>\n",
    "</table>"
   ]
  },
  {
   "cell_type": "code",
   "execution_count": 7,
   "metadata": {},
   "outputs": [
    {
     "name": "stdout",
     "output_type": "stream",
     "text": [
      "The number of high risk : 12\n"
     ]
    }
   ],
   "source": [
    "# type your code here\n",
    "#The odds that a city picked at random will be at high risk is a/8\n",
    "#The probability of selecting a city with high risk is 0.6\n",
    "# a is the number of city high risk and b with the number of city with moderate risk\n",
    "p=0.6\n",
    "b=8\n",
    "\n",
    "#calculation of the finding probability\n",
    "#p=a/a+b\n",
    "\n",
    "#calculation of find the number of high risk city\n",
    "a=(p*b)/0.4\n",
    "\n",
    "print('The number of high risk :', round(a))"
   ]
  },
  {
   "cell_type": "markdown",
   "metadata": {
    "collapsed": true
   },
   "source": [
    "<table align=\"left\">\n",
    "    <tr>\n",
    "        <td width=\"6%\">\n",
    "            <img src=\"question_icon.png\">\n",
    "        </td>\n",
    "        <td>\n",
    "            <div align=\"left\", style=\"font-size:120%\">\n",
    "                <font color=\"#21618C\">\n",
    "                    <b>4. Let X be a discrete random variable representing the number of accidents happening per day at a chemical factory. What should be the value of k such that P(X=x) will be a probability mass function of X. Also find the probability that at most 2 accidents will occur in a day. </b>\n",
    "                </font>\n",
    "            </div>\n",
    "        </td>\n",
    "    </tr>\n",
    "</table>"
   ]
  },
  {
   "cell_type": "markdown",
   "metadata": {},
   "source": [
    "<img src='prob.png', width=30% >"
   ]
  },
  {
   "cell_type": "code",
   "execution_count": null,
   "metadata": {},
   "outputs": [],
   "source": [
    "# type your code here\n"
   ]
  },
  {
   "cell_type": "markdown",
   "metadata": {
    "collapsed": true
   },
   "source": [
    "<table align=\"left\">\n",
    "    <tr>\n",
    "        <td width=\"6%\">\n",
    "            <img src=\"question_icon.png\">\n",
    "        </td>\n",
    "        <td>\n",
    "            <div align=\"left\", style=\"font-size:120%\">\n",
    "                <font color=\"#21618C\">\n",
    "                    <b>5. On an online payment gateway, on average 9 out of 25 customers are getting an error while redeeming the gift coupon. A random sample of 40 customers is selected. Find the probability that at most 16 customers will get the same error. \n",
    "</b>\n",
    "                </font>\n",
    "            </div>\n",
    "        </td>\n",
    "    </tr>\n",
    "</table>"
   ]
  },
  {
   "cell_type": "code",
   "execution_count": 10,
   "metadata": {},
   "outputs": [
    {
     "name": "stdout",
     "output_type": "stream",
     "text": [
      "the probability of 16 customer will get the same error : 0.112\n"
     ]
    }
   ],
   "source": [
    "# type your code here\n",
    "#the probabily of success i.e. getting the same error \n",
    "#thus,\n",
    "p=9/25\n",
    "\n",
    "#no of total customer denote 'n'\n",
    "n=40,\n",
    "\n",
    "#find the probability with binom.pmf()\n",
    "probability=round(stats.binom.pmf(k=16,n=40,p=9/25),3)\n",
    "\n",
    "print('the probability of 16 customer will get the same error :',probability)\n"
   ]
  },
  {
   "cell_type": "markdown",
   "metadata": {
    "collapsed": true
   },
   "source": [
    "<table align=\"left\">\n",
    "    <tr>\n",
    "        <td width=\"6%\">\n",
    "            <img src=\"question_icon.png\">\n",
    "        </td>\n",
    "        <td>\n",
    "            <div align=\"left\", style=\"font-size:120%\">\n",
    "                <font color=\"#21618C\">\n",
    "                    <b>6. The previous month's record shows that on average 12 parcels are collected per day at the Perk courier service. Assume that the number of parcels collected per day follows poisson distribution. Calculate the probability that 10 parcels will be collected tomorrow.</b>\n",
    "                </font>\n",
    "            </div>\n",
    "        </td>\n",
    "    </tr>\n",
    "</table>"
   ]
  },
  {
   "cell_type": "code",
   "execution_count": 11,
   "metadata": {},
   "outputs": [
    {
     "name": "stdout",
     "output_type": "stream",
     "text": [
      "Calculate the probability that 10 parcels will be collected tomorrow : 0.653\n"
     ]
    }
   ],
   "source": [
    "# type your code here\n",
    "\n",
    "#using poisson.sf() to get the probability\n",
    "#average parcel colection per day denote 'mu'\n",
    "mu=12\n",
    "\n",
    "#required value of parcel denote 'k'\n",
    "k=10\n",
    "\n",
    "#calculate the probability\n",
    "probability=round(stats.poisson.sf(k=10,mu=12),3)\n",
    "print('Calculate the probability that 10 parcels will be collected tomorrow :',probability)\n"
   ]
  },
  {
   "cell_type": "markdown",
   "metadata": {
    "collapsed": true
   },
   "source": [
    "<table align=\"left\">\n",
    "    <tr>\n",
    "        <td width=\"6%\">\n",
    "            <img src=\"question_icon.png\">\n",
    "        </td>\n",
    "        <td>\n",
    "            <div align=\"left\", style=\"font-size:120%\">\n",
    "                <font color=\"#21618C\">\n",
    "                    <b>7. The thickness of a pizza is between 3 and 7 mm. All the values for thinckness are considered to be equally likely. Calculate the median thickness.\n",
    "</b>\n",
    "                </font>\n",
    "            </div>\n",
    "        </td>\n",
    "    </tr>\n",
    "</table>"
   ]
  },
  {
   "cell_type": "code",
   "execution_count": 16,
   "metadata": {},
   "outputs": [
    {
     "name": "stdout",
     "output_type": "stream",
     "text": [
      "The median thickness :  5.0\n"
     ]
    }
   ],
   "source": [
    "# type your code here\n",
    "a=3\n",
    "b=7\n",
    "\n",
    "#calculate median\n",
    "median=(a+b)/2\n",
    "print('The median thickness : ',median)\n"
   ]
  },
  {
   "cell_type": "markdown",
   "metadata": {
    "collapsed": true
   },
   "source": [
    "<table align=\"left\">\n",
    "    <tr>\n",
    "        <td width=\"6%\">\n",
    "            <img src=\"question_icon.png\">\n",
    "        </td>\n",
    "        <td>\n",
    "            <div align=\"left\", style=\"font-size:120%\">\n",
    "                <font color=\"#21618C\">\n",
    "                    <b>8. The survey by road safety department states that the in the Oneonta city the average speed of vehicle is 65 mph and the standard deviation is 9 mph. Find the probability that a randomly selected vehicle has a speed greater than 78 mph.\n",
    "</b>\n",
    "                </font>\n",
    "            </div>\n",
    "        </td>\n",
    "    </tr>\n",
    "</table>"
   ]
  },
  {
   "cell_type": "code",
   "execution_count": 12,
   "metadata": {},
   "outputs": [],
   "source": [
    "# type your code here\n",
    "#average speed of vehicle 65\n",
    "avg=65\n",
    "\n",
    "#standard deviation 9mph\n",
    "vehicle_std=9\n",
    "\n",
    "#calculaton\n",
    "z=(78-65)/9\n"
   ]
  },
  {
   "cell_type": "code",
   "execution_count": 16,
   "metadata": {},
   "outputs": [
    {
     "name": "stdout",
     "output_type": "stream",
     "text": [
      "The calculated probability : 0.926\n"
     ]
    }
   ],
   "source": [
    "#use norm.cdf()to find the probability\n",
    "probability=round(stats.norm.cdf(z),3)\n",
    "\n",
    "print('The calculated probability :',probability)"
   ]
  },
  {
   "cell_type": "markdown",
   "metadata": {
    "collapsed": true
   },
   "source": [
    "<table align=\"left\">\n",
    "    <tr>\n",
    "        <td width=\"6%\">\n",
    "            <img src=\"question_icon.png\">\n",
    "        </td>\n",
    "        <td>\n",
    "            <div align=\"left\", style=\"font-size:120%\">\n",
    "                <font color=\"#21618C\">\n",
    "                    <b>9. A wrist-watch company wants to perform a quality check before launching their next-generation k22-digital watch. The production team has delivered 30 watches with number tags as 1,2,...30 on each watch for the quality check. Pick 5 watches randomly to check the quality. </b>\n",
    "                </font>\n",
    "            </div>\n",
    "        </td>\n",
    "    </tr>\n",
    "</table>"
   ]
  },
  {
   "cell_type": "code",
   "execution_count": 3,
   "metadata": {},
   "outputs": [
    {
     "name": "stdout",
     "output_type": "stream",
     "text": [
      "The samples are :  [2, 25, 11, 15, 28]\n"
     ]
    }
   ],
   "source": [
    "# type your code here\n",
    "#number of watches\n",
    "watch=np.arange(1,31)\n",
    "\n",
    "#the value of randomly pick watches\n",
    "k=5\n",
    "\n",
    "#for quality check we will do a without replacement test with random.sample()\n",
    "watch_sample=random.sample(population=list(watch),k=5)\n",
    "print('The samples are : ',watch_sample)\n"
   ]
  },
  {
   "cell_type": "markdown",
   "metadata": {
    "collapsed": true
   },
   "source": [
    "<table align=\"left\">\n",
    "    <tr>\n",
    "        <td width=\"6%\">\n",
    "            <img src=\"question_icon.png\">\n",
    "        </td>\n",
    "        <td>\n",
    "            <div align=\"left\", style=\"font-size:120%\">\n",
    "                <font color=\"#21618C\">\n",
    "                    <b>10. Use the same set of 30 watches considered in the previous question and draw a systematic sample of 5 watches starting with the 4th watch.</b>\n",
    "                </font>\n",
    "            </div>\n",
    "        </td>\n",
    "    </tr>\n",
    "</table>"
   ]
  },
  {
   "cell_type": "code",
   "execution_count": 14,
   "metadata": {},
   "outputs": [
    {
     "name": "stdout",
     "output_type": "stream",
     "text": [
      "4\n",
      "10\n",
      "16\n",
      "22\n",
      "28\n"
     ]
    }
   ],
   "source": [
    "# type your code here\n",
    "n=6\n",
    "k=5\n",
    "\n",
    "for i in range(5):\n",
    "    samp_point=watch[i][3]\n",
    "    print(samp_point)"
   ]
  }
 ],
 "metadata": {
  "kernelspec": {
   "display_name": "Python 3",
   "language": "python",
   "name": "python3"
  },
  "language_info": {
   "codemirror_mode": {
    "name": "ipython",
    "version": 3
   },
   "file_extension": ".py",
   "mimetype": "text/x-python",
   "name": "python",
   "nbconvert_exporter": "python",
   "pygments_lexer": "ipython3",
   "version": "3.8.5"
  }
 },
 "nbformat": 4,
 "nbformat_minor": 2
}
